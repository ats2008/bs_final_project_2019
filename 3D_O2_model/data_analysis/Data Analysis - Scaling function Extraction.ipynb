{
 "cells": [
  {
   "cell_type": "markdown",
   "metadata": {},
   "source": [
    "# O(2) - Model , J Engels et al PhyLettB 2000 (Part II)"
   ]
  },
  {
   "cell_type": "markdown",
   "metadata": {},
   "source": [
    "## Scaling Function Extraction "
   ]
  },
  {
   "cell_type": "code",
   "execution_count": 2,
   "metadata": {
    "ExecuteTime": {
     "end_time": "2019-03-08T10:07:09.708652Z",
     "start_time": "2019-03-08T10:07:09.701671Z"
    },
    "collapsed": true
   },
   "outputs": [],
   "source": [
    "# import ising_lib\n",
    "# from imp import reload \n",
    "# reload(ising_lib)\n",
    "from ising_lib import *\n",
    "from numpy import *\n",
    "from scipy.optimize import curve_fit\n",
    "from matplotlib import pyplot as plt\n",
    "%matplotlib inline\n",
    "from numpy import *"
   ]
  },
  {
   "cell_type": "markdown",
   "metadata": {
    "toc-hr-collapsed": true
   },
   "source": [
    "## Analysis of Data"
   ]
  },
  {
   "cell_type": "code",
   "execution_count": 3,
   "metadata": {
    "ExecuteTime": {
     "end_time": "2019-03-08T10:07:16.492632Z",
     "start_time": "2019-03-08T10:07:16.484159Z"
    },
    "collapsed": true
   },
   "outputs": [],
   "source": [
    "T0=1.18\n",
    "H0=1.11\n",
    "Tc=1/0.454165\n",
    "w=0.79\n",
    "nu=0.6723\n",
    "beta=0.34490\n",
    "delta=3*nu/beta - 1\n",
    "nuC=nu/(beta*delta)"
   ]
  },
  {
   "cell_type": "code",
   "execution_count": 5,
   "metadata": {
    "ExecuteTime": {
     "end_time": "2019-03-08T10:07:20.237738Z",
     "start_time": "2019-03-08T10:07:20.218977Z"
    },
    "code_folding": [
     4
    ],
    "collapsed": true
   },
   "outputs": [],
   "source": [
    "def variance(X):\n",
    "    return var(X)\n",
    "def Average(X):\n",
    "    return average(X)\n",
    "def analyze(temparature,L,E,M):\n",
    "    en,en_err=jacknife(E,Average)\n",
    "    mag,mag_err=jacknife(M,Average)\n",
    "    sp_heat,sp_heat_err=jacknife(E,variance)\n",
    "    sp_heat/=(temparature*temparature*L)\n",
    "    sp_heat_err/=(temparature*temparature*L)\n",
    "    sucep,sucep_err=jacknife(M,variance)\n",
    "    sucep/=(temparature*L)\n",
    "    sucep_err/=(temparature*L)\n",
    "    return [mag,mag_err],[sp_heat,sp_heat_err],[sucep,sucep_err],[en,en_err]\n",
    "\n",
    "def leniar_fn(x,a,b):\n",
    "    return a*x+b\n",
    "\n",
    "def quadratic_fn(x,a,b,c):\n",
    "    return a*x*x+b*x+c"
   ]
  },
  {
   "cell_type": "code",
   "execution_count": 7,
   "metadata": {
    "ExecuteTime": {
     "end_time": "2019-03-08T10:07:21.570712Z",
     "start_time": "2019-03-08T10:07:21.544142Z"
    },
    "code_folding": [
     0
    ],
    "collapsed": true
   },
   "outputs": [],
   "source": [
    "def read_generic_data(fname):\n",
    "    f=open(fname,'r')\n",
    "    X=True\n",
    "    while(X):\n",
    "        X=False\n",
    "        l=f.readline()\n",
    "        item=l[:-1].split(\",\")\n",
    "        extracted_vals={it:[] for it in item}\n",
    "        l=f.readline()\n",
    "        i=0\n",
    "        while l:\n",
    "            i+=1\n",
    "            if '#' in l[0:5]:\n",
    "                l=f.readline()\n",
    "                continue\n",
    "            try:\n",
    "                it=l[:-1].split(',')\n",
    "                for item,key in zip(it,list(extracted_vals.keys())):\n",
    "                        try:\n",
    "                            extracted_vals[key].append(float(item))\n",
    "                        except:\n",
    "                            extracted_vals[key].append(item)\n",
    "                l=f.readline()\n",
    "            except:\n",
    "                print(it)\n",
    "                l=f.readline()\n",
    "        f.close()\n",
    "        print(i ,\" DATA LINES READ\")\n",
    "        return extracted_vals"
   ]
  },
  {
   "cell_type": "code",
   "execution_count": 6,
   "metadata": {
    "ExecuteTime": {
     "end_time": "2019-03-08T10:07:20.816045Z",
     "start_time": "2019-03-08T10:07:20.782748Z"
    },
    "code_folding": [
     0
    ],
    "collapsed": true
   },
   "outputs": [],
   "source": [
    "def read_analyzed_data(fname):\n",
    "        f=open(fname,'r')\n",
    "        analysis_vals=dict()\n",
    "        l=f.readline()\n",
    "        item_list=l[1:-1].split(',')\n",
    "        the_dict={it:[] for it in item_list}\n",
    "        l=f.readline()\n",
    "        i=0\n",
    "        while l:\n",
    "            if '#' in l[0:10]:\n",
    "                l=f.readline()\n",
    "                continue\n",
    "            i+=1\n",
    "            try:\n",
    "                it=l[:-1].split(',')\n",
    "        #         print(it)\n",
    "                L=float(it[1])\n",
    "                J=float(it[4])\n",
    "                H0=float(it[5])\n",
    "                if L not in analysis_vals.keys():\n",
    "                    analysis_vals.update({L:dict()})\n",
    "                if J not in analysis_vals[L].keys():\n",
    "                    analysis_vals[L].update({J:dict()})\n",
    "                if H0 not in analysis_vals[L][J].keys():\n",
    "                    analysis_vals[L][J].update({H0:dict(the_dict)})\n",
    "                for val,end_key in zip(it,item_list):\n",
    "                    analysis_vals[L][J][H0][end_key]=float(val)\n",
    "                l=f.readline()\n",
    "            except:\n",
    "                print(it)\n",
    "                l=f.readline()\n",
    "        f.close()\n",
    "        print(i ,\" DATA LINES READ\")\n",
    "        return analysis_vals"
   ]
  },
  {
   "cell_type": "code",
   "execution_count": 8,
   "metadata": {
    "ExecuteTime": {
     "end_time": "2019-03-08T10:07:23.953600Z",
     "start_time": "2019-03-08T10:07:23.889936Z"
    }
   },
   "outputs": [
    {
     "name": "stdout",
     "output_type": "stream",
     "text": [
      "['']\n",
      "212  DATA LINES READ\n"
     ]
    }
   ],
   "source": [
    "analysis=read_analyzed_data('../extracted_data/GS_analysis/raw_anaysis')"
   ]
  },
  {
   "cell_type": "markdown",
   "metadata": {
    "collapsed": true
   },
   "source": [
    "### Extracting and writing the sacling func params"
   ]
  },
  {
   "cell_type": "code",
   "execution_count": 7,
   "metadata": {
    "ExecuteTime": {
     "end_time": "2019-03-08T04:17:27.327697Z",
     "start_time": "2019-03-08T04:17:26.777530Z"
    },
    "code_folding": [
     3,
     5
    ]
   },
   "outputs": [
    {
     "name": "stdout",
     "output_type": "stream",
     "text": [
      "['']\n",
      "212  DATA LINES READ\n"
     ]
    }
   ],
   "source": [
    "analyzed_vals=read_analyzed_data('../extracted_data/GS_analysis/raw_anaysis')\n",
    "M,M_err,H,J=[],[],[],[]\n",
    "sigUse=True\n",
    "while sigUse:\n",
    "    sigUse=False\n",
    "    for L in analyzed_vals.keys():\n",
    "        for _J in analyzed_vals[L].keys():\n",
    "            for H0 in analyzed_vals[L][_J].keys():\n",
    "                M.append(analyzed_vals[L][_J][H0]['M0'])\n",
    "                M_err.append(analyzed_vals[L][_J][H0]['M0_err'])\n",
    "                J.append(_J)\n",
    "                H.append(H0)\n",
    "    T=[1/i for i in J]\n",
    "    f=open('../extracted_data/GS_analysis/fit_raw_data','w')\n",
    "    f.write('#T,H,M,M_err\\n')\n",
    "    for a,b,c,d in zip(T,H,M,M_err):\n",
    "        f.write(str(a)+\",\"+str(b)+\",\"+str(c)+\",\"+str(d)+'\\n')\n",
    "    f.close()\n",
    "    T0=1.18\n",
    "    H0=1.11\n",
    "    Tc=1/0.454165\n",
    "    w=0.79\n",
    "    nu=0.6723\n",
    "    beta=0.34490\n",
    "    delta=3*nu/beta - 1\n",
    "    h1=[i/H0 for i in H]\n",
    "    t1=[(i-Tc)/T0 for i in T]\n",
    "    X1=[i*j**(-1/(beta*delta)) for i,j in zip(t1,h1)]\n",
    "    arg=argsort(X1)\n",
    "    X,t,h=[],[],[]\n",
    "    for i in arg:\n",
    "        X.append(X1[i])\n",
    "        t.append(t1[i])\n",
    "        h.append(h1[i])\n",
    "    lis=[]\n",
    "    for i in range(len(X)-1):\n",
    "        if X[i]==X[i+1]:\n",
    "            if t[i]==t[i+1]:\n",
    "                if h[i]==h[i+1]:\n",
    "                    lis.append(i+1)\n",
    "    #                 print(i,end=\",\")\n",
    "    lis.sort(reverse=True)\n",
    "    for i in lis:\n",
    "        X.pop(i)\n",
    "        h.pop(i)\n",
    "        t.pop(i)\n",
    "    f=open('../extracted_data/GS_analysis/val.txt','w')\n",
    "    for i in range(len(X)):\n",
    "        f.write(str(X[i])+','+str(t[i])+','+str(h[i])+'\\n')\n",
    "    f.close()"
   ]
  },
  {
   "cell_type": "code",
   "execution_count": 8,
   "metadata": {
    "ExecuteTime": {
     "end_time": "2019-03-08T04:17:27.337851Z",
     "start_time": "2019-03-08T04:17:27.330027Z"
    },
    "collapsed": true
   },
   "outputs": [],
   "source": [
    "T0=1.18\n",
    "H0=1.11\n",
    "Tc=1/0.454165\n",
    "w=0.79\n",
    "nu=0.6723\n",
    "beta=0.34490\n",
    "delta=3*nu/beta - 1\n",
    "nuC=nu/(beta*delta)"
   ]
  },
  {
   "cell_type": "code",
   "execution_count": 78,
   "metadata": {
    "ExecuteTime": {
     "end_time": "2019-02-26T09:24:48.600959Z",
     "start_time": "2019-02-26T09:24:48.572546Z"
    },
    "code_folding": [
     6
    ],
    "collapsed": true
   },
   "outputs": [],
   "source": [
    "f=open('../extracted_data/GS_analysis/scaling_fn_fit_vals.txt')\n",
    "l=f.readline()\n",
    "dat=[]\n",
    "it=l.split(',')\n",
    "dat=[[] for i in range(len(it))]\n",
    "l=f.readline()\n",
    "while l:\n",
    "    it=l[0:-1].split(',')\n",
    "    for i in range(len(it)):\n",
    "        dat[i].append(float(it[i]))\n",
    "    l=f.readline()\n",
    "for i in range(2):\n",
    "    dat.append([])\n",
    "for i,j in zip(dat[1],dat[2]):\n",
    "    dat[3].append(1/(i*T0+Tc))\n",
    "    dat[4].append(j*H0)\n",
    "f.close()"
   ]
  },
  {
   "cell_type": "code",
   "execution_count": 79,
   "metadata": {
    "ExecuteTime": {
     "end_time": "2019-02-26T09:24:51.261596Z",
     "start_time": "2019-02-26T09:24:51.257797Z"
    },
    "collapsed": true
   },
   "outputs": [],
   "source": [
    "h_wvc=[i**(w*nuC) for i in dat[2]]\n",
    "h_beta_delta=[i**(1/(beta*delta)) for i in dat[2]]"
   ]
  },
  {
   "cell_type": "code",
   "execution_count": 80,
   "metadata": {
    "ExecuteTime": {
     "end_time": "2019-02-26T09:24:53.506607Z",
     "start_time": "2019-02-26T09:24:53.500760Z"
    },
    "collapsed": true
   },
   "outputs": [],
   "source": [
    "hwvc_sweep_range_dict=dict()\n",
    "for i in unique(h_wvc):\n",
    "    hwvc_sweep_range_dict.update({i:[i+0.02*j-0.1 for j in range(10)]})"
   ]
  },
  {
   "cell_type": "code",
   "execution_count": 81,
   "metadata": {
    "ExecuteTime": {
     "end_time": "2019-02-26T09:24:54.177465Z",
     "start_time": "2019-02-26T09:24:54.159158Z"
    },
    "code_folding": [
     6
    ],
    "collapsed": true
   },
   "outputs": [],
   "source": [
    "h_sweep = []\n",
    "t_sweep = []\n",
    "Hwvc_sweep_vals = []\n",
    "H_sweep_vals = []\n",
    "T_sweep_vals = []\n",
    "J_sweep_vals = []\n",
    "for c,hb in zip(dat[0],h_wvc):\n",
    "    hwvc_cur_sweep=list(hwvc_sweep_range_dict[hb])\n",
    "    h_cur_sweep=[]\n",
    "    for i in hwvc_cur_sweep:\n",
    "        if i<0:\n",
    "            continue\n",
    "        h_cur_sweep.append(i**(1/(w*nuC)))\n",
    "    t_cur_sweep=[c*i**(1/(beta*delta)) for i in h_cur_sweep]\n",
    "    J_cur_sweep=[1/(i*T0+Tc) for i in t_cur_sweep]\n",
    "    Hwvc_sweep_vals.append(hwvc_cur_sweep)\n",
    "    H_sweep_vals.append(h_cur_sweep)\n",
    "    T_sweep_vals.append(t_cur_sweep)\n",
    "    J_sweep_vals.append(J_cur_sweep)"
   ]
  },
  {
   "cell_type": "code",
   "execution_count": 85,
   "metadata": {
    "ExecuteTime": {
     "end_time": "2019-02-26T09:43:56.622829Z",
     "start_time": "2019-02-26T09:43:56.613345Z"
    }
   },
   "outputs": [
    {
     "name": "stdout",
     "output_type": "stream",
     "text": [
      " H =  [8.693635189975063e-07, 1.9448765901105796e-05, 9.009009009009012e-05, 0.0002514671832404182, 0.000544644841160969, 0.001012458554131963, 0.0016991679404467252]\n",
      "\n",
      " J =  [0.45036489765225013, 0.43084222296957275, 0.4, 0.3632737398486831, 0.3250503236692709, 0.288261723004648, 0.2545157385713214]\n",
      "\n",
      "[66.37654281850058, 66.37654281850058, 66.37654281850058, 66.37654281850058, 66.37654281850058, 66.37654281850058, 66.37654281850058]\n"
     ]
    }
   ],
   "source": [
    "H_arr,J_arr=[],[]\n",
    "for n in range(len(H_sweep_vals)):\n",
    "    for i,j in zip(H_sweep_vals[n],J_sweep_vals[n]):\n",
    "        H_arr.append(i)\n",
    "        J_arr.append(j)\n",
    "print(\" H = \",H_sweep_vals[n])\n",
    "print()\n",
    "print(\" J = \",J_sweep_vals[n])\n",
    "print()\n",
    "print([i/(j**(1/(beta*delta))) for i,j in zip(T_sweep_vals[n],H_sweep_vals[n])])"
   ]
  },
  {
   "cell_type": "code",
   "execution_count": 108,
   "metadata": {
    "ExecuteTime": {
     "end_time": "2019-02-26T09:59:16.039514Z",
     "start_time": "2019-02-26T09:59:15.446456Z"
    }
   },
   "outputs": [
    {
     "data": {
      "text/plain": [
       "<matplotlib.text.Text at 0x7ff3cdd89550>"
      ]
     },
     "execution_count": 108,
     "metadata": {},
     "output_type": "execute_result"
    },
    {
     "data": {
      "image/png": "[encoded data removed]",
      "text/plain": [
       "<matplotlib.figure.Figure at 0x7ff3cdece4e0>"
      ]
     },
     "metadata": {},
     "output_type": "display_data"
    }
   ],
   "source": [
    "plt.figure(figsize=(20,10))\n",
    "plt.ylim([0,1])\n",
    "plt.xlim([-0.002,0.05])\n",
    "y=linspace(-0.5,2,100)\n",
    "for i in range(15):\n",
    "    x=[(0.01*i)**2 for j in y]\n",
    "    plt.plot(x,y,c='c')\n",
    "x=linspace(-0.005,0.05,100)\n",
    "for i in [0.6,0.5,0.4,0.46,0.47,0.465,0.462,0.550]:\n",
    "    y=[i for j in x]\n",
    "    plt.plot(x,y,c='c')\n",
    "\n",
    "plt.scatter(H_arr,J_arr,c='r')\n",
    "plt.ylabel('J required')\n",
    "plt.xlabel('H required')\n",
    "plt.title('Requirement and current status ')"
   ]
  },
  {
   "cell_type": "markdown",
   "metadata": {},
   "source": [
    "## Histogram Verifcation"
   ]
  },
  {
   "cell_type": "code",
   "execution_count": 7,
   "metadata": {
    "ExecuteTime": {
     "end_time": "2019-02-28T09:07:55.653295Z",
     "start_time": "2019-02-28T09:07:55.642122Z"
    }
   },
   "outputs": [
    {
     "name": "stdout",
     "output_type": "stream",
     "text": [
      "9  DATA LINES READ\n"
     ]
    },
    {
     "data": {
      "text/plain": [
       "dict_keys(['#dim', 'L', 'N', 'T', 'J', 'H0', 'E', 'E_err', 'M', 'M_err', 'SP_heat', 'SP_heat_err', 'SUCEP', 'SUCEP_err', 'M0', 'M0_err', 'M0_Bc', 'M1_Bc_err'])"
      ]
     },
     "execution_count": 7,
     "metadata": {},
     "output_type": "execute_result"
    }
   ],
   "source": [
    "sim_data=read_generic_data('../extracted_data/HistogramAnalysis/N48_H0.0025_bs')\n",
    "sim_data.keys()"
   ]
  },
  {
   "cell_type": "code",
   "execution_count": 21,
   "metadata": {
    "ExecuteTime": {
     "end_time": "2019-02-28T09:19:18.988334Z",
     "start_time": "2019-02-28T09:19:18.980033Z"
    }
   },
   "outputs": [
    {
     "name": "stdout",
     "output_type": "stream",
     "text": [
      "19  DATA LINES READ\n"
     ]
    },
    {
     "data": {
      "text/plain": [
       "dict_keys(['L', 'J', 'Hx', 'E', 'E_err', 'M', 'M_err'])"
      ]
     },
     "execution_count": 21,
     "metadata": {},
     "output_type": "execute_result"
    }
   ],
   "source": [
    "mh_data=read_generic_data('../extracted_data/HistogramAnalysis/N48_H0.0025_single_mh')\n",
    "mh_data.keys()"
   ]
  },
  {
   "cell_type": "code",
   "execution_count": 22,
   "metadata": {
    "ExecuteTime": {
     "end_time": "2019-02-28T09:19:20.015579Z",
     "start_time": "2019-02-28T09:19:19.759579Z"
    }
   },
   "outputs": [
    {
     "data": {
      "text/plain": [
       "<Container object of 3 artists>"
      ]
     },
     "execution_count": 22,
     "metadata": {},
     "output_type": "execute_result"
    },
    {
     "data": {
      "image/png": "[encoded data removed]",
      "text/plain": [
       "<matplotlib.figure.Figure at 0x7fd5c6074ac8>"
      ]
     },
     "metadata": {},
     "output_type": "display_data"
    }
   ],
   "source": [
    "L=48\n",
    "y=[i/L**3 for i in mh_data['E']]\n",
    "y_err=[i/L**3 for i in mh_data['E_err']]\n",
    "plt.errorbar(mh_data['J'],y,y_err,fmt='o')\n",
    "plt.errorbar(sim_data['J'],sim_data['E'],sim_data['E_err'],fmt='o')"
   ]
  },
  {
   "cell_type": "code",
   "execution_count": 23,
   "metadata": {
    "ExecuteTime": {
     "end_time": "2019-02-28T09:19:21.850941Z",
     "start_time": "2019-02-28T09:19:21.576342Z"
    }
   },
   "outputs": [
    {
     "data": {
      "text/plain": [
       "<Container object of 3 artists>"
      ]
     },
     "execution_count": 23,
     "metadata": {},
     "output_type": "execute_result"
    },
    {
     "data": {
      "image/png": "[encoded data removed]",
      "text/plain": [
       "<matplotlib.figure.Figure at 0x7fd5c5fbb3c8>"
      ]
     },
     "metadata": {},
     "output_type": "display_data"
    }
   ],
   "source": [
    "L=48\n",
    "y=[i/L**3 for i in mh_data['M']]\n",
    "y_err=[i/L**3 for i in mh_data['M_err']]\n",
    "plt.errorbar(mh_data['J'],y,y_err,fmt='o')\n",
    "plt.errorbar(sim_data['J'],sim_data['M0'],sim_data['M0_err'],fmt='o')"
   ]
  },
  {
   "cell_type": "code",
   "execution_count": null,
   "metadata": {
    "collapsed": true
   },
   "outputs": [],
   "source": []
  },
  {
   "cell_type": "code",
   "execution_count": null,
   "metadata": {
    "collapsed": true
   },
   "outputs": [],
   "source": []
  },
  {
   "cell_type": "code",
   "execution_count": 9,
   "metadata": {
    "ExecuteTime": {
     "end_time": "2019-03-07T12:19:41.546226Z",
     "start_time": "2019-03-07T12:19:41.212818Z"
    }
   },
   "outputs": [
    {
     "name": "stdout",
     "output_type": "stream",
     "text": [
      "16  DATA LINES READ\n",
      "16  DATA LINES READ\n"
     ]
    },
    {
     "data": {
      "text/plain": [
       "dict_keys(['#dim', 'L', 'N', 'T', 'J', 'H0', 'E', 'E_err', 'M', 'M_err', 'SP_heat', 'SP_heat_err', 'SUCEP', 'SUCEP_err', 'M0', 'M0_err', 'M0_Bc', 'M1_Bc_err'])"
      ]
     },
     "execution_count": 9,
     "metadata": {},
     "output_type": "execute_result"
    }
   ],
   "source": [
    "sim_dataA=read_generic_data('../extracted_data/HistogramAnalysis/N24_550_AVGBS')\n",
    "sim_dataA.keys()\n",
    "sim_data=read_generic_data('../extracted_data/HistogramAnalysis/N24_0.550_BS')\n",
    "sim_data.keys()"
   ]
  },
  {
   "cell_type": "code",
   "execution_count": 10,
   "metadata": {
    "ExecuteTime": {
     "end_time": "2019-03-07T12:19:45.367623Z",
     "start_time": "2019-03-07T12:19:45.332824Z"
    }
   },
   "outputs": [
    {
     "name": "stdout",
     "output_type": "stream",
     "text": [
      "231  DATA LINES READ\n"
     ]
    },
    {
     "data": {
      "text/plain": [
       "dict_keys(['L', 'J', 'Hx', 'E', 'E_err', 'M', 'M_err'])"
      ]
     },
     "execution_count": 10,
     "metadata": {},
     "output_type": "execute_result"
    }
   ],
   "source": [
    "mh_data=read_generic_data('../extracted_data/HistogramAnalysis/N24_0.550_MH')\n",
    "mh_data.keys()"
   ]
  },
  {
   "cell_type": "code",
   "execution_count": 11,
   "metadata": {
    "ExecuteTime": {
     "end_time": "2019-03-07T12:19:47.020832Z",
     "start_time": "2019-03-07T12:19:46.486636Z"
    },
    "scrolled": true
   },
   "outputs": [
    {
     "data": {
      "text/plain": [
       "<Container object of 3 artists>"
      ]
     },
     "execution_count": 11,
     "metadata": {},
     "output_type": "execute_result"
    },
    {
     "data": {
      "image/png": "[encoded data removed]",
      "text/plain": [
       "<matplotlib.figure.Figure at 0x7f7360327748>"
      ]
     },
     "metadata": {},
     "output_type": "display_data"
    }
   ],
   "source": [
    "# plt.errorbar(sim_data['H0'],sim_data['E'],sim_data['E_err'],fmt='o')\n",
    "# plt.errorbar(sim_dataA['H0'],sim_data['E'],sim_dataA['E_err'],fmt='o')\n",
    "y=[i/24**3 for i in mh_data['E']]\n",
    "y_err=[i/24**3 for i in mh_data['E_err']]\n",
    "plt.errorbar(mh_data['Hx'],y,y_err,fmt='o')\n",
    "# plt.ylim([-1.5,0])"
   ]
  },
  {
   "cell_type": "code",
   "execution_count": 12,
   "metadata": {
    "ExecuteTime": {
     "end_time": "2019-03-07T12:19:51.054299Z",
     "start_time": "2019-03-07T12:19:50.783250Z"
    }
   },
   "outputs": [
    {
     "data": {
      "text/plain": [
       "<Container object of 3 artists>"
      ]
     },
     "execution_count": 12,
     "metadata": {},
     "output_type": "execute_result"
    },
    {
     "data": {
      "image/png": "[encoded data removed]",
      "text/plain": [
       "<matplotlib.figure.Figure at 0x7f735c77f470>"
      ]
     },
     "metadata": {},
     "output_type": "display_data"
    }
   ],
   "source": [
    "y=[i/24**3 for i in mh_data['M']]\n",
    "y_err=[i/24**3 for i in mh_data['M_err']]\n",
    "plt.errorbar(mh_data['Hx'],y,y_err,fmt='o')\n",
    "plt.errorbar(sim_data['H0'],sim_data['M0'],sim_data['M0_err'],fmt='o')\n",
    "# plt.ylim([0.5,0.7])"
   ]
  },
  {
   "cell_type": "code",
   "execution_count": null,
   "metadata": {
    "collapsed": true
   },
   "outputs": [],
   "source": []
  },
  {
   "cell_type": "markdown",
   "metadata": {},
   "source": [
    "## Ploting Basic Version of scaling function"
   ]
  },
  {
   "cell_type": "markdown",
   "metadata": {},
   "source": [
    "#### N = 24"
   ]
  },
  {
   "cell_type": "code",
   "execution_count": 9,
   "metadata": {
    "ExecuteTime": {
     "end_time": "2019-03-08T04:41:42.124543Z",
     "start_time": "2019-03-08T04:41:42.113905Z"
    }
   },
   "outputs": [
    {
     "name": "stdout",
     "output_type": "stream",
     "text": [
      "107  DATA LINES READ\n"
     ]
    }
   ],
   "source": [
    "f=read_generic_data('../extracted_data/GS_analysis/analysis24')"
   ]
  },
  {
   "cell_type": "code",
   "execution_count": 11,
   "metadata": {
    "ExecuteTime": {
     "end_time": "2019-03-08T04:42:11.431355Z",
     "start_time": "2019-03-08T04:42:10.977471Z"
    },
    "scrolled": true
   },
   "outputs": [
    {
     "name": "stdout",
     "output_type": "stream",
     "text": [
      "#dim  =  3.0\n",
      "L  =  24.0\n",
      "N  =  0.0\n",
      "T  =  1.0\n",
      "J  =  0.462\n",
      "H0  =  0.0001\n",
      "E  =  -0.506818\n",
      "E_err  =  0.00496324\n",
      "M  =  0.32962\n",
      "M_err  =  0.000121186\n",
      "SP_heat  =  2.48538\n",
      "SP_heat_err  =  0.00944734\n",
      "SUCEP  =  17.9486\n",
      "SUCEP_err  =  0.103002\n",
      "M0  =  0.0730171\n",
      "M0_err  =  0.00152017\n",
      "M0_Bc  =  0.487092\n",
      "M1_Bc_err  =  0.00190365\n",
      "x =  -8.312906538709987\n",
      "y =  0.49876206821105623\n",
      "\n",
      "#dim  =  3.0\n",
      "L  =  24.0\n",
      "N  =  0.0\n",
      "T  =  1.0\n",
      "J  =  0.465\n",
      "H0  =  0.0001\n",
      "E  =  -0.525756\n",
      "E_err  =  0.00523741\n",
      "M  =  0.359583\n",
      "M_err  =  9.20346e-05\n",
      "SP_heat  =  2.38062\n",
      "SP_heat_err  =  0.011657\n",
      "SUCEP  =  12.6809\n",
      "SUCEP_err  =  0.0637136\n",
      "M0  =  0.0835839\n",
      "M0_err  =  0.00189305\n",
      "M0_Bc  =  0.493739\n",
      "M1_Bc_err  =  0.00185585\n",
      "x =  -11.421728572308787\n",
      "y =  0.5709413114619193\n",
      "\n",
      "#dim  =  3.0\n",
      "L  =  24.0\n",
      "N  =  0.0\n",
      "T  =  1.0\n",
      "J  =  0.55\n",
      "H0  =  0.0001\n",
      "E  =  -0.93217\n",
      "E_err  =  0.00374171\n",
      "M  =  0.642053\n",
      "M_err  =  3.28503e-05\n",
      "SP_heat  =  1.46105\n",
      "SP_heat_err  =  0.00972563\n",
      "SUCEP  =  1.31447\n",
      "SUCEP_err  =  0.00805333\n",
      "M0  =  0.261952\n",
      "M0_err  =  0.0027826\n",
      "M0_Bc  =  0.529199\n",
      "M1_Bc_err  =  0.00143123\n",
      "x =  -85.41169297195961\n",
      "y =  1.7893304622071078\n",
      "\n",
      "#dim  =  3.0\n",
      "L  =  24.0\n",
      "N  =  0.0\n",
      "T  =  1.0\n",
      "J  =  0.6\n",
      "H0  =  0.0001\n",
      "E  =  -1.12699\n",
      "E_err  =  0.00351367\n",
      "M  =  0.702619\n",
      "M_err  =  2.29186e-05\n",
      "SP_heat  =  1.34392\n",
      "SP_heat_err  =  0.00769163\n",
      "SUCEP  =  0.869668\n",
      "SUCEP_err  =  0.00525414\n",
      "M0  =  0.305161\n",
      "M0_err  =  0.0029517\n",
      "M0_Bc  =  0.531833\n",
      "M1_Bc_err  =  0.0017623\n",
      "x =  -119.14241203650627\n",
      "y =  2.0844806421694937\n",
      "\n",
      "cdict_temp={ 0.4:'b', 0.454165:'g', 0.462:'r', 0.465:'c',0.47:'m', 0.55:'y', 0.6:'k'}\n"
     ]
    },
    {
     "data": {
      "image/png": "[encoded data removed]",
      "text/plain": [
       "<matplotlib.figure.Figure at 0x7f6398876b00>"
      ]
     },
     "metadata": {},
     "output_type": "display_data"
    }
   ],
   "source": [
    "X=[]\n",
    "Y=[]\n",
    "Y_err=[]\n",
    "col=[]\n",
    "cdict={48:'b',24:'g',36:'r'}\n",
    "cdict_temp={ 0.4:'b', 0.454165:'g', 0.462:'r', 0.465:'c',0.47:'m', 0.55:'y', 0.6:'k'}\n",
    "for i in range(len(f['T'])):\n",
    "    if f['L'][i]!=24 :\n",
    "#         print(f['M0'][i],f['J'][i])\n",
    "        continue    \n",
    "    h=f['H0'][i]/(H0)\n",
    "    t=(1/f['J'][i] - Tc)/T0\n",
    "    temp=t/h**(1/(beta*delta))\n",
    "    temp1=f['M0'][i]/(h**(1/delta))\n",
    "    if temp1<0.8 and temp<0:\n",
    "        for j in f.keys():\n",
    "            print(j,\" = \",f[j][i])\n",
    "        print(\"x = \",temp)\n",
    "        print(\"y = \",temp1)\n",
    "        print()\n",
    "    if temp<-60:\n",
    "        for j in f.keys():\n",
    "            print(j,\" = \",f[j][i])\n",
    "        print(\"x = \",temp)\n",
    "        print(\"y = \",temp1)\n",
    "        print()\n",
    "#         continue\n",
    "    X.append(temp)\n",
    "    Y.append(temp1)\n",
    "    Y_err.append(f['M0_err'][i]/(1/h**(1/delta)))\n",
    "#     col.append(cdict[f['L'][i]])\n",
    "    col.append(cdict_temp[f['J'][i]])\n",
    "plt.scatter(X,Y,c=col)\n",
    "print(\"cdict_temp={ 0.4:'b', 0.454165:'g', 0.462:'r', 0.465:'c',0.47:'m', 0.55:'y', 0.6:'k'}\")"
   ]
  },
  {
   "cell_type": "markdown",
   "metadata": {},
   "source": [
    "### N =  48"
   ]
  },
  {
   "cell_type": "code",
   "execution_count": 110,
   "metadata": {
    "ExecuteTime": {
     "end_time": "2019-03-07T17:44:07.503639Z",
     "start_time": "2019-03-07T17:44:07.495184Z"
    }
   },
   "outputs": [
    {
     "name": "stdout",
     "output_type": "stream",
     "text": [
      "143  DATA LINES READ\n"
     ]
    }
   ],
   "source": [
    "f=read_generic_data('../extracted_data/GS_analysis/analysis48')"
   ]
  },
  {
   "cell_type": "code",
   "execution_count": 111,
   "metadata": {
    "ExecuteTime": {
     "end_time": "2019-03-07T17:44:08.717918Z",
     "start_time": "2019-03-07T17:44:08.711721Z"
    }
   },
   "outputs": [
    {
     "data": {
      "text/plain": [
       "array([0.4     , 0.454165, 0.46    , 0.462   , 0.465   , 0.47    ,\n",
       "       0.55    , 0.6     ])"
      ]
     },
     "execution_count": 111,
     "metadata": {},
     "output_type": "execute_result"
    }
   ],
   "source": [
    "unique(f['J'])"
   ]
  },
  {
   "cell_type": "code",
   "execution_count": 117,
   "metadata": {
    "ExecuteTime": {
     "end_time": "2019-03-07T18:22:06.872328Z",
     "start_time": "2019-03-07T18:22:06.544201Z"
    }
   },
   "outputs": [
    {
     "name": "stdout",
     "output_type": "stream",
     "text": [
      "cdict_temp={ 0.4:'b', 0.454165:'w', 0.462:'r', 0.460:'y', 0.465:'c',0.47:'m', 0.55:'g', 0.6:'k'}\n"
     ]
    },
    {
     "data": {
      "text/plain": [
       "(1, 2)"
      ]
     },
     "execution_count": 117,
     "metadata": {},
     "output_type": "execute_result"
    },
    {
     "data": {
      "image/png": "[encoded data removed]",
      "text/plain": [
       "<matplotlib.figure.Figure at 0x7f735af5ea58>"
      ]
     },
     "metadata": {},
     "output_type": "display_data"
    }
   ],
   "source": [
    "X=[]\n",
    "Y=[]\n",
    "Y_err=[]\n",
    "col=[]\n",
    "cdict={48:'b',24:'g',36:'r'}\n",
    "plt.figure(figsize=(5,5))\n",
    "cdict_temp={ 0.4:'b', 0.454165:'w', 0.462:'r', 0.460:'y', 0.465:'c',0.47:'m', 0.55:'g', 0.6:'k'}\n",
    "for i in range(len(f['T'])):\n",
    "    if f['L'][i]!=48 :\n",
    "#         print(f['M0'][i],f['J'][i])\n",
    "        continue    \n",
    "    h=f['H0'][i]/(H0)\n",
    "    t=(1/f['J'][i] - Tc)/T0\n",
    "    temp=t/h**(1/(beta*delta))\n",
    "    temp1=f['M0'][i]/(h**(1/delta))\n",
    "#     if temp1<0.8 and temp<0:\n",
    "#         for j in f.keys():\n",
    "#             print(j,\" = \",f[j][i])\n",
    "#         print(\"x = \",temp)\n",
    "#         print(\"y = \",temp1)\n",
    "#         print()\n",
    "#         continue\n",
    "    X.append(temp)\n",
    "    Y.append(temp1)\n",
    "    Y_err.append(f['M0_err'][i]/(1/h**(1/delta)))\n",
    "#     col.append(cdict[f['L'][i]])\n",
    "    col.append(cdict_temp[f['J'][i]])\n",
    "print(\"cdict_temp={ 0.4:'b', 0.454165:'w', 0.462:'r', 0.460:'y', 0.465:'c',0.47:'m', 0.55:'g', 0.6:'k'}\")\n",
    "plt.scatter(X,Y,c=col)\n",
    "plt.xlim([-7.5,2.5])\n",
    "plt.ylim([1,2])"
   ]
  },
  {
   "cell_type": "code",
   "execution_count": null,
   "metadata": {
    "collapsed": true
   },
   "outputs": [],
   "source": []
  },
  {
   "cell_type": "code",
   "execution_count": null,
   "metadata": {
    "collapsed": true
   },
   "outputs": [],
   "source": []
  },
  {
   "cell_type": "code",
   "execution_count": null,
   "metadata": {
    "collapsed": true
   },
   "outputs": [],
   "source": []
  },
  {
   "cell_type": "code",
   "execution_count": 69,
   "metadata": {
    "ExecuteTime": {
     "end_time": "2019-03-07T16:59:40.521844Z",
     "start_time": "2019-03-07T16:59:40.238802Z"
    }
   },
   "outputs": [
    {
     "data": {
      "text/plain": [
       "<matplotlib.collections.PathCollection at 0x7f735bf1da58>"
      ]
     },
     "execution_count": 69,
     "metadata": {},
     "output_type": "execute_result"
    },
    {
     "data": {
      "image/png": "[encoded data removed]",
      "text/plain": [
       "<matplotlib.figure.Figure at 0x7f735bf88a20>"
      ]
     },
     "metadata": {},
     "output_type": "display_data"
    }
   ],
   "source": [
    "plt.scatter(X,Y,c=col)\n",
    "# plt.xlim([-20,0])\n",
    "# plt.ylim([0,3])"
   ]
  },
  {
   "cell_type": "code",
   "execution_count": 34,
   "metadata": {
    "ExecuteTime": {
     "end_time": "2019-03-07T16:32:43.730263Z",
     "start_time": "2019-03-07T16:32:43.725681Z"
    },
    "collapsed": true
   },
   "outputs": [],
   "source": [
    "x=[i/j**(1/beta) for i ,j in zip(X,Y)]\n",
    "y=[i**(-1/delta) for i in Y]"
   ]
  },
  {
   "cell_type": "code",
   "execution_count": 35,
   "metadata": {
    "ExecuteTime": {
     "end_time": "2019-03-07T16:32:45.017303Z",
     "start_time": "2019-03-07T16:32:44.765754Z"
    }
   },
   "outputs": [
    {
     "data": {
      "text/plain": [
       "<matplotlib.collections.PathCollection at 0x7f735c4c31d0>"
      ]
     },
     "execution_count": 35,
     "metadata": {},
     "output_type": "execute_result"
    },
    {
     "data": {
      "image/png": "[encoded data removed]",
      "text/plain": [
       "<matplotlib.figure.Figure at 0x7f735c4f0208>"
      ]
     },
     "metadata": {},
     "output_type": "display_data"
    }
   ],
   "source": [
    "plt.scatter(x,y)"
   ]
  },
  {
   "cell_type": "code",
   "execution_count": null,
   "metadata": {
    "collapsed": true
   },
   "outputs": [],
   "source": []
  },
  {
   "cell_type": "code",
   "execution_count": null,
   "metadata": {
    "collapsed": true
   },
   "outputs": [],
   "source": []
  },
  {
   "cell_type": "code",
   "execution_count": null,
   "metadata": {
    "collapsed": true
   },
   "outputs": [],
   "source": []
  },
  {
   "cell_type": "markdown",
   "metadata": {},
   "source": [
    "## Histogram analysis for resamplings"
   ]
  },
  {
   "cell_type": "code",
   "execution_count": 13,
   "metadata": {
    "ExecuteTime": {
     "end_time": "2019-03-08T04:49:51.527834Z",
     "start_time": "2019-03-08T04:49:51.018696Z"
    }
   },
   "outputs": [
    {
     "data": {
      "text/plain": [
       "dict_keys(['params', 'istate', 'fstate', 'time', 'energy', 'magentization', 'magentization_n'])"
      ]
     },
     "execution_count": 13,
     "metadata": {},
     "output_type": "execute_result"
    }
   ],
   "source": [
    "f=get_data_OnModel('../../raw_data_serc/progress_folder/48/N48_0.400_compiled/history/LId_9_L_48_T_1.000_J_0.400_H_[0.00560|0.00000]O2.txt')\n",
    "f.keys()"
   ]
  },
  {
   "cell_type": "code",
   "execution_count": 15,
   "metadata": {
    "ExecuteTime": {
     "end_time": "2019-03-08T04:50:14.822910Z",
     "start_time": "2019-03-08T04:50:13.994930Z"
    }
   },
   "outputs": [
    {
     "name": "stdout",
     "output_type": "stream",
     "text": [
      "{'dim': 3, 'n': 2, 'length of lattice': 48, 'Number of sites': 0, 'T': 1, 'beta': 1, 'J': 0.4, 'H0': 0.0056, 'H1': 0, 'Initialization': 'Z', 'sweeps': 50211, 'urd_seed': 9, 'initialization_seed': 1550834079, 'remarks ': ' file made with the c++ code : O(n) model', 'UPDATE HISTORY ': ' Sat Feb 23 14:34:24 2019'}\n"
     ]
    },
    {
     "data": {
      "image/png": "[encoded data removed]",
      "text/plain": [
       "<matplotlib.figure.Figure at 0x7f6394921828>"
      ]
     },
     "metadata": {},
     "output_type": "display_data"
    }
   ],
   "source": [
    "print(f['params'])\n",
    "x=plt.hist(f['energy'],bins=250)"
   ]
  },
  {
   "cell_type": "code",
   "execution_count": 28,
   "metadata": {
    "ExecuteTime": {
     "end_time": "2019-03-08T05:00:37.916339Z",
     "start_time": "2019-03-08T05:00:37.495384Z"
    }
   },
   "outputs": [
    {
     "data": {
      "text/plain": [
       "dict_keys(['params', 'istate', 'fstate', 'time', 'energy', 'magentization', 'magentization_n'])"
      ]
     },
     "execution_count": 28,
     "metadata": {},
     "output_type": "execute_result"
    }
   ],
   "source": [
    "f=get_data_OnModel('../../raw_data_serc/progress_folder/48/N48_0.550_compiled/history/LId_13_L_48_T_1.000_J_0.550_H_[0.00360|0.00000]O2.txt')\n",
    "f.keys()"
   ]
  },
  {
   "cell_type": "code",
   "execution_count": 29,
   "metadata": {
    "ExecuteTime": {
     "end_time": "2019-03-08T05:00:39.288399Z",
     "start_time": "2019-03-08T05:00:38.679691Z"
    }
   },
   "outputs": [
    {
     "name": "stdout",
     "output_type": "stream",
     "text": [
      "{'dim': 3, 'n': 2, 'length of lattice': 48, 'Number of sites': 0, 'T': 1, 'beta': 1, 'J': 0.55, 'H0': 0.0036, 'H1': 0, 'Initialization': 'Z', 'sweeps': 100431, 'urd_seed': 13, 'initialization_seed': 1550419912, 'remarks ': ' file made with the c++ code : O(n) model', 'UPDATE HISTORY ': ' Tue Feb 19 09:14:06 2019'}\n",
      "\n",
      " -104160.0 -101733.0\n"
     ]
    },
    {
     "data": {
      "image/png": "[encoded data removed]",
      "text/plain": [
       "<matplotlib.figure.Figure at 0x7f6395020a20>"
      ]
     },
     "metadata": {},
     "output_type": "display_data"
    }
   ],
   "source": [
    "print(f['params'])\n",
    "print(\"\\n\",min(f['energy']),max(f['energy']))\n",
    "x=plt.hist(f['energy'],bins=150)"
   ]
  },
  {
   "cell_type": "code",
   "execution_count": 30,
   "metadata": {
    "ExecuteTime": {
     "end_time": "2019-03-08T05:00:46.703668Z",
     "start_time": "2019-03-08T05:00:46.693670Z"
    }
   },
   "outputs": [
    {
     "data": {
      "text/plain": [
       "dict_keys(['params', 'istate', 'fstate', 'time', 'energy', 'magentization', 'magentization_n'])"
      ]
     },
     "execution_count": 30,
     "metadata": {},
     "output_type": "execute_result"
    }
   ],
   "source": [
    "f=get_data_OnModel('../simulation_data/resampled/N48_0.550/LId_13_L_48_T_1.000_J_0.550_H_[0.00360|0.00000]O2.txt')\n",
    "f.keys()"
   ]
  },
  {
   "cell_type": "code",
   "execution_count": 31,
   "metadata": {
    "ExecuteTime": {
     "end_time": "2019-03-08T05:00:50.530271Z",
     "start_time": "2019-03-08T05:00:50.241192Z"
    }
   },
   "outputs": [
    {
     "name": "stdout",
     "output_type": "stream",
     "text": [
      "{'dim': 3, 'n': 2, 'length of lattice': 48, 'Number of sites': 0, 'T': 1, 'beta': 1, 'J': 0.55, 'H0': 0.0036, 'H1': 0, 'Initialization': 'Z', 'sweeps': 96, 'urd_seed': 13, 'initialization_seed': 1550419912, 'remarks ': ' file made with the c++ code : O(n) model', 'UPDATE HISTORY ': ' Tue Feb 19 09:14:06 2019'}\n",
      "\n",
      " -103718.0 -102163.0\n"
     ]
    },
    {
     "data": {
      "image/png": "[encoded data removed]",
      "text/plain": [
       "<matplotlib.figure.Figure at 0x7f63945a8320>"
      ]
     },
     "metadata": {},
     "output_type": "display_data"
    }
   ],
   "source": [
    "print(f['params'])\n",
    "print(\"\\n\",min(f['energy']),max(f['energy']))\n",
    "x=plt.hist(f['energy'],bins=20)"
   ]
  }
 ],
 "metadata": {
  "kernelspec": {
   "display_name": "Python 3",
   "language": "python",
   "name": "python3"
  },
  "language_info": {
   "codemirror_mode": {
    "name": "ipython",
    "version": 3
   },
   "file_extension": ".py",
   "mimetype": "text/x-python",
   "name": "python",
   "nbconvert_exporter": "python",
   "pygments_lexer": "ipython3",
   "version": "3.6.1"
  }
 },
 "nbformat": 4,
 "nbformat_minor": 2
}
