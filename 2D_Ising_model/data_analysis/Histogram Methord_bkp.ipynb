{
 "cells": [
  {
   "cell_type": "markdown",
   "metadata": {},
   "source": [
    "## Importing packeges"
   ]
  },
  {
   "cell_type": "code",
   "execution_count": 2,
   "metadata": {
    "ExecuteTime": {
     "end_time": "2018-10-18T05:10:07.825467Z",
     "start_time": "2018-10-18T05:10:07.775812Z"
    },
    "code_folding": [
     6,
     9
    ]
   },
   "outputs": [],
   "source": [
    "from ising_lib import *\n",
    "from numpy import *\n",
    "from scipy.optimize import curve_fit\n",
    "from matplotlib import pyplot as plt\n",
    "%matplotlib inline\n",
    "\n",
    "def variance(X):\n",
    "    return var(X)\n",
    "\n",
    "def Average(X):\n",
    "    return average(X)    \n",
    "    \n",
    "    \n",
    "def analyze(temparature,L,E,M):\n",
    "    u,u_err=jacknife(E,Average)\n",
    "    mag,mag_err=jacknife(M,Average)\n",
    "    sp_heat,sp_heat_err=jacknife(E,variance)\n",
    "    sp_heat/=(temparature*temparature*L)\n",
    "    sp_heat_err/=(temparature*temparature*L)\n",
    "    sucep,sucep_err=jacknife(M,variance)\n",
    "    sucep/=(temparature*L)\n",
    "    sucep_err/=(temparature*L)\n",
    "    M2=[i**2 for i in M]\n",
    "    M4=[i**4 for i in M]\n",
    "    m2,m2_err=jacknife(M2,Average)\n",
    "    m4,m4_err=jacknife(M4,Average)\n",
    "    return [mag,mag_err],[sp_heat,sp_heat_err],[sucep,sucep_err],[m2,m2_err],[m4,m4_err],[u,u_err]\n"
   ]
  },
  {
   "cell_type": "markdown",
   "metadata": {},
   "source": [
    "## VERIFICATION FOR ALGOS"
   ]
  },
  {
   "cell_type": "markdown",
   "metadata": {},
   "source": [
    "### READING FROM FILE TO VERIFY"
   ]
  },
  {
   "cell_type": "code",
   "execution_count": 4,
   "metadata": {
    "ExecuteTime": {
     "end_time": "2018-10-18T05:16:16.820197Z",
     "start_time": "2018-10-18T05:16:16.817204Z"
    },
    "collapsed": true
   },
   "outputs": [],
   "source": [
    "BASE_FOLDER='../multi_histo_data/'"
   ]
  },
  {
   "cell_type": "code",
   "execution_count": 7,
   "metadata": {
    "ExecuteTime": {
     "end_time": "2018-10-18T05:16:28.229930Z",
     "start_time": "2018-10-18T05:16:28.220358Z"
    }
   },
   "outputs": [
    {
     "name": "stdout",
     "output_type": "stream",
     "text": [
      "5\n"
     ]
    }
   ],
   "source": [
    "f=open(BASE_FOLDER+'fnames.txt','r')\n",
    "fnames1=[]\n",
    "l=f.readline()\n",
    "while l:\n",
    "    fnames1.append(BASE_FOLDER+l[:-1])\n",
    "    l=f.readline()\n",
    "f.close()\n",
    "print(len(fnames1))"
   ]
  },
  {
   "cell_type": "code",
   "execution_count": 18,
   "metadata": {
    "ExecuteTime": {
     "end_time": "2018-10-18T05:19:40.265384Z",
     "start_time": "2018-10-18T05:19:40.257888Z"
    }
   },
   "outputs": [],
   "source": [
    "NUMS=[20,22,24,26,28,30,32]\n",
    "fnames=[]\n",
    "for i in NUMS:\n",
    "    for j in fnames1:\n",
    "        fnames.append(str(j.replace('32',str(i))))"
   ]
  },
  {
   "cell_type": "markdown",
   "metadata": {},
   "source": [
    "## EXTRACTING FROM MCMC DATA"
   ]
  },
  {
   "cell_type": "code",
   "execution_count": 6,
   "metadata": {
    "ExecuteTime": {
     "end_time": "2018-10-18T04:51:00.761124Z",
     "start_time": "2018-10-18T04:50:59.825694Z"
    },
    "code_folding": [],
    "scrolled": true
   },
   "outputs": [
    {
     "name": "stdout",
     "output_type": "stream",
     "text": [
      "Doing  1 ( 1 ) / 5  L :  26  T :  2.15     ../multi_histo_data/N26/N_26_T_2.150_ising.datRL.txt\n",
      "Doing  2 ( 2 ) / 5  L :  26  T :  2.2     ../multi_histo_data/N26/N_26_T_2.200_ising.datRL.txt\n",
      "Doing  3 ( 3 ) / 5  L :  26  T :  2.25     ../multi_histo_data/N26/N_26_T_2.250_ising.datRL.txt\n",
      "Doing  4 ( 4 ) / 5  L :  26  T :  2.3     ../multi_histo_data/N26/N_26_T_2.300_ising.datRL.txt\n",
      "Doing  5 ( 5 ) / 5  L :  26  T :  2.35     ../multi_histo_data/N26/N_26_T_2.350_ising.datRL.txt\n"
     ]
    }
   ],
   "source": [
    "ml=10000\n",
    "sampled=[]\n",
    "analy=dict()\n",
    "i=-1\n",
    "extracted_vals=dict()\n",
    "rslt=open('cppanalysis/N24','w')\n",
    "# cfit=open('cppanalysis/cfit_ising_all_2','w')\n",
    "rslt.write('Temp,N,mag,mag_err,sp_heat,sp_heat_err,sucep,sucep_err')\n",
    "rslt.write('M2,M2_err,M4,M4_err,U,U_err \\n')\n",
    "# cfit.write('N,temp,Xi,Xi_err\\n')\n",
    "l=len(fnames)\n",
    "j=0\n",
    "for fn in fnames:\n",
    "    i+=1\n",
    "    dat=get_data(fn);\n",
    "    try:\n",
    "        L=dat['params']['length of lattice  '];\n",
    "    except:\n",
    "        L=dat['params']['N '];    \n",
    "    try:\n",
    "        T=dat['params']['T   '];\n",
    "    except:\n",
    "        T=dat['params']['T '];    \n",
    "    if T<0.75:\n",
    "        continue\n",
    "    j+=1\n",
    "    print(\"Doing \",i+1,\"(\",j,\") /\",l, \" L : \",L,\" T : \",T,\"   \",fn)\n",
    "    N=L*L\n",
    "    sdata=sample_data(dat,Max_lags=ml);\n",
    "    analy=analyze(T,N,sdata['energy'],sdata['magentization'])\n",
    "    rslt.write(str(T)+\",\"+str(L)+\",\"+str(analy[0][0])+\",\"+str(analy[0][1]))\n",
    "    rslt.write(\",\"+str(analy[1][0])+\",\"+str(analy[1][1]))\n",
    "    rslt.write(\",\"+str(analy[2][0])+\",\"+str(analy[2][1]))\n",
    "    rslt.write(\",\"+str(analy[3][0])+\",\"+str(analy[3][1]))\n",
    "    rslt.write(\",\"+str(analy[4][0])+\",\"+str(analy[4][1]))\n",
    "    rslt.write(\",\"+str(analy[5][0])+\",\"+str(analy[5][1])+'\\n')\n",
    "rslt.close()\n"
   ]
  },
  {
   "cell_type": "markdown",
   "metadata": {},
   "source": [
    "## READING THE EXTRACTED DATA FOR ISING"
   ]
  },
  {
   "cell_type": "code",
   "execution_count": 9,
   "metadata": {
    "ExecuteTime": {
     "end_time": "2018-10-18T04:51:13.118320Z",
     "start_time": "2018-10-18T04:51:13.072984Z"
    }
   },
   "outputs": [
    {
     "name": "stdout",
     "output_type": "stream",
     "text": [
      "5\n"
     ]
    }
   ],
   "source": [
    "f=open('cppanalysis/N26','r')\n",
    "extracted_vals_ori=dict()\n",
    "l=f.readline()\n",
    "l=f.readline()\n",
    "i=0\n",
    "while l:\n",
    "    i+=1\n",
    "    try:\n",
    "        it=l[:-1].split(',')\n",
    "    #         print(it)\n",
    "        L=int(it[1])\n",
    "        if L not in extracted_vals_ori.keys():\n",
    "            extracted_vals_ori.update({L:{'T':[],'mag':[],'mag_err':[],'sp_heat':[],'sp_heat_err':[],\n",
    "                                      'sucep':[],'sucep_err':[],'m2':[],'m2_err':[],'m4':[],'m4_err':[],\n",
    "                                       'u':[],'u_err':[]}})\n",
    "        extracted_vals_ori[L]['T'].append(float(it[0]))\n",
    "        extracted_vals_ori[L]['mag'].append(float(it[2]))\n",
    "        extracted_vals_ori[L]['mag_err'].append(float(it[3]))\n",
    "        extracted_vals_ori[L]['sp_heat'].append(float(it[4]))\n",
    "        extracted_vals_ori[L]['sp_heat_err'].append(float(it[5]))\n",
    "        extracted_vals_ori[L]['sucep'].append(float(it[6]))\n",
    "        extracted_vals_ori[L]['sucep_err'].append(float(it[7]))\n",
    "        extracted_vals_ori[L]['m2'].append(float(it[8]))\n",
    "        extracted_vals_ori[L]['m2_err'].append(float(it[9]))\n",
    "        extracted_vals_ori[L]['m4'].append(float(it[10]))\n",
    "        extracted_vals_ori[L]['m4_err'].append(float(it[11]))\n",
    "        extracted_vals_ori[L]['u'].append(float(it[12]))\n",
    "        extracted_vals_ori[L]['u_err'].append(float(it[13]))\n",
    "        l=f.readline()\n",
    "    except:\n",
    "        print(it)\n",
    "        l=f.readline()\n",
    "f.close()\n",
    "print(i)\n"
   ]
  },
  {
   "cell_type": "code",
   "execution_count": 11,
   "metadata": {
    "ExecuteTime": {
     "end_time": "2018-10-18T04:51:20.394697Z",
     "start_time": "2018-10-18T04:51:20.036656Z"
    }
   },
   "outputs": [
    {
     "data": {
      "text/plain": [
       "<Container object of 3 artists>"
      ]
     },
     "execution_count": 11,
     "metadata": {},
     "output_type": "execute_result"
    },
    {
     "data": {
      "image/png": "[encoded data removed]",
      "text/plain": [
       "<matplotlib.figure.Figure at 0x7fe0713eb2b0>"
      ]
     },
     "metadata": {},
     "output_type": "display_data"
    }
   ],
   "source": [
    "k=26\n",
    "lbl='mag'\n",
    "plt.errorbar(extracted_vals_ori[k]['T'],extracted_vals_ori[k][lbl],\n",
    "             extracted_vals_ori[k][lbl+'_err'],fmt='o')"
   ]
  },
  {
   "cell_type": "code",
   "execution_count": 12,
   "metadata": {
    "ExecuteTime": {
     "end_time": "2018-10-18T04:51:24.327974Z",
     "start_time": "2018-10-18T04:51:23.892804Z"
    }
   },
   "outputs": [
    {
     "data": {
      "text/plain": [
       "<matplotlib.collections.PathCollection at 0x7fe0712655c0>"
      ]
     },
     "execution_count": 12,
     "metadata": {},
     "output_type": "execute_result"
    },
    {
     "data": {
      "image/png": "[encoded data removed]",
      "text/plain": [
       "<matplotlib.figure.Figure at 0x7fe0712e36a0>"
      ]
     },
     "metadata": {},
     "output_type": "display_data"
    }
   ],
   "source": [
    "k=26\n",
    "lbl='sucep'\n",
    "plt.errorbar(extracted_vals_ori[k]['T'],extracted_vals_ori[k][lbl],\n",
    "             extracted_vals_ori[k][lbl+'_err'],fmt='o')\n",
    "lbl1='m2'\n",
    "lbl2='mag'\n",
    "lbl3='sucep'\n",
    "varian=[(i-j*j)/(l*k**2) for i,j,l in zip(extracted_vals_ori[k][lbl1],extracted_vals_ori[k][lbl2],extracted_vals_ori[k]['T']) ]\n",
    "plt.scatter(extracted_vals_ori[k]['T'],varian,c='r',s=5,zorder=6)"
   ]
  },
  {
   "cell_type": "code",
   "execution_count": 13,
   "metadata": {
    "ExecuteTime": {
     "end_time": "2018-10-18T04:51:30.269061Z",
     "start_time": "2018-10-18T04:51:30.228636Z"
    }
   },
   "outputs": [
    {
     "name": "stdout",
     "output_type": "stream",
     "text": [
      "0\n"
     ]
    }
   ],
   "source": [
    "f=open('../extracted_data/N26','r')\n",
    "mh_vals={'T':[],'e1':[],'e2':[],'mag':[],'m2':[],'m4':[]}\n",
    "\n",
    "l=f.readline()\n",
    "l=f.readline()\n",
    "i=0\n",
    "while l:\n",
    "    i+=1\n",
    "    try:\n",
    "        it=l[:-1].split(',')\n",
    "        mh_vals['T'].append(float(it[0]))\n",
    "        mh_vals['e1'].append(float(it[1]))\n",
    "        mh_vals['e2'].append(float(it[2]))\n",
    "        mh_vals['mag'].append(float(it[3]))\n",
    "        mh_vals['m2'].append(float(it[4]))\n",
    "        mh_vals['m4'].append(float(it[5]))\n",
    "        l=f.readline()\n",
    "    except:\n",
    "        print(it)\n",
    "        l=f.readline()\n",
    "f.close()\n",
    "print(i)\n"
   ]
  },
  {
   "cell_type": "code",
   "execution_count": 14,
   "metadata": {
    "ExecuteTime": {
     "end_time": "2018-10-17T21:16:29.313144Z",
     "start_time": "2018-10-17T21:16:28.984634Z"
    }
   },
   "outputs": [
    {
     "data": {
      "text/plain": [
       "<matplotlib.collections.PathCollection at 0x7f1c87bcbef0>"
      ]
     },
     "execution_count": 14,
     "metadata": {},
     "output_type": "execute_result"
    },
    {
     "data": {
      "image/png": "[encoded data removed]",
      "text/plain": [
       "<matplotlib.figure.Figure at 0x7f1c87be40f0>"
      ]
     },
     "metadata": {},
     "output_type": "display_data"
    }
   ],
   "source": [
    "lbl='mag'\n",
    "plt.scatter(extracted_vals_ori[k]['T'],extracted_vals_ori[k][lbl],zorder=0)\n",
    "plt.scatter(mh_vals['T'],mh_vals[lbl],c='r',s=5,zorder=1)"
   ]
  },
  {
   "cell_type": "code",
   "execution_count": 15,
   "metadata": {
    "ExecuteTime": {
     "end_time": "2018-10-17T21:16:33.595100Z",
     "start_time": "2018-10-17T21:16:33.294391Z"
    }
   },
   "outputs": [
    {
     "data": {
      "text/plain": [
       "<matplotlib.collections.PathCollection at 0x7f1c87aef208>"
      ]
     },
     "execution_count": 15,
     "metadata": {},
     "output_type": "execute_result"
    },
    {
     "data": {
      "image/png": "[encoded data removed]",
      "text/plain": [
       "<matplotlib.figure.Figure at 0x7f1c8e7b5630>"
      ]
     },
     "metadata": {},
     "output_type": "display_data"
    }
   ],
   "source": [
    "k=20\n",
    "lbl='sucep'\n",
    "plt.errorbar(extracted_vals_ori[k]['T'],extracted_vals_ori[k][lbl],\n",
    "             extracted_vals_ori[k][lbl+'_err'],fmt='o')\n",
    "lbl1='m2'\n",
    "lbl2='mag'\n",
    "varian=[(i-j*j)/(l*k**2) for i,j,l in zip(mh_vals[lbl1],mh_vals[lbl2],mh_vals['T']) ]\n",
    "plt.scatter(mh_vals['T'],varian,c='r',s=5,zorder=6)"
   ]
  },
  {
   "cell_type": "code",
   "execution_count": null,
   "metadata": {
    "collapsed": true
   },
   "outputs": [],
   "source": []
  },
  {
   "cell_type": "code",
   "execution_count": null,
   "metadata": {
    "collapsed": true
   },
   "outputs": [],
   "source": []
  },
  {
   "cell_type": "code",
   "execution_count": null,
   "metadata": {
    "collapsed": true
   },
   "outputs": [],
   "source": []
  },
  {
   "cell_type": "markdown",
   "metadata": {},
   "source": [
    "## MAKE CONFIG"
   ]
  },
  {
   "cell_type": "code",
   "execution_count": 89,
   "metadata": {
    "ExecuteTime": {
     "end_time": "2018-10-17T18:33:00.137703Z",
     "start_time": "2018-10-17T18:33:00.131987Z"
    },
    "collapsed": true
   },
   "outputs": [],
   "source": [
    "BASE_FOLDER='../multi_histo_data/'"
   ]
  },
  {
   "cell_type": "code",
   "execution_count": 90,
   "metadata": {
    "ExecuteTime": {
     "end_time": "2018-10-17T18:33:01.654251Z",
     "start_time": "2018-10-17T18:33:01.644256Z"
    }
   },
   "outputs": [
    {
     "name": "stdout",
     "output_type": "stream",
     "text": [
      "4\n"
     ]
    }
   ],
   "source": [
    "f=open(BASE_FOLDER+'fnames.txt','r')\n",
    "fnames=[]\n",
    "l=f.readline()\n",
    "while(l):\n",
    "    fnames.append(l[:-1])\n",
    "    l=f.readline()\n",
    "f.close()\n",
    "print(len(fnames))"
   ]
  },
  {
   "cell_type": "code",
   "execution_count": 91,
   "metadata": {
    "ExecuteTime": {
     "end_time": "2018-10-17T18:33:03.848848Z",
     "start_time": "2018-10-17T18:33:03.579387Z"
    }
   },
   "outputs": [
    {
     "name": "stdout",
     "output_type": "stream",
     "text": [
      "N32_long/N_32_T_2.100_ising.datRL.txt  ->  2  ,  0.022375716825948765  ,  True\n",
      "N32_long/N_32_T_2.200_ising.datRL.txt  ->  3  ,  0.03890471577221767  ,  True\n",
      "N32_long/N_32_T_2.300_ising.datRL.txt  ->  5  ,  0.08799413393271968  ,  True\n",
      "N32_long/N_32_T_2.400_ising.datRL.txt  ->  10  ,  0.20771395158400566  ,  True\n"
     ]
    }
   ],
   "source": [
    "Max_lags=9000\n",
    "fit_count_of_acf=Max_lags\n",
    "tol=0.5\n",
    "f=open(BASE_FOLDER+'hist.config','w')\n",
    "for nme in fnames:\n",
    "    data=get_data(BASE_FOLDER+nme)\n",
    "    tau,err,status=get_correlation_values(data['time'][-Max_lags:],data['energy'][-Max_lags:],\n",
    "                            data['magentization'][-Max_lags:],Max_lags,fit_count_of_acf,tol)\n",
    "    print(nme,\" -> \",tau,\" , \",err,\" , \",status)\n",
    "    f.write(nme[:-6]+\",\"+str(tau)+\",\"+str(err)+\",\"+str(status).lower()+'\\n')\n",
    "f.close()   "
   ]
  }
 ],
 "metadata": {
  "kernelspec": {
   "display_name": "Python 3",
   "language": "python",
   "name": "python3"
  },
  "language_info": {
   "codemirror_mode": {
    "name": "ipython",
    "version": 3
   },
   "file_extension": ".py",
   "mimetype": "text/x-python",
   "name": "python",
   "nbconvert_exporter": "python",
   "pygments_lexer": "ipython3",
   "version": "3.6.1"
  }
 },
 "nbformat": 4,
 "nbformat_minor": 2
}
