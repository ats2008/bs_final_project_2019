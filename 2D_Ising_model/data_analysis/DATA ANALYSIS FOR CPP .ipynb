{
 "cells": [
  {
   "cell_type": "markdown",
   "metadata": {},
   "source": [
    "## Importing packeges"
   ]
  },
  {
   "cell_type": "code",
   "execution_count": 5,
   "metadata": {
    "ExecuteTime": {
     "end_time": "2019-03-30T06:24:21.323045Z",
     "start_time": "2019-03-30T06:24:21.317563Z"
    }
   },
   "outputs": [
    {
     "data": {
      "text/plain": [
       "'/media/aravind/data/ACADEMIC/IISc/sem_7/FINAL_PROJECT/workbooks/cpp/ISING_MODEL/python_analysis'"
      ]
     },
     "execution_count": 5,
     "metadata": {},
     "output_type": "execute_result"
    }
   ],
   "source": [
    "pwd"
   ]
  },
  {
   "cell_type": "code",
   "execution_count": 3,
   "metadata": {
    "ExecuteTime": {
     "end_time": "2019-04-06T08:13:38.254300Z",
     "start_time": "2019-04-06T08:13:28.636358Z"
    }
   },
   "outputs": [
    {
     "name": "stderr",
     "output_type": "stream",
     "text": [
      "/home/aravind/anaconda3/lib/python3.6/site-packages/statsmodels/compat/pandas.py:56: FutureWarning: The pandas.core.datetools module is deprecated and will be removed in a future version. Please use the pandas.tseries module instead.\n",
      "  from pandas.core import datetools\n"
     ]
    }
   ],
   "source": [
    "from ising_lib import *"
   ]
  },
  {
   "cell_type": "code",
   "execution_count": null,
   "metadata": {
    "collapsed": true
   },
   "outputs": [],
   "source": []
  },
  {
   "cell_type": "code",
   "execution_count": 4,
   "metadata": {
    "ExecuteTime": {
     "end_time": "2019-04-06T08:13:38.290420Z",
     "start_time": "2019-04-06T08:13:38.256793Z"
    },
    "code_folding": [
     6,
     9
    ],
    "collapsed": true
   },
   "outputs": [],
   "source": [
    "from ising_lib import *\n",
    "from numpy import *\n",
    "from scipy.optimize import curve_fit\n",
    "from matplotlib import pyplot as plt\n",
    "%matplotlib inline\n",
    "\n",
    "def variance(X):\n",
    "    return var(X)\n",
    "\n",
    "def Average(X):\n",
    "    return average(X)\n",
    "    \n",
    "    \n",
    "    \n",
    "def analyze(temparature,L,E,M):\n",
    "    mag,mag_err=jacknife(M,Average)\n",
    "    sp_heat,sp_heat_err=jacknife(E,variance)\n",
    "    sp_heat/=(temparature*temparature*L)\n",
    "    sp_heat_err/=(temparature*temparature*L)\n",
    "    sucep,sucep_err=jacknife(M,variance)\n",
    "    sucep/=(temparature*L)\n",
    "    sucep_err/=(temparature*L)\n",
    "    return [mag,mag_err],[sp_heat,sp_heat_err],[sucep,sucep_err]"
   ]
  },
  {
   "cell_type": "code",
   "execution_count": 4,
   "metadata": {
    "ExecuteTime": {
     "end_time": "2019-03-26T12:56:22.587502Z",
     "start_time": "2019-03-26T12:56:22.579318Z"
    }
   },
   "outputs": [
    {
     "data": {
      "text/plain": [
       "'/media/aravind/data/ACADEMIC/IISc/sem_7/FINAL_PROJECT/workbooks/cpp/ISING_MODEL/python_analysis'"
      ]
     },
     "execution_count": 4,
     "metadata": {},
     "output_type": "execute_result"
    }
   ],
   "source": [
    "pwd"
   ]
  },
  {
   "cell_type": "markdown",
   "metadata": {},
   "source": [
    "## Ploting for report"
   ]
  },
  {
   "cell_type": "code",
   "execution_count": 21,
   "metadata": {
    "ExecuteTime": {
     "end_time": "2019-03-28T11:25:38.020217Z",
     "start_time": "2019-03-28T11:25:38.016075Z"
    },
    "collapsed": true
   },
   "outputs": [],
   "source": [
    "from statsmodels.tsa.stattools import acf"
   ]
  },
  {
   "cell_type": "code",
   "execution_count": 64,
   "metadata": {
    "ExecuteTime": {
     "end_time": "2019-03-28T11:44:07.831198Z",
     "start_time": "2019-03-28T11:44:07.732386Z"
    }
   },
   "outputs": [
    {
     "name": "stdout",
     "output_type": "stream",
     "text": [
      "10001\n"
     ]
    }
   ],
   "source": [
    "dataW=get_data('../wolf_verify/data/ising/N_20_T_2.200_isingWTRY.txt')\n",
    "dataM=get_data('../wolf_verify/data/ising/N_20_T_2.200_isingMCTRY.txt')\n",
    "print(len(data['time']))"
   ]
  },
  {
   "cell_type": "code",
   "execution_count": 66,
   "metadata": {
    "ExecuteTime": {
     "end_time": "2019-03-28T11:44:24.528927Z",
     "start_time": "2019-03-28T11:44:24.097896Z"
    }
   },
   "outputs": [
    {
     "data": {
      "text/plain": [
       "[<matplotlib.lines.Line2D at 0x7efce18d4c50>]"
      ]
     },
     "execution_count": 66,
     "metadata": {},
     "output_type": "execute_result"
    },
    {
     "data": {
      "image/png": "[encoded data removed]",
      "text/plain": [
       "<matplotlib.figure.Figure at 0x7efce18d4cc0>"
      ]
     },
     "metadata": {},
     "output_type": "display_data"
    }
   ],
   "source": [
    "n0=0\n",
    "nf=-1\n",
    "plt.plot(dataW['time'][n0:nf],dataW['energy'][n0:nf])\n",
    "plt.plot(dataM['time'][n0:nf],dataM['energy'][n0:nf])"
   ]
  },
  {
   "cell_type": "code",
   "execution_count": 67,
   "metadata": {
    "ExecuteTime": {
     "end_time": "2019-03-28T11:44:34.206340Z",
     "start_time": "2019-03-28T11:44:34.198838Z"
    },
    "collapsed": true
   },
   "outputs": [],
   "source": [
    "# Recheck Multiliters \n",
    "multipliers=[0.6, 1 , 1.6]\n",
    "\n",
    "# MAX LAGS CONSIDERED FOR FINDING acf ; \n",
    "MAX_LAGS=12000\n",
    "\n",
    "# FIT LENGTH CONSIDERED for fit acf curve ; \n",
    "FCOA=None # None :> = MAX_LAGS\n",
    "\n",
    "#Thermalization skip for dataset ; \n",
    "THERMAL_SKIP=int(0)"
   ]
  },
  {
   "cell_type": "code",
   "execution_count": 79,
   "metadata": {
    "ExecuteTime": {
     "end_time": "2019-03-28T11:56:37.903383Z",
     "start_time": "2019-03-28T11:56:37.397440Z"
    }
   },
   "outputs": [
    {
     "data": {
      "image/png": "[encoded data removed]",
      "text/plain": [
       "<matplotlib.figure.Figure at 0x7efce101d048>"
      ]
     },
     "metadata": {},
     "output_type": "display_data"
    }
   ],
   "source": [
    "K_fit=2000\n",
    "Max_lags=2000\n",
    "a=0\n",
    "b=500\n",
    "c=acf(dataW['energy'],nlags=Max_lags,fft=True)\n",
    "plt.plot([i for i in range(len(c[a:b]))],c[a:b],label = \"Wolff's Algo.\" )\n",
    "c=acf(dataM['energy'],nlags=Max_lags,fft=True)\n",
    "plt.plot([i for i in range(len(c[a:b]))],c[a:b],label = \"Metrop. Algo.\" )\n",
    "plt.legend(loc=1)\n",
    "plt.ylabel('auto-correlation')\n",
    "plt.xlabel('δ sweeps')\n",
    "plt.savefig('../../../../REPORT/pics/acf_Wolf_and_Mc.eps',dpi=500)"
   ]
  },
  {
   "cell_type": "code",
   "execution_count": null,
   "metadata": {
    "collapsed": true
   },
   "outputs": [],
   "source": []
  },
  {
   "cell_type": "code",
   "execution_count": null,
   "metadata": {
    "collapsed": true
   },
   "outputs": [],
   "source": []
  },
  {
   "cell_type": "code",
   "execution_count": null,
   "metadata": {
    "collapsed": true
   },
   "outputs": [],
   "source": []
  },
  {
   "cell_type": "code",
   "execution_count": null,
   "metadata": {
    "collapsed": true
   },
   "outputs": [],
   "source": []
  },
  {
   "cell_type": "markdown",
   "metadata": {},
   "source": [
    "## VERIFICATION FOR ALGOS"
   ]
  },
  {
   "cell_type": "markdown",
   "metadata": {},
   "source": [
    "### READING FROM FILE TO VERIFY"
   ]
  },
  {
   "cell_type": "code",
   "execution_count": 3,
   "metadata": {
    "ExecuteTime": {
     "end_time": "2019-03-28T11:05:20.204341Z",
     "start_time": "2019-03-28T11:05:19.622392Z"
    },
    "collapsed": true
   },
   "outputs": [],
   "source": []
  },
  {
   "cell_type": "code",
   "execution_count": 12,
   "metadata": {
    "ExecuteTime": {
     "end_time": "2019-03-26T12:36:31.417587Z",
     "start_time": "2019-03-26T12:36:31.412486Z"
    }
   },
   "outputs": [
    {
     "data": {
      "text/plain": [
       "dict_keys(['params', 'istate', 'fstate', 'time', 'energy', 'magentization'])"
      ]
     },
     "execution_count": 12,
     "metadata": {},
     "output_type": "execute_result"
    }
   ],
   "source": [
    "dat.keys()"
   ]
  },
  {
   "cell_type": "code",
   "execution_count": null,
   "metadata": {
    "collapsed": true
   },
   "outputs": [],
   "source": [
    "plt.plot(dat['time'][n0:nf],dat[''])"
   ]
  },
  {
   "cell_type": "code",
   "execution_count": 4,
   "metadata": {
    "ExecuteTime": {
     "end_time": "2019-03-28T11:20:03.579902Z",
     "start_time": "2019-03-28T11:20:03.359695Z"
    },
    "code_folding": [
     3
    ]
   },
   "outputs": [
    {
     "name": "stdout",
     "output_type": "stream",
     "text": [
      "25034\n"
     ]
    }
   ],
   "source": [
    "f=open('../ising_data/N_20_T_2.220_ising.txt','r')\n",
    "fnames=[]\n",
    "l=f.readline()\n",
    "while l:\n",
    "    fnames.append('serccpp/'+l[:-1])\n",
    "    l=f.readline()\n",
    "f.close()\n",
    "print(len(fnames))"
   ]
  },
  {
   "cell_type": "code",
   "execution_count": null,
   "metadata": {
    "collapsed": true
   },
   "outputs": [],
   "source": []
  },
  {
   "cell_type": "code",
   "execution_count": 2,
   "metadata": {
    "ExecuteTime": {
     "end_time": "2019-03-28T11:17:59.938954Z",
     "start_time": "2019-03-28T11:17:59.771085Z"
    }
   },
   "outputs": [
    {
     "ename": "NameError",
     "evalue": "name 'fnames' is not defined",
     "output_type": "error",
     "traceback": [
      "\u001b[0;31m---------------------------------------------------------------------------\u001b[0m",
      "\u001b[0;31mNameError\u001b[0m                                 Traceback (most recent call last)",
      "\u001b[0;32m<ipython-input-2-1dca171d33bd>\u001b[0m in \u001b[0;36m<module>\u001b[0;34m()\u001b[0m\n\u001b[1;32m     11\u001b[0m \u001b[0mTHERMAL_SKIP\u001b[0m\u001b[0;34m=\u001b[0m\u001b[0mint\u001b[0m\u001b[0;34m(\u001b[0m\u001b[0;36m0\u001b[0m\u001b[0;34m)\u001b[0m\u001b[0;34m\u001b[0m\u001b[0m\n\u001b[1;32m     12\u001b[0m \u001b[0;34m\u001b[0m\u001b[0m\n\u001b[0;32m---> 13\u001b[0;31m \u001b[0mLen\u001b[0m\u001b[0;34m=\u001b[0m\u001b[0mlen\u001b[0m\u001b[0;34m(\u001b[0m\u001b[0mfnames\u001b[0m\u001b[0;34m)\u001b[0m\u001b[0;34m\u001b[0m\u001b[0m\n\u001b[0m\u001b[1;32m     14\u001b[0m \u001b[0mprint\u001b[0m\u001b[0;34m(\u001b[0m\u001b[0;34m'../extracted_data/acf_'\u001b[0m\u001b[0;34m+\u001b[0m\u001b[0mtag_name\u001b[0m\u001b[0;34m+\u001b[0m\u001b[0;34m\".png\"\u001b[0m\u001b[0;34m)\u001b[0m\u001b[0;34m\u001b[0m\u001b[0m\n\u001b[1;32m     15\u001b[0m \u001b[0mplt\u001b[0m\u001b[0;34m.\u001b[0m\u001b[0mfigure\u001b[0m\u001b[0;34m(\u001b[0m\u001b[0mfigsize\u001b[0m\u001b[0;34m=\u001b[0m\u001b[0;34m(\u001b[0m\u001b[0;36m15\u001b[0m\u001b[0;34m,\u001b[0m\u001b[0;36m10\u001b[0m\u001b[0;34m)\u001b[0m\u001b[0;34m)\u001b[0m\u001b[0;34m\u001b[0m\u001b[0m\n",
      "\u001b[0;31mNameError\u001b[0m: name 'fnames' is not defined"
     ]
    }
   ],
   "source": []
  },
  {
   "cell_type": "markdown",
   "metadata": {},
   "source": [
    "## EXTRACTING FROM MCMC DATA"
   ]
  },
  {
   "cell_type": "code",
   "execution_count": 56,
   "metadata": {
    "ExecuteTime": {
     "end_time": "2018-10-04T11:42:31.460695Z",
     "start_time": "2018-10-04T11:39:15.609580Z"
    },
    "code_folding": []
   },
   "outputs": [
    {
     "name": "stdout",
     "output_type": "stream",
     "text": [
      "Doing  1 / 1149  L :  10  T :  0.8     serccpp/N_10_T_0.800_ising.txt\n",
      "Doing  2 / 1149  L :  10  T :  1     serccpp/N_10_T_1.000_ising.txt\n",
      "Doing  3 / 1149  L :  10  T :  1.2     serccpp/N_10_T_1.200_ising.txt\n",
      "Doing  4 / 1149  L :  10  T :  1.4     serccpp/N_10_T_1.400_ising.txt\n",
      "Doing  5 / 1149  L :  10  T :  1.6     serccpp/N_10_T_1.600_ising.txt\n",
      "Doing  6 / 1149  L :  10  T :  1.62     serccpp/N_10_T_1.620_ising.txt\n",
      "Doing  7 / 1149  L :  10  T :  1.64     serccpp/N_10_T_1.640_ising.txt\n",
      "Doing  8 / 1149  L :  10  T :  1.66     serccpp/N_10_T_1.660_ising.txt\n",
      "Doing  9 / 1149  L :  10  T :  1.68     serccpp/N_10_T_1.680_ising.txt\n",
      "Doing  10 / 1149  L :  10  T :  1.7     serccpp/N_10_T_1.700_ising.txt\n",
      "Doing  11 / 1149  L :  10  T :  1.72     serccpp/N_10_T_1.720_ising.txt\n",
      "Doing  12 / 1149  L :  10  T :  1.74     serccpp/N_10_T_1.740_ising.txt\n",
      "Doing  13 / 1149  L :  10  T :  1.76     serccpp/N_10_T_1.760_ising.txt\n",
      "Doing  14 / 1149  L :  10  T :  1.78     serccpp/N_10_T_1.780_ising.txt\n",
      "Doing  15 / 1149  L :  10  T :  1.8     serccpp/N_10_T_1.800_ising.txt\n",
      "Doing  16 / 1149  L :  10  T :  1.82     serccpp/N_10_T_1.820_ising.txt\n",
      "Doing  17 / 1149  L :  10  T :  1.84     serccpp/N_10_T_1.840_ising.txt\n",
      "Doing  18 / 1149  L :  10  T :  1.86     serccpp/N_10_T_1.860_ising.txt\n",
      "Doing  19 / 1149  L :  10  T :  1.88     serccpp/N_10_T_1.880_ising.txt\n",
      "Doing  20 / 1149  L :  10  T :  1.9     serccpp/N_10_T_1.900_ising.txt\n",
      "Doing  21 / 1149  L :  10  T :  1.92     serccpp/N_10_T_1.920_ising.txt\n",
      "Doing  22 / 1149  L :  10  T :  1.94     serccpp/N_10_T_1.940_ising.txt\n",
      "Doing  23 / 1149  L :  10  T :  1.96     serccpp/N_10_T_1.960_ising.txt\n",
      "Doing  24 / 1149  L :  10  T :  1.98     serccpp/N_10_T_1.980_ising.txt\n",
      "Doing  25 / 1149  L :  10  T :  2     serccpp/N_10_T_2.000_ising.txt\n",
      "Doing  26 / 1149  L :  10  T :  2.02     serccpp/N_10_T_2.020_ising.txt\n",
      "Doing  27 / 1149  L :  10  T :  2.04     serccpp/N_10_T_2.040_ising.txt\n",
      "Doing  28 / 1149  L :  10  T :  2.06     serccpp/N_10_T_2.060_ising.txt\n",
      "Doing  29 / 1149  L :  10  T :  2.08     serccpp/N_10_T_2.080_ising.txt\n",
      "Doing  30 / 1149  L :  10  T :  2.1     serccpp/N_10_T_2.100_ising.txt\n",
      "Doing  31 / 1149  L :  10  T :  2.12     serccpp/N_10_T_2.120_ising.txt\n",
      "Doing  32 / 1149  L :  10  T :  2.14     serccpp/N_10_T_2.140_ising.txt\n",
      "Doing  33 / 1149  L :  10  T :  2.16     serccpp/N_10_T_2.160_ising.txt\n",
      "Doing  34 / 1149  L :  10  T :  2.18     serccpp/N_10_T_2.180_ising.txt\n",
      "Doing  35 / 1149  L :  10  T :  2.2     serccpp/N_10_T_2.200_ising.txt\n",
      "Doing  36 / 1149  L :  10  T :  2.22     serccpp/N_10_T_2.220_ising.txt\n",
      "Doing  37 / 1149  L :  10  T :  2.24     serccpp/N_10_T_2.240_ising.txt\n",
      "Doing  38 / 1149  L :  10  T :  2.26     serccpp/N_10_T_2.260_ising.txt\n",
      "Doing  39 / 1149  L :  10  T :  2.28     serccpp/N_10_T_2.280_ising.txt\n",
      "Doing  40 / 1149  L :  10  T :  2.3     serccpp/N_10_T_2.300_ising.txt\n",
      "Doing  41 / 1149  L :  10  T :  2.32     serccpp/N_10_T_2.320_ising.txt\n",
      "Doing  42 / 1149  L :  10  T :  2.34     serccpp/N_10_T_2.340_ising.txt\n",
      "Doing  43 / 1149  L :  10  T :  2.36     serccpp/N_10_T_2.360_ising.txt\n",
      "Doing  44 / 1149  L :  10  T :  2.38     serccpp/N_10_T_2.380_ising.txt\n",
      "Doing  45 / 1149  L :  10  T :  2.4     serccpp/N_10_T_2.400_ising.txt\n",
      "Doing  46 / 1149  L :  10  T :  2.42     serccpp/N_10_T_2.420_ising.txt\n",
      "Doing  47 / 1149  L :  10  T :  2.44     serccpp/N_10_T_2.440_ising.txt\n",
      "Doing  48 / 1149  L :  10  T :  2.46     serccpp/N_10_T_2.460_ising.txt\n",
      "Doing  49 / 1149  L :  10  T :  2.48     serccpp/N_10_T_2.480_ising.txt\n",
      "Doing  50 / 1149  L :  10  T :  2.5     serccpp/N_10_T_2.500_ising.txt\n",
      "Doing  51 / 1149  L :  10  T :  2.52     serccpp/N_10_T_2.520_ising.txt\n",
      "Doing  52 / 1149  L :  10  T :  2.54     serccpp/N_10_T_2.540_ising.txt\n",
      "Doing  53 / 1149  L :  10  T :  2.56     serccpp/N_10_T_2.560_ising.txt\n",
      "Doing  54 / 1149  L :  10  T :  2.58     serccpp/N_10_T_2.580_ising.txt\n",
      "Doing  55 / 1149  L :  10  T :  2.6     serccpp/N_10_T_2.600_ising.txt\n",
      "Doing  56 / 1149  L :  10  T :  2.62     serccpp/N_10_T_2.620_ising.txt\n",
      "Doing  57 / 1149  L :  10  T :  2.64     serccpp/N_10_T_2.640_ising.txt\n",
      "Doing  58 / 1149  L :  10  T :  2.66     serccpp/N_10_T_2.660_ising.txt\n",
      "Doing  59 / 1149  L :  10  T :  2.68     serccpp/N_10_T_2.680_ising.txt\n",
      "Doing  60 / 1149  L :  10  T :  2.7     serccpp/N_10_T_2.700_ising.txt\n",
      "Doing  61 / 1149  L :  10  T :  2.72     serccpp/N_10_T_2.720_ising.txt\n",
      "Doing  62 / 1149  L :  10  T :  2.74     serccpp/N_10_T_2.740_ising.txt\n",
      "Doing  63 / 1149  L :  10  T :  2.76     serccpp/N_10_T_2.760_ising.txt\n",
      "Doing  64 / 1149  L :  10  T :  2.78     serccpp/N_10_T_2.780_ising.txt\n",
      "Doing  65 / 1149  L :  10  T :  2.8     serccpp/N_10_T_2.800_ising.txt\n",
      "Doing  66 / 1149  L :  10  T :  2.82     serccpp/N_10_T_2.820_ising.txt\n",
      "Doing  67 / 1149  L :  10  T :  2.84     serccpp/N_10_T_2.840_ising.txt\n",
      "Doing  68 / 1149  L :  10  T :  2.86     serccpp/N_10_T_2.860_ising.txt\n",
      "Doing  69 / 1149  L :  10  T :  2.88     serccpp/N_10_T_2.880_ising.txt\n",
      "Doing  70 / 1149  L :  10  T :  2.9     serccpp/N_10_T_2.900_ising.txt\n",
      "Doing  71 / 1149  L :  10  T :  2.92     serccpp/N_10_T_2.920_ising.txt\n",
      "Doing  72 / 1149  L :  10  T :  2.94     serccpp/N_10_T_2.940_ising.txt\n",
      "Doing  73 / 1149  L :  10  T :  2.96     serccpp/N_10_T_2.960_ising.txt\n",
      "Doing  74 / 1149  L :  10  T :  2.98     serccpp/N_10_T_2.980_ising.txt\n",
      "Doing  75 / 1149  L :  10  T :  3     serccpp/N_10_T_3.000_ising.txt\n",
      "Doing  76 / 1149  L :  10  T :  3.1     serccpp/N_10_T_3.100_ising.txt\n",
      "Doing  77 / 1149  L :  10  T :  3.2     serccpp/N_10_T_3.200_ising.txt\n",
      "Doing  78 / 1149  L :  10  T :  3.3     serccpp/N_10_T_3.300_ising.txt\n",
      "Doing  79 / 1149  L :  10  T :  3.4     serccpp/N_10_T_3.400_ising.txt\n",
      "Doing  80 / 1149  L :  10  T :  3.5     serccpp/N_10_T_3.500_ising.txt\n",
      "Doing  81 / 1149  L :  10  T :  3.6     serccpp/N_10_T_3.600_ising.txt\n",
      "Doing  82 / 1149  L :  10  T :  3.7     serccpp/N_10_T_3.700_ising.txt\n",
      "Doing  83 / 1149  L :  10  T :  3.8     serccpp/N_10_T_3.800_ising.txt\n",
      "Doing  84 / 1149  L :  10  T :  3.9     serccpp/N_10_T_3.900_ising.txt\n",
      "Doing  85 / 1149  L :  10  T :  4     serccpp/N_10_T_4.000_ising.txt\n",
      "Doing  86 / 1149  L :  10  T :  4.1     serccpp/N_10_T_4.100_ising.txt\n",
      "Doing  87 / 1149  L :  10  T :  4.3     serccpp/N_10_T_4.300_ising.txt\n",
      "Doing  88 / 1149  L :  10  T :  4.4     serccpp/N_10_T_4.400_ising.txt\n",
      "Doing  89 / 1149  L :  10  T :  4.5     serccpp/N_10_T_4.500_ising.txt\n",
      "Doing  90 / 1149  L :  10  T :  4.6     serccpp/N_10_T_4.600_ising.txt\n",
      "Doing  91 / 1149  L :  10  T :  4.7     serccpp/N_10_T_4.700_ising.txt\n",
      "Doing  92 / 1149  L :  10  T :  4.8     serccpp/N_10_T_4.800_ising.txt\n",
      "Doing  93 / 1149  L :  10  T :  4.9     serccpp/N_10_T_4.900_ising.txt\n",
      "Doing  94 / 1149  L :  10  T :  5     serccpp/N_10_T_5.000_ising.txt\n",
      "Doing  95 / 1149  L :  10  T :  5.1     serccpp/N_10_T_5.100_ising.txt\n",
      "Doing  96 / 1149  L :  10  T :  5.2     serccpp/N_10_T_5.200_ising.txt\n",
      "Doing  97 / 1149  L :  10  T :  5.3     serccpp/N_10_T_5.300_ising.txt\n",
      "Doing  98 / 1149  L :  10  T :  5.4     serccpp/N_10_T_5.400_ising.txt\n",
      "Doing  99 / 1149  L :  10  T :  5.5     serccpp/N_10_T_5.500_ising.txt\n",
      "Doing  100 / 1149  L :  12  T :  0.8     serccpp/N_12_T_0.800_ising.txt\n",
      "Doing  101 / 1149  L :  12  T :  1     serccpp/N_12_T_1.000_ising.txt\n",
      "Doing  102 / 1149  L :  12  T :  1.2     serccpp/N_12_T_1.200_ising.txt\n",
      "Doing  103 / 1149  L :  12  T :  1.4     serccpp/N_12_T_1.400_ising.txt\n",
      "Doing  104 / 1149  L :  12  T :  1.6     serccpp/N_12_T_1.600_ising.txt\n",
      "Doing  105 / 1149  L :  12  T :  1.62     serccpp/N_12_T_1.620_ising.txt\n",
      "Doing  106 / 1149  L :  12  T :  1.64     serccpp/N_12_T_1.640_ising.txt\n",
      "Doing  107 / 1149  L :  12  T :  1.66     serccpp/N_12_T_1.660_ising.txt\n",
      "Doing  108 / 1149  L :  12  T :  1.68     serccpp/N_12_T_1.680_ising.txt\n",
      "Doing  109 / 1149  L :  12  T :  1.7     serccpp/N_12_T_1.700_ising.txt\n",
      "Doing  110 / 1149  L :  12  T :  1.72     serccpp/N_12_T_1.720_ising.txt\n",
      "Doing  111 / 1149  L :  12  T :  1.74     serccpp/N_12_T_1.740_ising.txt\n",
      "Doing  112 / 1149  L :  12  T :  1.76     serccpp/N_12_T_1.760_ising.txt\n",
      "Doing  113 / 1149  L :  12  T :  1.78     serccpp/N_12_T_1.780_ising.txt\n",
      "Doing  114 / 1149  L :  12  T :  1.8     serccpp/N_12_T_1.800_ising.txt\n",
      "Doing  115 / 1149  L :  12  T :  1.82     serccpp/N_12_T_1.820_ising.txt\n"
     ]
    },
    {
     "name": "stdout",
     "output_type": "stream",
     "text": [
      "Doing  116 / 1149  L :  12  T :  1.84     serccpp/N_12_T_1.840_ising.txt\n",
      "Doing  117 / 1149  L :  12  T :  1.86     serccpp/N_12_T_1.860_ising.txt\n",
      "Doing  118 / 1149  L :  12  T :  1.88     serccpp/N_12_T_1.880_ising.txt\n",
      "Doing  119 / 1149  L :  12  T :  1.9     serccpp/N_12_T_1.900_ising.txt\n",
      "Doing  120 / 1149  L :  12  T :  1.92     serccpp/N_12_T_1.920_ising.txt\n",
      "Doing  121 / 1149  L :  12  T :  1.94     serccpp/N_12_T_1.940_ising.txt\n",
      "Doing  122 / 1149  L :  12  T :  1.96     serccpp/N_12_T_1.960_ising.txt\n",
      "Doing  123 / 1149  L :  12  T :  1.98     serccpp/N_12_T_1.980_ising.txt\n",
      "Doing  124 / 1149  L :  12  T :  2     serccpp/N_12_T_2.000_ising.txt\n",
      "Doing  125 / 1149  L :  12  T :  2.02     serccpp/N_12_T_2.020_ising.txt\n",
      "Doing  126 / 1149  L :  12  T :  2.04     serccpp/N_12_T_2.040_ising.txt\n",
      "Doing  127 / 1149  L :  12  T :  2.06     serccpp/N_12_T_2.060_ising.txt\n",
      "Doing  128 / 1149  L :  12  T :  2.08     serccpp/N_12_T_2.080_ising.txt\n",
      "Doing  129 / 1149  L :  12  T :  2.1     serccpp/N_12_T_2.100_ising.txt\n",
      "Doing  130 / 1149  L :  12  T :  2.12     serccpp/N_12_T_2.120_ising.txt\n",
      "Doing  131 / 1149  L :  12  T :  2.14     serccpp/N_12_T_2.140_ising.txt\n",
      "Doing  132 / 1149  L :  12  T :  2.16     serccpp/N_12_T_2.160_ising.txt\n",
      "Doing  133 / 1149  L :  12  T :  2.18     serccpp/N_12_T_2.180_ising.txt\n",
      "Doing  134 / 1149  L :  12  T :  2.2     serccpp/N_12_T_2.200_ising.txt\n",
      "Doing  135 / 1149  L :  12  T :  2.22     serccpp/N_12_T_2.220_ising.txt\n",
      "Doing  136 / 1149  L :  12  T :  2.24     serccpp/N_12_T_2.240_ising.txt\n",
      "Doing  137 / 1149  L :  12  T :  2.26     serccpp/N_12_T_2.260_ising.txt\n",
      "Doing  138 / 1149  L :  12  T :  2.28     serccpp/N_12_T_2.280_ising.txt\n",
      "Doing  139 / 1149  L :  12  T :  2.3     serccpp/N_12_T_2.300_ising.txt\n",
      "Doing  140 / 1149  L :  12  T :  2.32     serccpp/N_12_T_2.320_ising.txt\n",
      "Doing  141 / 1149  L :  12  T :  2.34     serccpp/N_12_T_2.340_ising.txt\n",
      "Doing  142 / 1149  L :  12  T :  2.36     serccpp/N_12_T_2.360_ising.txt\n",
      "Doing  143 / 1149  L :  12  T :  2.38     serccpp/N_12_T_2.380_ising.txt\n",
      "Doing  144 / 1149  L :  12  T :  2.4     serccpp/N_12_T_2.400_ising.txt\n",
      "Doing  145 / 1149  L :  12  T :  2.42     serccpp/N_12_T_2.420_ising.txt\n",
      "Doing  146 / 1149  L :  12  T :  2.44     serccpp/N_12_T_2.440_ising.txt\n",
      "Doing  147 / 1149  L :  12  T :  2.46     serccpp/N_12_T_2.460_ising.txt\n",
      "Doing  148 / 1149  L :  12  T :  2.48     serccpp/N_12_T_2.480_ising.txt\n",
      "Doing  149 / 1149  L :  12  T :  2.5     serccpp/N_12_T_2.500_ising.txt\n",
      "Doing  150 / 1149  L :  12  T :  2.52     serccpp/N_12_T_2.520_ising.txt\n",
      "Doing  151 / 1149  L :  12  T :  2.54     serccpp/N_12_T_2.540_ising.txt\n",
      "Doing  152 / 1149  L :  12  T :  2.56     serccpp/N_12_T_2.560_ising.txt\n",
      "Doing  153 / 1149  L :  12  T :  2.58     serccpp/N_12_T_2.580_ising.txt\n",
      "Doing  154 / 1149  L :  12  T :  2.6     serccpp/N_12_T_2.600_ising.txt\n",
      "Doing  155 / 1149  L :  12  T :  2.62     serccpp/N_12_T_2.620_ising.txt\n",
      "Doing  156 / 1149  L :  12  T :  2.64     serccpp/N_12_T_2.640_ising.txt\n",
      "Doing  157 / 1149  L :  12  T :  2.66     serccpp/N_12_T_2.660_ising.txt\n",
      "Doing  158 / 1149  L :  12  T :  2.68     serccpp/N_12_T_2.680_ising.txt\n",
      "Doing  159 / 1149  L :  12  T :  2.7     serccpp/N_12_T_2.700_ising.txt\n",
      "Doing  160 / 1149  L :  12  T :  2.72     serccpp/N_12_T_2.720_ising.txt\n",
      "Doing  161 / 1149  L :  12  T :  2.74     serccpp/N_12_T_2.740_ising.txt\n",
      "Doing  162 / 1149  L :  12  T :  2.76     serccpp/N_12_T_2.760_ising.txt\n",
      "Doing  163 / 1149  L :  12  T :  2.78     serccpp/N_12_T_2.780_ising.txt\n",
      "Doing  164 / 1149  L :  12  T :  2.8     serccpp/N_12_T_2.800_ising.txt\n",
      "Doing  165 / 1149  L :  12  T :  2.82     serccpp/N_12_T_2.820_ising.txt\n",
      "Doing  166 / 1149  L :  12  T :  2.84     serccpp/N_12_T_2.840_ising.txt\n",
      "Doing  167 / 1149  L :  12  T :  2.86     serccpp/N_12_T_2.860_ising.txt\n",
      "Doing  168 / 1149  L :  12  T :  2.88     serccpp/N_12_T_2.880_ising.txt\n",
      "Doing  169 / 1149  L :  12  T :  2.9     serccpp/N_12_T_2.900_ising.txt\n",
      "Doing  170 / 1149  L :  12  T :  2.92     serccpp/N_12_T_2.920_ising.txt\n",
      "Doing  171 / 1149  L :  12  T :  2.94     serccpp/N_12_T_2.940_ising.txt\n",
      "Doing  172 / 1149  L :  12  T :  2.96     serccpp/N_12_T_2.960_ising.txt\n",
      "Doing  173 / 1149  L :  12  T :  2.98     serccpp/N_12_T_2.980_ising.txt\n",
      "Doing  174 / 1149  L :  12  T :  3     serccpp/N_12_T_3.000_ising.txt\n",
      "Doing  175 / 1149  L :  12  T :  3.1     serccpp/N_12_T_3.100_ising.txt\n",
      "Doing  176 / 1149  L :  12  T :  3.2     serccpp/N_12_T_3.200_ising.txt\n",
      "Doing  177 / 1149  L :  12  T :  3.3     serccpp/N_12_T_3.300_ising.txt\n",
      "Doing  178 / 1149  L :  12  T :  3.4     serccpp/N_12_T_3.400_ising.txt\n",
      "Doing  179 / 1149  L :  12  T :  3.5     serccpp/N_12_T_3.500_ising.txt\n",
      "Doing  180 / 1149  L :  12  T :  3.6     serccpp/N_12_T_3.600_ising.txt\n",
      "Doing  181 / 1149  L :  12  T :  3.7     serccpp/N_12_T_3.700_ising.txt\n",
      "Doing  182 / 1149  L :  12  T :  3.8     serccpp/N_12_T_3.800_ising.txt\n",
      "Doing  183 / 1149  L :  12  T :  3.9     serccpp/N_12_T_3.900_ising.txt\n",
      "Doing  184 / 1149  L :  12  T :  4     serccpp/N_12_T_4.000_ising.txt\n",
      "Doing  185 / 1149  L :  12  T :  4.1     serccpp/N_12_T_4.100_ising.txt\n",
      "Doing  186 / 1149  L :  12  T :  4.3     serccpp/N_12_T_4.300_ising.txt\n",
      "Doing  187 / 1149  L :  12  T :  4.4     serccpp/N_12_T_4.400_ising.txt\n",
      "Doing  188 / 1149  L :  12  T :  4.5     serccpp/N_12_T_4.500_ising.txt\n",
      "Doing  189 / 1149  L :  12  T :  4.6     serccpp/N_12_T_4.600_ising.txt\n",
      "Doing  190 / 1149  L :  12  T :  4.7     serccpp/N_12_T_4.700_ising.txt\n",
      "Doing  191 / 1149  L :  12  T :  4.8     serccpp/N_12_T_4.800_ising.txt\n",
      "Doing  192 / 1149  L :  12  T :  4.9     serccpp/N_12_T_4.900_ising.txt\n",
      "Doing  193 / 1149  L :  12  T :  5     serccpp/N_12_T_5.000_ising.txt\n",
      "Doing  194 / 1149  L :  12  T :  5.1     serccpp/N_12_T_5.100_ising.txt\n",
      "Doing  195 / 1149  L :  12  T :  5.2     serccpp/N_12_T_5.200_ising.txt\n",
      "Doing  196 / 1149  L :  12  T :  5.3     serccpp/N_12_T_5.300_ising.txt\n",
      "Doing  197 / 1149  L :  12  T :  5.4     serccpp/N_12_T_5.400_ising.txt\n",
      "Doing  198 / 1149  L :  12  T :  5.5     serccpp/N_12_T_5.500_ising.txt\n",
      "Doing  199 / 1149  L :  14  T :  0.8     serccpp/N_14_T_0.800_ising.txt\n",
      "Doing  200 / 1149  L :  14  T :  1     serccpp/N_14_T_1.000_ising.txt\n",
      "Doing  201 / 1149  L :  14  T :  1.2     serccpp/N_14_T_1.200_ising.txt\n",
      "Doing  202 / 1149  L :  14  T :  1.4     serccpp/N_14_T_1.400_ising.txt\n",
      "Doing  203 / 1149  L :  14  T :  1.6     serccpp/N_14_T_1.600_ising.txt\n",
      "Doing  204 / 1149  L :  14  T :  1.62     serccpp/N_14_T_1.620_ising.txt\n",
      "Doing  205 / 1149  L :  14  T :  1.64     serccpp/N_14_T_1.640_ising.txt\n",
      "Doing  206 / 1149  L :  14  T :  1.66     serccpp/N_14_T_1.660_ising.txt\n",
      "Doing  207 / 1149  L :  14  T :  1.68     serccpp/N_14_T_1.680_ising.txt\n",
      "Doing  208 / 1149  L :  14  T :  1.7     serccpp/N_14_T_1.700_ising.txt\n",
      "Doing  209 / 1149  L :  14  T :  1.72     serccpp/N_14_T_1.720_ising.txt\n",
      "Doing  210 / 1149  L :  14  T :  1.74     serccpp/N_14_T_1.740_ising.txt\n",
      "Doing  211 / 1149  L :  14  T :  1.76     serccpp/N_14_T_1.760_ising.txt\n",
      "Doing  212 / 1149  L :  14  T :  1.78     serccpp/N_14_T_1.780_ising.txt\n",
      "Doing  213 / 1149  L :  14  T :  1.8     serccpp/N_14_T_1.800_ising.txt\n",
      "Doing  214 / 1149  L :  14  T :  1.82     serccpp/N_14_T_1.820_ising.txt\n",
      "Doing  215 / 1149  L :  14  T :  1.84     serccpp/N_14_T_1.840_ising.txt\n",
      "Doing  216 / 1149  L :  14  T :  1.86     serccpp/N_14_T_1.860_ising.txt\n",
      "Doing  217 / 1149  L :  14  T :  1.88     serccpp/N_14_T_1.880_ising.txt\n",
      "Doing  218 / 1149  L :  14  T :  1.9     serccpp/N_14_T_1.900_ising.txt\n",
      "Doing  219 / 1149  L :  14  T :  1.92     serccpp/N_14_T_1.920_ising.txt\n",
      "Doing  220 / 1149  L :  14  T :  1.94     serccpp/N_14_T_1.940_ising.txt\n",
      "Doing  221 / 1149  L :  14  T :  1.96     serccpp/N_14_T_1.960_ising.txt\n",
      "Doing  222 / 1149  L :  14  T :  1.98     serccpp/N_14_T_1.980_ising.txt\n",
      "Doing  223 / 1149  L :  14  T :  2     serccpp/N_14_T_2.000_ising.txt\n",
      "Doing  224 / 1149  L :  14  T :  2.02     serccpp/N_14_T_2.020_ising.txt\n",
      "Doing  225 / 1149  L :  14  T :  2.04     serccpp/N_14_T_2.040_ising.txt\n",
      "Doing  226 / 1149  L :  14  T :  2.06     serccpp/N_14_T_2.060_ising.txt\n",
      "Doing  227 / 1149  L :  14  T :  2.08     serccpp/N_14_T_2.080_ising.txt\n",
      "Doing  228 / 1149  L :  14  T :  2.1     serccpp/N_14_T_2.100_ising.txt\n",
      "Doing  229 / 1149  L :  14  T :  2.12     serccpp/N_14_T_2.120_ising.txt\n"
     ]
    },
    {
     "name": "stdout",
     "output_type": "stream",
     "text": [
      "Doing  230 / 1149  L :  14  T :  2.14     serccpp/N_14_T_2.140_ising.txt\n",
      "Doing  231 / 1149  L :  14  T :  2.16     serccpp/N_14_T_2.160_ising.txt\n",
      "Doing  232 / 1149  L :  14  T :  2.18     serccpp/N_14_T_2.180_ising.txt\n",
      "Doing  233 / 1149  L :  14  T :  2.2     serccpp/N_14_T_2.200_ising.txt\n",
      "Doing  234 / 1149  L :  14  T :  2.22     serccpp/N_14_T_2.220_ising.txt\n",
      "Doing  235 / 1149  L :  14  T :  2.24     serccpp/N_14_T_2.240_ising.txt\n",
      "Doing  236 / 1149  L :  14  T :  2.26     serccpp/N_14_T_2.260_ising.txt\n",
      "Doing  237 / 1149  L :  14  T :  2.28     serccpp/N_14_T_2.280_ising.txt\n",
      "Doing  238 / 1149  L :  14  T :  2.3     serccpp/N_14_T_2.300_ising.txt\n",
      "Doing  239 / 1149  L :  14  T :  2.32     serccpp/N_14_T_2.320_ising.txt\n",
      "Doing  240 / 1149  L :  14  T :  2.34     serccpp/N_14_T_2.340_ising.txt\n",
      "Doing  241 / 1149  L :  14  T :  2.36     serccpp/N_14_T_2.360_ising.txt\n",
      "Doing  242 / 1149  L :  14  T :  2.38     serccpp/N_14_T_2.380_ising.txt\n",
      "Doing  243 / 1149  L :  14  T :  2.4     serccpp/N_14_T_2.400_ising.txt\n",
      "Doing  244 / 1149  L :  14  T :  2.42     serccpp/N_14_T_2.420_ising.txt\n",
      "Doing  245 / 1149  L :  14  T :  2.44     serccpp/N_14_T_2.440_ising.txt\n",
      "Doing  246 / 1149  L :  14  T :  2.46     serccpp/N_14_T_2.460_ising.txt\n",
      "Doing  247 / 1149  L :  14  T :  2.48     serccpp/N_14_T_2.480_ising.txt\n",
      "Doing  248 / 1149  L :  14  T :  2.5     serccpp/N_14_T_2.500_ising.txt\n",
      "Doing  249 / 1149  L :  14  T :  2.52     serccpp/N_14_T_2.520_ising.txt\n",
      "Doing  250 / 1149  L :  14  T :  2.54     serccpp/N_14_T_2.540_ising.txt\n",
      "Doing  251 / 1149  L :  14  T :  2.56     serccpp/N_14_T_2.560_ising.txt\n",
      "Doing  252 / 1149  L :  14  T :  2.58     serccpp/N_14_T_2.580_ising.txt\n",
      "Doing  253 / 1149  L :  14  T :  2.6     serccpp/N_14_T_2.600_ising.txt\n",
      "Doing  254 / 1149  L :  14  T :  2.62     serccpp/N_14_T_2.620_ising.txt\n",
      "Doing  255 / 1149  L :  14  T :  2.64     serccpp/N_14_T_2.640_ising.txt\n",
      "Doing  256 / 1149  L :  14  T :  2.66     serccpp/N_14_T_2.660_ising.txt\n",
      "Doing  257 / 1149  L :  14  T :  2.68     serccpp/N_14_T_2.680_ising.txt\n",
      "Doing  258 / 1149  L :  14  T :  2.7     serccpp/N_14_T_2.700_ising.txt\n",
      "Doing  259 / 1149  L :  14  T :  2.72     serccpp/N_14_T_2.720_ising.txt\n",
      "Doing  260 / 1149  L :  14  T :  2.74     serccpp/N_14_T_2.740_ising.txt\n",
      "Doing  261 / 1149  L :  14  T :  2.76     serccpp/N_14_T_2.760_ising.txt\n",
      "Doing  262 / 1149  L :  14  T :  2.78     serccpp/N_14_T_2.780_ising.txt\n",
      "Doing  263 / 1149  L :  14  T :  2.8     serccpp/N_14_T_2.800_ising.txt\n",
      "Doing  264 / 1149  L :  14  T :  2.82     serccpp/N_14_T_2.820_ising.txt\n",
      "Doing  265 / 1149  L :  14  T :  2.84     serccpp/N_14_T_2.840_ising.txt\n",
      "Doing  266 / 1149  L :  14  T :  2.86     serccpp/N_14_T_2.860_ising.txt\n",
      "Doing  267 / 1149  L :  14  T :  2.88     serccpp/N_14_T_2.880_ising.txt\n",
      "Doing  268 / 1149  L :  14  T :  2.9     serccpp/N_14_T_2.900_ising.txt\n",
      "Doing  269 / 1149  L :  14  T :  2.92     serccpp/N_14_T_2.920_ising.txt\n",
      "Doing  270 / 1149  L :  14  T :  2.94     serccpp/N_14_T_2.940_ising.txt\n",
      "Doing  271 / 1149  L :  14  T :  2.96     serccpp/N_14_T_2.960_ising.txt\n",
      "Doing  272 / 1149  L :  14  T :  2.98     serccpp/N_14_T_2.980_ising.txt\n",
      "Doing  273 / 1149  L :  14  T :  3     serccpp/N_14_T_3.000_ising.txt\n",
      "Doing  274 / 1149  L :  14  T :  3.1     serccpp/N_14_T_3.100_ising.txt\n",
      "Doing  275 / 1149  L :  14  T :  3.2     serccpp/N_14_T_3.200_ising.txt\n",
      "Doing  276 / 1149  L :  14  T :  3.3     serccpp/N_14_T_3.300_ising.txt\n",
      "Doing  277 / 1149  L :  14  T :  3.4     serccpp/N_14_T_3.400_ising.txt\n",
      "Doing  278 / 1149  L :  14  T :  3.5     serccpp/N_14_T_3.500_ising.txt\n",
      "Doing  279 / 1149  L :  14  T :  3.6     serccpp/N_14_T_3.600_ising.txt\n",
      "Doing  280 / 1149  L :  14  T :  3.7     serccpp/N_14_T_3.700_ising.txt\n",
      "Doing  281 / 1149  L :  14  T :  3.8     serccpp/N_14_T_3.800_ising.txt\n",
      "Doing  282 / 1149  L :  14  T :  3.9     serccpp/N_14_T_3.900_ising.txt\n",
      "Doing  283 / 1149  L :  14  T :  4     serccpp/N_14_T_4.000_ising.txt\n",
      "Doing  284 / 1149  L :  14  T :  4.1     serccpp/N_14_T_4.100_ising.txt\n",
      "Doing  285 / 1149  L :  14  T :  4.3     serccpp/N_14_T_4.300_ising.txt\n",
      "Doing  286 / 1149  L :  14  T :  4.4     serccpp/N_14_T_4.400_ising.txt\n",
      "Doing  287 / 1149  L :  14  T :  4.5     serccpp/N_14_T_4.500_ising.txt\n",
      "Doing  288 / 1149  L :  14  T :  4.6     serccpp/N_14_T_4.600_ising.txt\n",
      "Doing  289 / 1149  L :  14  T :  4.7     serccpp/N_14_T_4.700_ising.txt\n",
      "Doing  290 / 1149  L :  14  T :  4.8     serccpp/N_14_T_4.800_ising.txt\n",
      "Doing  291 / 1149  L :  14  T :  4.9     serccpp/N_14_T_4.900_ising.txt\n",
      "Doing  292 / 1149  L :  14  T :  5     serccpp/N_14_T_5.000_ising.txt\n",
      "Doing  293 / 1149  L :  14  T :  5.1     serccpp/N_14_T_5.100_ising.txt\n",
      "Doing  294 / 1149  L :  14  T :  5.2     serccpp/N_14_T_5.200_ising.txt\n",
      "Doing  295 / 1149  L :  14  T :  5.3     serccpp/N_14_T_5.300_ising.txt\n",
      "Doing  296 / 1149  L :  14  T :  5.4     serccpp/N_14_T_5.400_ising.txt\n",
      "Doing  297 / 1149  L :  14  T :  5.5     serccpp/N_14_T_5.500_ising.txt\n",
      "Doing  298 / 1149  L :  16  T :  0.8     serccpp/N_16_T_0.800_ising.txt\n",
      "Doing  299 / 1149  L :  16  T :  1     serccpp/N_16_T_1.000_ising.txt\n",
      "Doing  300 / 1149  L :  16  T :  1.2     serccpp/N_16_T_1.200_ising.txt\n",
      "Doing  301 / 1149  L :  16  T :  1.4     serccpp/N_16_T_1.400_ising.txt\n",
      "Doing  302 / 1149  L :  16  T :  1.6     serccpp/N_16_T_1.600_ising.txt\n",
      "Doing  303 / 1149  L :  16  T :  1.62     serccpp/N_16_T_1.620_ising.txt\n",
      "Doing  304 / 1149  L :  16  T :  1.64     serccpp/N_16_T_1.640_ising.txt\n",
      "Doing  305 / 1149  L :  16  T :  1.66     serccpp/N_16_T_1.660_ising.txt\n",
      "Doing  306 / 1149  L :  16  T :  1.68     serccpp/N_16_T_1.680_ising.txt\n",
      "Doing  307 / 1149  L :  16  T :  1.7     serccpp/N_16_T_1.700_ising.txt\n",
      "Doing  308 / 1149  L :  16  T :  1.72     serccpp/N_16_T_1.720_ising.txt\n",
      "Doing  309 / 1149  L :  16  T :  1.74     serccpp/N_16_T_1.740_ising.txt\n",
      "Doing  310 / 1149  L :  16  T :  1.76     serccpp/N_16_T_1.760_ising.txt\n",
      "Doing  311 / 1149  L :  16  T :  1.78     serccpp/N_16_T_1.780_ising.txt\n",
      "Doing  312 / 1149  L :  16  T :  1.8     serccpp/N_16_T_1.800_ising.txt\n",
      "Doing  313 / 1149  L :  16  T :  1.82     serccpp/N_16_T_1.820_ising.txt\n",
      "Doing  314 / 1149  L :  16  T :  1.84     serccpp/N_16_T_1.840_ising.txt\n",
      "Doing  315 / 1149  L :  16  T :  1.86     serccpp/N_16_T_1.860_ising.txt\n",
      "Doing  316 / 1149  L :  16  T :  1.88     serccpp/N_16_T_1.880_ising.txt\n",
      "Doing  317 / 1149  L :  16  T :  1.9     serccpp/N_16_T_1.900_ising.txt\n",
      "Doing  318 / 1149  L :  16  T :  1.92     serccpp/N_16_T_1.920_ising.txt\n",
      "Doing  319 / 1149  L :  16  T :  1.94     serccpp/N_16_T_1.940_ising.txt\n",
      "Doing  320 / 1149  L :  16  T :  1.96     serccpp/N_16_T_1.960_ising.txt\n",
      "Doing  321 / 1149  L :  16  T :  1.98     serccpp/N_16_T_1.980_ising.txt\n",
      "Doing  322 / 1149  L :  16  T :  2     serccpp/N_16_T_2.000_ising.txt\n",
      "Doing  323 / 1149  L :  16  T :  2.02     serccpp/N_16_T_2.020_ising.txt\n",
      "Doing  324 / 1149  L :  16  T :  2.04     serccpp/N_16_T_2.040_ising.txt\n",
      "Doing  325 / 1149  L :  16  T :  2.06     serccpp/N_16_T_2.060_ising.txt\n",
      "Doing  326 / 1149  L :  16  T :  2.08     serccpp/N_16_T_2.080_ising.txt\n",
      "Doing  327 / 1149  L :  16  T :  2.1     serccpp/N_16_T_2.100_ising.txt\n",
      "Doing  328 / 1149  L :  16  T :  2.12     serccpp/N_16_T_2.120_ising.txt\n",
      "Doing  329 / 1149  L :  16  T :  2.14     serccpp/N_16_T_2.140_ising.txt\n",
      "Doing  330 / 1149  L :  16  T :  2.16     serccpp/N_16_T_2.160_ising.txt\n",
      "Doing  331 / 1149  L :  16  T :  2.18     serccpp/N_16_T_2.180_ising.txt\n",
      "Doing  332 / 1149  L :  16  T :  2.2     serccpp/N_16_T_2.200_ising.txt\n",
      "Doing  333 / 1149  L :  16  T :  2.22     serccpp/N_16_T_2.220_ising.txt\n",
      "Doing  334 / 1149  L :  16  T :  2.24     serccpp/N_16_T_2.240_ising.txt\n",
      "Doing  335 / 1149  L :  16  T :  2.26     serccpp/N_16_T_2.260_ising.txt\n",
      "Doing  336 / 1149  L :  16  T :  2.28     serccpp/N_16_T_2.280_ising.txt\n",
      "Doing  337 / 1149  L :  16  T :  2.3     serccpp/N_16_T_2.300_ising.txt\n",
      "Doing  338 / 1149  L :  16  T :  2.32     serccpp/N_16_T_2.320_ising.txt\n",
      "Doing  339 / 1149  L :  16  T :  2.34     serccpp/N_16_T_2.340_ising.txt\n",
      "Doing  340 / 1149  L :  16  T :  2.36     serccpp/N_16_T_2.360_ising.txt\n",
      "Doing  341 / 1149  L :  16  T :  2.38     serccpp/N_16_T_2.380_ising.txt\n",
      "Doing  342 / 1149  L :  16  T :  2.4     serccpp/N_16_T_2.400_ising.txt\n"
     ]
    },
    {
     "name": "stdout",
     "output_type": "stream",
     "text": [
      "Doing  343 / 1149  L :  16  T :  2.42     serccpp/N_16_T_2.420_ising.txt\n",
      "Doing  344 / 1149  L :  16  T :  2.44     serccpp/N_16_T_2.440_ising.txt\n",
      "Doing  345 / 1149  L :  16  T :  2.46     serccpp/N_16_T_2.460_ising.txt\n",
      "Doing  346 / 1149  L :  16  T :  2.48     serccpp/N_16_T_2.480_ising.txt\n",
      "Doing  347 / 1149  L :  16  T :  2.5     serccpp/N_16_T_2.500_ising.txt\n",
      "Doing  348 / 1149  L :  16  T :  2.52     serccpp/N_16_T_2.520_ising.txt\n",
      "Doing  349 / 1149  L :  16  T :  2.54     serccpp/N_16_T_2.540_ising.txt\n",
      "Doing  350 / 1149  L :  16  T :  2.56     serccpp/N_16_T_2.560_ising.txt\n",
      "Doing  351 / 1149  L :  16  T :  2.58     serccpp/N_16_T_2.580_ising.txt\n",
      "Doing  352 / 1149  L :  16  T :  2.6     serccpp/N_16_T_2.600_ising.txt\n",
      "Doing  353 / 1149  L :  16  T :  2.62     serccpp/N_16_T_2.620_ising.txt\n",
      "Doing  354 / 1149  L :  16  T :  2.64     serccpp/N_16_T_2.640_ising.txt\n",
      "Doing  355 / 1149  L :  16  T :  2.66     serccpp/N_16_T_2.660_ising.txt\n",
      "Doing  356 / 1149  L :  16  T :  2.68     serccpp/N_16_T_2.680_ising.txt\n",
      "Doing  357 / 1149  L :  16  T :  2.7     serccpp/N_16_T_2.700_ising.txt\n",
      "Doing  358 / 1149  L :  16  T :  2.72     serccpp/N_16_T_2.720_ising.txt\n",
      "Doing  359 / 1149  L :  16  T :  2.74     serccpp/N_16_T_2.740_ising.txt\n",
      "Doing  360 / 1149  L :  16  T :  2.76     serccpp/N_16_T_2.760_ising.txt\n",
      "Doing  361 / 1149  L :  16  T :  2.78     serccpp/N_16_T_2.780_ising.txt\n",
      "Doing  362 / 1149  L :  16  T :  2.8     serccpp/N_16_T_2.800_ising.txt\n",
      "Doing  363 / 1149  L :  16  T :  2.82     serccpp/N_16_T_2.820_ising.txt\n",
      "Doing  364 / 1149  L :  16  T :  2.84     serccpp/N_16_T_2.840_ising.txt\n",
      "Doing  365 / 1149  L :  16  T :  2.86     serccpp/N_16_T_2.860_ising.txt\n",
      "Doing  366 / 1149  L :  16  T :  2.88     serccpp/N_16_T_2.880_ising.txt\n",
      "Doing  367 / 1149  L :  16  T :  2.9     serccpp/N_16_T_2.900_ising.txt\n",
      "Doing  368 / 1149  L :  16  T :  2.92     serccpp/N_16_T_2.920_ising.txt\n",
      "Doing  369 / 1149  L :  16  T :  2.94     serccpp/N_16_T_2.940_ising.txt\n",
      "Doing  370 / 1149  L :  16  T :  2.96     serccpp/N_16_T_2.960_ising.txt\n",
      "Doing  371 / 1149  L :  16  T :  2.98     serccpp/N_16_T_2.980_ising.txt\n",
      "Doing  372 / 1149  L :  16  T :  3     serccpp/N_16_T_3.000_ising.txt\n",
      "Doing  373 / 1149  L :  16  T :  3.1     serccpp/N_16_T_3.100_ising.txt\n",
      "Doing  374 / 1149  L :  16  T :  3.2     serccpp/N_16_T_3.200_ising.txt\n",
      "Doing  375 / 1149  L :  16  T :  3.3     serccpp/N_16_T_3.300_ising.txt\n",
      "Doing  376 / 1149  L :  16  T :  3.4     serccpp/N_16_T_3.400_ising.txt\n",
      "Doing  377 / 1149  L :  16  T :  3.5     serccpp/N_16_T_3.500_ising.txt\n",
      "Doing  378 / 1149  L :  16  T :  3.6     serccpp/N_16_T_3.600_ising.txt\n",
      "Doing  379 / 1149  L :  16  T :  3.7     serccpp/N_16_T_3.700_ising.txt\n",
      "Doing  380 / 1149  L :  16  T :  3.8     serccpp/N_16_T_3.800_ising.txt\n",
      "Doing  381 / 1149  L :  16  T :  3.9     serccpp/N_16_T_3.900_ising.txt\n",
      "Doing  382 / 1149  L :  16  T :  4     serccpp/N_16_T_4.000_ising.txt\n",
      "Doing  383 / 1149  L :  16  T :  4.1     serccpp/N_16_T_4.100_ising.txt\n",
      "Doing  384 / 1149  L :  16  T :  4.3     serccpp/N_16_T_4.300_ising.txt\n",
      "Doing  385 / 1149  L :  16  T :  4.4     serccpp/N_16_T_4.400_ising.txt\n",
      "Doing  386 / 1149  L :  16  T :  4.5     serccpp/N_16_T_4.500_ising.txt\n",
      "Doing  387 / 1149  L :  16  T :  4.6     serccpp/N_16_T_4.600_ising.txt\n",
      "Doing  388 / 1149  L :  16  T :  4.7     serccpp/N_16_T_4.700_ising.txt\n",
      "Doing  389 / 1149  L :  16  T :  4.8     serccpp/N_16_T_4.800_ising.txt\n",
      "Doing  390 / 1149  L :  16  T :  4.9     serccpp/N_16_T_4.900_ising.txt\n",
      "Doing  391 / 1149  L :  16  T :  5     serccpp/N_16_T_5.000_ising.txt\n",
      "Doing  392 / 1149  L :  16  T :  5.1     serccpp/N_16_T_5.100_ising.txt\n",
      "Doing  393 / 1149  L :  16  T :  5.2     serccpp/N_16_T_5.200_ising.txt\n",
      "Doing  394 / 1149  L :  16  T :  5.3     serccpp/N_16_T_5.300_ising.txt\n",
      "Doing  395 / 1149  L :  16  T :  5.4     serccpp/N_16_T_5.400_ising.txt\n",
      "Doing  396 / 1149  L :  16  T :  5.5     serccpp/N_16_T_5.500_ising.txt\n",
      "Doing  397 / 1149  L :  18  T :  0.8     serccpp/N_18_T_0.800_ising.txt\n",
      "Doing  398 / 1149  L :  18  T :  1     serccpp/N_18_T_1.000_ising.txt\n",
      "Doing  399 / 1149  L :  18  T :  1.2     serccpp/N_18_T_1.200_ising.txt\n",
      "Doing  400 / 1149  L :  18  T :  1.4     serccpp/N_18_T_1.400_ising.txt\n",
      "Doing  401 / 1149  L :  18  T :  1.6     serccpp/N_18_T_1.600_ising.txt\n",
      "Doing  402 / 1149  L :  18  T :  1.62     serccpp/N_18_T_1.620_ising.txt\n",
      "Doing  403 / 1149  L :  18  T :  1.64     serccpp/N_18_T_1.640_ising.txt\n",
      "Doing  404 / 1149  L :  18  T :  1.66     serccpp/N_18_T_1.660_ising.txt\n",
      "Doing  405 / 1149  L :  18  T :  1.68     serccpp/N_18_T_1.680_ising.txt\n",
      "Doing  406 / 1149  L :  18  T :  1.7     serccpp/N_18_T_1.700_ising.txt\n",
      "Doing  407 / 1149  L :  18  T :  1.72     serccpp/N_18_T_1.720_ising.txt\n",
      "Doing  408 / 1149  L :  18  T :  1.74     serccpp/N_18_T_1.740_ising.txt\n",
      "Doing  409 / 1149  L :  18  T :  1.76     serccpp/N_18_T_1.760_ising.txt\n",
      "Doing  410 / 1149  L :  18  T :  1.78     serccpp/N_18_T_1.780_ising.txt\n",
      "Doing  411 / 1149  L :  18  T :  1.8     serccpp/N_18_T_1.800_ising.txt\n",
      "Doing  412 / 1149  L :  18  T :  1.82     serccpp/N_18_T_1.820_ising.txt\n",
      "Doing  413 / 1149  L :  18  T :  1.84     serccpp/N_18_T_1.840_ising.txt\n",
      "Doing  414 / 1149  L :  18  T :  1.86     serccpp/N_18_T_1.860_ising.txt\n",
      "Doing  415 / 1149  L :  18  T :  1.88     serccpp/N_18_T_1.880_ising.txt\n",
      "Doing  416 / 1149  L :  18  T :  1.9     serccpp/N_18_T_1.900_ising.txt\n",
      "Doing  417 / 1149  L :  18  T :  1.92     serccpp/N_18_T_1.920_ising.txt\n",
      "Doing  418 / 1149  L :  18  T :  1.94     serccpp/N_18_T_1.940_ising.txt\n",
      "Doing  419 / 1149  L :  18  T :  1.96     serccpp/N_18_T_1.960_ising.txt\n",
      "Doing  420 / 1149  L :  18  T :  1.98     serccpp/N_18_T_1.980_ising.txt\n",
      "Doing  421 / 1149  L :  18  T :  2     serccpp/N_18_T_2.000_ising.txt\n",
      "Doing  422 / 1149  L :  18  T :  2.02     serccpp/N_18_T_2.020_ising.txt\n",
      "Doing  423 / 1149  L :  18  T :  2.04     serccpp/N_18_T_2.040_ising.txt\n",
      "Doing  424 / 1149  L :  18  T :  2.06     serccpp/N_18_T_2.060_ising.txt\n",
      "Doing  425 / 1149  L :  18  T :  2.08     serccpp/N_18_T_2.080_ising.txt\n",
      "Doing  426 / 1149  L :  18  T :  2.1     serccpp/N_18_T_2.100_ising.txt\n",
      "Doing  427 / 1149  L :  18  T :  2.12     serccpp/N_18_T_2.120_ising.txt\n",
      "Doing  428 / 1149  L :  18  T :  2.14     serccpp/N_18_T_2.140_ising.txt\n",
      "Doing  429 / 1149  L :  18  T :  2.16     serccpp/N_18_T_2.160_ising.txt\n",
      "Doing  430 / 1149  L :  18  T :  2.18     serccpp/N_18_T_2.180_ising.txt\n",
      "Doing  431 / 1149  L :  18  T :  2.2     serccpp/N_18_T_2.200_ising.txt\n",
      "Doing  432 / 1149  L :  18  T :  2.22     serccpp/N_18_T_2.220_ising.txt\n",
      "Doing  433 / 1149  L :  18  T :  2.24     serccpp/N_18_T_2.240_ising.txt\n",
      "Doing  434 / 1149  L :  18  T :  2.26     serccpp/N_18_T_2.260_ising.txt\n",
      "Doing  435 / 1149  L :  18  T :  2.28     serccpp/N_18_T_2.280_ising.txt\n",
      "Doing  436 / 1149  L :  18  T :  2.3     serccpp/N_18_T_2.300_ising.txt\n",
      "Doing  437 / 1149  L :  18  T :  2.32     serccpp/N_18_T_2.320_ising.txt\n",
      "Doing  438 / 1149  L :  18  T :  2.34     serccpp/N_18_T_2.340_ising.txt\n",
      "Doing  439 / 1149  L :  18  T :  2.36     serccpp/N_18_T_2.360_ising.txt\n",
      "Doing  440 / 1149  L :  18  T :  2.38     serccpp/N_18_T_2.380_ising.txt\n",
      "Doing  441 / 1149  L :  18  T :  2.4     serccpp/N_18_T_2.400_ising.txt\n",
      "Doing  442 / 1149  L :  18  T :  2.42     serccpp/N_18_T_2.420_ising.txt\n",
      "Doing  443 / 1149  L :  18  T :  2.44     serccpp/N_18_T_2.440_ising.txt\n",
      "Doing  444 / 1149  L :  18  T :  2.46     serccpp/N_18_T_2.460_ising.txt\n",
      "Doing  445 / 1149  L :  18  T :  2.48     serccpp/N_18_T_2.480_ising.txt\n",
      "Doing  446 / 1149  L :  18  T :  2.5     serccpp/N_18_T_2.500_ising.txt\n",
      "Doing  447 / 1149  L :  18  T :  2.52     serccpp/N_18_T_2.520_ising.txt\n",
      "Doing  448 / 1149  L :  18  T :  2.54     serccpp/N_18_T_2.540_ising.txt\n",
      "Doing  449 / 1149  L :  18  T :  2.56     serccpp/N_18_T_2.560_ising.txt\n",
      "Doing  450 / 1149  L :  18  T :  2.58     serccpp/N_18_T_2.580_ising.txt\n",
      "Doing  451 / 1149  L :  18  T :  2.6     serccpp/N_18_T_2.600_ising.txt\n",
      "Doing  452 / 1149  L :  18  T :  2.62     serccpp/N_18_T_2.620_ising.txt\n",
      "Doing  453 / 1149  L :  18  T :  2.64     serccpp/N_18_T_2.640_ising.txt\n",
      "Doing  454 / 1149  L :  18  T :  2.66     serccpp/N_18_T_2.660_ising.txt\n",
      "Doing  455 / 1149  L :  18  T :  2.68     serccpp/N_18_T_2.680_ising.txt\n",
      "Doing  456 / 1149  L :  18  T :  2.7     serccpp/N_18_T_2.700_ising.txt\n"
     ]
    },
    {
     "name": "stdout",
     "output_type": "stream",
     "text": [
      "Doing  457 / 1149  L :  18  T :  2.72     serccpp/N_18_T_2.720_ising.txt\n",
      "Doing  458 / 1149  L :  18  T :  2.74     serccpp/N_18_T_2.740_ising.txt\n",
      "Doing  459 / 1149  L :  18  T :  2.76     serccpp/N_18_T_2.760_ising.txt\n",
      "Doing  460 / 1149  L :  18  T :  2.78     serccpp/N_18_T_2.780_ising.txt\n",
      "Doing  461 / 1149  L :  18  T :  2.8     serccpp/N_18_T_2.800_ising.txt\n",
      "Doing  462 / 1149  L :  18  T :  2.82     serccpp/N_18_T_2.820_ising.txt\n",
      "Doing  463 / 1149  L :  18  T :  2.84     serccpp/N_18_T_2.840_ising.txt\n",
      "Doing  464 / 1149  L :  18  T :  2.86     serccpp/N_18_T_2.860_ising.txt\n",
      "Doing  465 / 1149  L :  18  T :  2.88     serccpp/N_18_T_2.880_ising.txt\n",
      "Doing  466 / 1149  L :  18  T :  2.9     serccpp/N_18_T_2.900_ising.txt\n",
      "Doing  467 / 1149  L :  18  T :  2.92     serccpp/N_18_T_2.920_ising.txt\n",
      "Doing  468 / 1149  L :  18  T :  2.94     serccpp/N_18_T_2.940_ising.txt\n",
      "Doing  469 / 1149  L :  18  T :  2.96     serccpp/N_18_T_2.960_ising.txt\n",
      "Doing  470 / 1149  L :  18  T :  2.98     serccpp/N_18_T_2.980_ising.txt\n",
      "Doing  471 / 1149  L :  18  T :  3     serccpp/N_18_T_3.000_ising.txt\n",
      "Doing  472 / 1149  L :  18  T :  3.1     serccpp/N_18_T_3.100_ising.txt\n",
      "Doing  473 / 1149  L :  18  T :  3.2     serccpp/N_18_T_3.200_ising.txt\n",
      "Doing  474 / 1149  L :  18  T :  3.3     serccpp/N_18_T_3.300_ising.txt\n",
      "Doing  475 / 1149  L :  18  T :  3.4     serccpp/N_18_T_3.400_ising.txt\n",
      "Doing  476 / 1149  L :  18  T :  3.5     serccpp/N_18_T_3.500_ising.txt\n",
      "Doing  477 / 1149  L :  18  T :  3.6     serccpp/N_18_T_3.600_ising.txt\n",
      "Doing  478 / 1149  L :  18  T :  3.7     serccpp/N_18_T_3.700_ising.txt\n",
      "Doing  479 / 1149  L :  18  T :  3.8     serccpp/N_18_T_3.800_ising.txt\n",
      "Doing  480 / 1149  L :  18  T :  3.9     serccpp/N_18_T_3.900_ising.txt\n",
      "Doing  481 / 1149  L :  18  T :  4     serccpp/N_18_T_4.000_ising.txt\n",
      "Doing  482 / 1149  L :  18  T :  4.1     serccpp/N_18_T_4.100_ising.txt\n",
      "Doing  483 / 1149  L :  18  T :  4.3     serccpp/N_18_T_4.300_ising.txt\n",
      "Doing  484 / 1149  L :  18  T :  4.4     serccpp/N_18_T_4.400_ising.txt\n",
      "Doing  485 / 1149  L :  18  T :  4.5     serccpp/N_18_T_4.500_ising.txt\n",
      "Doing  486 / 1149  L :  18  T :  4.6     serccpp/N_18_T_4.600_ising.txt\n",
      "Doing  487 / 1149  L :  18  T :  4.7     serccpp/N_18_T_4.700_ising.txt\n",
      "Doing  488 / 1149  L :  18  T :  4.8     serccpp/N_18_T_4.800_ising.txt\n",
      "Doing  489 / 1149  L :  18  T :  4.9     serccpp/N_18_T_4.900_ising.txt\n",
      "Doing  490 / 1149  L :  18  T :  5     serccpp/N_18_T_5.000_ising.txt\n",
      "Doing  491 / 1149  L :  18  T :  5.1     serccpp/N_18_T_5.100_ising.txt\n",
      "Doing  492 / 1149  L :  18  T :  5.2     serccpp/N_18_T_5.200_ising.txt\n",
      "Doing  493 / 1149  L :  18  T :  5.3     serccpp/N_18_T_5.300_ising.txt\n",
      "Doing  494 / 1149  L :  18  T :  5.4     serccpp/N_18_T_5.400_ising.txt\n",
      "Doing  495 / 1149  L :  18  T :  5.5     serccpp/N_18_T_5.500_ising.txt\n",
      "Doing  496 / 1149  L :  20  T :  1.8     serccpp/N_20_T_1.800_ising.txt\n",
      "Doing  497 / 1149  L :  20  T :  1.82     serccpp/N_20_T_1.820_ising.txt\n",
      "Doing  498 / 1149  L :  20  T :  1.84     serccpp/N_20_T_1.840_ising.txt\n",
      "Doing  499 / 1149  L :  20  T :  1.86     serccpp/N_20_T_1.860_ising.txt\n",
      "Doing  500 / 1149  L :  20  T :  1.88     serccpp/N_20_T_1.880_ising.txt\n",
      "Doing  501 / 1149  L :  20  T :  1.9     serccpp/N_20_T_1.900_ising.txt\n",
      "Doing  502 / 1149  L :  20  T :  1.92     serccpp/N_20_T_1.920_ising.txt\n",
      "Doing  503 / 1149  L :  20  T :  1.94     serccpp/N_20_T_1.940_ising.txt\n",
      "Doing  504 / 1149  L :  20  T :  1.96     serccpp/N_20_T_1.960_ising.txt\n",
      "Doing  505 / 1149  L :  20  T :  1.98     serccpp/N_20_T_1.980_ising.txt\n",
      "Doing  506 / 1149  L :  20  T :  2     serccpp/N_20_T_2.000_ising.txt\n",
      "Doing  507 / 1149  L :  20  T :  2.02     serccpp/N_20_T_2.020_ising.txt\n",
      "Doing  508 / 1149  L :  20  T :  2.04     serccpp/N_20_T_2.040_ising.txt\n",
      "Doing  509 / 1149  L :  20  T :  2.06     serccpp/N_20_T_2.060_ising.txt\n",
      "Doing  510 / 1149  L :  20  T :  2.08     serccpp/N_20_T_2.080_ising.txt\n",
      "Doing  511 / 1149  L :  20  T :  2.1     serccpp/N_20_T_2.100_ising.txt\n",
      "Doing  512 / 1149  L :  20  T :  2.12     serccpp/N_20_T_2.120_ising.txt\n",
      "Doing  513 / 1149  L :  20  T :  2.14     serccpp/N_20_T_2.140_ising.txt\n",
      "Doing  514 / 1149  L :  20  T :  2.16     serccpp/N_20_T_2.160_ising.txt\n",
      "Doing  515 / 1149  L :  20  T :  2.18     serccpp/N_20_T_2.180_ising.txt\n",
      "Doing  516 / 1149  L :  20  T :  2.2     serccpp/N_20_T_2.200_ising.txt\n",
      "Doing  517 / 1149  L :  20  T :  2.22     serccpp/N_20_T_2.220_ising.txt\n",
      "Doing  518 / 1149  L :  20  T :  2.24     serccpp/N_20_T_2.240_ising.txt\n",
      "Doing  519 / 1149  L :  20  T :  2.26     serccpp/N_20_T_2.260_ising.txt\n",
      "Doing  520 / 1149  L :  20  T :  2.28     serccpp/N_20_T_2.280_ising.txt\n",
      "Doing  521 / 1149  L :  20  T :  2.3     serccpp/N_20_T_2.300_ising.txt\n",
      "Doing  522 / 1149  L :  20  T :  2.32     serccpp/N_20_T_2.320_ising.txt\n",
      "Doing  523 / 1149  L :  20  T :  2.34     serccpp/N_20_T_2.340_ising.txt\n",
      "Doing  524 / 1149  L :  20  T :  2.36     serccpp/N_20_T_2.360_ising.txt\n",
      "Doing  525 / 1149  L :  20  T :  2.38     serccpp/N_20_T_2.380_ising.txt\n",
      "Doing  526 / 1149  L :  20  T :  2.4     serccpp/N_20_T_2.400_ising.txt\n",
      "Doing  527 / 1149  L :  20  T :  2.42     serccpp/N_20_T_2.420_ising.txt\n",
      "Doing  528 / 1149  L :  20  T :  2.44     serccpp/N_20_T_2.440_ising.txt\n",
      "Doing  529 / 1149  L :  20  T :  2.46     serccpp/N_20_T_2.460_ising.txt\n",
      "Doing  530 / 1149  L :  20  T :  2.48     serccpp/N_20_T_2.480_ising.txt\n",
      "Doing  531 / 1149  L :  20  T :  2.5     serccpp/N_20_T_2.500_ising.txt\n",
      "Doing  532 / 1149  L :  20  T :  2.52     serccpp/N_20_T_2.520_ising.txt\n",
      "Doing  533 / 1149  L :  20  T :  2.54     serccpp/N_20_T_2.540_ising.txt\n",
      "Doing  534 / 1149  L :  20  T :  2.56     serccpp/N_20_T_2.560_ising.txt\n",
      "Doing  535 / 1149  L :  20  T :  2.58     serccpp/N_20_T_2.580_ising.txt\n",
      "Doing  536 / 1149  L :  20  T :  2.6     serccpp/N_20_T_2.600_ising.txt\n",
      "Doing  537 / 1149  L :  20  T :  2.62     serccpp/N_20_T_2.620_ising.txt\n",
      "Doing  538 / 1149  L :  20  T :  2.64     serccpp/N_20_T_2.640_ising.txt\n",
      "Doing  539 / 1149  L :  20  T :  2.66     serccpp/N_20_T_2.660_ising.txt\n",
      "Doing  540 / 1149  L :  20  T :  2.68     serccpp/N_20_T_2.680_ising.txt\n",
      "Doing  541 / 1149  L :  20  T :  2.7     serccpp/N_20_T_2.700_ising.txt\n",
      "Doing  542 / 1149  L :  20  T :  2.72     serccpp/N_20_T_2.720_ising.txt\n",
      "Doing  543 / 1149  L :  20  T :  2.74     serccpp/N_20_T_2.740_ising.txt\n",
      "Doing  544 / 1149  L :  20  T :  2.76     serccpp/N_20_T_2.760_ising.txt\n",
      "Doing  545 / 1149  L :  20  T :  2.78     serccpp/N_20_T_2.780_ising.txt\n",
      "Doing  546 / 1149  L :  20  T :  2.8     serccpp/N_20_T_2.800_ising.txt\n",
      "Doing  547 / 1149  L :  20  T :  2.82     serccpp/N_20_T_2.820_ising.txt\n",
      "Doing  548 / 1149  L :  20  T :  2.84     serccpp/N_20_T_2.840_ising.txt\n",
      "Doing  549 / 1149  L :  20  T :  2.86     serccpp/N_20_T_2.860_ising.txt\n",
      "Doing  550 / 1149  L :  20  T :  2.88     serccpp/N_20_T_2.880_ising.txt\n",
      "Doing  551 / 1149  L :  20  T :  2.9     serccpp/N_20_T_2.900_ising.txt\n",
      "Doing  552 / 1149  L :  20  T :  2.92     serccpp/N_20_T_2.920_ising.txt\n",
      "Doing  553 / 1149  L :  20  T :  2.94     serccpp/N_20_T_2.940_ising.txt\n",
      "Doing  554 / 1149  L :  20  T :  2.96     serccpp/N_20_T_2.960_ising.txt\n",
      "Doing  555 / 1149  L :  20  T :  2.98     serccpp/N_20_T_2.980_ising.txt\n",
      "Doing  556 / 1149  L :  22  T :  0.8     serccpp/N_22_T_0.800_ising.txt\n",
      "Doing  557 / 1149  L :  22  T :  1     serccpp/N_22_T_1.000_ising.txt\n",
      "Doing  558 / 1149  L :  22  T :  1.2     serccpp/N_22_T_1.200_ising.txt\n",
      "Doing  559 / 1149  L :  22  T :  1.4     serccpp/N_22_T_1.400_ising.txt\n",
      "Doing  560 / 1149  L :  22  T :  1.6     serccpp/N_22_T_1.600_ising.txt\n",
      "Doing  561 / 1149  L :  22  T :  1.62     serccpp/N_22_T_1.620_ising.txt\n",
      "Doing  562 / 1149  L :  22  T :  1.64     serccpp/N_22_T_1.640_ising.txt\n",
      "Doing  563 / 1149  L :  22  T :  1.66     serccpp/N_22_T_1.660_ising.txt\n",
      "Doing  564 / 1149  L :  22  T :  1.68     serccpp/N_22_T_1.680_ising.txt\n",
      "Doing  565 / 1149  L :  22  T :  1.7     serccpp/N_22_T_1.700_ising.txt\n",
      "Doing  566 / 1149  L :  22  T :  1.72     serccpp/N_22_T_1.720_ising.txt\n",
      "Doing  567 / 1149  L :  22  T :  1.74     serccpp/N_22_T_1.740_ising.txt\n",
      "Doing  568 / 1149  L :  22  T :  1.76     serccpp/N_22_T_1.760_ising.txt\n",
      "Doing  569 / 1149  L :  22  T :  1.78     serccpp/N_22_T_1.780_ising.txt\n"
     ]
    },
    {
     "name": "stdout",
     "output_type": "stream",
     "text": [
      "Doing  570 / 1149  L :  22  T :  1.8     serccpp/N_22_T_1.800_ising.txt\n",
      "Doing  571 / 1149  L :  22  T :  1.82     serccpp/N_22_T_1.820_ising.txt\n",
      "Doing  572 / 1149  L :  22  T :  1.84     serccpp/N_22_T_1.840_ising.txt\n",
      "Doing  573 / 1149  L :  22  T :  1.86     serccpp/N_22_T_1.860_ising.txt\n",
      "Doing  574 / 1149  L :  22  T :  1.88     serccpp/N_22_T_1.880_ising.txt\n",
      "Doing  575 / 1149  L :  22  T :  1.9     serccpp/N_22_T_1.900_ising.txt\n",
      "Doing  576 / 1149  L :  22  T :  1.92     serccpp/N_22_T_1.920_ising.txt\n",
      "Doing  577 / 1149  L :  22  T :  1.94     serccpp/N_22_T_1.940_ising.txt\n",
      "Doing  578 / 1149  L :  22  T :  1.96     serccpp/N_22_T_1.960_ising.txt\n",
      "Doing  579 / 1149  L :  22  T :  1.98     serccpp/N_22_T_1.980_ising.txt\n",
      "Doing  580 / 1149  L :  22  T :  2     serccpp/N_22_T_2.000_ising.txt\n",
      "Doing  581 / 1149  L :  22  T :  2.02     serccpp/N_22_T_2.020_ising.txt\n",
      "Doing  582 / 1149  L :  22  T :  2.04     serccpp/N_22_T_2.040_ising.txt\n",
      "Doing  583 / 1149  L :  22  T :  2.06     serccpp/N_22_T_2.060_ising.txt\n",
      "Doing  584 / 1149  L :  22  T :  2.08     serccpp/N_22_T_2.080_ising.txt\n",
      "Doing  585 / 1149  L :  22  T :  2.1     serccpp/N_22_T_2.100_ising.txt\n",
      "Doing  586 / 1149  L :  22  T :  2.12     serccpp/N_22_T_2.120_ising.txt\n",
      "Doing  587 / 1149  L :  22  T :  2.14     serccpp/N_22_T_2.140_ising.txt\n",
      "Doing  588 / 1149  L :  22  T :  2.16     serccpp/N_22_T_2.160_ising.txt\n",
      "Doing  589 / 1149  L :  22  T :  2.18     serccpp/N_22_T_2.180_ising.txt\n",
      "Doing  590 / 1149  L :  22  T :  2.2     serccpp/N_22_T_2.200_ising.txt\n",
      "Doing  591 / 1149  L :  22  T :  2.22     serccpp/N_22_T_2.220_ising.txt\n",
      "Doing  592 / 1149  L :  22  T :  2.24     serccpp/N_22_T_2.240_ising.txt\n",
      "Doing  593 / 1149  L :  22  T :  2.26     serccpp/N_22_T_2.260_ising.txt\n",
      "Doing  594 / 1149  L :  22  T :  2.28     serccpp/N_22_T_2.280_ising.txt\n",
      "Doing  595 / 1149  L :  22  T :  2.3     serccpp/N_22_T_2.300_ising.txt\n",
      "Doing  596 / 1149  L :  22  T :  2.32     serccpp/N_22_T_2.320_ising.txt\n",
      "Doing  597 / 1149  L :  22  T :  2.34     serccpp/N_22_T_2.340_ising.txt\n",
      "Doing  598 / 1149  L :  22  T :  2.36     serccpp/N_22_T_2.360_ising.txt\n",
      "Doing  599 / 1149  L :  22  T :  2.38     serccpp/N_22_T_2.380_ising.txt\n",
      "Doing  600 / 1149  L :  22  T :  2.4     serccpp/N_22_T_2.400_ising.txt\n",
      "Doing  601 / 1149  L :  22  T :  2.42     serccpp/N_22_T_2.420_ising.txt\n",
      "Doing  602 / 1149  L :  22  T :  2.44     serccpp/N_22_T_2.440_ising.txt\n",
      "Doing  603 / 1149  L :  22  T :  2.46     serccpp/N_22_T_2.460_ising.txt\n",
      "Doing  604 / 1149  L :  22  T :  2.48     serccpp/N_22_T_2.480_ising.txt\n",
      "Doing  605 / 1149  L :  22  T :  2.5     serccpp/N_22_T_2.500_ising.txt\n",
      "Doing  606 / 1149  L :  22  T :  2.52     serccpp/N_22_T_2.520_ising.txt\n",
      "Doing  607 / 1149  L :  22  T :  2.54     serccpp/N_22_T_2.540_ising.txt\n",
      "Doing  608 / 1149  L :  22  T :  2.56     serccpp/N_22_T_2.560_ising.txt\n",
      "Doing  609 / 1149  L :  22  T :  2.58     serccpp/N_22_T_2.580_ising.txt\n",
      "Doing  610 / 1149  L :  22  T :  2.6     serccpp/N_22_T_2.600_ising.txt\n",
      "Doing  611 / 1149  L :  22  T :  2.62     serccpp/N_22_T_2.620_ising.txt\n",
      "Doing  612 / 1149  L :  22  T :  2.64     serccpp/N_22_T_2.640_ising.txt\n",
      "Doing  613 / 1149  L :  22  T :  2.66     serccpp/N_22_T_2.660_ising.txt\n",
      "Doing  614 / 1149  L :  22  T :  2.68     serccpp/N_22_T_2.680_ising.txt\n",
      "Doing  615 / 1149  L :  22  T :  2.7     serccpp/N_22_T_2.700_ising.txt\n",
      "Doing  616 / 1149  L :  22  T :  2.72     serccpp/N_22_T_2.720_ising.txt\n",
      "Doing  617 / 1149  L :  22  T :  2.74     serccpp/N_22_T_2.740_ising.txt\n",
      "Doing  618 / 1149  L :  22  T :  2.76     serccpp/N_22_T_2.760_ising.txt\n",
      "Doing  619 / 1149  L :  22  T :  2.78     serccpp/N_22_T_2.780_ising.txt\n",
      "Doing  620 / 1149  L :  22  T :  2.8     serccpp/N_22_T_2.800_ising.txt\n",
      "Doing  621 / 1149  L :  22  T :  2.82     serccpp/N_22_T_2.820_ising.txt\n",
      "Doing  622 / 1149  L :  22  T :  2.84     serccpp/N_22_T_2.840_ising.txt\n",
      "Doing  623 / 1149  L :  22  T :  2.86     serccpp/N_22_T_2.860_ising.txt\n",
      "Doing  624 / 1149  L :  22  T :  2.88     serccpp/N_22_T_2.880_ising.txt\n",
      "Doing  625 / 1149  L :  22  T :  2.9     serccpp/N_22_T_2.900_ising.txt\n",
      "Doing  626 / 1149  L :  22  T :  2.92     serccpp/N_22_T_2.920_ising.txt\n",
      "Doing  627 / 1149  L :  22  T :  2.94     serccpp/N_22_T_2.940_ising.txt\n",
      "Doing  628 / 1149  L :  22  T :  2.96     serccpp/N_22_T_2.960_ising.txt\n",
      "Doing  629 / 1149  L :  22  T :  2.98     serccpp/N_22_T_2.980_ising.txt\n",
      "Doing  630 / 1149  L :  22  T :  3     serccpp/N_22_T_3.000_ising.txt\n",
      "Doing  631 / 1149  L :  22  T :  3.1     serccpp/N_22_T_3.100_ising.txt\n",
      "Doing  632 / 1149  L :  22  T :  3.2     serccpp/N_22_T_3.200_ising.txt\n",
      "Doing  633 / 1149  L :  22  T :  3.3     serccpp/N_22_T_3.300_ising.txt\n",
      "Doing  634 / 1149  L :  22  T :  3.4     serccpp/N_22_T_3.400_ising.txt\n",
      "Doing  635 / 1149  L :  22  T :  3.5     serccpp/N_22_T_3.500_ising.txt\n",
      "Doing  636 / 1149  L :  22  T :  3.6     serccpp/N_22_T_3.600_ising.txt\n",
      "Doing  637 / 1149  L :  22  T :  3.7     serccpp/N_22_T_3.700_ising.txt\n",
      "Doing  638 / 1149  L :  22  T :  3.8     serccpp/N_22_T_3.800_ising.txt\n",
      "Doing  639 / 1149  L :  22  T :  3.9     serccpp/N_22_T_3.900_ising.txt\n",
      "Doing  640 / 1149  L :  22  T :  4     serccpp/N_22_T_4.000_ising.txt\n",
      "Doing  641 / 1149  L :  22  T :  4.1     serccpp/N_22_T_4.100_ising.txt\n",
      "Doing  642 / 1149  L :  22  T :  4.3     serccpp/N_22_T_4.300_ising.txt\n",
      "Doing  643 / 1149  L :  22  T :  4.4     serccpp/N_22_T_4.400_ising.txt\n",
      "Doing  644 / 1149  L :  22  T :  4.5     serccpp/N_22_T_4.500_ising.txt\n",
      "Doing  645 / 1149  L :  22  T :  4.6     serccpp/N_22_T_4.600_ising.txt\n",
      "Doing  646 / 1149  L :  22  T :  4.7     serccpp/N_22_T_4.700_ising.txt\n",
      "Doing  647 / 1149  L :  22  T :  4.8     serccpp/N_22_T_4.800_ising.txt\n",
      "Doing  648 / 1149  L :  22  T :  4.9     serccpp/N_22_T_4.900_ising.txt\n",
      "Doing  649 / 1149  L :  22  T :  5     serccpp/N_22_T_5.000_ising.txt\n",
      "Doing  650 / 1149  L :  22  T :  5.1     serccpp/N_22_T_5.100_ising.txt\n",
      "Doing  651 / 1149  L :  22  T :  5.2     serccpp/N_22_T_5.200_ising.txt\n",
      "Doing  652 / 1149  L :  22  T :  5.3     serccpp/N_22_T_5.300_ising.txt\n",
      "Doing  653 / 1149  L :  22  T :  5.4     serccpp/N_22_T_5.400_ising.txt\n",
      "Doing  654 / 1149  L :  22  T :  5.5     serccpp/N_22_T_5.500_ising.txt\n",
      "Doing  655 / 1149  L :  24  T :  0.8     serccpp/N_24_T_0.800_ising.txt\n",
      "Doing  656 / 1149  L :  24  T :  1     serccpp/N_24_T_1.000_ising.txt\n",
      "Doing  657 / 1149  L :  24  T :  1.2     serccpp/N_24_T_1.200_ising.txt\n",
      "Doing  658 / 1149  L :  24  T :  1.4     serccpp/N_24_T_1.400_ising.txt\n",
      "Doing  659 / 1149  L :  24  T :  1.6     serccpp/N_24_T_1.600_ising.txt\n",
      "Doing  660 / 1149  L :  24  T :  1.62     serccpp/N_24_T_1.620_ising.txt\n",
      "Doing  661 / 1149  L :  24  T :  1.64     serccpp/N_24_T_1.640_ising.txt\n",
      "Doing  662 / 1149  L :  24  T :  1.66     serccpp/N_24_T_1.660_ising.txt\n",
      "Doing  663 / 1149  L :  24  T :  1.68     serccpp/N_24_T_1.680_ising.txt\n",
      "Doing  664 / 1149  L :  24  T :  1.7     serccpp/N_24_T_1.700_ising.txt\n",
      "Doing  665 / 1149  L :  24  T :  1.72     serccpp/N_24_T_1.720_ising.txt\n",
      "Doing  666 / 1149  L :  24  T :  1.74     serccpp/N_24_T_1.740_ising.txt\n",
      "Doing  667 / 1149  L :  24  T :  1.76     serccpp/N_24_T_1.760_ising.txt\n",
      "Doing  668 / 1149  L :  24  T :  1.78     serccpp/N_24_T_1.780_ising.txt\n",
      "Doing  669 / 1149  L :  24  T :  1.8     serccpp/N_24_T_1.800_ising.txt\n",
      "Doing  670 / 1149  L :  24  T :  1.82     serccpp/N_24_T_1.820_ising.txt\n",
      "Doing  671 / 1149  L :  24  T :  1.84     serccpp/N_24_T_1.840_ising.txt\n",
      "Doing  672 / 1149  L :  24  T :  1.86     serccpp/N_24_T_1.860_ising.txt\n",
      "Doing  673 / 1149  L :  24  T :  1.88     serccpp/N_24_T_1.880_ising.txt\n",
      "Doing  674 / 1149  L :  24  T :  1.9     serccpp/N_24_T_1.900_ising.txt\n",
      "Doing  675 / 1149  L :  24  T :  1.92     serccpp/N_24_T_1.920_ising.txt\n",
      "Doing  676 / 1149  L :  24  T :  1.94     serccpp/N_24_T_1.940_ising.txt\n",
      "Doing  677 / 1149  L :  24  T :  1.96     serccpp/N_24_T_1.960_ising.txt\n",
      "Doing  678 / 1149  L :  24  T :  1.98     serccpp/N_24_T_1.980_ising.txt\n",
      "Doing  679 / 1149  L :  24  T :  2     serccpp/N_24_T_2.000_ising.txt\n",
      "Doing  680 / 1149  L :  24  T :  2.02     serccpp/N_24_T_2.020_ising.txt\n",
      "Doing  681 / 1149  L :  24  T :  2.04     serccpp/N_24_T_2.040_ising.txt\n",
      "Doing  682 / 1149  L :  24  T :  2.06     serccpp/N_24_T_2.060_ising.txt\n",
      "Doing  683 / 1149  L :  24  T :  2.08     serccpp/N_24_T_2.080_ising.txt\n"
     ]
    },
    {
     "name": "stdout",
     "output_type": "stream",
     "text": [
      "Doing  684 / 1149  L :  24  T :  2.1     serccpp/N_24_T_2.100_ising.txt\n",
      "Doing  685 / 1149  L :  24  T :  2.12     serccpp/N_24_T_2.120_ising.txt\n",
      "Doing  686 / 1149  L :  24  T :  2.14     serccpp/N_24_T_2.140_ising.txt\n",
      "Doing  687 / 1149  L :  24  T :  2.16     serccpp/N_24_T_2.160_ising.txt\n",
      "Doing  688 / 1149  L :  24  T :  2.18     serccpp/N_24_T_2.180_ising.txt\n",
      "Doing  689 / 1149  L :  24  T :  2.2     serccpp/N_24_T_2.200_ising.txt\n",
      "Doing  690 / 1149  L :  24  T :  2.22     serccpp/N_24_T_2.220_ising.txt\n",
      "Doing  691 / 1149  L :  24  T :  2.24     serccpp/N_24_T_2.240_ising.txt\n",
      "Doing  692 / 1149  L :  24  T :  2.26     serccpp/N_24_T_2.260_ising.txt\n",
      "Doing  693 / 1149  L :  24  T :  2.28     serccpp/N_24_T_2.280_ising.txt\n",
      "Doing  694 / 1149  L :  24  T :  2.3     serccpp/N_24_T_2.300_ising.txt\n",
      "Doing  695 / 1149  L :  24  T :  2.32     serccpp/N_24_T_2.320_ising.txt\n",
      "Doing  696 / 1149  L :  24  T :  2.34     serccpp/N_24_T_2.340_ising.txt\n",
      "Doing  697 / 1149  L :  24  T :  2.36     serccpp/N_24_T_2.360_ising.txt\n",
      "Doing  698 / 1149  L :  24  T :  2.38     serccpp/N_24_T_2.380_ising.txt\n",
      "Doing  699 / 1149  L :  24  T :  2.4     serccpp/N_24_T_2.400_ising.txt\n",
      "Doing  700 / 1149  L :  24  T :  2.42     serccpp/N_24_T_2.420_ising.txt\n",
      "Doing  701 / 1149  L :  24  T :  2.44     serccpp/N_24_T_2.440_ising.txt\n",
      "Doing  702 / 1149  L :  24  T :  2.46     serccpp/N_24_T_2.460_ising.txt\n",
      "Doing  703 / 1149  L :  24  T :  2.48     serccpp/N_24_T_2.480_ising.txt\n",
      "Doing  704 / 1149  L :  24  T :  2.5     serccpp/N_24_T_2.500_ising.txt\n",
      "Doing  705 / 1149  L :  24  T :  2.52     serccpp/N_24_T_2.520_ising.txt\n",
      "Doing  706 / 1149  L :  24  T :  2.54     serccpp/N_24_T_2.540_ising.txt\n",
      "Doing  707 / 1149  L :  24  T :  2.56     serccpp/N_24_T_2.560_ising.txt\n",
      "Doing  708 / 1149  L :  24  T :  2.58     serccpp/N_24_T_2.580_ising.txt\n",
      "Doing  709 / 1149  L :  24  T :  2.6     serccpp/N_24_T_2.600_ising.txt\n",
      "Doing  710 / 1149  L :  24  T :  2.62     serccpp/N_24_T_2.620_ising.txt\n",
      "Doing  711 / 1149  L :  24  T :  2.64     serccpp/N_24_T_2.640_ising.txt\n",
      "Doing  712 / 1149  L :  24  T :  2.66     serccpp/N_24_T_2.660_ising.txt\n",
      "Doing  713 / 1149  L :  24  T :  2.68     serccpp/N_24_T_2.680_ising.txt\n",
      "Doing  714 / 1149  L :  24  T :  2.7     serccpp/N_24_T_2.700_ising.txt\n",
      "Doing  715 / 1149  L :  24  T :  2.72     serccpp/N_24_T_2.720_ising.txt\n",
      "Doing  716 / 1149  L :  24  T :  2.74     serccpp/N_24_T_2.740_ising.txt\n",
      "Doing  717 / 1149  L :  24  T :  2.76     serccpp/N_24_T_2.760_ising.txt\n",
      "Doing  718 / 1149  L :  24  T :  2.78     serccpp/N_24_T_2.780_ising.txt\n",
      "Doing  719 / 1149  L :  24  T :  2.8     serccpp/N_24_T_2.800_ising.txt\n",
      "Doing  720 / 1149  L :  24  T :  2.82     serccpp/N_24_T_2.820_ising.txt\n",
      "Doing  721 / 1149  L :  24  T :  2.84     serccpp/N_24_T_2.840_ising.txt\n",
      "Doing  722 / 1149  L :  24  T :  2.86     serccpp/N_24_T_2.860_ising.txt\n",
      "Doing  723 / 1149  L :  24  T :  2.88     serccpp/N_24_T_2.880_ising.txt\n",
      "Doing  724 / 1149  L :  24  T :  2.9     serccpp/N_24_T_2.900_ising.txt\n",
      "Doing  725 / 1149  L :  24  T :  2.92     serccpp/N_24_T_2.920_ising.txt\n",
      "Doing  726 / 1149  L :  24  T :  2.94     serccpp/N_24_T_2.940_ising.txt\n",
      "Doing  727 / 1149  L :  24  T :  2.96     serccpp/N_24_T_2.960_ising.txt\n",
      "Doing  728 / 1149  L :  24  T :  2.98     serccpp/N_24_T_2.980_ising.txt\n",
      "Doing  729 / 1149  L :  24  T :  3     serccpp/N_24_T_3.000_ising.txt\n",
      "Doing  730 / 1149  L :  24  T :  3.1     serccpp/N_24_T_3.100_ising.txt\n",
      "Doing  731 / 1149  L :  24  T :  3.2     serccpp/N_24_T_3.200_ising.txt\n",
      "Doing  732 / 1149  L :  24  T :  3.3     serccpp/N_24_T_3.300_ising.txt\n",
      "Doing  733 / 1149  L :  24  T :  3.4     serccpp/N_24_T_3.400_ising.txt\n",
      "Doing  734 / 1149  L :  24  T :  3.5     serccpp/N_24_T_3.500_ising.txt\n",
      "Doing  735 / 1149  L :  24  T :  3.6     serccpp/N_24_T_3.600_ising.txt\n",
      "Doing  736 / 1149  L :  24  T :  3.7     serccpp/N_24_T_3.700_ising.txt\n",
      "Doing  737 / 1149  L :  24  T :  3.8     serccpp/N_24_T_3.800_ising.txt\n",
      "Doing  738 / 1149  L :  24  T :  3.9     serccpp/N_24_T_3.900_ising.txt\n",
      "Doing  739 / 1149  L :  24  T :  4     serccpp/N_24_T_4.000_ising.txt\n",
      "Doing  740 / 1149  L :  24  T :  4.1     serccpp/N_24_T_4.100_ising.txt\n",
      "Doing  741 / 1149  L :  24  T :  4.3     serccpp/N_24_T_4.300_ising.txt\n",
      "Doing  742 / 1149  L :  24  T :  4.4     serccpp/N_24_T_4.400_ising.txt\n",
      "Doing  743 / 1149  L :  24  T :  4.5     serccpp/N_24_T_4.500_ising.txt\n",
      "Doing  744 / 1149  L :  24  T :  4.6     serccpp/N_24_T_4.600_ising.txt\n",
      "Doing  745 / 1149  L :  24  T :  4.7     serccpp/N_24_T_4.700_ising.txt\n",
      "Doing  746 / 1149  L :  24  T :  4.8     serccpp/N_24_T_4.800_ising.txt\n",
      "Doing  747 / 1149  L :  24  T :  4.9     serccpp/N_24_T_4.900_ising.txt\n",
      "Doing  748 / 1149  L :  24  T :  5     serccpp/N_24_T_5.000_ising.txt\n",
      "Doing  749 / 1149  L :  24  T :  5.1     serccpp/N_24_T_5.100_ising.txt\n",
      "Doing  750 / 1149  L :  24  T :  5.2     serccpp/N_24_T_5.200_ising.txt\n",
      "Doing  751 / 1149  L :  24  T :  5.3     serccpp/N_24_T_5.300_ising.txt\n",
      "Doing  752 / 1149  L :  24  T :  5.4     serccpp/N_24_T_5.400_ising.txt\n",
      "Doing  753 / 1149  L :  24  T :  5.5     serccpp/N_24_T_5.500_ising.txt\n",
      "Doing  754 / 1149  L :  26  T :  0.8     serccpp/N_26_T_0.800_ising.txt\n",
      "Doing  755 / 1149  L :  26  T :  1     serccpp/N_26_T_1.000_ising.txt\n",
      "Doing  756 / 1149  L :  26  T :  1.2     serccpp/N_26_T_1.200_ising.txt\n",
      "Doing  757 / 1149  L :  26  T :  1.4     serccpp/N_26_T_1.400_ising.txt\n",
      "Doing  758 / 1149  L :  26  T :  1.6     serccpp/N_26_T_1.600_ising.txt\n",
      "Doing  759 / 1149  L :  26  T :  1.62     serccpp/N_26_T_1.620_ising.txt\n",
      "Doing  760 / 1149  L :  26  T :  1.64     serccpp/N_26_T_1.640_ising.txt\n",
      "Doing  761 / 1149  L :  26  T :  1.66     serccpp/N_26_T_1.660_ising.txt\n",
      "Doing  762 / 1149  L :  26  T :  1.68     serccpp/N_26_T_1.680_ising.txt\n",
      "Doing  763 / 1149  L :  26  T :  1.7     serccpp/N_26_T_1.700_ising.txt\n",
      "Doing  764 / 1149  L :  26  T :  1.72     serccpp/N_26_T_1.720_ising.txt\n",
      "Doing  765 / 1149  L :  26  T :  1.74     serccpp/N_26_T_1.740_ising.txt\n",
      "Doing  766 / 1149  L :  26  T :  1.76     serccpp/N_26_T_1.760_ising.txt\n",
      "Doing  767 / 1149  L :  26  T :  1.78     serccpp/N_26_T_1.780_ising.txt\n",
      "Doing  768 / 1149  L :  26  T :  1.8     serccpp/N_26_T_1.800_ising.txt\n",
      "Doing  769 / 1149  L :  26  T :  1.82     serccpp/N_26_T_1.820_ising.txt\n",
      "Doing  770 / 1149  L :  26  T :  1.84     serccpp/N_26_T_1.840_ising.txt\n",
      "Doing  771 / 1149  L :  26  T :  1.86     serccpp/N_26_T_1.860_ising.txt\n",
      "Doing  772 / 1149  L :  26  T :  1.88     serccpp/N_26_T_1.880_ising.txt\n",
      "Doing  773 / 1149  L :  26  T :  1.9     serccpp/N_26_T_1.900_ising.txt\n",
      "Doing  774 / 1149  L :  26  T :  1.92     serccpp/N_26_T_1.920_ising.txt\n",
      "Doing  775 / 1149  L :  26  T :  1.94     serccpp/N_26_T_1.940_ising.txt\n",
      "Doing  776 / 1149  L :  26  T :  1.96     serccpp/N_26_T_1.960_ising.txt\n",
      "Doing  777 / 1149  L :  26  T :  1.98     serccpp/N_26_T_1.980_ising.txt\n",
      "Doing  778 / 1149  L :  26  T :  2     serccpp/N_26_T_2.000_ising.txt\n",
      "Doing  779 / 1149  L :  26  T :  2.02     serccpp/N_26_T_2.020_ising.txt\n",
      "Doing  780 / 1149  L :  26  T :  2.04     serccpp/N_26_T_2.040_ising.txt\n",
      "Doing  781 / 1149  L :  26  T :  2.06     serccpp/N_26_T_2.060_ising.txt\n",
      "Doing  782 / 1149  L :  26  T :  2.08     serccpp/N_26_T_2.080_ising.txt\n",
      "Doing  783 / 1149  L :  26  T :  2.1     serccpp/N_26_T_2.100_ising.txt\n",
      "Doing  784 / 1149  L :  26  T :  2.12     serccpp/N_26_T_2.120_ising.txt\n",
      "Doing  785 / 1149  L :  26  T :  2.14     serccpp/N_26_T_2.140_ising.txt\n",
      "Doing  786 / 1149  L :  26  T :  2.16     serccpp/N_26_T_2.160_ising.txt\n",
      "Doing  787 / 1149  L :  26  T :  2.18     serccpp/N_26_T_2.180_ising.txt\n",
      "Doing  788 / 1149  L :  26  T :  2.2     serccpp/N_26_T_2.200_ising.txt\n",
      "Doing  789 / 1149  L :  26  T :  2.22     serccpp/N_26_T_2.220_ising.txt\n",
      "Doing  790 / 1149  L :  26  T :  2.24     serccpp/N_26_T_2.240_ising.txt\n",
      "Doing  791 / 1149  L :  26  T :  2.26     serccpp/N_26_T_2.260_ising.txt\n",
      "Doing  792 / 1149  L :  26  T :  2.28     serccpp/N_26_T_2.280_ising.txt\n",
      "Doing  793 / 1149  L :  26  T :  2.3     serccpp/N_26_T_2.300_ising.txt\n",
      "Doing  794 / 1149  L :  26  T :  2.32     serccpp/N_26_T_2.320_ising.txt\n",
      "Doing  795 / 1149  L :  26  T :  2.34     serccpp/N_26_T_2.340_ising.txt\n",
      "Doing  796 / 1149  L :  26  T :  2.36     serccpp/N_26_T_2.360_ising.txt\n",
      "Doing  797 / 1149  L :  26  T :  2.38     serccpp/N_26_T_2.380_ising.txt\n"
     ]
    },
    {
     "name": "stdout",
     "output_type": "stream",
     "text": [
      "Doing  798 / 1149  L :  26  T :  2.4     serccpp/N_26_T_2.400_ising.txt\n",
      "Doing  799 / 1149  L :  26  T :  2.42     serccpp/N_26_T_2.420_ising.txt\n",
      "Doing  800 / 1149  L :  26  T :  2.44     serccpp/N_26_T_2.440_ising.txt\n",
      "Doing  801 / 1149  L :  26  T :  2.46     serccpp/N_26_T_2.460_ising.txt\n",
      "Doing  802 / 1149  L :  26  T :  2.48     serccpp/N_26_T_2.480_ising.txt\n",
      "Doing  803 / 1149  L :  26  T :  2.5     serccpp/N_26_T_2.500_ising.txt\n",
      "Doing  804 / 1149  L :  26  T :  2.52     serccpp/N_26_T_2.520_ising.txt\n",
      "Doing  805 / 1149  L :  26  T :  2.54     serccpp/N_26_T_2.540_ising.txt\n",
      "Doing  806 / 1149  L :  26  T :  2.56     serccpp/N_26_T_2.560_ising.txt\n",
      "Doing  807 / 1149  L :  26  T :  2.58     serccpp/N_26_T_2.580_ising.txt\n",
      "Doing  808 / 1149  L :  26  T :  2.6     serccpp/N_26_T_2.600_ising.txt\n",
      "Doing  809 / 1149  L :  26  T :  2.62     serccpp/N_26_T_2.620_ising.txt\n",
      "Doing  810 / 1149  L :  26  T :  2.64     serccpp/N_26_T_2.640_ising.txt\n",
      "Doing  811 / 1149  L :  26  T :  2.66     serccpp/N_26_T_2.660_ising.txt\n",
      "Doing  812 / 1149  L :  26  T :  2.68     serccpp/N_26_T_2.680_ising.txt\n",
      "Doing  813 / 1149  L :  26  T :  2.7     serccpp/N_26_T_2.700_ising.txt\n",
      "Doing  814 / 1149  L :  26  T :  2.72     serccpp/N_26_T_2.720_ising.txt\n",
      "Doing  815 / 1149  L :  26  T :  2.74     serccpp/N_26_T_2.740_ising.txt\n",
      "Doing  816 / 1149  L :  26  T :  2.76     serccpp/N_26_T_2.760_ising.txt\n",
      "Doing  817 / 1149  L :  26  T :  2.78     serccpp/N_26_T_2.780_ising.txt\n",
      "Doing  818 / 1149  L :  26  T :  2.8     serccpp/N_26_T_2.800_ising.txt\n",
      "Doing  819 / 1149  L :  26  T :  2.82     serccpp/N_26_T_2.820_ising.txt\n",
      "Doing  820 / 1149  L :  26  T :  2.84     serccpp/N_26_T_2.840_ising.txt\n",
      "Doing  821 / 1149  L :  26  T :  2.86     serccpp/N_26_T_2.860_ising.txt\n",
      "Doing  822 / 1149  L :  26  T :  2.88     serccpp/N_26_T_2.880_ising.txt\n",
      "Doing  823 / 1149  L :  26  T :  2.9     serccpp/N_26_T_2.900_ising.txt\n",
      "Doing  824 / 1149  L :  26  T :  2.92     serccpp/N_26_T_2.920_ising.txt\n",
      "Doing  825 / 1149  L :  26  T :  2.94     serccpp/N_26_T_2.940_ising.txt\n",
      "Doing  826 / 1149  L :  26  T :  2.96     serccpp/N_26_T_2.960_ising.txt\n",
      "Doing  827 / 1149  L :  26  T :  2.98     serccpp/N_26_T_2.980_ising.txt\n",
      "Doing  828 / 1149  L :  26  T :  3     serccpp/N_26_T_3.000_ising.txt\n",
      "Doing  829 / 1149  L :  26  T :  3.1     serccpp/N_26_T_3.100_ising.txt\n",
      "Doing  830 / 1149  L :  26  T :  3.2     serccpp/N_26_T_3.200_ising.txt\n",
      "Doing  831 / 1149  L :  26  T :  3.3     serccpp/N_26_T_3.300_ising.txt\n",
      "Doing  832 / 1149  L :  26  T :  3.4     serccpp/N_26_T_3.400_ising.txt\n",
      "Doing  833 / 1149  L :  26  T :  3.5     serccpp/N_26_T_3.500_ising.txt\n",
      "Doing  834 / 1149  L :  26  T :  3.6     serccpp/N_26_T_3.600_ising.txt\n",
      "Doing  835 / 1149  L :  26  T :  3.7     serccpp/N_26_T_3.700_ising.txt\n",
      "Doing  836 / 1149  L :  26  T :  3.8     serccpp/N_26_T_3.800_ising.txt\n",
      "Doing  837 / 1149  L :  26  T :  3.9     serccpp/N_26_T_3.900_ising.txt\n",
      "Doing  838 / 1149  L :  26  T :  4     serccpp/N_26_T_4.000_ising.txt\n",
      "Doing  839 / 1149  L :  26  T :  4.1     serccpp/N_26_T_4.100_ising.txt\n",
      "Doing  840 / 1149  L :  26  T :  4.3     serccpp/N_26_T_4.300_ising.txt\n",
      "Doing  841 / 1149  L :  26  T :  4.4     serccpp/N_26_T_4.400_ising.txt\n",
      "Doing  842 / 1149  L :  26  T :  4.5     serccpp/N_26_T_4.500_ising.txt\n",
      "Doing  843 / 1149  L :  26  T :  4.6     serccpp/N_26_T_4.600_ising.txt\n",
      "Doing  844 / 1149  L :  26  T :  4.7     serccpp/N_26_T_4.700_ising.txt\n",
      "Doing  845 / 1149  L :  26  T :  4.8     serccpp/N_26_T_4.800_ising.txt\n",
      "Doing  846 / 1149  L :  26  T :  4.9     serccpp/N_26_T_4.900_ising.txt\n",
      "Doing  847 / 1149  L :  26  T :  5     serccpp/N_26_T_5.000_ising.txt\n",
      "Doing  848 / 1149  L :  26  T :  5.1     serccpp/N_26_T_5.100_ising.txt\n",
      "Doing  849 / 1149  L :  26  T :  5.2     serccpp/N_26_T_5.200_ising.txt\n",
      "Doing  850 / 1149  L :  26  T :  5.3     serccpp/N_26_T_5.300_ising.txt\n",
      "Doing  851 / 1149  L :  26  T :  5.4     serccpp/N_26_T_5.400_ising.txt\n",
      "Doing  852 / 1149  L :  26  T :  5.5     serccpp/N_26_T_5.500_ising.txt\n",
      "Doing  853 / 1149  L :  28  T :  0.8     serccpp/N_28_T_0.800_ising.txt\n",
      "Doing  854 / 1149  L :  28  T :  1     serccpp/N_28_T_1.000_ising.txt\n",
      "Doing  855 / 1149  L :  28  T :  1.2     serccpp/N_28_T_1.200_ising.txt\n",
      "Doing  856 / 1149  L :  28  T :  1.4     serccpp/N_28_T_1.400_ising.txt\n",
      "Doing  857 / 1149  L :  28  T :  1.6     serccpp/N_28_T_1.600_ising.txt\n",
      "Doing  858 / 1149  L :  28  T :  1.62     serccpp/N_28_T_1.620_ising.txt\n",
      "Doing  859 / 1149  L :  28  T :  1.64     serccpp/N_28_T_1.640_ising.txt\n",
      "Doing  860 / 1149  L :  28  T :  1.66     serccpp/N_28_T_1.660_ising.txt\n",
      "Doing  861 / 1149  L :  28  T :  1.68     serccpp/N_28_T_1.680_ising.txt\n",
      "Doing  862 / 1149  L :  28  T :  1.7     serccpp/N_28_T_1.700_ising.txt\n",
      "Doing  863 / 1149  L :  28  T :  1.72     serccpp/N_28_T_1.720_ising.txt\n",
      "Doing  864 / 1149  L :  28  T :  1.74     serccpp/N_28_T_1.740_ising.txt\n",
      "Doing  865 / 1149  L :  28  T :  1.76     serccpp/N_28_T_1.760_ising.txt\n",
      "Doing  866 / 1149  L :  28  T :  1.78     serccpp/N_28_T_1.780_ising.txt\n",
      "Doing  867 / 1149  L :  28  T :  1.8     serccpp/N_28_T_1.800_ising.txt\n",
      "Doing  868 / 1149  L :  28  T :  1.82     serccpp/N_28_T_1.820_ising.txt\n",
      "Doing  869 / 1149  L :  28  T :  1.84     serccpp/N_28_T_1.840_ising.txt\n",
      "Doing  870 / 1149  L :  28  T :  1.86     serccpp/N_28_T_1.860_ising.txt\n",
      "Doing  871 / 1149  L :  28  T :  1.88     serccpp/N_28_T_1.880_ising.txt\n",
      "Doing  872 / 1149  L :  28  T :  1.9     serccpp/N_28_T_1.900_ising.txt\n",
      "Doing  873 / 1149  L :  28  T :  1.92     serccpp/N_28_T_1.920_ising.txt\n",
      "Doing  874 / 1149  L :  28  T :  1.94     serccpp/N_28_T_1.940_ising.txt\n",
      "Doing  875 / 1149  L :  28  T :  1.96     serccpp/N_28_T_1.960_ising.txt\n",
      "Doing  876 / 1149  L :  28  T :  1.98     serccpp/N_28_T_1.980_ising.txt\n",
      "Doing  877 / 1149  L :  28  T :  2     serccpp/N_28_T_2.000_ising.txt\n",
      "Doing  878 / 1149  L :  28  T :  2.02     serccpp/N_28_T_2.020_ising.txt\n",
      "Doing  879 / 1149  L :  28  T :  2.04     serccpp/N_28_T_2.040_ising.txt\n",
      "Doing  880 / 1149  L :  28  T :  2.06     serccpp/N_28_T_2.060_ising.txt\n",
      "Doing  881 / 1149  L :  28  T :  2.08     serccpp/N_28_T_2.080_ising.txt\n",
      "Doing  882 / 1149  L :  28  T :  2.1     serccpp/N_28_T_2.100_ising.txt\n",
      "Doing  883 / 1149  L :  28  T :  2.12     serccpp/N_28_T_2.120_ising.txt\n",
      "Doing  884 / 1149  L :  28  T :  2.14     serccpp/N_28_T_2.140_ising.txt\n",
      "Doing  885 / 1149  L :  28  T :  2.16     serccpp/N_28_T_2.160_ising.txt\n",
      "Doing  886 / 1149  L :  28  T :  2.18     serccpp/N_28_T_2.180_ising.txt\n",
      "Doing  887 / 1149  L :  28  T :  2.2     serccpp/N_28_T_2.200_ising.txt\n",
      "Doing  888 / 1149  L :  28  T :  2.22     serccpp/N_28_T_2.220_ising.txt\n",
      "Doing  889 / 1149  L :  28  T :  2.24     serccpp/N_28_T_2.240_ising.txt\n",
      "Doing  890 / 1149  L :  28  T :  2.26     serccpp/N_28_T_2.260_ising.txt\n",
      "Doing  891 / 1149  L :  28  T :  2.28     serccpp/N_28_T_2.280_ising.txt\n",
      "Doing  892 / 1149  L :  28  T :  2.3     serccpp/N_28_T_2.300_ising.txt\n",
      "Doing  893 / 1149  L :  28  T :  2.32     serccpp/N_28_T_2.320_ising.txt\n",
      "Doing  894 / 1149  L :  28  T :  2.34     serccpp/N_28_T_2.340_ising.txt\n",
      "Doing  895 / 1149  L :  28  T :  2.36     serccpp/N_28_T_2.360_ising.txt\n",
      "Doing  896 / 1149  L :  28  T :  2.38     serccpp/N_28_T_2.380_ising.txt\n",
      "Doing  897 / 1149  L :  28  T :  2.4     serccpp/N_28_T_2.400_ising.txt\n",
      "Doing  898 / 1149  L :  28  T :  2.42     serccpp/N_28_T_2.420_ising.txt\n",
      "Doing  899 / 1149  L :  28  T :  2.44     serccpp/N_28_T_2.440_ising.txt\n",
      "Doing  900 / 1149  L :  28  T :  2.46     serccpp/N_28_T_2.460_ising.txt\n",
      "Doing  901 / 1149  L :  28  T :  2.48     serccpp/N_28_T_2.480_ising.txt\n",
      "Doing  902 / 1149  L :  28  T :  2.5     serccpp/N_28_T_2.500_ising.txt\n",
      "Doing  903 / 1149  L :  28  T :  2.52     serccpp/N_28_T_2.520_ising.txt\n",
      "Doing  904 / 1149  L :  28  T :  2.54     serccpp/N_28_T_2.540_ising.txt\n",
      "Doing  905 / 1149  L :  28  T :  2.56     serccpp/N_28_T_2.560_ising.txt\n",
      "Doing  906 / 1149  L :  28  T :  2.58     serccpp/N_28_T_2.580_ising.txt\n",
      "Doing  907 / 1149  L :  28  T :  2.6     serccpp/N_28_T_2.600_ising.txt\n",
      "Doing  908 / 1149  L :  28  T :  2.62     serccpp/N_28_T_2.620_ising.txt\n",
      "Doing  909 / 1149  L :  28  T :  2.64     serccpp/N_28_T_2.640_ising.txt\n",
      "Doing  910 / 1149  L :  28  T :  2.66     serccpp/N_28_T_2.660_ising.txt\n",
      "Doing  911 / 1149  L :  28  T :  2.68     serccpp/N_28_T_2.680_ising.txt\n"
     ]
    },
    {
     "name": "stdout",
     "output_type": "stream",
     "text": [
      "Doing  912 / 1149  L :  28  T :  2.7     serccpp/N_28_T_2.700_ising.txt\n",
      "Doing  913 / 1149  L :  28  T :  2.72     serccpp/N_28_T_2.720_ising.txt\n",
      "Doing  914 / 1149  L :  28  T :  2.74     serccpp/N_28_T_2.740_ising.txt\n",
      "Doing  915 / 1149  L :  28  T :  2.76     serccpp/N_28_T_2.760_ising.txt\n",
      "Doing  916 / 1149  L :  28  T :  2.78     serccpp/N_28_T_2.780_ising.txt\n",
      "Doing  917 / 1149  L :  28  T :  2.8     serccpp/N_28_T_2.800_ising.txt\n",
      "Doing  918 / 1149  L :  28  T :  2.82     serccpp/N_28_T_2.820_ising.txt\n",
      "Doing  919 / 1149  L :  28  T :  2.84     serccpp/N_28_T_2.840_ising.txt\n",
      "Doing  920 / 1149  L :  28  T :  2.86     serccpp/N_28_T_2.860_ising.txt\n",
      "Doing  921 / 1149  L :  28  T :  2.88     serccpp/N_28_T_2.880_ising.txt\n",
      "Doing  922 / 1149  L :  28  T :  2.9     serccpp/N_28_T_2.900_ising.txt\n",
      "Doing  923 / 1149  L :  28  T :  2.92     serccpp/N_28_T_2.920_ising.txt\n",
      "Doing  924 / 1149  L :  28  T :  2.94     serccpp/N_28_T_2.940_ising.txt\n",
      "Doing  925 / 1149  L :  28  T :  2.96     serccpp/N_28_T_2.960_ising.txt\n",
      "Doing  926 / 1149  L :  28  T :  2.98     serccpp/N_28_T_2.980_ising.txt\n",
      "Doing  927 / 1149  L :  28  T :  3     serccpp/N_28_T_3.000_ising.txt\n",
      "Doing  928 / 1149  L :  28  T :  3.1     serccpp/N_28_T_3.100_ising.txt\n",
      "Doing  929 / 1149  L :  28  T :  3.2     serccpp/N_28_T_3.200_ising.txt\n",
      "Doing  930 / 1149  L :  28  T :  3.3     serccpp/N_28_T_3.300_ising.txt\n",
      "Doing  931 / 1149  L :  28  T :  3.4     serccpp/N_28_T_3.400_ising.txt\n",
      "Doing  932 / 1149  L :  28  T :  3.5     serccpp/N_28_T_3.500_ising.txt\n",
      "Doing  933 / 1149  L :  28  T :  3.6     serccpp/N_28_T_3.600_ising.txt\n",
      "Doing  934 / 1149  L :  28  T :  3.7     serccpp/N_28_T_3.700_ising.txt\n",
      "Doing  935 / 1149  L :  28  T :  3.8     serccpp/N_28_T_3.800_ising.txt\n",
      "Doing  936 / 1149  L :  28  T :  3.9     serccpp/N_28_T_3.900_ising.txt\n",
      "Doing  937 / 1149  L :  28  T :  4     serccpp/N_28_T_4.000_ising.txt\n",
      "Doing  938 / 1149  L :  28  T :  4.1     serccpp/N_28_T_4.100_ising.txt\n",
      "Doing  939 / 1149  L :  28  T :  4.3     serccpp/N_28_T_4.300_ising.txt\n",
      "Doing  940 / 1149  L :  28  T :  4.4     serccpp/N_28_T_4.400_ising.txt\n",
      "Doing  941 / 1149  L :  28  T :  4.5     serccpp/N_28_T_4.500_ising.txt\n",
      "Doing  942 / 1149  L :  28  T :  4.6     serccpp/N_28_T_4.600_ising.txt\n",
      "Doing  943 / 1149  L :  28  T :  4.7     serccpp/N_28_T_4.700_ising.txt\n",
      "Doing  944 / 1149  L :  28  T :  4.8     serccpp/N_28_T_4.800_ising.txt\n",
      "Doing  945 / 1149  L :  28  T :  4.9     serccpp/N_28_T_4.900_ising.txt\n",
      "Doing  946 / 1149  L :  28  T :  5     serccpp/N_28_T_5.000_ising.txt\n",
      "Doing  947 / 1149  L :  28  T :  5.1     serccpp/N_28_T_5.100_ising.txt\n",
      "Doing  948 / 1149  L :  28  T :  5.2     serccpp/N_28_T_5.200_ising.txt\n",
      "Doing  949 / 1149  L :  28  T :  5.3     serccpp/N_28_T_5.300_ising.txt\n",
      "Doing  950 / 1149  L :  28  T :  5.4     serccpp/N_28_T_5.400_ising.txt\n",
      "Doing  951 / 1149  L :  28  T :  5.5     serccpp/N_28_T_5.500_ising.txt\n",
      "Doing  952 / 1149  L :  30  T :  0.8     serccpp/N_30_T_0.800_ising.txt\n",
      "Doing  953 / 1149  L :  30  T :  1     serccpp/N_30_T_1.000_ising.txt\n",
      "Doing  954 / 1149  L :  30  T :  1.2     serccpp/N_30_T_1.200_ising.txt\n",
      "Doing  955 / 1149  L :  30  T :  1.4     serccpp/N_30_T_1.400_ising.txt\n",
      "Doing  956 / 1149  L :  30  T :  1.6     serccpp/N_30_T_1.600_ising.txt\n",
      "Doing  957 / 1149  L :  30  T :  1.62     serccpp/N_30_T_1.620_ising.txt\n",
      "Doing  958 / 1149  L :  30  T :  1.64     serccpp/N_30_T_1.640_ising.txt\n",
      "Doing  959 / 1149  L :  30  T :  1.66     serccpp/N_30_T_1.660_ising.txt\n",
      "Doing  960 / 1149  L :  30  T :  1.68     serccpp/N_30_T_1.680_ising.txt\n",
      "Doing  961 / 1149  L :  30  T :  1.7     serccpp/N_30_T_1.700_ising.txt\n",
      "Doing  962 / 1149  L :  30  T :  1.72     serccpp/N_30_T_1.720_ising.txt\n",
      "Doing  963 / 1149  L :  30  T :  1.74     serccpp/N_30_T_1.740_ising.txt\n",
      "Doing  964 / 1149  L :  30  T :  1.76     serccpp/N_30_T_1.760_ising.txt\n",
      "Doing  965 / 1149  L :  30  T :  1.78     serccpp/N_30_T_1.780_ising.txt\n",
      "Doing  966 / 1149  L :  30  T :  1.8     serccpp/N_30_T_1.800_ising.txt\n",
      "Doing  967 / 1149  L :  30  T :  1.82     serccpp/N_30_T_1.820_ising.txt\n",
      "Doing  968 / 1149  L :  30  T :  1.84     serccpp/N_30_T_1.840_ising.txt\n",
      "Doing  969 / 1149  L :  30  T :  1.86     serccpp/N_30_T_1.860_ising.txt\n",
      "Doing  970 / 1149  L :  30  T :  1.88     serccpp/N_30_T_1.880_ising.txt\n",
      "Doing  971 / 1149  L :  30  T :  1.9     serccpp/N_30_T_1.900_ising.txt\n",
      "Doing  972 / 1149  L :  30  T :  1.92     serccpp/N_30_T_1.920_ising.txt\n",
      "Doing  973 / 1149  L :  30  T :  1.94     serccpp/N_30_T_1.940_ising.txt\n",
      "Doing  974 / 1149  L :  30  T :  1.96     serccpp/N_30_T_1.960_ising.txt\n",
      "Doing  975 / 1149  L :  30  T :  1.98     serccpp/N_30_T_1.980_ising.txt\n",
      "Doing  976 / 1149  L :  30  T :  2     serccpp/N_30_T_2.000_ising.txt\n",
      "Doing  977 / 1149  L :  30  T :  2.02     serccpp/N_30_T_2.020_ising.txt\n",
      "Doing  978 / 1149  L :  30  T :  2.04     serccpp/N_30_T_2.040_ising.txt\n",
      "Doing  979 / 1149  L :  30  T :  2.06     serccpp/N_30_T_2.060_ising.txt\n",
      "Doing  980 / 1149  L :  30  T :  2.08     serccpp/N_30_T_2.080_ising.txt\n",
      "Doing  981 / 1149  L :  30  T :  2.1     serccpp/N_30_T_2.100_ising.txt\n",
      "Doing  982 / 1149  L :  30  T :  2.12     serccpp/N_30_T_2.120_ising.txt\n",
      "Doing  983 / 1149  L :  30  T :  2.14     serccpp/N_30_T_2.140_ising.txt\n",
      "Doing  984 / 1149  L :  30  T :  2.16     serccpp/N_30_T_2.160_ising.txt\n",
      "Doing  985 / 1149  L :  30  T :  2.18     serccpp/N_30_T_2.180_ising.txt\n",
      "Doing  986 / 1149  L :  30  T :  2.2     serccpp/N_30_T_2.200_ising.txt\n",
      "Doing  987 / 1149  L :  30  T :  2.22     serccpp/N_30_T_2.220_ising.txt\n",
      "Doing  988 / 1149  L :  30  T :  2.24     serccpp/N_30_T_2.240_ising.txt\n",
      "Doing  989 / 1149  L :  30  T :  2.26     serccpp/N_30_T_2.260_ising.txt\n",
      "Doing  990 / 1149  L :  30  T :  2.28     serccpp/N_30_T_2.280_ising.txt\n",
      "Doing  991 / 1149  L :  30  T :  2.3     serccpp/N_30_T_2.300_ising.txt\n",
      "Doing  992 / 1149  L :  30  T :  2.32     serccpp/N_30_T_2.320_ising.txt\n",
      "Doing  993 / 1149  L :  30  T :  2.34     serccpp/N_30_T_2.340_ising.txt\n",
      "Doing  994 / 1149  L :  30  T :  2.36     serccpp/N_30_T_2.360_ising.txt\n",
      "Doing  995 / 1149  L :  30  T :  2.38     serccpp/N_30_T_2.380_ising.txt\n",
      "Doing  996 / 1149  L :  30  T :  2.4     serccpp/N_30_T_2.400_ising.txt\n",
      "Doing  997 / 1149  L :  30  T :  2.42     serccpp/N_30_T_2.420_ising.txt\n",
      "Doing  998 / 1149  L :  30  T :  2.44     serccpp/N_30_T_2.440_ising.txt\n",
      "Doing  999 / 1149  L :  30  T :  2.46     serccpp/N_30_T_2.460_ising.txt\n",
      "Doing  1000 / 1149  L :  30  T :  2.48     serccpp/N_30_T_2.480_ising.txt\n",
      "Doing  1001 / 1149  L :  30  T :  2.5     serccpp/N_30_T_2.500_ising.txt\n",
      "Doing  1002 / 1149  L :  30  T :  2.52     serccpp/N_30_T_2.520_ising.txt\n",
      "Doing  1003 / 1149  L :  30  T :  2.54     serccpp/N_30_T_2.540_ising.txt\n",
      "Doing  1004 / 1149  L :  30  T :  2.56     serccpp/N_30_T_2.560_ising.txt\n",
      "Doing  1005 / 1149  L :  30  T :  2.58     serccpp/N_30_T_2.580_ising.txt\n",
      "Doing  1006 / 1149  L :  30  T :  2.6     serccpp/N_30_T_2.600_ising.txt\n",
      "Doing  1007 / 1149  L :  30  T :  2.62     serccpp/N_30_T_2.620_ising.txt\n",
      "Doing  1008 / 1149  L :  30  T :  2.64     serccpp/N_30_T_2.640_ising.txt\n",
      "Doing  1009 / 1149  L :  30  T :  2.66     serccpp/N_30_T_2.660_ising.txt\n",
      "Doing  1010 / 1149  L :  30  T :  2.68     serccpp/N_30_T_2.680_ising.txt\n",
      "Doing  1011 / 1149  L :  30  T :  2.7     serccpp/N_30_T_2.700_ising.txt\n",
      "Doing  1012 / 1149  L :  30  T :  2.72     serccpp/N_30_T_2.720_ising.txt\n",
      "Doing  1013 / 1149  L :  30  T :  2.74     serccpp/N_30_T_2.740_ising.txt\n",
      "Doing  1014 / 1149  L :  30  T :  2.76     serccpp/N_30_T_2.760_ising.txt\n",
      "Doing  1015 / 1149  L :  30  T :  2.78     serccpp/N_30_T_2.780_ising.txt\n",
      "Doing  1016 / 1149  L :  30  T :  2.8     serccpp/N_30_T_2.800_ising.txt\n",
      "Doing  1017 / 1149  L :  30  T :  2.82     serccpp/N_30_T_2.820_ising.txt\n",
      "Doing  1018 / 1149  L :  30  T :  2.84     serccpp/N_30_T_2.840_ising.txt\n",
      "Doing  1019 / 1149  L :  30  T :  2.86     serccpp/N_30_T_2.860_ising.txt\n",
      "Doing  1020 / 1149  L :  30  T :  2.88     serccpp/N_30_T_2.880_ising.txt\n",
      "Doing  1021 / 1149  L :  30  T :  2.9     serccpp/N_30_T_2.900_ising.txt\n",
      "Doing  1022 / 1149  L :  30  T :  2.92     serccpp/N_30_T_2.920_ising.txt\n",
      "Doing  1023 / 1149  L :  30  T :  2.94     serccpp/N_30_T_2.940_ising.txt\n",
      "Doing  1024 / 1149  L :  30  T :  2.96     serccpp/N_30_T_2.960_ising.txt\n"
     ]
    },
    {
     "name": "stdout",
     "output_type": "stream",
     "text": [
      "Doing  1025 / 1149  L :  30  T :  2.98     serccpp/N_30_T_2.980_ising.txt\n",
      "Doing  1026 / 1149  L :  30  T :  3     serccpp/N_30_T_3.000_ising.txt\n",
      "Doing  1027 / 1149  L :  30  T :  3.1     serccpp/N_30_T_3.100_ising.txt\n",
      "Doing  1028 / 1149  L :  30  T :  3.2     serccpp/N_30_T_3.200_ising.txt\n",
      "Doing  1029 / 1149  L :  30  T :  3.3     serccpp/N_30_T_3.300_ising.txt\n",
      "Doing  1030 / 1149  L :  30  T :  3.4     serccpp/N_30_T_3.400_ising.txt\n",
      "Doing  1031 / 1149  L :  30  T :  3.5     serccpp/N_30_T_3.500_ising.txt\n",
      "Doing  1032 / 1149  L :  30  T :  3.6     serccpp/N_30_T_3.600_ising.txt\n",
      "Doing  1033 / 1149  L :  30  T :  3.7     serccpp/N_30_T_3.700_ising.txt\n",
      "Doing  1034 / 1149  L :  30  T :  3.8     serccpp/N_30_T_3.800_ising.txt\n",
      "Doing  1035 / 1149  L :  30  T :  3.9     serccpp/N_30_T_3.900_ising.txt\n",
      "Doing  1036 / 1149  L :  30  T :  4     serccpp/N_30_T_4.000_ising.txt\n",
      "Doing  1037 / 1149  L :  30  T :  4.1     serccpp/N_30_T_4.100_ising.txt\n",
      "Doing  1038 / 1149  L :  30  T :  4.3     serccpp/N_30_T_4.300_ising.txt\n",
      "Doing  1039 / 1149  L :  30  T :  4.4     serccpp/N_30_T_4.400_ising.txt\n",
      "Doing  1040 / 1149  L :  30  T :  4.5     serccpp/N_30_T_4.500_ising.txt\n",
      "Doing  1041 / 1149  L :  30  T :  4.6     serccpp/N_30_T_4.600_ising.txt\n",
      "Doing  1042 / 1149  L :  30  T :  4.7     serccpp/N_30_T_4.700_ising.txt\n",
      "Doing  1043 / 1149  L :  30  T :  4.8     serccpp/N_30_T_4.800_ising.txt\n",
      "Doing  1044 / 1149  L :  30  T :  4.9     serccpp/N_30_T_4.900_ising.txt\n",
      "Doing  1045 / 1149  L :  30  T :  5     serccpp/N_30_T_5.000_ising.txt\n",
      "Doing  1046 / 1149  L :  30  T :  5.1     serccpp/N_30_T_5.100_ising.txt\n",
      "Doing  1047 / 1149  L :  30  T :  5.2     serccpp/N_30_T_5.200_ising.txt\n",
      "Doing  1048 / 1149  L :  30  T :  5.3     serccpp/N_30_T_5.300_ising.txt\n",
      "Doing  1049 / 1149  L :  30  T :  5.4     serccpp/N_30_T_5.400_ising.txt\n",
      "Doing  1050 / 1149  L :  30  T :  5.5     serccpp/N_30_T_5.500_ising.txt\n",
      "Doing  1051 / 1149  L :  32  T :  0.8     serccpp/N_32_T_0.800_ising.txt\n",
      "Doing  1052 / 1149  L :  32  T :  1     serccpp/N_32_T_1.000_ising.txt\n",
      "Doing  1053 / 1149  L :  32  T :  1.2     serccpp/N_32_T_1.200_ising.txt\n",
      "Doing  1054 / 1149  L :  32  T :  1.4     serccpp/N_32_T_1.400_ising.txt\n",
      "Doing  1055 / 1149  L :  32  T :  1.6     serccpp/N_32_T_1.600_ising.txt\n",
      "Doing  1056 / 1149  L :  32  T :  1.62     serccpp/N_32_T_1.620_ising.txt\n",
      "Doing  1057 / 1149  L :  32  T :  1.64     serccpp/N_32_T_1.640_ising.txt\n",
      "Doing  1058 / 1149  L :  32  T :  1.66     serccpp/N_32_T_1.660_ising.txt\n",
      "Doing  1059 / 1149  L :  32  T :  1.68     serccpp/N_32_T_1.680_ising.txt\n",
      "Doing  1060 / 1149  L :  32  T :  1.7     serccpp/N_32_T_1.700_ising.txt\n",
      "Doing  1061 / 1149  L :  32  T :  1.72     serccpp/N_32_T_1.720_ising.txt\n",
      "Doing  1062 / 1149  L :  32  T :  1.74     serccpp/N_32_T_1.740_ising.txt\n",
      "Doing  1063 / 1149  L :  32  T :  1.76     serccpp/N_32_T_1.760_ising.txt\n",
      "Doing  1064 / 1149  L :  32  T :  1.78     serccpp/N_32_T_1.780_ising.txt\n",
      "Doing  1065 / 1149  L :  32  T :  1.8     serccpp/N_32_T_1.800_ising.txt\n",
      "Doing  1066 / 1149  L :  32  T :  1.82     serccpp/N_32_T_1.820_ising.txt\n",
      "Doing  1067 / 1149  L :  32  T :  1.84     serccpp/N_32_T_1.840_ising.txt\n",
      "Doing  1068 / 1149  L :  32  T :  1.86     serccpp/N_32_T_1.860_ising.txt\n",
      "Doing  1069 / 1149  L :  32  T :  1.88     serccpp/N_32_T_1.880_ising.txt\n",
      "Doing  1070 / 1149  L :  32  T :  1.9     serccpp/N_32_T_1.900_ising.txt\n",
      "Doing  1071 / 1149  L :  32  T :  1.92     serccpp/N_32_T_1.920_ising.txt\n",
      "Doing  1072 / 1149  L :  32  T :  1.94     serccpp/N_32_T_1.940_ising.txt\n",
      "Doing  1073 / 1149  L :  32  T :  1.96     serccpp/N_32_T_1.960_ising.txt\n",
      "Doing  1074 / 1149  L :  32  T :  1.98     serccpp/N_32_T_1.980_ising.txt\n",
      "Doing  1075 / 1149  L :  32  T :  2     serccpp/N_32_T_2.000_ising.txt\n",
      "Doing  1076 / 1149  L :  32  T :  2.02     serccpp/N_32_T_2.020_ising.txt\n",
      "Doing  1077 / 1149  L :  32  T :  2.04     serccpp/N_32_T_2.040_ising.txt\n",
      "Doing  1078 / 1149  L :  32  T :  2.06     serccpp/N_32_T_2.060_ising.txt\n",
      "Doing  1079 / 1149  L :  32  T :  2.08     serccpp/N_32_T_2.080_ising.txt\n",
      "Doing  1080 / 1149  L :  32  T :  2.1     serccpp/N_32_T_2.100_ising.txt\n",
      "Doing  1081 / 1149  L :  32  T :  2.12     serccpp/N_32_T_2.120_ising.txt\n",
      "Doing  1082 / 1149  L :  32  T :  2.14     serccpp/N_32_T_2.140_ising.txt\n",
      "Doing  1083 / 1149  L :  32  T :  2.16     serccpp/N_32_T_2.160_ising.txt\n",
      "Doing  1084 / 1149  L :  32  T :  2.18     serccpp/N_32_T_2.180_ising.txt\n",
      "Doing  1085 / 1149  L :  32  T :  2.2     serccpp/N_32_T_2.200_ising.txt\n",
      "Doing  1086 / 1149  L :  32  T :  2.22     serccpp/N_32_T_2.220_ising.txt\n",
      "Doing  1087 / 1149  L :  32  T :  2.24     serccpp/N_32_T_2.240_ising.txt\n",
      "Doing  1088 / 1149  L :  32  T :  2.26     serccpp/N_32_T_2.260_ising.txt\n",
      "Doing  1089 / 1149  L :  32  T :  2.28     serccpp/N_32_T_2.280_ising.txt\n",
      "Doing  1090 / 1149  L :  32  T :  2.3     serccpp/N_32_T_2.300_ising.txt\n",
      "Doing  1091 / 1149  L :  32  T :  2.32     serccpp/N_32_T_2.320_ising.txt\n",
      "Doing  1092 / 1149  L :  32  T :  2.34     serccpp/N_32_T_2.340_ising.txt\n",
      "Doing  1093 / 1149  L :  32  T :  2.36     serccpp/N_32_T_2.360_ising.txt\n",
      "Doing  1094 / 1149  L :  32  T :  2.38     serccpp/N_32_T_2.380_ising.txt\n",
      "Doing  1095 / 1149  L :  32  T :  2.4     serccpp/N_32_T_2.400_ising.txt\n",
      "Doing  1096 / 1149  L :  32  T :  2.42     serccpp/N_32_T_2.420_ising.txt\n",
      "Doing  1097 / 1149  L :  32  T :  2.44     serccpp/N_32_T_2.440_ising.txt\n",
      "Doing  1098 / 1149  L :  32  T :  2.46     serccpp/N_32_T_2.460_ising.txt\n",
      "Doing  1099 / 1149  L :  32  T :  2.48     serccpp/N_32_T_2.480_ising.txt\n",
      "Doing  1100 / 1149  L :  32  T :  2.5     serccpp/N_32_T_2.500_ising.txt\n",
      "Doing  1101 / 1149  L :  32  T :  2.52     serccpp/N_32_T_2.520_ising.txt\n",
      "Doing  1102 / 1149  L :  32  T :  2.54     serccpp/N_32_T_2.540_ising.txt\n",
      "Doing  1103 / 1149  L :  32  T :  2.56     serccpp/N_32_T_2.560_ising.txt\n",
      "Doing  1104 / 1149  L :  32  T :  2.58     serccpp/N_32_T_2.580_ising.txt\n",
      "Doing  1105 / 1149  L :  32  T :  2.6     serccpp/N_32_T_2.600_ising.txt\n",
      "Doing  1106 / 1149  L :  32  T :  2.62     serccpp/N_32_T_2.620_ising.txt\n",
      "Doing  1107 / 1149  L :  32  T :  2.64     serccpp/N_32_T_2.640_ising.txt\n",
      "Doing  1108 / 1149  L :  32  T :  2.66     serccpp/N_32_T_2.660_ising.txt\n",
      "Doing  1109 / 1149  L :  32  T :  2.68     serccpp/N_32_T_2.680_ising.txt\n",
      "Doing  1110 / 1149  L :  32  T :  2.7     serccpp/N_32_T_2.700_ising.txt\n",
      "Doing  1111 / 1149  L :  32  T :  2.72     serccpp/N_32_T_2.720_ising.txt\n",
      "Doing  1112 / 1149  L :  32  T :  2.74     serccpp/N_32_T_2.740_ising.txt\n",
      "Doing  1113 / 1149  L :  32  T :  2.76     serccpp/N_32_T_2.760_ising.txt\n",
      "Doing  1114 / 1149  L :  32  T :  2.78     serccpp/N_32_T_2.780_ising.txt\n",
      "Doing  1115 / 1149  L :  32  T :  2.8     serccpp/N_32_T_2.800_ising.txt\n",
      "Doing  1116 / 1149  L :  32  T :  2.82     serccpp/N_32_T_2.820_ising.txt\n",
      "Doing  1117 / 1149  L :  32  T :  2.84     serccpp/N_32_T_2.840_ising.txt\n",
      "Doing  1118 / 1149  L :  32  T :  2.86     serccpp/N_32_T_2.860_ising.txt\n",
      "Doing  1119 / 1149  L :  32  T :  2.88     serccpp/N_32_T_2.880_ising.txt\n",
      "Doing  1120 / 1149  L :  32  T :  2.9     serccpp/N_32_T_2.900_ising.txt\n",
      "Doing  1121 / 1149  L :  32  T :  2.92     serccpp/N_32_T_2.920_ising.txt\n",
      "Doing  1122 / 1149  L :  32  T :  2.94     serccpp/N_32_T_2.940_ising.txt\n",
      "Doing  1123 / 1149  L :  32  T :  2.96     serccpp/N_32_T_2.960_ising.txt\n",
      "Doing  1124 / 1149  L :  32  T :  2.98     serccpp/N_32_T_2.980_ising.txt\n",
      "Doing  1125 / 1149  L :  32  T :  3     serccpp/N_32_T_3.000_ising.txt\n",
      "Doing  1126 / 1149  L :  32  T :  3.1     serccpp/N_32_T_3.100_ising.txt\n",
      "Doing  1127 / 1149  L :  32  T :  3.2     serccpp/N_32_T_3.200_ising.txt\n",
      "Doing  1128 / 1149  L :  32  T :  3.3     serccpp/N_32_T_3.300_ising.txt\n",
      "Doing  1129 / 1149  L :  32  T :  3.4     serccpp/N_32_T_3.400_ising.txt\n",
      "Doing  1130 / 1149  L :  32  T :  3.5     serccpp/N_32_T_3.500_ising.txt\n",
      "Doing  1131 / 1149  L :  32  T :  3.6     serccpp/N_32_T_3.600_ising.txt\n",
      "Doing  1132 / 1149  L :  32  T :  3.7     serccpp/N_32_T_3.700_ising.txt\n",
      "Doing  1133 / 1149  L :  32  T :  3.8     serccpp/N_32_T_3.800_ising.txt\n",
      "Doing  1134 / 1149  L :  32  T :  3.9     serccpp/N_32_T_3.900_ising.txt\n",
      "Doing  1135 / 1149  L :  32  T :  4     serccpp/N_32_T_4.000_ising.txt\n",
      "Doing  1136 / 1149  L :  32  T :  4.1     serccpp/N_32_T_4.100_ising.txt\n",
      "Doing  1137 / 1149  L :  32  T :  4.3     serccpp/N_32_T_4.300_ising.txt\n"
     ]
    },
    {
     "name": "stdout",
     "output_type": "stream",
     "text": [
      "Doing  1138 / 1149  L :  32  T :  4.4     serccpp/N_32_T_4.400_ising.txt\n",
      "Doing  1139 / 1149  L :  32  T :  4.5     serccpp/N_32_T_4.500_ising.txt\n",
      "Doing  1140 / 1149  L :  32  T :  4.6     serccpp/N_32_T_4.600_ising.txt\n",
      "Doing  1141 / 1149  L :  32  T :  4.7     serccpp/N_32_T_4.700_ising.txt\n",
      "Doing  1142 / 1149  L :  32  T :  4.8     serccpp/N_32_T_4.800_ising.txt\n",
      "Doing  1143 / 1149  L :  32  T :  4.9     serccpp/N_32_T_4.900_ising.txt\n",
      "Doing  1144 / 1149  L :  32  T :  5     serccpp/N_32_T_5.000_ising.txt\n",
      "Doing  1145 / 1149  L :  32  T :  5.1     serccpp/N_32_T_5.100_ising.txt\n",
      "Doing  1146 / 1149  L :  32  T :  5.2     serccpp/N_32_T_5.200_ising.txt\n",
      "Doing  1147 / 1149  L :  32  T :  5.3     serccpp/N_32_T_5.300_ising.txt\n",
      "Doing  1148 / 1149  L :  32  T :  5.4     serccpp/N_32_T_5.400_ising.txt\n",
      "Doing  1149 / 1149  L :  32  T :  5.5     serccpp/N_32_T_5.500_ising.txt\n"
     ]
    }
   ],
   "source": [
    "ml=10000\n",
    "sampled=[]\n",
    "analy=dict()\n",
    "i=-1\n",
    "extracted_vals=dict()\n",
    "rslt=open('cppanalysis/result_ising_all_2','w')\n",
    "cfit=open('cppanalysis/cfit_ising_all_2','w')\n",
    "rslt.write('Temp,N,Magetization,MagErr,Specific_Heat,SP_Err,Succeptibility,succepErr\\n')\n",
    "cfit.write('N,temp,Xi,Xi_err\\n')\n",
    "l=len(fnames)\n",
    "for fn in fnames:\n",
    "    i+=1\n",
    "    dat=get_data(fn);\n",
    "    try:\n",
    "        L=dat['params']['length of lattice  '];\n",
    "    except:\n",
    "        L=dat['params']['N '];    \n",
    "    try:\n",
    "        T=dat['params']['T   '];\n",
    "    except:\n",
    "        T=dat['params']['T '];    \n",
    "    if T<0.75:\n",
    "        continue\n",
    "    if L not in extracted_vals.keys():\n",
    "        extracted_vals.update({L:{'T':[],'mag':[],'mag_err':[],'sp_heat':[],'sp_heat_err':[],\n",
    "                                  'sucep':[],'sucep_err':[]}})\n",
    "    \n",
    "    print(\"Doing \",i+1,\"/\",l, \" L : \",L,\" T : \",T,\"   \",fn)\n",
    "    N=L*L\n",
    "    sdata=sample_data(dat,Max_lags=ml);\n",
    "    analy=analyze(T,N,sdata['energy'],sdata['magentization'])\n",
    "    extracted_vals[L]['T'].append(T)\n",
    "    extracted_vals[L]['mag'].append(analy[0][0])\n",
    "    extracted_vals[L]['mag_err'].append(analy[0][1])\n",
    "    extracted_vals[L]['sp_heat'].append(analy[1][0])\n",
    "    extracted_vals[L]['sp_heat_err'].append(analy[1][1])\n",
    "    extracted_vals[L]['sucep'].append(analy[2][0]*N)\n",
    "    extracted_vals[L]['sucep_err'].append(analy[2][1]*N)\n",
    "    rslt.write(str(T)+\",\"+str(L)+\",\"+str(analy[0][0])+\",\"+str(analy[0][1]))\n",
    "    rslt.write(\",\"+str(analy[1][0])+\",\"+str(analy[1][1]))\n",
    "    rslt.write(\",\"+str(analy[2][0]*N)+\",\"+str(analy[2][1]*N)+\"\\n\")\n",
    "    cfit.write(str(L)+\",\"+str(T)+\",\"+str(analy[2][0])+\",\"+str(analy[2][1])+\"\\n\")\n",
    "rslt.close()\n",
    "cfit.close()"
   ]
  },
  {
   "cell_type": "markdown",
   "metadata": {},
   "source": [
    "## READING THE EXTRACTED DATA FOR DIFFERENT RANDOM ENGINE"
   ]
  },
  {
   "cell_type": "code",
   "execution_count": 9,
   "metadata": {
    "ExecuteTime": {
     "end_time": "2019-03-30T06:24:39.638134Z",
     "start_time": "2019-03-30T06:24:39.561503Z"
    },
    "code_folding": []
   },
   "outputs": [
    {
     "name": "stdout",
     "output_type": "stream",
     "text": [
      "22\n",
      "22\n"
     ]
    }
   ],
   "source": [
    "f=open('cppanalysis/result_misner','r')\n",
    "X=True\n",
    "while(X):\n",
    "    X=False\n",
    "    extracted_vals=dict()\n",
    "    l=f.readline()\n",
    "    l=f.readline()\n",
    "    i=0\n",
    "    while l:\n",
    "        i+=1\n",
    "        try:\n",
    "            it=l[:-1].split(',')\n",
    "    #         print(it)\n",
    "            L=int(it[1])\n",
    "            if L not in extracted_vals.keys():\n",
    "                extracted_vals.update({L:{'T':[],'mag':[],'mag_err':[],'sp_heat':[],'sp_heat_err':[],\n",
    "                                          'sucep':[],'sucep_err':[]}})\n",
    "            extracted_vals[L]['T'].append(float(it[0]))\n",
    "            extracted_vals[L]['mag'].append(float(it[2]))\n",
    "            extracted_vals[L]['mag_err'].append(float(it[3]))\n",
    "            extracted_vals[L]['sp_heat'].append(float(it[4]))\n",
    "            extracted_vals[L]['sp_heat_err'].append(float(it[5]))\n",
    "            extracted_vals[L]['sucep'].append(float(it[6]))\n",
    "            extracted_vals[L]['sucep_err'].append(float(it[7]))\n",
    "            l=f.readline()\n",
    "        except:\n",
    "            print(it)\n",
    "            l=f.readline()\n",
    "    f.close()\n",
    "    print(i)\n",
    "    \n",
    "f=open('cppanalysis/result_rand','r')\n",
    "X=True\n",
    "while(X):\n",
    "    X=False\n",
    "    extracted_vals_rand=dict()\n",
    "    l=f.readline()\n",
    "    l=f.readline()\n",
    "    i=0\n",
    "    while l:\n",
    "        i+=1\n",
    "        try:\n",
    "            it=l[:-1].split(',')\n",
    "    #         print(it)\n",
    "            L=int(it[1])\n",
    "            if L not in extracted_vals_rand.keys():\n",
    "                extracted_vals_rand.update({L:{'T':[],'mag':[],'mag_err':[],'sp_heat':[],'sp_heat_err':[],\n",
    "                                          'sucep':[],'sucep_err':[]}})\n",
    "            extracted_vals_rand[L]['T'].append(float(it[0]))\n",
    "            extracted_vals_rand[L]['mag'].append(float(it[2]))\n",
    "            extracted_vals_rand[L]['mag_err'].append(float(it[3]))\n",
    "            extracted_vals_rand[L]['sp_heat'].append(float(it[4]))\n",
    "            extracted_vals_rand[L]['sp_heat_err'].append(float(it[5]))\n",
    "            extracted_vals_rand[L]['sucep'].append(float(it[6]))\n",
    "            extracted_vals_rand[L]['sucep_err'].append(float(it[7]))\n",
    "            l=f.readline()\n",
    "        except:\n",
    "            print(it)\n",
    "            l=f.readline()\n",
    "    f.close()\n",
    "    print(i)"
   ]
  },
  {
   "cell_type": "code",
   "execution_count": 10,
   "metadata": {
    "ExecuteTime": {
     "end_time": "2019-03-30T06:24:41.557618Z",
     "start_time": "2019-03-30T06:24:41.547649Z"
    }
   },
   "outputs": [
    {
     "data": {
      "text/plain": [
       "dict_keys([5])"
      ]
     },
     "execution_count": 10,
     "metadata": {},
     "output_type": "execute_result"
    }
   ],
   "source": [
    "extracted_vals.keys()"
   ]
  },
  {
   "cell_type": "code",
   "execution_count": 13,
   "metadata": {
    "ExecuteTime": {
     "end_time": "2019-03-30T06:25:27.895629Z",
     "start_time": "2019-03-30T06:25:27.876128Z"
    }
   },
   "outputs": [
    {
     "ename": "KeyError",
     "evalue": "'energy'",
     "output_type": "error",
     "traceback": [
      "\u001b[0;31m---------------------------------------------------------------------------\u001b[0m",
      "\u001b[0;31mKeyError\u001b[0m                                  Traceback (most recent call last)",
      "\u001b[0;32m<ipython-input-13-74429db26969>\u001b[0m in \u001b[0;36m<module>\u001b[0;34m()\u001b[0m\n\u001b[1;32m      1\u001b[0m \u001b[0mlbl\u001b[0m\u001b[0;34m=\u001b[0m\u001b[0;34m'energy'\u001b[0m\u001b[0;34m\u001b[0m\u001b[0m\n\u001b[1;32m      2\u001b[0m \u001b[0;32mfor\u001b[0m \u001b[0mi\u001b[0m \u001b[0;32min\u001b[0m \u001b[0mextracted_vals\u001b[0m\u001b[0;34m.\u001b[0m\u001b[0mkeys\u001b[0m\u001b[0;34m(\u001b[0m\u001b[0;34m)\u001b[0m\u001b[0;34m:\u001b[0m\u001b[0;34m\u001b[0m\u001b[0m\n\u001b[0;32m----> 3\u001b[0;31m     \u001b[0mY\u001b[0m\u001b[0;34m=\u001b[0m\u001b[0;34m[\u001b[0m\u001b[0;34m(\u001b[0m\u001b[0mk\u001b[0m\u001b[0;34m/\u001b[0m\u001b[0mi\u001b[0m\u001b[0;34m**\u001b[0m\u001b[0;36m2\u001b[0m\u001b[0;34m)\u001b[0m \u001b[0;32mfor\u001b[0m \u001b[0mk\u001b[0m \u001b[0;32min\u001b[0m \u001b[0mextracted_vals\u001b[0m\u001b[0;34m[\u001b[0m\u001b[0mi\u001b[0m\u001b[0;34m]\u001b[0m\u001b[0;34m[\u001b[0m\u001b[0mlbl\u001b[0m\u001b[0;34m]\u001b[0m\u001b[0;34m]\u001b[0m\u001b[0;34m\u001b[0m\u001b[0m\n\u001b[0m\u001b[1;32m      4\u001b[0m     \u001b[0mY_err\u001b[0m\u001b[0;34m=\u001b[0m\u001b[0;34m[\u001b[0m\u001b[0;34m(\u001b[0m\u001b[0mk\u001b[0m\u001b[0;34m/\u001b[0m\u001b[0mi\u001b[0m\u001b[0;34m**\u001b[0m\u001b[0;36m2\u001b[0m\u001b[0;34m)\u001b[0m \u001b[0;32mfor\u001b[0m \u001b[0mk\u001b[0m \u001b[0;32min\u001b[0m \u001b[0mextracted_vals\u001b[0m\u001b[0;34m[\u001b[0m\u001b[0mi\u001b[0m\u001b[0;34m]\u001b[0m\u001b[0;34m[\u001b[0m\u001b[0mlbl\u001b[0m\u001b[0;34m+\u001b[0m\u001b[0;34m\"_err\"\u001b[0m\u001b[0;34m]\u001b[0m\u001b[0;34m]\u001b[0m\u001b[0;34m\u001b[0m\u001b[0m\n\u001b[1;32m      5\u001b[0m     \u001b[0max\u001b[0m\u001b[0;34m[\u001b[0m\u001b[0;36m0\u001b[0m\u001b[0;34m]\u001b[0m\u001b[0;34m.\u001b[0m\u001b[0merrorbar\u001b[0m\u001b[0;34m(\u001b[0m\u001b[0mextracted_vals\u001b[0m\u001b[0;34m[\u001b[0m\u001b[0mi\u001b[0m\u001b[0;34m]\u001b[0m\u001b[0;34m[\u001b[0m\u001b[0;34m'T'\u001b[0m\u001b[0;34m]\u001b[0m\u001b[0;34m,\u001b[0m\u001b[0mY\u001b[0m\u001b[0;34m,\u001b[0m\u001b[0mY_err\u001b[0m\u001b[0;34m,\u001b[0m\u001b[0mfmt\u001b[0m\u001b[0;34m=\u001b[0m\u001b[0;34m'o'\u001b[0m\u001b[0;34m,\u001b[0m\u001b[0mlabel\u001b[0m\u001b[0;34m=\u001b[0m\u001b[0;34m'misner'\u001b[0m\u001b[0;34m)\u001b[0m\u001b[0;34m\u001b[0m\u001b[0m\n",
      "\u001b[0;31mKeyError\u001b[0m: 'energy'"
     ]
    }
   ],
   "source": [
    "lbl='energy'\n",
    "for i in extracted_vals.keys():\n",
    "    Y=[(k/i**2) for k in extracted_vals[i][lbl]]\n",
    "    Y_err=[(k/i**2) for k in extracted_vals[i][lbl+\"_err\"]]\n",
    "    ax[0].errorbar(extracted_vals[i]['T'],Y,Y_err,fmt='o',label='misner')\n",
    "    ax[0].set_xlabel('T')\n",
    "    ax[0].set_ylabel(lbl)\n",
    "    ax[0].set_title(lbl+ \" vs T\")\n",
    "    ax[0].legend(loc=0)"
   ]
  },
  {
   "cell_type": "code",
   "execution_count": 57,
   "metadata": {
    "ExecuteTime": {
     "end_time": "2019-03-30T07:13:31.941750Z",
     "start_time": "2019-03-30T07:13:31.915513Z"
    },
    "code_folding": [
     2,
     8
    ]
   },
   "outputs": [
    {
     "name": "stdout",
     "output_type": "stream",
     "text": [
      "22\n"
     ]
    }
   ],
   "source": [
    "f=open('cppanalysis/result_misner','r')\n",
    "X=True\n",
    "while(X):\n",
    "    X=False\n",
    "    extracted_vals=dict()\n",
    "    l=f.readline()\n",
    "    l=f.readline()\n",
    "    i=0\n",
    "    while l:\n",
    "        i+=1\n",
    "        try:\n",
    "            it=l[:-1].split(',')\n",
    "    #         print(it)\n",
    "            L=int(it[1])\n",
    "            if L not in extracted_vals.keys():\n",
    "                extracted_vals.update({L:{'T':[],'mag':[],'mag_err':[],'sp_heat':[],'sp_heat_err':[],\n",
    "                                          'sucep':[],'sucep_err':[]}})\n",
    "            extracted_vals[L]['T'].append(float(it[0]))\n",
    "            extracted_vals[L]['mag'].append(float(it[2]))\n",
    "            extracted_vals[L]['mag_err'].append(float(it[3]))\n",
    "            extracted_vals[L]['sp_heat'].append(float(it[4]))\n",
    "            extracted_vals[L]['sp_heat_err'].append(float(it[5]))\n",
    "            extracted_vals[L]['sucep'].append(float(it[6]))\n",
    "            extracted_vals[L]['sucep_err'].append(float(it[7]))\n",
    "            l=f.readline()\n",
    "        except:\n",
    "            print(it)\n",
    "            l=f.readline()\n",
    "    f.close()\n",
    "    print(i)"
   ]
  },
  {
   "cell_type": "code",
   "execution_count": 43,
   "metadata": {
    "ExecuteTime": {
     "end_time": "2019-03-30T07:02:58.584407Z",
     "start_time": "2019-03-30T07:02:58.578839Z"
    }
   },
   "outputs": [
    {
     "data": {
      "text/plain": [
       "dict_keys([10, 12, 14, 16, 18, 20, 22, 24, 26, 28, 30, 32])"
      ]
     },
     "execution_count": 43,
     "metadata": {},
     "output_type": "execute_result"
    }
   ],
   "source": [
    "[32]"
   ]
  },
  {
   "cell_type": "code",
   "execution_count": 61,
   "metadata": {
    "ExecuteTime": {
     "end_time": "2019-03-30T07:15:28.101435Z",
     "start_time": "2019-03-30T07:15:26.803211Z"
    }
   },
   "outputs": [
    {
     "name": "stdout",
     "output_type": "stream",
     "text": [
      "5\n"
     ]
    },
    {
     "data": {
      "image/png": "[encoded data removed]",
      "text/plain": [
       "<matplotlib.figure.Figure at 0x7feb60eba8d0>"
      ]
     },
     "metadata": {},
     "output_type": "display_data"
    }
   ],
   "source": [
    "f,ax=plt.subplots(ncols=3,nrows=1,figsize=(18,5))\n",
    "t=True\n",
    "while t:\n",
    "    t=False\n",
    "    lbl='mag'\n",
    "    for i in [5]:\n",
    "        print(i)\n",
    "        Y=[(k/i**2) for k in extracted_vals[i][lbl]]\n",
    "        Y_err=[(k/i**2) for k in extracted_vals[i][lbl+\"_err\"]]\n",
    "        ax[0].errorbar(extracted_vals[i]['T'],Y,Y_err,fmt='o',ecolor='r',marker='x',label='Magnetization')\n",
    "        ax[0].set_xlabel('T')\n",
    "        ax[0].set_ylabel('M')\n",
    "#         ax[0].set_title(lbl+ \" vs T\")\n",
    "        ax[0].legend(loc=0)\n",
    "        ax[0].text(4.5,0.8,\"(a)\",fontsize=14)\n",
    "    lbl=\"sp_heat\"\n",
    "    for i in [5]:\n",
    "        Y=[(k/i**2) for k in extracted_vals[i][lbl]]\n",
    "        Y_err=[(k/i**2) for k in extracted_vals[i][lbl+\"_err\"]]\n",
    "        ax[1].errorbar(extracted_vals[i]['T'],Y,Y_err,fmt='o',ecolor='r',marker='x',label='Heat Capacity')\n",
    "        ax[1].set_xlabel('T')\n",
    "        ax[1].set_ylabel('C')\n",
    "#         ax[1].set_title(lbl+ \" vs T\")\n",
    "        ax[1].legend(loc=0)\n",
    "#         ax[1].set_xlim([0.5,2.8])\n",
    "        ax[1].text(4.5,0.030,\"(b)\",fontsize=14)\n",
    "    lbl=\"sucep\"\n",
    "    for i in [5]:\n",
    "        Y=[(k/i**2) for k in extracted_vals[i][lbl]]\n",
    "        Y_err=[(k/i**2) for k in extracted_vals[i][lbl+\"_err\"]]\n",
    "        ax[2].errorbar(extracted_vals[i]['T'],Y,Y_err,fmt='o',ecolor='r',marker='x',label='Succeptibility')\n",
    "        ax[2].set_xlabel('T')\n",
    "        ax[2].set_ylabel('χ')\n",
    "#         ax[2].set_title(lbl+ \" vs T\")\n",
    "        ax[2].legend(loc=0)\n",
    "        ax[2].text(4.5,0.0225,\"(c)\",fontsize=14)\n",
    "plt.savefig(\"../../../../REPORT/pics/ObsevablesIsind2D.eps\",dpi=300,bbox_inches = 'tight',pad_inches = 0)\n"
   ]
  },
  {
   "cell_type": "code",
   "execution_count": 30,
   "metadata": {
    "ExecuteTime": {
     "end_time": "2019-03-30T06:52:36.242521Z",
     "start_time": "2019-03-30T06:52:34.856417Z"
    }
   },
   "outputs": [
    {
     "data": {
      "image/png": "[encoded data removed]",
      "text/plain": [
       "<matplotlib.figure.Figure at 0x7feb60f41320>"
      ]
     },
     "metadata": {},
     "output_type": "display_data"
    }
   ],
   "source": [
    "f,ax=plt.subplots(ncols=3,nrows=1,figsize=(18,5))\n",
    "t=True\n",
    "while t:\n",
    "    t=False\n",
    "    lbl='mag'\n",
    "    for i in extracted_vals.keys():\n",
    "        Y=[(k/i**2) for k in extracted_vals[i][lbl]]\n",
    "        Y_err=[(k/i**2) for k in extracted_vals[i][lbl+\"_err\"]]\n",
    "        ax[0].errorbar(extracted_vals[i]['T'],Y,Y_err,fmt='o',ecolor='r',marker='x',label='Magnetization')\n",
    "        ax[0].set_xlabel('T')\n",
    "        ax[0].set_ylabel('M')\n",
    "#         ax[0].set_title(lbl+ \" vs T\")\n",
    "        ax[0].legend(loc=0)\n",
    "        ax[0].text(4.5,0.8,\"(a)\")\n",
    "    lbl=\"sp_heat\"\n",
    "    for i in extracted_vals.keys():\n",
    "        Y=[(k/i**2) for k in extracted_vals[i][lbl]]\n",
    "        Y_err=[(k/i**2) for k in extracted_vals[i][lbl+\"_err\"]]\n",
    "        ax[1].errorbar(extracted_vals[i]['T'],Y,Y_err,fmt='o',ecolor='r',marker='x',label='Heat Capacity')\n",
    "        ax[1].set_xlabel('T')\n",
    "        ax[1].set_ylabel('C')\n",
    "#         ax[1].set_title(lbl+ \" vs T\")\n",
    "        ax[1].legend(loc=0)\n",
    "#         ax[1].text(4.5,0.8,\"(a)\")\n",
    "    lbl=\"sucep\"\n",
    "    for i in extracted_vals.keys():\n",
    "        Y=[(k/i**2) for k in extracted_vals[i][lbl]]\n",
    "        Y_err=[(k/i**2) for k in extracted_vals[i][lbl+\"_err\"]]\n",
    "        ax[2].errorbar(extracted_vals[i]['T'],Y,Y_err,fmt='o',ecolor='r',marker='x',label='Succeptibility')\n",
    "        ax[2].set_xlabel('T')\n",
    "        ax[2].set_ylabel('χ')\n",
    "#         ax[2].set_title(lbl+ \" vs T\")\n",
    "        ax[2].legend(loc=0)\n",
    "\n",
    "    lbl='sucep'\n",
    "    for i in extracted_vals_rand.keys():\n",
    "        Y=[(k/i**2) for k in extracted_vals_rand[i][lbl]]\n",
    "        Y_err=[(k/i**2) for k in extracted_vals_rand[i][lbl+\"_err\"]]\n",
    "        ax[0].errorbar(extracted_vals_rand[i]['T'],Y,Y_err,fmt='o',ecolor='r',marker='x',label='misner')\n",
    "        ax[0].set_xlabel('T')\n",
    "        ax[0].set_ylabel(lbl)\n",
    "        ax[0].set_title(lbl+ \" vs T\")\n",
    "        ax[0].legend(loc=0)\n",
    "    lbl=\"sp_heat\"\n",
    "    for i in extracted_vals_rand.keys():\n",
    "        Y=[(k/i**2) for k in extracted_vals_rand[i][lbl]]\n",
    "        Y_err=[(k/i**2) for k in extracted_vals_rand[i][lbl+\"_err\"]]\n",
    "        ax[1].errorbar(extracted_vals[i]['T'],Y,Y_err,fmt='o',ecolor='r',marker='x',label='misner')\n",
    "        ax[1].set_xlabel('T')\n",
    "        ax[1].set_ylabel(lbl)\n",
    "        ax[1].set_title(lbl+ \" vs T\")\n",
    "        ax[1].legend(loc=0)\n",
    "    lbl=\"mag\"\n",
    "    for i in extracted_vals_rand.keys():\n",
    "        Y=[(k/i**2) for k in extracted_vals_rand[i][lbl]]\n",
    "        Y_err=[(k/i**2) for k in extracted_vals_rand[i][lbl+\"_err\"]]\n",
    "        ax[2].errorbar(extracted_vals[i]['T'],Y,Y_err,fmt='o',ecolor='r',marker='x',label='misner')\n",
    "        ax[2].set_xlabel('T')\n",
    "        ax[2].set_ylabel(lbl)\n",
    "        ax[2].set_title(lbl+ \" vs T\")\n",
    "        ax[2].legend(loc=0)\n"
   ]
  },
  {
   "cell_type": "markdown",
   "metadata": {},
   "source": [
    "## READING THE EXTRACTED DATA FOR ISING"
   ]
  },
  {
   "cell_type": "code",
   "execution_count": 1,
   "metadata": {
    "ExecuteTime": {
     "end_time": "2019-04-06T08:13:20.038197Z",
     "start_time": "2019-04-06T08:13:19.860565Z"
    }
   },
   "outputs": [
    {
     "name": "stdout",
     "output_type": "stream",
     "text": [
      "1149\n"
     ]
    }
   ],
   "source": [
    "f=open('cppanalysis/result_ising_al','r')\n",
    "extracted_vals=dict()\n",
    "l=f.readline()\n",
    "l=f.readline()\n",
    "i=0\n",
    "while l:\n",
    "    i+=1\n",
    "    try:\n",
    "        it=l[:-1].split(',')\n",
    "#         print(it)\n",
    "        L=int(it[1])\n",
    "        if L not in extracted_vals.keys():\n",
    "            extracted_vals.update({L:{'T':[],'mag':[],'mag_err':[],'sp_heat':[],'sp_heat_err':[],\n",
    "                                      'sucep':[],'sucep_err':[]}})\n",
    "        extracted_vals[L]['T'].append(float(it[0]))\n",
    "        extracted_vals[L]['mag'].append(float(it[2]))\n",
    "        extracted_vals[L]['mag_err'].append(float(it[3]))\n",
    "        extracted_vals[L]['sp_heat'].append(float(it[4]))\n",
    "        extracted_vals[L]['sp_heat_err'].append(float(it[5]))\n",
    "        extracted_vals[L]['sucep'].append(float(it[6]))\n",
    "        extracted_vals[L]['sucep_err'].append(float(it[7]))\n",
    "        l=f.readline()\n",
    "    except:\n",
    "        print(it)\n",
    "        l=f.readline()\n",
    "f.close()\n",
    "print(i)\n"
   ]
  },
  {
   "cell_type": "code",
   "execution_count": 2,
   "metadata": {
    "ExecuteTime": {
     "end_time": "2019-04-06T08:13:23.253915Z",
     "start_time": "2019-04-06T08:13:22.993383Z"
    }
   },
   "outputs": [
    {
     "ename": "NameError",
     "evalue": "name 'plt' is not defined",
     "output_type": "error",
     "traceback": [
      "\u001b[0;31m---------------------------------------------------------------------------\u001b[0m",
      "\u001b[0;31mNameError\u001b[0m                                 Traceback (most recent call last)",
      "\u001b[0;32m<ipython-input-2-ef8b226153bb>\u001b[0m in \u001b[0;36m<module>\u001b[0;34m()\u001b[0m\n\u001b[0;32m----> 1\u001b[0;31m \u001b[0mf\u001b[0m\u001b[0;34m,\u001b[0m\u001b[0max\u001b[0m\u001b[0;34m=\u001b[0m\u001b[0mplt\u001b[0m\u001b[0;34m.\u001b[0m\u001b[0msubplots\u001b[0m\u001b[0;34m(\u001b[0m\u001b[0mncols\u001b[0m\u001b[0;34m=\u001b[0m\u001b[0;36m1\u001b[0m\u001b[0;34m,\u001b[0m\u001b[0mnrows\u001b[0m\u001b[0;34m=\u001b[0m\u001b[0;36m1\u001b[0m\u001b[0;34m,\u001b[0m\u001b[0mfigsize\u001b[0m\u001b[0;34m=\u001b[0m\u001b[0;34m(\u001b[0m\u001b[0;36m10\u001b[0m\u001b[0;34m,\u001b[0m\u001b[0;36m10\u001b[0m\u001b[0;34m)\u001b[0m\u001b[0;34m)\u001b[0m\u001b[0;34m\u001b[0m\u001b[0m\n\u001b[0m\u001b[1;32m      2\u001b[0m \u001b[0max\u001b[0m\u001b[0;34m=\u001b[0m\u001b[0;34m[\u001b[0m\u001b[0max\u001b[0m\u001b[0;34m]\u001b[0m\u001b[0;34m\u001b[0m\u001b[0m\n\u001b[1;32m      3\u001b[0m \u001b[0mlbl\u001b[0m\u001b[0;34m=\u001b[0m\u001b[0;34m'mag'\u001b[0m\u001b[0;34m\u001b[0m\u001b[0m\n\u001b[1;32m      4\u001b[0m \u001b[0;32mfor\u001b[0m \u001b[0mi\u001b[0m \u001b[0;32min\u001b[0m \u001b[0mextracted_vals\u001b[0m\u001b[0;34m.\u001b[0m\u001b[0mkeys\u001b[0m\u001b[0;34m(\u001b[0m\u001b[0;34m)\u001b[0m\u001b[0;34m:\u001b[0m\u001b[0;34m\u001b[0m\u001b[0m\n\u001b[1;32m      5\u001b[0m \u001b[0;31m#     if i <30:\u001b[0m\u001b[0;34m\u001b[0m\u001b[0;34m\u001b[0m\u001b[0m\n",
      "\u001b[0;31mNameError\u001b[0m: name 'plt' is not defined"
     ]
    }
   ],
   "source": [
    "f,ax=plt.subplots(ncols=1,nrows=1,figsize=(10,10))\n",
    "ax=[ax]\n",
    "lbl='mag'\n",
    "for i in extracted_vals.keys():\n",
    "#     if i <30:\n",
    "#         continue\n",
    "    Y=[(k/i**2) for k in extracted_vals[i][lbl]]\n",
    "    Y_err=[(k/i**2) for k in extracted_vals[i][lbl+\"_err\"]]\n",
    "    ax[0].errorbar(extracted_vals[i]['T'],Y,Y_err,fmt='o',label=str(i))\n",
    "    ax[0].set_xlabel('T')\n",
    "    ax[0].set_ylabel(lbl)\n",
    "    ax[0].set_title(lbl+ \" vs T\")\n",
    "    ax[0].legend(loc=0)"
   ]
  },
  {
   "cell_type": "code",
   "execution_count": 51,
   "metadata": {
    "ExecuteTime": {
     "end_time": "2019-04-06T08:36:55.342513Z",
     "start_time": "2019-04-06T08:36:55.333651Z"
    }
   },
   "outputs": [
    {
     "data": {
      "text/plain": [
       "dict_keys([10, 12, 14, 16, 18, 20, 22, 24, 26, 28, 30, 32])"
      ]
     },
     "execution_count": 51,
     "metadata": {},
     "output_type": "execute_result"
    }
   ],
   "source": [
    "extracted_vals.keys()"
   ]
  },
  {
   "cell_type": "code",
   "execution_count": 57,
   "metadata": {
    "ExecuteTime": {
     "end_time": "2019-04-06T08:43:13.424794Z",
     "start_time": "2019-04-06T08:43:11.080993Z"
    }
   },
   "outputs": [
    {
     "data": {
      "image/png": "[encoded data removed]",
      "text/plain": [
       "<matplotlib.figure.Figure at 0x7fa0c5a77cc0>"
      ]
     },
     "metadata": {},
     "output_type": "display_data"
    }
   ],
   "source": [
    "f,ax=plt.subplots(ncols=2,nrows=1,figsize=(16,6))\n",
    "ax=[ax[0],ax[1]]\n",
    "lbl='mag'\n",
    "for i in extracted_vals.keys():\n",
    "    if i not in [16,24,28,32]:\n",
    "        continue\n",
    "    y=[j/i**2 for j in extracted_vals[i][lbl]]\n",
    "    y_err=[j/i**2 for j in extracted_vals[i][lbl+'_err']]\n",
    "    ax[0].errorbar(extracted_vals[i]['T'],y,\n",
    "                   y_err,markersize=7,elinewidth=1,label=str(i))\n",
    "ax[0].set_xlabel('T')\n",
    "ax[0].set_ylabel('M')\n",
    "# ax[0].set_title(\"χ vs T\")\n",
    "ax[0].legend(loc=0)\n",
    "ax[0].set_xlim([1,3.5])\n",
    "\n",
    "lbl='sucep'\n",
    "for i in extracted_vals.keys():\n",
    "    if i not in [12,24,28,32]:\n",
    "        continue\n",
    "    y=[j/1 for j in extracted_vals[i][lbl]]\n",
    "    y_err=[j/1for j in extracted_vals[i][lbl+'_err']]\n",
    "    ax[1].errorbar(extracted_vals[i]['T'],y,\n",
    "                   y_err,markersize=7,elinewidth=1,label=str(i))\n",
    "ax[1].set_xlabel('T')\n",
    "ax[1].set_ylabel('χ')\n",
    "# ax[0].set_title(\"χ vs T\")\n",
    "ax[1].legend(loc=0)\n",
    "ax[1].set_xlim([1,3.5])\n",
    "\n",
    "ax[0].text(3,0.8,\"(a)\")\n",
    "ax[1].text(3,17.5,\"(b)\")\n",
    "\n",
    "plt.savefig(\"../../../../REPORT/pics/ObservablesIsing2D.eps\",dpi=300,bbox_inches = 'tight',pad_inches = 0)"
   ]
  },
  {
   "cell_type": "markdown",
   "metadata": {},
   "source": [
    "## Finite Size Scaling Methord"
   ]
  },
  {
   "cell_type": "markdown",
   "metadata": {},
   "source": [
    "## Curve fitting "
   ]
  },
  {
   "cell_type": "code",
   "execution_count": 59,
   "metadata": {
    "ExecuteTime": {
     "end_time": "2019-04-06T12:59:17.673553Z",
     "start_time": "2019-04-06T12:59:17.395650Z"
    },
    "collapsed": true
   },
   "outputs": [],
   "source": [
    "f=open('cppanalysis/cfit_ising_all','r')\n",
    "# f=open('DATA/critical_exps/cfit','r')\n",
    "l=f.readline()\n",
    "l=f.readline()\n",
    "xi=[]\n",
    "xi_err=[]\n",
    "xiL=[]\n",
    "xitemp=[]\n",
    "while l:\n",
    "    it=l[:-1].split(\",\")\n",
    "    xiL.append(float(it[0]))\n",
    "    xitemp.append(float(it[1]))\n",
    "    xi.append(float(it[2]))\n",
    "    xi_err.append(float(it[3]))\n",
    "    l=f.readline()\n",
    "reduced_temp=[(i-2.26)/2.26 for i in xitemp]\n",
    "\n",
    "Xi_dic=dict()\n",
    "for i,j,k,l in zip(xi,xi_err,xiL,reduced_temp):\n",
    "    if k not in Xi_dic.keys():\n",
    "        Xi_dic.update({k:{'temp':[],'sucep':[],'sucep_err':[]}})\n",
    "    Xi_dic[k]['temp'].append(l)\n",
    "    Xi_dic[k]['sucep'].append(i)    \n",
    "    Xi_dic[k]['sucep_err'].append(j)   "
   ]
  },
  {
   "cell_type": "markdown",
   "metadata": {},
   "source": [
    "    Leniarising the whole data set "
   ]
  },
  {
   "cell_type": "code",
   "execution_count": 60,
   "metadata": {
    "ExecuteTime": {
     "end_time": "2019-04-06T12:59:21.454617Z",
     "start_time": "2019-04-06T12:59:20.443682Z"
    }
   },
   "outputs": [
    {
     "data": {
      "text/plain": [
       "<matplotlib.legend.Legend at 0x7fa0ce449198>"
      ]
     },
     "execution_count": 60,
     "metadata": {},
     "output_type": "execute_result"
    },
    {
     "data": {
      "image/png": "[encoded data removed]",
      "text/plain": [
       "<matplotlib.figure.Figure at 0x7fa0cc536ac8>"
      ]
     },
     "metadata": {},
     "output_type": "display_data"
    }
   ],
   "source": [
    "plt.figure(figsize=(12,8))\n",
    "for k in Xi_dic.keys():\n",
    "    x2=[i/k**1.75 for i in Xi_dic[k]['sucep']]\n",
    "    x2_err=[i/k**1.75 for i in Xi_dic[k]['sucep_err']]\n",
    "    x_ax=[k*i for i in Xi_dic[k]['temp']]\n",
    "    rem=[]\n",
    "#     for i in range(len(x_ax)):\n",
    "#         if x_ax[i]<-5 or x_ax[i]>15:\n",
    "#             rem.append(i)\n",
    "#     while rem!=[]:\n",
    "#         q=rem.pop()\n",
    "#         x2.pop(q)\n",
    "#         x2_err.pop(q)\n",
    "#         x_ax.pop(q)\n",
    "    plt.errorbar(x_ax,x2,x2_err,fmt='o',label=str(k),markersize=2)\n",
    "\n",
    "plt.legend(loc=1)"
   ]
  },
  {
   "cell_type": "code",
   "execution_count": 7,
   "metadata": {
    "ExecuteTime": {
     "end_time": "2018-10-09T07:28:58.838000Z",
     "start_time": "2018-10-09T07:28:58.822829Z"
    },
    "collapsed": true
   },
   "outputs": [],
   "source": [
    "dimen=dict()\n",
    "for k in Xi_dic.keys():\n",
    "    dimen.update({k:[k for i in Xi_dic[k]['temp']]})\n",
    "ls=[]\n",
    "temps=[]\n",
    "xis=[]\n",
    "xis_err=[]\n",
    "for k in Xi_dic.keys():\n",
    "    if k==38:\n",
    "        continue\n",
    "    for l,m,i,j in zip(Xi_dic[k]['sucep'],Xi_dic[k]['sucep_err'],Xi_dic[k]['temp'],dimen[k]):\n",
    "        ls.append(j)\n",
    "        temps.append(i)\n",
    "        xis.append(l)\n",
    "        xis_err.append(m)"
   ]
  },
  {
   "cell_type": "markdown",
   "metadata": {},
   "source": [
    "    Ploting the whole dset"
   ]
  },
  {
   "cell_type": "code",
   "execution_count": 8,
   "metadata": {
    "ExecuteTime": {
     "end_time": "2018-10-09T07:29:01.646360Z",
     "start_time": "2018-10-09T07:29:01.390264Z"
    }
   },
   "outputs": [
    {
     "data": {
      "text/plain": [
       "<Container object of 3 artists>"
      ]
     },
     "execution_count": 8,
     "metadata": {},
     "output_type": "execute_result"
    },
    {
     "data": {
      "image/png": "[encoded data removed]",
      "text/plain": [
       "<matplotlib.figure.Figure at 0x7fb2661cca90>"
      ]
     },
     "metadata": {},
     "output_type": "display_data"
    }
   ],
   "source": [
    "plt.errorbar(temps,xis,xis_err,fmt='o')"
   ]
  },
  {
   "cell_type": "markdown",
   "metadata": {},
   "source": [
    "        FITTING FROM WHOLE DATA"
   ]
  },
  {
   "cell_type": "code",
   "execution_count": 9,
   "metadata": {
    "ExecuteTime": {
     "end_time": "2018-10-09T07:29:03.926961Z",
     "start_time": "2018-10-09T07:29:03.922025Z"
    },
    "collapsed": true
   },
   "outputs": [],
   "source": [
    "def sucepFunc(var,gamma,neu,a,b,c):\n",
    "    tc=2.26\n",
    "    t=(var[1]-tc)/tc\n",
    "    x=t*(var[0]**(1/neu))\n",
    "    return (var[0])**(gamma/neu)*(a+b*x+c*x*x)\n",
    "\n",
    "def rational_1_1(var,gamma,neu,a,b,c):\n",
    "    tc=2.26\n",
    "    t=(var[1]-tc)/tc\n",
    "    x=t*(var[0]**(1/neu))\n",
    "    return (var[0])**(gamma/neu)*(a+b*x+c*x*x)\n"
   ]
  },
  {
   "cell_type": "code",
   "execution_count": 10,
   "metadata": {
    "ExecuteTime": {
     "end_time": "2018-10-09T07:29:07.404252Z",
     "start_time": "2018-10-09T07:29:07.399857Z"
    }
   },
   "outputs": [
    {
     "data": {
      "text/plain": [
       "1149"
      ]
     },
     "execution_count": 10,
     "metadata": {},
     "output_type": "execute_result"
    }
   ],
   "source": [
    "len(ls)"
   ]
  },
  {
   "cell_type": "code",
   "execution_count": 13,
   "metadata": {
    "ExecuteTime": {
     "end_time": "2018-10-09T07:29:21.597795Z",
     "start_time": "2018-10-09T07:29:21.540525Z"
    }
   },
   "outputs": [
    {
     "name": "stdout",
     "output_type": "stream",
     "text": [
      "gamma =  40.92273275525586  +/-  151.1286070908781\n",
      "neu =  45.10970780010053  +/-  166.59268739951324\n",
      "tc =  0.17375100139072006  +/-  0.06452375641310736\n",
      "40.923,45.110,0.174,0.176,-0.250,"
     ]
    }
   ],
   "source": [
    "used_func=sucepFunc\n",
    "temps2=[i*2.26+2.26 for i in temps]\n",
    "cf=curve_fit(used_func,[ls,temps2],xis)\n",
    "print(\"gamma = \",cf[0][0],\" +/- \",sqrt(cf[1][0][0]))\n",
    "print(\"neu = \",cf[0][1],\" +/- \",sqrt(cf[1][1][1]))\n",
    "print(\"tc = \",cf[0][2],\" +/- \",sqrt(cf[1][2][2]))\n",
    "for i in cf[0]:\n",
    "    print(\"{0:0.3f}\".format(i),end=\",\")\n",
    "# print(matrix(cf[1]))"
   ]
  },
  {
   "cell_type": "code",
   "execution_count": 15,
   "metadata": {
    "ExecuteTime": {
     "end_time": "2018-10-09T07:29:39.309690Z",
     "start_time": "2018-10-09T07:29:39.030271Z"
    }
   },
   "outputs": [
    {
     "data": {
      "text/plain": [
       "<Container object of 3 artists>"
      ]
     },
     "execution_count": 15,
     "metadata": {},
     "output_type": "execute_result"
    },
    {
     "data": {
      "image/png": "[encoded data removed]",
      "text/plain": [
       "<matplotlib.figure.Figure at 0x7fb264754da0>"
      ]
     },
     "metadata": {},
     "output_type": "display_data"
    }
   ],
   "source": [
    "k=20\n",
    "temps2=[i*2.26+2.26 for i in Xi_dic[k]['temp']]\n",
    "x=linspace(min(temps2),max(temps2),20)\n",
    "y=[used_func([k,i],40.923,45.110,0.174,0.176,-0.250) for i in x]\n",
    "plt.scatter(x,y,c='b')\n",
    "plt.errorbar(temps2,Xi_dic[k]['sucep'],Xi_dic[k]['sucep_err'],fmt='o',c='g')"
   ]
  },
  {
   "cell_type": "code",
   "execution_count": null,
   "metadata": {
    "collapsed": true
   },
   "outputs": [],
   "source": []
  },
  {
   "cell_type": "code",
   "execution_count": null,
   "metadata": {
    "collapsed": true
   },
   "outputs": [],
   "source": []
  },
  {
   "cell_type": "code",
   "execution_count": null,
   "metadata": {
    "collapsed": true
   },
   "outputs": [],
   "source": []
  },
  {
   "cell_type": "code",
   "execution_count": null,
   "metadata": {
    "collapsed": true
   },
   "outputs": [],
   "source": []
  }
 ],
 "metadata": {
  "kernelspec": {
   "display_name": "Python 3",
   "language": "python",
   "name": "python3"
  },
  "language_info": {
   "codemirror_mode": {
    "name": "ipython",
    "version": 3
   },
   "file_extension": ".py",
   "mimetype": "text/x-python",
   "name": "python",
   "nbconvert_exporter": "python",
   "pygments_lexer": "ipython3",
   "version": "3.6.1"
  }
 },
 "nbformat": 4,
 "nbformat_minor": 2
}
