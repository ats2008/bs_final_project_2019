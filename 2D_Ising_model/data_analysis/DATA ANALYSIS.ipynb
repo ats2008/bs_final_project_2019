{
 "cells": [
  {
   "cell_type": "markdown",
   "metadata": {},
   "source": [
    "## Importing packeges"
   ]
  },
  {
   "cell_type": "code",
   "execution_count": 2,
   "metadata": {
    "ExecuteTime": {
     "end_time": "2018-10-02T11:15:36.032655Z",
     "start_time": "2018-10-02T11:15:36.004450Z"
    },
    "code_folding": [
     6,
     9
    ]
   },
   "outputs": [],
   "source": [
    "from ising_lib import *\n",
    "from numpy import *\n",
    "from scipy.optimize import curve_fit\n",
    "from matplotlib import pyplot as plt\n",
    "%matplotlib inline\n",
    "\n",
    "def variance(X):\n",
    "    return var(X)\n",
    "\n",
    "def Average(X):\n",
    "    return average(X)\n",
    "    \n",
    "    \n",
    "    \n",
    "def analyze(temparature,L,E,M):\n",
    "    mag,mag_err=jacknife(M,Average)\n",
    "    sp_heat,sp_heat_err=jacknife(E,variance)\n",
    "    sp_heat/=(temparature*temparature*L)\n",
    "    sp_heat_err/=(temparature*temparature*L)\n",
    "    sucep,sucep_err=jacknife(M,variance)\n",
    "    sucep/=(temparature*L)\n",
    "    sucep_err/=(temparature*L)\n",
    "    return [mag,mag_err],[sp_heat,sp_heat_err],[sucep,sucep_err]"
   ]
  },
  {
   "cell_type": "code",
   "execution_count": 3,
   "metadata": {
    "ExecuteTime": {
     "end_time": "2018-10-02T11:15:36.870472Z",
     "start_time": "2018-10-02T11:15:36.865545Z"
    },
    "collapsed": true
   },
   "outputs": [],
   "source": [
    "from imp import reload\n",
    "import ising_lib\n",
    "ising_lib=reload(ising_lib)"
   ]
  },
  {
   "cell_type": "markdown",
   "metadata": {},
   "source": [
    "## VERIFICATION FOR ALGOS"
   ]
  },
  {
   "cell_type": "markdown",
   "metadata": {},
   "source": [
    "READING DATA"
   ]
  },
  {
   "cell_type": "code",
   "execution_count": 16,
   "metadata": {
    "ExecuteTime": {
     "end_time": "2018-10-02T12:13:22.253546Z",
     "start_time": "2018-10-02T12:13:22.246036Z"
    }
   },
   "outputs": [],
   "source": [
    "f=open('cppData/fnames20','r')\n",
    "fnames=[]\n",
    "l=f.readline()\n",
    "while l:\n",
    "    fnames.append(l[:-1])\n",
    "    l=f.readline()\n",
    "f.close()"
   ]
  },
  {
   "cell_type": "code",
   "execution_count": 17,
   "metadata": {
    "ExecuteTime": {
     "end_time": "2018-10-02T12:13:24.250238Z",
     "start_time": "2018-10-02T12:13:24.246420Z"
    }
   },
   "outputs": [
    {
     "name": "stdout",
     "output_type": "stream",
     "text": [
      "50\n"
     ]
    }
   ],
   "source": [
    "l=len(fnames)\n",
    "print(l)"
   ]
  },
  {
   "cell_type": "code",
   "execution_count": 18,
   "metadata": {
    "ExecuteTime": {
     "end_time": "2018-10-02T12:13:32.173435Z",
     "start_time": "2018-10-02T12:13:25.045012Z"
    }
   },
   "outputs": [
    {
     "name": "stdout",
     "output_type": "stream",
     "text": [
      "Doing  1 / 50 N_20_T_1.800_ising.txt\n",
      "Doing  2 / 50 N_20_T_1.820_ising.txt\n",
      "Doing  3 / 50 N_20_T_1.840_ising.txt\n",
      "Doing  4 / 50 N_20_T_1.860_ising.txt\n",
      "Doing  5 / 50 N_20_T_1.880_ising.txt\n",
      "Doing  6 / 50 N_20_T_1.900_ising.txt\n",
      "Doing  7 / 50 N_20_T_1.920_ising.txt\n",
      "Doing  8 / 50 N_20_T_1.940_ising.txt\n",
      "Doing  9 / 50 N_20_T_1.960_ising.txt\n",
      "Doing  10 / 50 N_20_T_1.980_ising.txt\n",
      "Doing  11 / 50 N_20_T_2.000_ising.txt\n",
      "Doing  12 / 50 N_20_T_2.020_ising.txt\n",
      "Doing  13 / 50 N_20_T_2.040_ising.txt\n",
      "Doing  14 / 50 N_20_T_2.060_ising.txt\n",
      "Doing  15 / 50 N_20_T_2.080_ising.txt\n",
      "Doing  16 / 50 N_20_T_2.100_ising.txt\n",
      "Doing  17 / 50 N_20_T_2.120_ising.txt\n",
      "Doing  18 / 50 N_20_T_2.140_ising.txt\n",
      "Doing  19 / 50 N_20_T_2.160_ising.txt\n",
      "Doing  20 / 50 N_20_T_2.180_ising.txt\n",
      "Doing  21 / 50 N_20_T_2.200_ising.txt\n",
      "Doing  22 / 50 N_20_T_2.220_ising.txt\n",
      "Doing  23 / 50 N_20_T_2.240_ising.txt\n",
      "Doing  24 / 50 N_20_T_2.260_ising.txt\n",
      "Doing  25 / 50 N_20_T_2.280_ising.txt\n",
      "Doing  26 / 50 N_20_T_2.300_ising.txt\n",
      "Doing  27 / 50 N_20_T_2.320_ising.txt\n",
      "Doing  28 / 50 N_20_T_2.340_ising.txt\n",
      "Doing  29 / 50 N_20_T_2.360_ising.txt\n",
      "Doing  30 / 50 N_20_T_2.380_ising.txt\n",
      "Doing  31 / 50 N_20_T_2.400_ising.txt\n",
      "Doing  32 / 50 N_20_T_2.420_ising.txt\n",
      "Doing  33 / 50 N_20_T_2.440_ising.txt\n",
      "Doing  34 / 50 N_20_T_2.460_ising.txt\n",
      "Doing  35 / 50 N_20_T_2.480_ising.txt\n",
      "Doing  36 / 50 N_20_T_2.500_ising.txt\n",
      "Doing  37 / 50 N_20_T_2.520_ising.txt\n",
      "Doing  38 / 50 N_20_T_2.540_ising.txt\n",
      "Doing  39 / 50 N_20_T_2.560_ising.txt\n",
      "Doing  40 / 50 N_20_T_2.580_ising.txt\n",
      "Doing  41 / 50 N_20_T_2.600_ising.txt\n",
      "Doing  42 / 50 N_20_T_2.620_ising.txt\n",
      "Doing  43 / 50 N_20_T_2.640_ising.txt\n",
      "Doing  44 / 50 N_20_T_2.660_ising.txt\n",
      "Doing  45 / 50 N_20_T_2.680_ising.txt\n",
      "Doing  46 / 50 N_20_T_2.700_ising.txt\n",
      "Doing  47 / 50 N_20_T_2.720_ising.txt\n",
      "Doing  48 / 50 N_20_T_2.740_ising.txt\n",
      "Doing  49 / 50 N_20_T_2.760_ising.txt\n",
      "Doing  50 / 50 N_20_T_2.780_ising.txt\n"
     ]
    }
   ],
   "source": [
    "ml=5000\n",
    "sampled=[]\n",
    "analy=dict()\n",
    "i=0\n",
    "f=open('cppanalysis/result','w')\n",
    "f_xi=open('cppanalysis/cfit','w')\n",
    "f.write(\"Temp,N,Magetization,MagErr,Specific_Heat,SP_Err,Succeptibility,succepErr\")\n",
    "f.write(\"\\n\")\n",
    "f_xi.write(\"N,temp,Xi,Xi_err\")\n",
    "f_xi.write(\"\\n\")\n",
    "i=0\n",
    "l=len(fnames)\n",
    "for fn in fnames:\n",
    "    i+=1\n",
    "    print(\"Doing \",i,\"/\",l,fn)\n",
    "    dat=get_data('cppData/'+fn);\n",
    "    L=dat['params']['length of lattice  '];\n",
    "    T=dat['params']['T   '];\n",
    "    N=dat['params']['Number of sites  '];\n",
    "    sdata=sample_data(dat,Max_lags=ml);\n",
    "    sampled.append(sdata)\n",
    "    ana=analyze(T,N,sdata['energy'],sdata['magentization'])\n",
    "    analy.update({(L,T):{'mag':ana[0][0]/N,'mag_err':ana[0][1]/N,\n",
    "                     'sp_heat':ana[1][0],'sp_heat_err':ana[1][1],\n",
    "                     'sucep':ana[2][0],\n",
    "                     'sucep_err':ana[2][1]}})\n",
    "    f_xi.write(str(L)+\",\")\n",
    "    f_xi.write(str(T)+\",\")\n",
    "    f_xi.write(str(ana[2][0])+\",\")\n",
    "    f_xi.write(str(ana[2][1]))\n",
    "    f_xi.write(\"\\n\")\n",
    "    f.write(str(T)+\",\"+str(N))\n",
    "    f.write(\",\"+str(ana[0][0])+\",\"+str(ana[0][1]))\n",
    "    f.write(\",\"+str(ana[1][0])+\",\"+str(ana[1][1]))\n",
    "    f.write(\",\"+str(ana[2][0])+\",\"+str(ana[2][1]))  \n",
    "    f.write(\"\\n\")\n",
    "f.close()\n",
    "f_xi.close()"
   ]
  },
  {
   "cell_type": "markdown",
   "metadata": {},
   "source": [
    "Sampling for Indipentant states"
   ]
  },
  {
   "cell_type": "code",
   "execution_count": 12,
   "metadata": {
    "ExecuteTime": {
     "end_time": "2018-10-02T11:28:09.409058Z",
     "start_time": "2018-10-02T11:28:09.015345Z"
    }
   },
   "outputs": [
    {
     "data": {
      "text/plain": [
       "<matplotlib.text.Text at 0x7f7964478908>"
      ]
     },
     "execution_count": 12,
     "metadata": {},
     "output_type": "execute_result"
    },
    {
     "data": {
      "image/png": "[encoded data removed]",
      "text/plain": [
       "<matplotlib.figure.Figure at 0x7f79644829e8>"
      ]
     },
     "metadata": {},
     "output_type": "display_data"
    }
   ],
   "source": [
    "X=dict()\n",
    "Y=dict()\n",
    "Y_err=dict()\n",
    "lable='sucep'\n",
    "for i in analy.keys():\n",
    "    if i[0] not in X.keys():\n",
    "        X.update({i[0]:[]})\n",
    "        Y.update({i[0]:[]})\n",
    "        Y_err.update({i[0]:[]})\n",
    "    X[i[0]].append(i[1])\n",
    "    Y[i[0]].append(analy[i][lable])\n",
    "    Y_err[i[0]].append(analy[i][lable+'_err'])\n",
    "    \n",
    "plt.figure(figsize=(8,8))\n",
    "for i in X.keys():\n",
    "    plt.errorbar(X[i],Y[i],Y_err[i],fmt='o',label=str(i),markersize=7,barsabove=True,capsize=1)\n",
    "plt.legend(loc=0)\n",
    "plt.title('Sucep Vs Temperature')\n",
    "plt.xlabel('M')\n",
    "plt.xlabel('T')\n",
    "# plt.savefig('pics/Mag_VS_T_cpp_scatter.png')"
   ]
  },
  {
   "cell_type": "code",
   "execution_count": 13,
   "metadata": {
    "ExecuteTime": {
     "end_time": "2018-10-02T11:28:15.073327Z",
     "start_time": "2018-10-02T11:28:14.676058Z"
    },
    "scrolled": false
   },
   "outputs": [
    {
     "data": {
      "text/plain": [
       "<matplotlib.text.Text at 0x7f7967ebd860>"
      ]
     },
     "execution_count": 13,
     "metadata": {},
     "output_type": "execute_result"
    },
    {
     "data": {
      "image/png": "[encoded data removed]",
      "text/plain": [
       "<matplotlib.figure.Figure at 0x7f7960bae748>"
      ]
     },
     "metadata": {},
     "output_type": "display_data"
    }
   ],
   "source": [
    "X=dict()\n",
    "Y=dict()\n",
    "Y_err=dict()\n",
    "lable='mag'\n",
    "for i in analy.keys():\n",
    "    if i[0] not in X.keys():\n",
    "        X.update({i[0]:[]})\n",
    "        Y.update({i[0]:[]})\n",
    "        Y_err.update({i[0]:[]})\n",
    "    X[i[0]].append(i[1])\n",
    "    Y[i[0]].append(analy[i][lable])\n",
    "    Y_err[i[0]].append(analy[i][lable+'_err'])\n",
    "    \n",
    "plt.figure(figsize=(8,8))\n",
    "for i in X.keys():\n",
    "    plt.errorbar(X[i],Y[i],Y_err[i],fmt='o',label=str(i),markersize=7,barsabove=True,capsize=1)\n",
    "plt.legend(loc=0)\n",
    "plt.title('Magnetization Vs Temperature')\n",
    "plt.xlabel('M')\n",
    "plt.xlabel('T')\n",
    "# plt.savefig('pics/Mag_VS_T_cpp_scatter.png')"
   ]
  },
  {
   "cell_type": "code",
   "execution_count": null,
   "metadata": {
    "collapsed": true
   },
   "outputs": [],
   "source": []
  },
  {
   "cell_type": "markdown",
   "metadata": {},
   "source": [
    "## Finite Size Scaling Methord"
   ]
  },
  {
   "cell_type": "markdown",
   "metadata": {},
   "source": [
    "## Curve fitting "
   ]
  },
  {
   "cell_type": "code",
   "execution_count": 14,
   "metadata": {
    "ExecuteTime": {
     "end_time": "2018-10-02T11:28:20.000836Z",
     "start_time": "2018-10-02T11:28:19.957626Z"
    }
   },
   "outputs": [],
   "source": [
    "f=open('cppanalysis/cfit','r')\n",
    "# f=open('DATA/critical_exps/cfit','r')\n",
    "l=f.readline()\n",
    "l=f.readline()\n",
    "xi=[]\n",
    "xi_err=[]\n",
    "xiL=[]\n",
    "xitemp=[]\n",
    "while l:\n",
    "    it=l[:-1].split(\",\")\n",
    "    xiL.append(float(it[0]))\n",
    "    xitemp.append(float(it[1]))\n",
    "    xi.append(float(it[2]))\n",
    "    xi_err.append(float(it[3]))\n",
    "    l=f.readline()\n",
    "reduced_temp=[(i-2.26)/2.26 for i in xitemp]\n",
    "\n",
    "Xi_dic=dict()\n",
    "for i,j,k,l in zip(xi,xi_err,xiL,reduced_temp):\n",
    "    if k not in Xi_dic.keys():\n",
    "        Xi_dic.update({k:{'temp':[],'sucep':[],'sucep_err':[]}})\n",
    "    Xi_dic[k]['temp'].append(l)\n",
    "    Xi_dic[k]['sucep'].append(i)    \n",
    "    Xi_dic[k]['sucep_err'].append(j)   "
   ]
  },
  {
   "cell_type": "markdown",
   "metadata": {},
   "source": [
    "    Leniarising the whole data set "
   ]
  },
  {
   "cell_type": "code",
   "execution_count": 15,
   "metadata": {
    "ExecuteTime": {
     "end_time": "2018-10-02T11:28:23.338739Z",
     "start_time": "2018-10-02T11:28:22.999983Z"
    }
   },
   "outputs": [
    {
     "data": {
      "text/plain": [
       "<matplotlib.legend.Legend at 0x7f7960bbe198>"
      ]
     },
     "execution_count": 15,
     "metadata": {},
     "output_type": "execute_result"
    },
    {
     "data": {
      "image/png": "[encoded data removed]",
      "text/plain": [
       "<matplotlib.figure.Figure at 0x7f7960b14780>"
      ]
     },
     "metadata": {},
     "output_type": "display_data"
    }
   ],
   "source": [
    "for k in Xi_dic.keys():\n",
    "    x2=[i/k**1.75 for i in Xi_dic[k]['sucep']]\n",
    "    x2_err=[i/k**1.75 for i in Xi_dic[k]['sucep_err']]\n",
    "    x_ax=[k*i for i in Xi_dic[k]['temp']]\n",
    "    plt.errorbar(x_ax,x2,x2_err,fmt='o',label=str(k))\n",
    "plt.legend(loc=1)"
   ]
  },
  {
   "cell_type": "code",
   "execution_count": 5,
   "metadata": {
    "ExecuteTime": {
     "end_time": "2018-10-01T03:53:29.268294Z",
     "start_time": "2018-10-01T03:53:28.370528Z"
    }
   },
   "outputs": [
    {
     "data": {
      "text/plain": [
       "<matplotlib.legend.Legend at 0x7fd76174fef0>"
      ]
     },
     "execution_count": 5,
     "metadata": {},
     "output_type": "execute_result"
    },
    {
     "data": {
      "image/png": "[encoded data removed]",
      "text/plain": [
       "<matplotlib.figure.Figure at 0x7fd76174fcc0>"
      ]
     },
     "metadata": {},
     "output_type": "display_data"
    }
   ],
   "source": [
    "for k in Xi_dic.keys():\n",
    "    x2=[i/k**1.75 for i in Xi_dic[k]['sucep']]\n",
    "    x2_err=[i/k**1.75 for i in Xi_dic[k]['sucep_err']]\n",
    "    x_ax=[k*i for i in Xi_dic[k]['temp']]\n",
    "    plt.errorbar(x_ax,x2,x2_err,fmt='o',label=str(k))\n",
    "plt.legend(loc=0)"
   ]
  },
  {
   "cell_type": "code",
   "execution_count": 43,
   "metadata": {
    "ExecuteTime": {
     "end_time": "2018-10-01T15:17:28.604320Z",
     "start_time": "2018-10-01T15:17:28.585895Z"
    },
    "collapsed": true
   },
   "outputs": [],
   "source": [
    "dimen=dict()\n",
    "for k in Xi_dic.keys():\n",
    "    dimen.update({k:[k for i in Xi_dic[k]['temp']]})\n",
    "ls=[]\n",
    "temps=[]\n",
    "xis=[]\n",
    "xis_err=[]\n",
    "for k in Xi_dic.keys():\n",
    "    if k==38:\n",
    "        continue\n",
    "    for l,m,i,j in zip(Xi_dic[k]['sucep'],Xi_dic[k]['sucep_err'],Xi_dic[k]['temp'],dimen[k]):\n",
    "#         if i<0.0:\n",
    "#             continue\n",
    "        ls.append(j)\n",
    "        temps.append(i)\n",
    "        xis.append(l)\n",
    "        xis_err.append(m)"
   ]
  },
  {
   "cell_type": "markdown",
   "metadata": {},
   "source": [
    "    Ploting the whole dset"
   ]
  },
  {
   "cell_type": "code",
   "execution_count": 44,
   "metadata": {
    "ExecuteTime": {
     "end_time": "2018-10-01T15:17:30.183094Z",
     "start_time": "2018-10-01T15:17:29.859333Z"
    }
   },
   "outputs": [
    {
     "data": {
      "text/plain": [
       "<Container object of 3 artists>"
      ]
     },
     "execution_count": 44,
     "metadata": {},
     "output_type": "execute_result"
    },
    {
     "data": {
      "image/png": "[encoded data removed]",
      "text/plain": [
       "<matplotlib.figure.Figure at 0x7f83b9571438>"
      ]
     },
     "metadata": {},
     "output_type": "display_data"
    }
   ],
   "source": [
    "plt.errorbar(temps,xis,xis_err,fmt='o')"
   ]
  },
  {
   "cell_type": "code",
   "execution_count": 27,
   "metadata": {
    "ExecuteTime": {
     "end_time": "2018-10-01T15:07:56.326855Z",
     "start_time": "2018-10-01T15:07:55.959404Z"
    }
   },
   "outputs": [
    {
     "data": {
      "text/plain": [
       "<Container object of 3 artists>"
      ]
     },
     "execution_count": 27,
     "metadata": {},
     "output_type": "execute_result"
    },
    {
     "data": {
      "image/png": "[encoded data removed]",
      "text/plain": [
       "<matplotlib.figure.Figure at 0x7f83ba53f208>"
      ]
     },
     "metadata": {},
     "output_type": "display_data"
    }
   ],
   "source": [
    "plt.errorbar(temps,xis,xis_err,fmt='o')"
   ]
  },
  {
   "cell_type": "markdown",
   "metadata": {},
   "source": [
    "        FITTING FROM WHOLE DATA"
   ]
  },
  {
   "cell_type": "code",
   "execution_count": 45,
   "metadata": {
    "ExecuteTime": {
     "end_time": "2018-10-01T15:17:34.543345Z",
     "start_time": "2018-10-01T15:17:34.500072Z"
    },
    "collapsed": true
   },
   "outputs": [],
   "source": [
    "def sucepFunc(var,gamma,neu,tc,a,b,c):\n",
    "#     tc=2.26\n",
    "    t=(var[1]-tc)/tc\n",
    "    x=t*(var[0]**(1/neu))\n",
    "    return (var[0])**(gamma/neu)*(a+b*x+c*x*x)\n",
    "\n",
    "def sucepFunc(var,gamma,neu,a,b,c):\n",
    "    tc=2.26\n",
    "    t=(var[1]-tc)/tc\n",
    "    x=t*(var[0]**(1/neu))\n",
    "    return (var[0])**(gamma/neu)*(a+b*x+c*x*x)\n",
    "\n",
    "def sucepFuncA(var,gamma,neu,tc,a,b,c):\n",
    "#     tc=2.26\n",
    "    t=(var[1]-tc)/tc\n",
    "    x=t*(var[0]**(1/neu))\n",
    "    return (var[0])**(gamma/neu)*(a+b*x+c*x*x)\n",
    "\n",
    "def sucepFuncB(var,gamma,neu,a,b,c):\n",
    "    tc=2.26\n",
    "    t=(var[1]-tc)/tc\n",
    "    x=t*(var[0]**(1/neu))\n",
    "    return (var[0])**(gamma/neu)*(a*(1-1/(1+exp(-b*x*x)))+c)\n",
    "\n",
    "def sucepFuncC(var,gamma,neu,tc,a,b,c):\n",
    "#     tc=2.26\n",
    "    t=(var[1]-tc)/tc\n",
    "    x=t*(var[0]**(1/neu))\n",
    "    return (var[0])**(gamma/neu)*(a*(1-1/(1+exp(-b*x*x)))+c)\n",
    "\n",
    "def sucepFuncD(var,gamma,neu,tc,a,b,c):\n",
    "#     tc=2.26\n",
    "    t=(var[1]-tc)/tc\n",
    "    x=t*(var[0]**(1/neu))\n",
    "    return (var[0])**(gamma/neu)*(a/(1+exp(b*x*x)))"
   ]
  },
  {
   "cell_type": "code",
   "execution_count": 48,
   "metadata": {
    "ExecuteTime": {
     "end_time": "2018-10-01T15:34:12.395282Z",
     "start_time": "2018-10-01T15:34:12.370088Z"
    }
   },
   "outputs": [
    {
     "name": "stdout",
     "output_type": "stream",
     "text": [
      "gamma =  6.552868812657937  +/-  2.0940786149685136\n",
      "neu =  5.279079546344496  +/-  1.7670903589295366\n",
      "tc =  0.12722426839635023  +/-  0.03608344626394622\n",
      "6.553,5.279,0.127,0.290,-1.116,"
     ]
    }
   ],
   "source": [
    "temps2=[i*2.26+2.26 for i in temps]\n",
    "cf=curve_fit(sucepFunc,[ls,temps2],xis)\n",
    "print(\"gamma = \",cf[0][0],\" +/- \",sqrt(cf[1][0][0]))\n",
    "print(\"neu = \",cf[0][1],\" +/- \",sqrt(cf[1][1][1]))\n",
    "print(\"tc = \",cf[0][2],\" +/- \",sqrt(cf[1][2][2]))\n",
    "for i in cf[0]:\n",
    "    print(\"{0:0.3f}\".format(i),end=\",\")\n",
    "# print(matrix(cf[1]))"
   ]
  },
  {
   "cell_type": "code",
   "execution_count": 23,
   "metadata": {
    "ExecuteTime": {
     "end_time": "2018-10-01T14:59:27.750468Z",
     "start_time": "2018-10-01T14:59:27.663299Z"
    }
   },
   "outputs": [
    {
     "name": "stdout",
     "output_type": "stream",
     "text": [
      "gamma =  -113.43224314541833  +/-  2116.718980063855\n",
      "neu =  -93.32660503766438  +/-  1745.0156698334333\n",
      "tc =  2.0120664841571343  +/-  0.009449614612074149\n",
      "-113.432,-93.327,2.012,-0.336,191.827,0.158,"
     ]
    }
   ],
   "source": [
    "temps2=[i*2.26+2.26 for i in temps]\n",
    "cf=curve_fit(sucepFuncC,[ls,temps2],xis)\n",
    "print(\"gamma = \",cf[0][0],\" +/- \",sqrt(cf[1][0][0]))\n",
    "print(\"neu = \",cf[0][1],\" +/- \",sqrt(cf[1][1][1]))\n",
    "print(\"tc = \",cf[0][2],\" +/- \",sqrt(cf[1][2][2]))\n",
    "for i in cf[0]:\n",
    "    print(\"{0:0.3f}\".format(i),end=\",\")\n",
    "# print(matrix(cf[1]))"
   ]
  },
  {
   "cell_type": "code",
   "execution_count": null,
   "metadata": {
    "collapsed": true
   },
   "outputs": [],
   "source": []
  },
  {
   "cell_type": "code",
   "execution_count": null,
   "metadata": {
    "collapsed": true
   },
   "outputs": [],
   "source": []
  },
  {
   "cell_type": "code",
   "execution_count": 7,
   "metadata": {
    "ExecuteTime": {
     "end_time": "2018-09-26T09:58:28.212230Z",
     "start_time": "2018-09-26T09:58:27.672874Z"
    }
   },
   "outputs": [
    {
     "data": {
      "text/plain": [
       "<matplotlib.legend.Legend at 0x7f95225439b0>"
      ]
     },
     "execution_count": 7,
     "metadata": {},
     "output_type": "execute_result"
    },
    {
     "data": {
      "image/png": "[encoded data removed]",
      "text/plain": [
       "<matplotlib.figure.Figure at 0x7f9522543978>"
      ]
     },
     "metadata": {},
     "output_type": "display_data"
    }
   ],
   "source": [
    "k=int(0.5e4)\n",
    "# plt.scatter(dat3['time'][0:k],[i/N**2 +2 for i in dat3['energy'][0:k]],label='py',s=1)\n",
    "# plt.scatter(dat2['time'][0:k],[i/N**2 for i in dat2['energy'][0:k]],label='Metro',s=1)\n",
    "plt.scatter(dat1['time'][0:k],[i/N**2 for i in dat1['energy'][0:k]],label='Wolf',s=1)\n",
    "plt.legend(loc=0)"
   ]
  },
  {
   "cell_type": "code",
   "execution_count": 159,
   "metadata": {
    "ExecuteTime": {
     "end_time": "2018-09-26T09:58:21.825561Z",
     "start_time": "2018-09-26T09:58:21.157505Z"
    }
   },
   "outputs": [
    {
     "data": {
      "text/plain": [
       "<matplotlib.legend.Legend at 0x7ffb18afea90>"
      ]
     },
     "execution_count": 159,
     "metadata": {},
     "output_type": "execute_result"
    },
    {
     "data": {
      "image/png": "[encoded data removed]",
      "text/plain": [
       "<matplotlib.figure.Figure at 0x7ffb18b6c5c0>"
      ]
     },
     "metadata": {},
     "output_type": "display_data"
    }
   ],
   "source": [
    "k=int(0.5e4)\n",
    "plt.scatter(dat3['time'][0:k],dat3['magentization'][0:k],s=1,label='py')\n",
    "plt.scatter(dat2['time'][0:k],dat2['magentization'][0:k],s=1,label='Metro')\n",
    "plt.scatter(dat1['time'][0:k],dat1['magentization'][0:k],s=1,label='Wolf')\n",
    "plt.legend(loc=0)"
   ]
  },
  {
   "cell_type": "code",
   "execution_count": 167,
   "metadata": {
    "ExecuteTime": {
     "end_time": "2018-09-26T10:08:56.055721Z",
     "start_time": "2018-09-26T10:08:56.014568Z"
    }
   },
   "outputs": [
    {
     "name": "stdout",
     "output_type": "stream",
     "text": [
      "wolf\n",
      "([34.375, 6.138313195731288], [0.41089843749999994, 0.16609362675221614], [0.2649296875, 0.078464502922318])\n",
      "metro\n",
      "([55.55, 6.933131350418544], [0.5008359374999999, 0.09412668455194373], [0.91389875, 0.22792460751973698])\n",
      "pycode\n",
      "([67.9, 9.016297611364635], [0.21752499999999994, 0.04582938564936674], [1.545595, 0.4969820767189925])\n"
     ]
    }
   ],
   "source": [
    "ml=1000\n",
    "sdata=sample_data(dat1,Max_lags=ml);\n",
    "a=analyze(3.2,25*25,sdata['energy'],sdata['magentization'])\n",
    "print(\"wolf\")\n",
    "print(a)\n",
    "sdata=sample_data(dat2,Max_lags=ml);\n",
    "a=analyze(3.2,25*25,sdata['energy'],sdata['magentization'])\n",
    "print(\"metro\")\n",
    "print(a)\n",
    "sdata=sample_data(dat3,Max_lags=ml);\n",
    "a=analyze(3.2,25*25,sdata['energy'],sdata['magentization'])\n",
    "print(\"pycode\")\n",
    "print(a)"
   ]
  },
  {
   "cell_type": "markdown",
   "metadata": {},
   "source": [
    "## Defining functions"
   ]
  },
  {
   "cell_type": "code",
   "execution_count": 165,
   "metadata": {
    "ExecuteTime": {
     "end_time": "2018-09-26T10:07:44.604175Z",
     "start_time": "2018-09-26T10:07:44.594065Z"
    },
    "code_folding": [
     0,
     3
    ],
    "collapsed": true
   },
   "outputs": [],
   "source": [
    "def variance(X):\n",
    "    return var(X)\n",
    "\n",
    "def Average(X):\n",
    "    return average(X)\n",
    "    \n",
    "    \n",
    "    \n",
    "def analyze(temparature,L,E,M):\n",
    "    mag,mag_err=jacknife(M,Average)\n",
    "    sp_heat,sp_heat_err=jacknife(E,variance)\n",
    "    sp_heat/=(temparature*temparature*L)\n",
    "    sp_heat_err/=(temparature*temparature*L)\n",
    "    sucep,sucep_err=jacknife(M,variance)\n",
    "    sucep/=(temparature*L)\n",
    "    sucep_err/=(temparature*L)\n",
    "    return [mag,mag_err],[sp_heat,sp_heat_err],[sucep,sucep_err]"
   ]
  },
  {
   "cell_type": "markdown",
   "metadata": {},
   "source": [
    "## Sampling the thermalized zone"
   ]
  },
  {
   "cell_type": "code",
   "execution_count": 169,
   "metadata": {
    "ExecuteTime": {
     "end_time": "2018-09-14T10:26:05.487502Z",
     "start_time": "2018-09-14T10:26:05.482521Z"
    },
    "collapsed": true
   },
   "outputs": [],
   "source": [
    "from imp import reload\n",
    "import ising_lib\n",
    "ising_lib=reload(ising_lib)\n",
    "from ising_lib import *"
   ]
  },
  {
   "cell_type": "code",
   "execution_count": 170,
   "metadata": {
    "ExecuteTime": {
     "end_time": "2018-09-14T10:27:36.943294Z",
     "start_time": "2018-09-14T10:26:45.602911Z"
    }
   },
   "outputs": [
    {
     "name": "stdout",
     "output_type": "stream",
     "text": [
      "N =  12  T =  1.92  tau =  4  err =  0.06830830615711093\n",
      "N =  12  T =  1.94  tau =  13  err =  0.19198851053579633\n",
      "N =  12  T =  1.96  tau =  23  err =  0.30133956702928966\n",
      "N =  12  T =  1.98  tau =  9  err =  0.15822771445658462\n",
      "N =  12  T =  2.00  tau =  8  err =  0.14422426034616964\n",
      "N =  12  T =  2.02  tau =  6  err =  0.09284242400400405\n",
      "N =  12  T =  2.04  tau =  7  err =  0.11155182153680339\n",
      "N =  12  T =  2.06  tau =  11  err =  0.1870980706767788\n",
      "N =  12  T =  2.08  tau =  9  err =  0.17315482799986642\n",
      "N =  12  T =  2.10  tau =  11  err =  0.16726867894601016\n",
      "N =  12  T =  2.12  tau =  14  err =  0.21819474176943035\n",
      "N =  12  T =  2.14  tau =  15  err =  0.246850443532347\n",
      "N =  12  T =  2.16  tau =  31  err =  0.5129810078596215\n",
      "N =  12  T =  2.18  tau =  28  err =  0.5633519518115175\n",
      "N =  12  T =  2.20  tau =  12  err =  0.22078835008788106\n",
      "N =  12  T =  2.22  tau =  16  err =  0.27394160510953497\n",
      "N =  12  T =  2.24  tau =  17  err =  0.31807986671497473\n",
      "N =  12  T =  2.26  tau =  17  err =  0.299046570540034\n",
      "N =  12  T =  2.28  tau =  19  err =  0.3816710023815416\n",
      "N =  12  T =  2.30  tau =  40  err =  0.8425588246621305\n",
      "N =  12  T =  2.32  tau =  25  err =  0.4343143562332798\n",
      "N =  12  T =  2.34  tau =  20  err =  0.41062709989637325\n",
      "N =  12  T =  2.36  tau =  24  err =  0.505420973566436\n",
      "N =  12  T =  2.38  tau =  21  err =  0.4248675452966107\n",
      "N =  12  T =  2.40  tau =  18  err =  0.3227248536638586\n",
      "N =  12  T =  2.42  tau =  32  err =  0.6245404896927514\n",
      "N =  12  T =  2.44  tau =  18  err =  0.3394462375322296\n",
      "N =  12  T =  2.46  tau =  19  err =  0.3482900553478549\n",
      "N =  12  T =  2.48  tau =  19  err =  0.32749156275350666\n",
      "N =  12  T =  2.50  tau =  14  err =  0.24151269074804588\n",
      "N =  12  T =  2.52  tau =  16  err =  0.28506530009748005\n",
      "N =  12  T =  2.54  tau =  16  err =  0.308328799776994\n",
      "N =  12  T =  2.56  tau =  19  err =  0.3418421378820228\n",
      "N =  12  T =  2.58  tau =  17  err =  0.302463946525517\n",
      "N =  12  T =  2.60  tau =  13  err =  0.2209839164713817\n",
      "N =  12  T =  2.62  tau =  14  err =  0.27084665932549246\n",
      "N =  12  T =  2.64  tau =  13  err =  0.22445502124477615\n",
      "N =  12  T =  2.66  tau =  12  err =  0.2338412750350963\n",
      "N =  12  T =  2.68  tau =  13  err =  0.226852414925947\n",
      "N =  12  T =  2.70  tau =  14  err =  0.26295130613969864\n",
      "N =  12  T =  2.72  tau =  10  err =  0.18300125146477575\n",
      "N =  12  T =  2.74  tau =  10  err =  0.16860942223589914\n",
      "N =  12  T =  2.76  tau =  11  err =  0.22050458554309577\n",
      "N =  12  T =  2.78  tau =  9  err =  0.16505680436531775\n",
      "N =  12  T =  2.80  tau =  8  err =  0.13920796793671936\n",
      "N =  12  T =  2.82  tau =  9  err =  0.14769242108361605\n",
      "N =  12  T =  2.84  tau =  8  err =  0.14083116791646275\n",
      "N =  12  T =  2.86  tau =  8  err =  0.1390677652284671\n",
      "N =  12  T =  2.88  tau =  7  err =  0.127377879241954\n",
      "N =  12  T =  2.90  tau =  7  err =  0.12161282342359779\n",
      "N =  12  T =  2.92  tau =  6  err =  0.11152541186822075\n",
      "N =  12  T =  2.94  tau =  7  err =  0.13750796190295134\n",
      "N =  12  T =  2.96  tau =  6  err =  0.1037522599155665\n",
      "N =  12  T =  2.98  tau =  6  err =  0.10301019982286708\n",
      "N =  12  T =  3.00  tau =  6  err =  0.09478171020772162\n",
      "N =  12  T =  3.02  tau =  6  err =  0.10394493120182177\n",
      "N =  12  T =  3.04  tau =  5  err =  0.08991699402692196\n",
      "N =  12  T =  3.06  tau =  4  err =  0.07213242138886722\n",
      "N =  12  T =  3.08  tau =  5  err =  0.09333236747655003\n",
      "N =  12  T =  3.10  tau =  5  err =  0.08895804689145348\n",
      "N =  18  T =  1.92  tau =  4  err =  0.06820791317752438\n",
      "N =  18  T =  1.94  tau =  5  err =  0.07955353473486569\n",
      "N =  18  T =  1.96  tau =  5  err =  0.07743344135417857\n",
      "N =  18  T =  1.98  tau =  7  err =  0.1213807529590359\n",
      "N =  18  T =  2.00  tau =  7  err =  0.11905815292972786\n",
      "N =  18  T =  2.02  tau =  8  err =  0.12569293357004938\n",
      "N =  18  T =  2.04  tau =  7  err =  0.11275666093509212\n",
      "N =  18  T =  2.06  tau =  10  err =  0.18368246824128567\n",
      "N =  18  T =  2.08  tau =  64  err =  0.6030280096928476\n",
      "N =  18  T =  2.10  tau =  11  err =  0.2066346508021694\n",
      "N =  18  T =  2.20  tau =  50  err =  0.8875100135103696\n",
      "N =  18  T =  2.40  tau =  47  err =  0.8159047322260636\n",
      "N =  18  T =  2.60  tau =  24  err =  0.4183426978851481\n",
      "N =  18  T =  2.80  tau =  13  err =  0.2218225945928464\n",
      "N =  18  T =  3.00  tau =  5  err =  0.08773211937797085\n",
      "N =  23  T =  1.92  tau =  4  err =  0.07183747538000237\n",
      "N =  23  T =  1.94  tau =  5  err =  0.09274560711721823\n",
      "N =  23  T =  1.96  tau =  7  err =  0.1231693978020694\n",
      "N =  23  T =  1.98  tau =  6  err =  0.09793494721259913\n",
      "N =  23  T =  2.00  tau =  5  err =  0.08380397260007962\n",
      "N =  23  T =  2.02  tau =  10  err =  0.15758823120859947\n",
      "N =  23  T =  2.04  tau =  10  err =  0.1775607919224054\n",
      "N =  23  T =  2.06  tau =  9  err =  0.1510444339306548\n",
      "N =  23  T =  2.08  tau =  18  err =  0.3075060757866913\n",
      "N =  23  T =  2.10  tau =  20  err =  0.3096841596999414\n",
      "N =  23  T =  2.12  tau =  15  err =  0.30917819830469734\n",
      "N =  23  T =  2.14  tau =  12  err =  0.2006215759776532\n",
      "N =  23  T =  2.16  tau =  53  err =  0.922341770326361\n",
      "N =  23  T =  2.18  tau =  19  err =  0.3581002133044762\n",
      "N =  23  T =  2.20  tau =  57  err =  0.899203395556194\n",
      "N =  23  T =  2.22  tau =  63  err =  0.9793843310926339\n",
      "N =  23  T =  2.24  tau =  111  err =  1.8653349837073885\n",
      "N =  23  T =  2.26  tau =  46  err =  0.8094648857571338\n",
      "N =  23  T =  2.28  tau =  69  err =  1.1554380815089276\n",
      "N =  23  T =  2.30  tau =  82  err =  1.3876023732768543\n",
      "N =  23  T =  2.32  tau =  69  err =  1.2694373703391642\n",
      "N =  23  T =  2.34  tau =  50  err =  1.1086404920332433\n",
      "N =  23  T =  2.36  tau =  53  err =  0.9967591244822593\n",
      "N =  23  T =  2.38  tau =  71  err =  1.1523130933144248\n",
      "N =  23  T =  2.40  tau =  61  err =  1.1022603419376655\n",
      "N =  23  T =  2.42  tau =  66  err =  1.2415577492586143\n",
      "N =  23  T =  2.44  tau =  53  err =  0.974925670976595\n",
      "N =  23  T =  2.46  tau =  47  err =  0.8901580670192897\n",
      "N =  23  T =  2.48  tau =  36  err =  0.599743207467182\n",
      "N =  23  T =  2.50  tau =  43  err =  0.9284070651133489\n",
      "N =  23  T =  2.52  tau =  29  err =  0.5785331088206109\n",
      "N =  23  T =  2.54  tau =  26  err =  0.4639936150421549\n",
      "N =  23  T =  2.56  tau =  31  err =  0.5828159200964557\n",
      "N =  23  T =  2.58  tau =  26  err =  0.4386453530024458\n",
      "N =  23  T =  2.60  tau =  25  err =  0.48404434041926536\n",
      "N =  23  T =  2.62  tau =  23  err =  0.3978610520194503\n",
      "N =  23  T =  2.64  tau =  18  err =  0.3306888761528668\n",
      "N =  23  T =  2.66  tau =  13  err =  0.26069361245327094\n",
      "N =  23  T =  2.68  tau =  17  err =  0.3224035967975178\n",
      "N =  23  T =  2.70  tau =  13  err =  0.21377624112843777\n",
      "N =  23  T =  2.72  tau =  12  err =  0.21230313986987734\n",
      "N =  23  T =  2.74  tau =  12  err =  0.20913180076971488\n",
      "N =  23  T =  2.76  tau =  11  err =  0.21999951384814834\n",
      "N =  23  T =  2.78  tau =  12  err =  0.21767629178674544\n",
      "N =  23  T =  2.80  tau =  11  err =  0.19628159109349796\n",
      "N =  23  T =  2.82  tau =  8  err =  0.13088325664415495\n",
      "N =  23  T =  2.84  tau =  10  err =  0.19317816367390858\n",
      "N =  23  T =  2.86  tau =  8  err =  0.1488414980002511\n",
      "N =  23  T =  2.88  tau =  7  err =  0.13135257187500343\n",
      "N =  23  T =  2.90  tau =  10  err =  0.17009163836259938\n",
      "N =  23  T =  2.92  tau =  7  err =  0.1134306560307049\n",
      "N =  23  T =  2.94  tau =  7  err =  0.13472094047640032\n",
      "N =  23  T =  2.96  tau =  6  err =  0.09862901910639706\n",
      "N =  23  T =  2.98  tau =  7  err =  0.1211501527320428\n",
      "N =  23  T =  3.00  tau =  7  err =  0.11553406915817842\n",
      "N =  23  T =  3.02  tau =  5  err =  0.08957320317693544\n",
      "N =  23  T =  3.04  tau =  5  err =  0.0830692843837166\n",
      "N =  23  T =  3.06  tau =  6  err =  0.11011729525230153\n",
      "N =  23  T =  3.08  tau =  4  err =  0.06617393617686794\n",
      "N =  23  T =  3.10  tau =  5  err =  0.07851649183620121\n",
      "N =  29  T =  1.92  tau =  5  err =  0.08330175720958514\n",
      "N =  29  T =  1.94  tau =  5  err =  0.078292290288855\n",
      "N =  29  T =  1.96  tau =  7  err =  0.11903117608000707\n",
      "N =  29  T =  1.98  tau =  9  err =  0.166184319842084\n",
      "N =  29  T =  2.00  tau =  5  err =  0.08454465026369616\n",
      "N =  29  T =  2.02  tau =  14  err =  0.20894955932543133\n",
      "N =  29  T =  2.04  tau =  8  err =  0.14836192114473792\n",
      "N =  29  T =  2.06  tau =  10  err =  0.18361850012034361\n",
      "N =  29  T =  2.08  tau =  19  err =  0.33276519371792584\n",
      "N =  29  T =  2.10  tau =  40  err =  0.6879493191858658\n",
      "N =  29  T =  2.12  tau =  73  err =  0.813932074156425\n",
      "N =  29  T =  2.14  tau =  20  err =  0.37293371118138907\n",
      "N =  29  T =  2.16  tau =  19  err =  0.3274188057974461\n",
      "N =  29  T =  2.18  tau =  36  err =  0.6893843222732757\n",
      "N =  29  T =  2.20  tau =  209  err =  1.4125257876357704\n",
      "N =  29  T =  2.22  tau =  77  err =  1.202318483721153\n",
      "N =  29  T =  2.24  tau =  51  err =  1.245635336739658\n",
      "N =  29  T =  2.26  tau =  267  err =  3.418689943575218\n",
      "N =  29  T =  2.28  tau =  105  err =  1.8603919261555646\n",
      "N =  29  T =  2.30  tau =  198  err =  3.6668676511002123\n",
      "N =  29  T =  2.32  tau =  161  err =  2.6002377525415614\n",
      "N =  29  T =  2.34  tau =  103  err =  1.7557283207886565\n",
      "N =  29  T =  2.36  tau =  102  err =  2.0199155412780616\n",
      "N =  29  T =  2.38  tau =  99  err =  1.904887398180943\n",
      "N =  29  T =  2.40  tau =  85  err =  1.3302601816842614\n",
      "N =  29  T =  2.42  tau =  83  err =  1.8740951926631044\n",
      "N =  29  T =  2.44  tau =  65  err =  1.1099686664990827\n",
      "N =  29  T =  2.46  tau =  56  err =  1.2309889169639754\n",
      "N =  29  T =  2.48  tau =  63  err =  1.2664226455932799\n",
      "N =  29  T =  2.50  tau =  40  err =  0.7712080719110659\n",
      "N =  29  T =  2.52  tau =  31  err =  0.5511216889845929\n",
      "N =  29  T =  2.54  tau =  35  err =  0.7140317931455511\n",
      "N =  29  T =  2.56  tau =  36  err =  0.658568708343908\n",
      "N =  29  T =  2.58  tau =  25  err =  0.4369390568147149\n",
      "N =  29  T =  2.60  tau =  20  err =  0.3408793304951829\n",
      "N =  29  T =  2.62  tau =  31  err =  0.5621980071860054\n",
      "N =  29  T =  2.64  tau =  18  err =  0.31793977872867474\n",
      "N =  29  T =  2.66  tau =  20  err =  0.3601303105223517\n",
      "N =  29  T =  2.68  tau =  18  err =  0.30085624343639505\n",
      "N =  29  T =  2.70  tau =  22  err =  0.37973849591426534\n",
      "N =  29  T =  2.72  tau =  12  err =  0.21922977778437494\n",
      "N =  29  T =  2.74  tau =  11  err =  0.19862485866295765\n",
      "N =  29  T =  2.76  tau =  18  err =  0.372133583481361\n",
      "N =  29  T =  2.78  tau =  10  err =  0.17743045363321294\n",
      "N =  29  T =  2.80  tau =  10  err =  0.17511126034809557\n",
      "N =  15  T =  1.92  tau =  6  err =  0.08995683915144788\n",
      "N =  15  T =  1.94  tau =  10  err =  0.15532553382946948\n",
      "N =  15  T =  1.96  tau =  6  err =  0.10505926546607501\n",
      "N =  15  T =  1.98  tau =  5  err =  0.0870221783786905\n",
      "N =  15  T =  2.00  tau =  5  err =  0.07641386334683202\n",
      "N =  15  T =  2.02  tau =  7  err =  0.12853480102874473\n",
      "N =  15  T =  2.04  tau =  7  err =  0.1250459464168608\n",
      "N =  15  T =  2.06  tau =  9  err =  0.1636645253540355\n",
      "N =  15  T =  2.08  tau =  8  err =  0.14065262056426758\n",
      "N =  15  T =  2.10  tau =  20  err =  0.3241702590857567\n",
      "N =  15  T =  2.12  tau =  7  err =  0.12746869379727083\n",
      "N =  15  T =  2.14  tau =  31  err =  0.5369026684517211\n",
      "N =  15  T =  2.16  tau =  20  err =  0.32262115441899536\n",
      "N =  15  T =  2.18  tau =  22  err =  0.41552245039428626\n",
      "N =  15  T =  2.20  tau =  15  err =  0.27331437862490215\n",
      "N =  15  T =  2.22  tau =  24  err =  0.3974235402516831\n",
      "N =  15  T =  2.24  tau =  25  err =  0.4990963248688057\n",
      "N =  15  T =  2.26  tau =  37  err =  0.74364381778275\n",
      "N =  15  T =  2.28  tau =  68  err =  1.6124964311118357\n",
      "N =  15  T =  2.30  tau =  27  err =  0.5044742545892076\n",
      "N =  15  T =  2.32  tau =  36  err =  0.7716697437279566\n",
      "N =  15  T =  2.34  tau =  25  err =  0.47286301026858596\n",
      "N =  15  T =  2.36  tau =  29  err =  0.5240156493557538\n",
      "N =  15  T =  2.38  tau =  30  err =  0.527644645644006\n",
      "N =  15  T =  2.40  tau =  29  err =  0.50967198050337\n",
      "N =  15  T =  2.42  tau =  32  err =  0.6119687258839901\n",
      "N =  15  T =  2.44  tau =  37  err =  0.6071416673010441\n",
      "N =  15  T =  2.46  tau =  24  err =  0.4675935389580455\n",
      "N =  15  T =  2.48  tau =  20  err =  0.3942918040173425\n",
      "N =  15  T =  2.50  tau =  25  err =  0.48233538227410727\n",
      "N =  15  T =  2.52  tau =  22  err =  0.38011007898328175\n",
      "N =  15  T =  2.54  tau =  20  err =  0.39404180582250636\n",
      "N =  15  T =  2.56  tau =  23  err =  0.3411041400489424\n",
      "N =  15  T =  2.58  tau =  18  err =  0.34875135935331314\n",
      "N =  15  T =  2.60  tau =  19  err =  0.3224239098300892\n",
      "N =  15  T =  2.62  tau =  16  err =  0.2985106557794163\n",
      "N =  15  T =  2.64  tau =  16  err =  0.2988350979070331\n",
      "N =  15  T =  2.66  tau =  16  err =  0.30273897373233416\n",
      "N =  15  T =  2.68  tau =  14  err =  0.2581022042945036\n",
      "N =  15  T =  2.70  tau =  15  err =  0.3067068211110492\n",
      "N =  15  T =  2.72  tau =  10  err =  0.2093276661383427\n",
      "N =  15  T =  2.74  tau =  12  err =  0.21144319961715294\n",
      "N =  15  T =  2.76  tau =  10  err =  0.16961278488160972\n",
      "N =  15  T =  2.78  tau =  9  err =  0.14828388206151683\n",
      "N =  15  T =  2.80  tau =  9  err =  0.16066090095018085\n",
      "N =  15  T =  2.82  tau =  9  err =  0.15315030018125006\n",
      "N =  15  T =  2.84  tau =  6  err =  0.11648423324975053\n",
      "N =  15  T =  2.86  tau =  7  err =  0.11958240118710452\n",
      "N =  15  T =  2.88  tau =  8  err =  0.13052982449783607\n",
      "N =  15  T =  2.90  tau =  8  err =  0.1277277156185632\n",
      "N =  15  T =  2.92  tau =  6  err =  0.1036402819295362\n",
      "N =  15  T =  2.94  tau =  7  err =  0.12716900878426998\n",
      "N =  15  T =  2.96  tau =  7  err =  0.12353366744596538\n",
      "N =  15  T =  2.98  tau =  6  err =  0.0985649703867981\n",
      "N =  15  T =  3.00  tau =  7  err =  0.1187930797882525\n",
      "N =  15  T =  3.02  tau =  6  err =  0.10279990924401473\n",
      "N =  15  T =  3.04  tau =  6  err =  0.09706747739413832\n",
      "N =  15  T =  3.06  tau =  5  err =  0.08443518698016106\n",
      "N =  15  T =  3.08  tau =  5  err =  0.08715520501924692\n",
      "N =  15  T =  3.10  tau =  5  err =  0.07886685066381047\n",
      "N =  20  T =  1.92  tau =  4  err =  0.06358869298266517\n",
      "N =  20  T =  1.94  tau =  9  err =  0.13660061672031193\n",
      "N =  20  T =  1.96  tau =  7  err =  0.12330270031264451\n",
      "N =  20  T =  1.98  tau =  5  err =  0.08931560303740642\n",
      "N =  20  T =  2.00  tau =  18  err =  0.2960034114738576\n",
      "N =  20  T =  2.02  tau =  50  err =  0.38984500568540026\n",
      "N =  20  T =  2.04  tau =  8  err =  0.14534310231982536\n",
      "N =  20  T =  2.06  tau =  8  err =  0.13276772601971193\n",
      "N =  20  T =  2.08  tau =  13  err =  0.22273015029790796\n",
      "N =  20  T =  2.10  tau =  58  err =  0.7496713135387912\n",
      "N =  20  T =  2.12  tau =  12  err =  0.2227616022519036\n",
      "N =  20  T =  2.14  tau =  18  err =  0.3660814851232398\n",
      "N =  20  T =  2.16  tau =  71  err =  0.9729295634088054\n",
      "N =  20  T =  2.18  tau =  76  err =  1.1420132761492228\n",
      "N =  20  T =  2.20  tau =  20  err =  0.4125963466808941\n",
      "N =  20  T =  2.22  tau =  56  err =  1.0142963128911398\n",
      "N =  20  T =  2.24  tau =  45  err =  0.8012819644615394\n",
      "N =  20  T =  2.26  tau =  58  err =  1.0502648929796112\n",
      "N =  20  T =  2.28  tau =  121  err =  1.782250127966142\n",
      "N =  20  T =  2.30  tau =  63  err =  1.1598572937000202\n",
      "N =  20  T =  2.32  tau =  36  err =  0.6568408494204335\n",
      "N =  20  T =  2.34  tau =  60  err =  1.0396901939674341\n",
      "N =  20  T =  2.36  tau =  52  err =  1.1403405035329368\n",
      "N =  20  T =  2.38  tau =  49  err =  0.7917743229972741\n",
      "N =  20  T =  2.40  tau =  39  err =  0.6301111165272825\n",
      "N =  20  T =  2.42  tau =  55  err =  1.0468493323789578\n",
      "N =  20  T =  2.44  tau =  63  err =  1.2870478886512062\n",
      "N =  20  T =  2.46  tau =  46  err =  0.7150863776192334\n",
      "N =  20  T =  2.48  tau =  33  err =  0.7499969304016063\n",
      "N =  20  T =  2.50  tau =  43  err =  0.7188758444629455\n",
      "N =  20  T =  2.52  tau =  38  err =  0.6662047697647508\n",
      "N =  20  T =  2.54  tau =  25  err =  0.5200002330755593\n",
      "N =  20  T =  2.56  tau =  33  err =  0.652304898071265\n",
      "N =  20  T =  2.58  tau =  22  err =  0.4574335510002254\n",
      "N =  20  T =  2.60  tau =  24  err =  0.5445893425483908\n",
      "N =  20  T =  2.62  tau =  24  err =  0.47596474467742717\n",
      "N =  20  T =  2.64  tau =  17  err =  0.28680842045776167\n",
      "N =  20  T =  2.66  tau =  16  err =  0.2790090849949351\n",
      "N =  20  T =  2.68  tau =  12  err =  0.22001473115549364\n",
      "N =  20  T =  2.70  tau =  12  err =  0.2095914380624061\n",
      "N =  20  T =  2.72  tau =  14  err =  0.2472847009256292\n",
      "N =  20  T =  2.74  tau =  12  err =  0.21811205276013132\n",
      "N =  20  T =  2.76  tau =  13  err =  0.23222518220628197\n",
      "N =  20  T =  2.78  tau =  11  err =  0.20276894443080418\n",
      "N =  20  T =  2.80  tau =  10  err =  0.17172331678675243\n",
      "N =  20  T =  2.82  tau =  8  err =  0.15146698518652363\n",
      "N =  20  T =  2.84  tau =  9  err =  0.1761917984961318\n",
      "N =  20  T =  2.86  tau =  9  err =  0.16550953999839915\n",
      "N =  20  T =  2.88  tau =  9  err =  0.154014412494393\n",
      "N =  20  T =  2.90  tau =  8  err =  0.13768310745558826\n",
      "N =  20  T =  2.92  tau =  8  err =  0.13201042117354947\n",
      "N =  20  T =  2.94  tau =  7  err =  0.12036826611294416\n",
      "N =  20  T =  2.96  tau =  8  err =  0.13661598325943097\n",
      "N =  20  T =  2.98  tau =  7  err =  0.11527271876150334\n",
      "N =  20  T =  3.00  tau =  6  err =  0.09616928110035328\n",
      "N =  20  T =  3.02  tau =  6  err =  0.11308733932234788\n",
      "N =  20  T =  3.04  tau =  5  err =  0.08379964465678005\n",
      "N =  20  T =  3.06  tau =  6  err =  0.09859909335646991\n",
      "N =  20  T =  3.08  tau =  6  err =  0.10059752356704739\n",
      "N =  20  T =  3.10  tau =  5  err =  0.08491343277288682\n",
      "N =  26  T =  1.92  tau =  5  err =  0.0709460960222349\n",
      "N =  26  T =  1.94  tau =  6  err =  0.10453609174745387\n",
      "N =  26  T =  1.96  tau =  7  err =  0.11784222268064155\n",
      "N =  26  T =  1.98  tau =  5  err =  0.08606407250661124\n",
      "N =  26  T =  2.00  tau =  8  err =  0.15386341151980845\n",
      "N =  26  T =  2.02  tau =  8  err =  0.15169676250010036\n",
      "N =  26  T =  2.04  tau =  24  err =  0.42818071031677496\n",
      "N =  26  T =  2.06  tau =  22  err =  0.36974969554367093\n",
      "N =  26  T =  2.08  tau =  91  err =  0.7568625866001945\n",
      "N =  26  T =  2.10  tau =  72  err =  0.8795546773484958\n",
      "N =  26  T =  2.12  tau =  14  err =  0.2606841679744038\n",
      "N =  26  T =  2.14  tau =  22  err =  0.4069460137530858\n",
      "N =  26  T =  2.16  tau =  32  err =  0.5475688667834246\n",
      "N =  26  T =  2.18  tau =  79  err =  1.0035434535743435\n",
      "N =  26  T =  2.20  tau =  100  err =  1.2883044946494338\n",
      "N =  26  T =  2.22  tau =  32  err =  0.5312449906527958\n",
      "N =  26  T =  2.24  tau =  60  err =  1.0950792593223284\n",
      "N =  26  T =  2.26  tau =  65  err =  1.328325506688524\n",
      "N =  26  T =  2.28  tau =  91  err =  1.9896526447545861\n",
      "N =  26  T =  2.30  tau =  110  err =  1.6592334650778415\n",
      "N =  26  T =  2.32  tau =  54  err =  0.964112767867385\n",
      "N =  26  T =  2.34  tau =  71  err =  1.138921854981946\n",
      "N =  26  T =  2.36  tau =  82  err =  1.4061391450205172\n",
      "N =  26  T =  2.38  tau =  115  err =  2.010093578528624\n",
      "N =  26  T =  2.40  tau =  53  err =  1.110694334768751\n",
      "N =  26  T =  2.42  tau =  66  err =  1.5206349907554693\n",
      "N =  26  T =  2.44  tau =  58  err =  1.0919916721997764\n",
      "N =  26  T =  2.46  tau =  60  err =  1.257303383099217\n",
      "N =  26  T =  2.48  tau =  33  err =  0.5912489976963258\n",
      "N =  26  T =  2.50  tau =  35  err =  0.610078343378197\n",
      "N =  26  T =  2.52  tau =  42  err =  0.6411698375145249\n",
      "N =  26  T =  2.54  tau =  30  err =  0.5526631827013244\n",
      "N =  26  T =  2.56  tau =  27  err =  0.5105516885490536\n",
      "N =  26  T =  2.58  tau =  25  err =  0.45027923954651344\n",
      "N =  26  T =  2.60  tau =  23  err =  0.4390540528098188\n",
      "N =  26  T =  2.62  tau =  18  err =  0.35288876782027084\n",
      "N =  26  T =  2.64  tau =  27  err =  0.4733142958709774\n",
      "N =  26  T =  2.66  tau =  17  err =  0.2923983351133443\n",
      "N =  26  T =  2.68  tau =  15  err =  0.30680227103292024\n",
      "N =  26  T =  2.70  tau =  17  err =  0.31075042634937\n",
      "N =  26  T =  2.72  tau =  18  err =  0.3571259119489875\n",
      "N =  26  T =  2.74  tau =  13  err =  0.22585361155190548\n",
      "N =  26  T =  2.76  tau =  15  err =  0.27843963234381225\n",
      "N =  26  T =  2.78  tau =  10  err =  0.18567840718311543\n",
      "N =  26  T =  2.80  tau =  9  err =  0.15724623630163118\n",
      "N =  26  T =  2.82  tau =  9  err =  0.1683217572010406\n",
      "N =  26  T =  2.84  tau =  9  err =  0.16286757079695696\n",
      "N =  26  T =  2.86  tau =  9  err =  0.17748987085695378\n",
      "N =  26  T =  2.88  tau =  9  err =  0.145973913750245\n",
      "N =  26  T =  2.90  tau =  8  err =  0.1425498535383652\n",
      "N =  26  T =  2.92  tau =  9  err =  0.1457522455895316\n",
      "N =  26  T =  2.94  tau =  7  err =  0.12678441866898474\n",
      "N =  26  T =  2.96  tau =  7  err =  0.11906600904985519\n",
      "N =  26  T =  2.98  tau =  7  err =  0.12045108181083788\n",
      "N =  26  T =  3.00  tau =  8  err =  0.13573415820387183\n",
      "N =  26  T =  3.02  tau =  6  err =  0.10808725297717091\n",
      "N =  26  T =  3.04  tau =  6  err =  0.10351825605825757\n",
      "N =  26  T =  3.06  tau =  6  err =  0.1088452095597535\n",
      "N =  26  T =  3.08  tau =  6  err =  0.09199841747895998\n",
      "N =  26  T =  3.10  tau =  5  err =  0.0772289026513436\n",
      "N =  32  T =  1.92  tau =  6  err =  0.09449129588493954\n",
      "N =  32  T =  1.94  tau =  6  err =  0.10522232688226626\n",
      "N =  32  T =  1.96  tau =  5  err =  0.08869662370199155\n",
      "N =  32  T =  1.98  tau =  7  err =  0.10879619071332643\n",
      "N =  32  T =  2.00  tau =  12  err =  0.21507787259200262\n",
      "N =  32  T =  2.02  tau =  7  err =  0.11205701650111788\n",
      "N =  32  T =  2.04  tau =  25  err =  0.40714715806797347\n",
      "N =  32  T =  2.06  tau =  10  err =  0.18646180494767106\n",
      "N =  32  T =  2.08  tau =  15  err =  0.2661262302464871\n",
      "N =  32  T =  2.10  tau =  25  err =  0.4559035919480584\n",
      "N =  32  T =  2.12  tau =  27  err =  0.45585213354235476\n",
      "N =  32  T =  2.14  tau =  76  err =  1.0912961208066432\n",
      "N =  32  T =  2.16  tau =  43  err =  0.6588380977271981\n",
      "N =  32  T =  2.18  tau =  82  err =  0.8425580584322218\n",
      "N =  32  T =  2.20  tau =  21  err =  0.3857490447950504\n",
      "N =  32  T =  2.22  tau =  51  err =  0.9603769815141041\n",
      "N =  32  T =  2.24  tau =  144  err =  2.36775334077539\n",
      "N =  32  T =  2.26  tau =  94  err =  1.5465489137177026\n",
      "N =  32  T =  2.28  tau =  122  err =  1.7638651506863237\n",
      "N =  32  T =  2.30  tau =  194  err =  4.448052263811044\n",
      "N =  32  T =  2.32  tau =  114  err =  2.3665218766147866\n",
      "N =  32  T =  2.34  tau =  194  err =  3.2205873991220018\n",
      "N =  32  T =  2.36  tau =  231  err =  3.1494257999114454\n",
      "N =  32  T =  2.38  tau =  136  err =  2.970517726737639\n",
      "N =  32  T =  2.40  tau =  185  err =  3.7567781532429136\n",
      "N =  32  T =  2.42  tau =  67  err =  1.429354427899066\n",
      "N =  32  T =  2.44  tau =  61  err =  0.9455662724117962\n",
      "N =  32  T =  2.46  tau =  33  err =  0.6967138646628519\n",
      "N =  32  T =  2.48  tau =  37  err =  0.7132934433399841\n",
      "N =  32  T =  2.50  tau =  63  err =  1.2696808761706673\n",
      "N =  32  T =  2.52  tau =  37  err =  0.6996579625762188\n",
      "N =  32  T =  2.54  tau =  35  err =  0.6422194462381183\n",
      "N =  32  T =  2.56  tau =  31  err =  0.5948533102314945\n",
      "N =  32  T =  2.58  tau =  22  err =  0.3677443529590242\n",
      "N =  32  T =  2.60  tau =  17  err =  0.351077950721383\n",
      "N =  32  T =  2.62  tau =  27  err =  0.443902242539101\n",
      "N =  32  T =  2.64  tau =  21  err =  0.43380591794513856\n",
      "N =  32  T =  2.66  tau =  19  err =  0.3502174906894901\n",
      "N =  32  T =  2.68  tau =  15  err =  0.2842881779126097\n",
      "N =  32  T =  2.70  tau =  16  err =  0.2734068741975794\n",
      "N =  32  T =  2.72  tau =  15  err =  0.2647279654818663\n",
      "N =  32  T =  2.74  tau =  13  err =  0.25605169169016134\n",
      "N =  32  T =  2.76  tau =  12  err =  0.2177612152373948\n",
      "N =  32  T =  2.78  tau =  11  err =  0.1947585040479185\n",
      "N =  32  T =  2.80  tau =  10  err =  0.17648731609089\n",
      "N =  32  T =  2.82  tau =  11  err =  0.19681732645102806\n",
      "N =  32  T =  2.84  tau =  8  err =  0.1506083891537392\n",
      "N =  32  T =  2.86  tau =  11  err =  0.2211227601550659\n",
      "N =  32  T =  2.88  tau =  8  err =  0.13768011435442032\n",
      "N =  32  T =  2.90  tau =  8  err =  0.13515891645416642\n",
      "N =  32  T =  2.92  tau =  6  err =  0.10313919592724732\n",
      "N =  32  T =  2.94  tau =  10  err =  0.1800201509445689\n",
      "N =  32  T =  2.96  tau =  6  err =  0.10817017812748471\n",
      "N =  32  T =  2.98  tau =  6  err =  0.11212521972073264\n",
      "N =  32  T =  3.00  tau =  7  err =  0.1361163985657905\n",
      "N =  32  T =  3.02  tau =  7  err =  0.11445440095116051\n",
      "N =  32  T =  3.04  tau =  7  err =  0.10843852479879214\n",
      "N =  32  T =  3.06  tau =  6  err =  0.10331262786418222\n",
      "N =  32  T =  3.08  tau =  5  err =  0.08585225714079994\n",
      "N =  32  T =  3.10  tau =  5  err =  0.08800064531570224\n",
      "N =  38  T =  1.92  tau =  5  err =  0.09008235461016292\n",
      "N =  38  T =  1.94  tau =  6  err =  0.1025975265064012\n",
      "N =  38  T =  1.96  tau =  7  err =  0.11632440744593932\n",
      "N =  38  T =  1.98  tau =  8  err =  0.1340772712606893\n",
      "N =  38  T =  2.00  tau =  12  err =  0.22432483513154788\n",
      "N =  38  T =  2.02  tau =  8  err =  0.1430372332019497\n",
      "N =  38  T =  2.04  tau =  8  err =  0.1379246535585964\n",
      "N =  38  T =  2.06  tau =  13  err =  0.23368865727563778\n",
      "N =  38  T =  2.08  tau =  12  err =  0.2100041258938186\n",
      "N =  38  T =  2.10  tau =  20  err =  0.403825053080373\n",
      "N =  38  T =  2.12  tau =  49  err =  0.8988101114373921\n",
      "N =  38  T =  2.14  tau =  25  err =  0.4395661272493609\n",
      "N =  38  T =  2.16  tau =  38  err =  0.6257673939203959\n",
      "N =  38  T =  2.18  tau =  66  err =  1.039534286470706\n",
      "N =  38  T =  2.20  tau =  33  err =  0.6411220913931177\n",
      "N =  38  T =  2.22  tau =  122  err =  1.7991222030617828\n",
      "N =  38  T =  2.24  tau =  167  err =  2.686469426384042\n",
      "N =  38  T =  2.26  tau =  165  err =  2.063034413183225\n",
      "N =  38  T =  2.28  tau =  229  err =  4.6536523929904625\n",
      "N =  38  T =  2.30  tau =  103  err =  2.1726352142027197\n",
      "N =  38  T =  2.32  tau =  265  err =  4.085423575102593\n",
      "N =  38  T =  2.34  tau =  197  err =  3.5241076030995604\n",
      "N =  38  T =  2.36  tau =  104  err =  1.558270009697957\n",
      "N =  38  T =  2.38  tau =  118  err =  2.059245373920428\n",
      "N =  38  T =  2.40  tau =  62  err =  1.1369494016161932\n",
      "N =  38  T =  2.42  tau =  94  err =  1.5428953204232976\n",
      "N =  38  T =  2.44  tau =  70  err =  1.335467698510993\n",
      "N =  38  T =  2.46  tau =  63  err =  1.2421902133993399\n",
      "N =  38  T =  2.48  tau =  62  err =  1.1705041527464515\n",
      "N =  38  T =  2.50  tau =  42  err =  1.1055996662331353\n",
      "N =  38  T =  2.52  tau =  45  err =  0.8794607367870649\n",
      "N =  38  T =  2.54  tau =  28  err =  0.5102070864706346\n",
      "N =  38  T =  2.56  tau =  30  err =  0.5752475092172714\n",
      "N =  38  T =  2.58  tau =  30  err =  0.6883130786988971\n",
      "N =  38  T =  2.60  tau =  19  err =  0.3339822850101557\n",
      "N =  38  T =  2.62  tau =  21  err =  0.4160966888280814\n",
      "N =  38  T =  2.64  tau =  18  err =  0.35552171774655095\n",
      "N =  38  T =  2.66  tau =  18  err =  0.30311438567061433\n",
      "N =  38  T =  2.68  tau =  21  err =  0.4118269193268819\n",
      "N =  38  T =  2.70  tau =  15  err =  0.2689976732835058\n",
      "N =  38  T =  2.72  tau =  13  err =  0.22399478557956481\n",
      "N =  38  T =  2.74  tau =  14  err =  0.24098471798288978\n",
      "N =  38  T =  2.76  tau =  14  err =  0.2515152498126835\n",
      "N =  38  T =  2.78  tau =  12  err =  0.21575106741496913\n",
      "N =  38  T =  2.80  tau =  12  err =  0.20370796018310985\n",
      "N =  38  T =  2.82  tau =  11  err =  0.18544617399223975\n",
      "N =  38  T =  2.84  tau =  9  err =  0.1598580637189885\n",
      "N =  38  T =  2.86  tau =  10  err =  0.17646899229008345\n",
      "N =  38  T =  2.88  tau =  9  err =  0.15699387432033352\n",
      "N =  38  T =  2.90  tau =  9  err =  0.14934713078678857\n",
      "N =  38  T =  2.92  tau =  8  err =  0.15113183764944108\n",
      "N =  38  T =  2.94  tau =  7  err =  0.1277401692994083\n",
      "N =  38  T =  2.96  tau =  7  err =  0.12989710383972009\n",
      "N =  38  T =  2.98  tau =  7  err =  0.11429206151976254\n",
      "N =  38  T =  3.00  tau =  6  err =  0.09525379960330588\n",
      "N =  38  T =  3.02  tau =  6  err =  0.09705562726314987\n",
      "N =  38  T =  3.04  tau =  6  err =  0.09254849271086492\n",
      "N =  38  T =  3.06  tau =  5  err =  0.08777224847156687\n",
      "N =  38  T =  3.08  tau =  5  err =  0.0847271748036384\n",
      "N =  38  T =  3.10  tau =  5  err =  0.07850767168683831\n",
      "________  ERRONEUS  _____\n",
      " [[18, 2.12], [18, 2.14], [18, 2.16], [18, 2.18], [18, 2.22], [18, 2.24], [18, 2.2600000000000002], [18, 2.2800000000000002], [18, 2.3000000000000003], [18, 2.3200000000000003], [18, 2.3400000000000003], [18, 2.3600000000000003], [18, 2.3800000000000003], [18, 2.4200000000000004], [18, 2.4400000000000004], [18, 2.4600000000000004], [18, 2.4800000000000004], [18, 2.5000000000000004], [18, 2.5200000000000005], [18, 2.5400000000000005], [18, 2.5600000000000005], [18, 2.5800000000000005], [18, 2.6200000000000006], [18, 2.6400000000000006], [18, 2.6600000000000006], [18, 2.6800000000000006], [18, 2.7000000000000006], [18, 2.7200000000000006], [18, 2.7400000000000007], [18, 2.7600000000000007], [18, 2.7800000000000007], [18, 2.8200000000000007], [18, 2.8400000000000007], [18, 2.8600000000000008], [18, 2.880000000000001], [18, 2.900000000000001], [18, 2.920000000000001], [18, 2.940000000000001], [18, 2.960000000000001], [18, 2.980000000000001], [18, 3.020000000000001], [18, 3.040000000000001], [18, 3.060000000000001], [18, 3.080000000000001], [18, 3.100000000000001], [29, 2.8200000000000007], [29, 2.8400000000000007], [29, 2.8600000000000008], [29, 2.880000000000001], [29, 2.900000000000001], [29, 2.920000000000001], [29, 2.940000000000001], [29, 2.960000000000001], [29, 2.980000000000001], [29, 3.000000000000001], [29, 3.020000000000001], [29, 3.040000000000001], [29, 3.060000000000001], [29, 3.080000000000001], [29, 3.100000000000001]]\n"
     ]
    }
   ],
   "source": [
    "NUMS=[12,18,23,29,15,20,26,32,38]\n",
    "x=1.92\n",
    "T=[]\n",
    "for i in range(60):\n",
    "    T.append(x)\n",
    "    x+=0.02\n",
    "lag=1e4\n",
    "erroneus=[]\n",
    "for N in NUMS:\n",
    "    for temp in T:\n",
    "        try:\n",
    "            t_s=\"{0:.2f}\".format(temp)\n",
    "            fname='DATA/MC_2Dising_model_data_serc/N_'+str(N)+'_T_'+str(t_s)+\"_icingMC\"        \n",
    "            data=get_data(fname)\n",
    "            resampled_data,tau,err=sample_data(data,int(lag),return_params=True)\n",
    "            if(tau>400):\n",
    "                erroneus.append([N,temp])\n",
    "            print(\"N = \",N,\" T = \",t_s,\" tau = \",tau,\" err = \",err)\n",
    "            resampled_data['params'].update({'remarks':'resampled with themalization params as below '})\n",
    "            resampled_data['params'].update({'lags_read':int(lag)})\n",
    "            resampled_data['params'].update({'Sampled_at':max(int(tau*2),25)})\n",
    "            resampled_data['params'].update({'correlation_time':int(tau)})\n",
    "            resampled_data['params'].update({'correlation_time_err':float(err)})\n",
    "            fname='DATA/critical_exps/sampled_data/N_'+str(N)+'_T_'+str(t_s)+\"_icingMC\" \n",
    "            write_data(fname,resampled_data)\n",
    "        except:\n",
    "            erroneus.append([N,temp])\n",
    "print(\"________  ERRONEUS  _____\\n\",erroneus)"
   ]
  },
  {
   "cell_type": "markdown",
   "metadata": {},
   "source": [
    "## Data Analysis for the models"
   ]
  },
  {
   "cell_type": "markdown",
   "metadata": {},
   "source": [
    "### Getting the data read"
   ]
  },
  {
   "cell_type": "code",
   "execution_count": null,
   "metadata": {
    "collapsed": true
   },
   "outputs": [],
   "source": []
  },
  {
   "cell_type": "code",
   "execution_count": null,
   "metadata": {
    "collapsed": true
   },
   "outputs": [],
   "source": []
  },
  {
   "cell_type": "code",
   "execution_count": null,
   "metadata": {
    "collapsed": true
   },
   "outputs": [],
   "source": []
  },
  {
   "cell_type": "code",
   "execution_count": null,
   "metadata": {
    "collapsed": true
   },
   "outputs": [],
   "source": []
  },
  {
   "cell_type": "markdown",
   "metadata": {},
   "source": [
    "## Data extraction for the curve fitting ( and saving the analysis too)"
   ]
  },
  {
   "cell_type": "code",
   "execution_count": 25,
   "metadata": {
    "ExecuteTime": {
     "end_time": "2018-09-17T19:41:13.206353Z",
     "start_time": "2018-09-17T19:40:53.180584Z"
    }
   },
   "outputs": [
    {
     "name": "stdout",
     "output_type": "stream",
     "text": [
      "N =  12  T =  1.92 got Data->analyzing..Done!! -> writing to file -> DONE !\n",
      "N =  23  T =  1.92 got Data->analyzing..Done!! -> writing to file -> DONE !\n",
      "N =  29  T =  1.92 got Data->analyzing..Done!! -> writing to file -> DONE !\n",
      "N =  15  T =  1.92 got Data->analyzing..Done!! -> writing to file -> DONE !\n",
      "N =  20  T =  1.92 got Data->analyzing..Done!! -> writing to file -> DONE !\n",
      "N =  26  T =  1.92 got Data->analyzing..Done!! -> writing to file -> DONE !\n",
      "N =  32  T =  1.92 got Data->analyzing..Done!! -> writing to file -> DONE !\n",
      "N =  38  T =  1.92 got Data->analyzing..Done!! -> writing to file -> DONE !\n",
      "N =  12  T =  1.94 got Data->analyzing..Done!! -> writing to file -> DONE !\n",
      "N =  23  T =  1.94 got Data->analyzing..Done!! -> writing to file -> DONE !\n",
      "N =  29  T =  1.94 got Data->analyzing..Done!! -> writing to file -> DONE !\n",
      "N =  15  T =  1.94 got Data->analyzing..Done!! -> writing to file -> DONE !\n",
      "N =  20  T =  1.94 got Data->analyzing..Done!! -> writing to file -> DONE !\n",
      "N =  26  T =  1.94 got Data->analyzing..Done!! -> writing to file -> DONE !\n",
      "N =  32  T =  1.94 got Data->analyzing..Done!! -> writing to file -> DONE !\n",
      "N =  38  T =  1.94 got Data->analyzing..Done!! -> writing to file -> DONE !\n",
      "N =  12  T =  1.96 got Data->analyzing..Done!! -> writing to file -> DONE !\n",
      "N =  23  T =  1.96 got Data->analyzing..Done!! -> writing to file -> DONE !\n",
      "N =  29  T =  1.96 got Data->analyzing..Done!! -> writing to file -> DONE !\n",
      "N =  15  T =  1.96 got Data->analyzing..Done!! -> writing to file -> DONE !\n",
      "N =  20  T =  1.96 got Data->analyzing..Done!! -> writing to file -> DONE !\n",
      "N =  26  T =  1.96 got Data->analyzing..Done!! -> writing to file -> DONE !\n",
      "N =  32  T =  1.96 got Data->analyzing..Done!! -> writing to file -> DONE !\n",
      "N =  38  T =  1.96 got Data->analyzing..Done!! -> writing to file -> DONE !\n",
      "N =  12  T =  1.98 got Data->analyzing..Done!! -> writing to file -> DONE !\n",
      "N =  23  T =  1.98 got Data->analyzing..Done!! -> writing to file -> DONE !\n",
      "N =  29  T =  1.98 got Data->analyzing..Done!! -> writing to file -> DONE !\n",
      "N =  15  T =  1.98 got Data->analyzing..Done!! -> writing to file -> DONE !\n",
      "N =  20  T =  1.98 got Data->analyzing..Done!! -> writing to file -> DONE !\n",
      "N =  26  T =  1.98 got Data->analyzing..Done!! -> writing to file -> DONE !\n",
      "N =  32  T =  1.98 got Data->analyzing..Done!! -> writing to file -> DONE !\n",
      "N =  38  T =  1.98 got Data->analyzing..Done!! -> writing to file -> DONE !\n",
      "N =  12  T =  2.00 got Data->analyzing..Done!! -> writing to file -> DONE !\n",
      "N =  23  T =  2.00 got Data->analyzing..Done!! -> writing to file -> DONE !\n",
      "N =  29  T =  2.00 got Data->analyzing..Done!! -> writing to file -> DONE !\n",
      "N =  15  T =  2.00 got Data->analyzing..Done!! -> writing to file -> DONE !\n",
      "N =  20  T =  2.00 got Data->analyzing..Done!! -> writing to file -> DONE !\n",
      "N =  26  T =  2.00 got Data->analyzing..Done!! -> writing to file -> DONE !\n",
      "N =  32  T =  2.00 got Data->analyzing..Done!! -> writing to file -> DONE !\n",
      "N =  38  T =  2.00 got Data->analyzing..Done!! -> writing to file -> DONE !\n",
      "N =  12  T =  2.02 got Data->analyzing..Done!! -> writing to file -> DONE !\n",
      "N =  23  T =  2.02 got Data->analyzing..Done!! -> writing to file -> DONE !\n",
      "N =  29  T =  2.02 got Data->analyzing..Done!! -> writing to file -> DONE !\n",
      "N =  15  T =  2.02 got Data->analyzing..Done!! -> writing to file -> DONE !\n",
      "N =  20  T =  2.02 got Data->analyzing..Done!! -> writing to file -> DONE !\n",
      "N =  26  T =  2.02 got Data->analyzing..Done!! -> writing to file -> DONE !\n",
      "N =  32  T =  2.02 got Data->analyzing..Done!! -> writing to file -> DONE !\n",
      "N =  38  T =  2.02 got Data->analyzing..Done!! -> writing to file -> DONE !\n",
      "N =  12  T =  2.04 got Data->analyzing..Done!! -> writing to file -> DONE !\n",
      "N =  23  T =  2.04 got Data->analyzing..Done!! -> writing to file -> DONE !\n",
      "N =  29  T =  2.04 got Data->analyzing..Done!! -> writing to file -> DONE !\n",
      "N =  15  T =  2.04 got Data->analyzing..Done!! -> writing to file -> DONE !\n",
      "N =  20  T =  2.04 got Data->analyzing..Done!! -> writing to file -> DONE !\n",
      "N =  26  T =  2.04 got Data->analyzing..Done!! -> writing to file -> DONE !\n",
      "N =  32  T =  2.04 got Data->analyzing..Done!! -> writing to file -> DONE !\n",
      "N =  38  T =  2.04 got Data->analyzing..Done!! -> writing to file -> DONE !\n",
      "N =  12  T =  2.06 got Data->analyzing..Done!! -> writing to file -> DONE !\n",
      "N =  23  T =  2.06 got Data->analyzing..Done!! -> writing to file -> DONE !\n",
      "N =  29  T =  2.06 got Data->analyzing..Done!! -> writing to file -> DONE !\n",
      "N =  15  T =  2.06 got Data->analyzing..Done!! -> writing to file -> DONE !\n",
      "N =  20  T =  2.06 got Data->analyzing..Done!! -> writing to file -> DONE !\n",
      "N =  26  T =  2.06 got Data->analyzing..Done!! -> writing to file -> DONE !\n",
      "N =  32  T =  2.06 got Data->analyzing..Done!! -> writing to file -> DONE !\n",
      "N =  38  T =  2.06 got Data->analyzing..Done!! -> writing to file -> DONE !\n",
      "N =  12  T =  2.08 got Data->analyzing..Done!! -> writing to file -> DONE !\n",
      "N =  23  T =  2.08 got Data->analyzing..Done!! -> writing to file -> DONE !\n",
      "N =  29  T =  2.08 got Data->analyzing..Done!! -> writing to file -> DONE !\n",
      "N =  15  T =  2.08 got Data->analyzing..Done!! -> writing to file -> DONE !\n",
      "N =  20  T =  2.08 got Data->analyzing..Done!! -> writing to file -> DONE !\n",
      "N =  26  T =  2.08 got Data->analyzing..Done!! -> writing to file -> DONE !\n",
      "N =  32  T =  2.08 got Data->analyzing..Done!! -> writing to file -> DONE !\n",
      "N =  38  T =  2.08 got Data->analyzing..Done!! -> writing to file -> DONE !\n",
      "N =  12  T =  2.10 got Data->analyzing..Done!! -> writing to file -> DONE !\n",
      "N =  23  T =  2.10 got Data->analyzing..Done!! -> writing to file -> DONE !\n",
      "N =  29  T =  2.10 got Data->analyzing..Done!! -> writing to file -> DONE !\n",
      "N =  15  T =  2.10 got Data->analyzing..Done!! -> writing to file -> DONE !\n",
      "N =  20  T =  2.10 got Data->analyzing..Done!! -> writing to file -> DONE !\n",
      "N =  26  T =  2.10 got Data->analyzing..Done!! -> writing to file -> DONE !\n",
      "N =  32  T =  2.10 got Data->analyzing..Done!! -> writing to file -> DONE !\n",
      "N =  38  T =  2.10 got Data->analyzing..Done!! -> writing to file -> DONE !\n",
      "N =  12  T =  2.12 got Data->analyzing..Done!! -> writing to file -> DONE !\n",
      "N =  23  T =  2.12 got Data->analyzing..Done!! -> writing to file -> DONE !\n",
      "N =  29  T =  2.12 got Data->analyzing..Done!! -> writing to file -> DONE !\n",
      "N =  15  T =  2.12 got Data->analyzing..Done!! -> writing to file -> DONE !\n",
      "N =  20  T =  2.12 got Data->analyzing..Done!! -> writing to file -> DONE !\n",
      "N =  26  T =  2.12 got Data->analyzing..Done!! -> writing to file -> DONE !\n",
      "N =  32  T =  2.12 got Data->analyzing..Done!! -> writing to file -> DONE !\n",
      "N =  38  T =  2.12 got Data->analyzing..Done!! -> writing to file -> DONE !\n",
      "N =  12  T =  2.14 got Data->analyzing..Done!! -> writing to file -> DONE !\n",
      "N =  23  T =  2.14 got Data->analyzing..Done!! -> writing to file -> DONE !\n",
      "N =  29  T =  2.14 got Data->analyzing..Done!! -> writing to file -> DONE !\n",
      "N =  15  T =  2.14 got Data->analyzing..Done!! -> writing to file -> DONE !\n",
      "N =  20  T =  2.14 got Data->analyzing..Done!! -> writing to file -> DONE !\n",
      "N =  26  T =  2.14 got Data->analyzing..Done!! -> writing to file -> DONE !\n",
      "N =  32  T =  2.14 got Data->analyzing..Done!! -> writing to file -> DONE !\n",
      "N =  38  T =  2.14 got Data->analyzing..Done!! -> writing to file -> DONE !\n",
      "N =  12  T =  2.16 got Data->analyzing..Done!! -> writing to file -> DONE !\n",
      "N =  23  T =  2.16 got Data->analyzing..Done!! -> writing to file -> DONE !\n",
      "N =  29  T =  2.16 got Data->analyzing..Done!! -> writing to file -> DONE !\n",
      "N =  15  T =  2.16 got Data->analyzing..Done!! -> writing to file -> DONE !\n",
      "N =  20  T =  2.16 got Data->analyzing..Done!! -> writing to file -> DONE !\n",
      "N =  26  T =  2.16 got Data->analyzing..Done!! -> writing to file -> DONE !\n",
      "N =  32  T =  2.16 got Data->analyzing..Done!! -> writing to file -> DONE !\n",
      "N =  38  T =  2.16 got Data->analyzing..Done!! -> writing to file -> DONE !\n",
      "N =  12  T =  2.18 got Data->analyzing..Done!! -> writing to file -> DONE !\n",
      "N =  23  T =  2.18 got Data->analyzing..Done!! -> writing to file -> DONE !\n",
      "N =  29  T =  2.18 got Data->analyzing..Done!! -> writing to file -> DONE !\n",
      "N =  15  T =  2.18 got Data->analyzing..Done!! -> writing to file -> DONE !\n",
      "N =  20  T =  2.18 got Data->analyzing..Done!! -> writing to file -> DONE !\n",
      "N =  26  T =  2.18 got Data->analyzing..Done!! -> writing to file -> DONE !\n",
      "N =  32  T =  2.18 got Data->analyzing..Done!! -> writing to file -> DONE !\n",
      "N =  38  T =  2.18 got Data->analyzing..Done!! -> writing to file -> DONE !\n",
      "N =  12  T =  2.20 got Data->analyzing..Done!! -> writing to file -> DONE !\n",
      "N =  23  T =  2.20 got Data->analyzing..Done!! -> writing to file -> DONE !\n",
      "N =  29  T =  2.20 got Data->analyzing..Done!! -> writing to file -> DONE !\n",
      "N =  15  T =  2.20 got Data->analyzing..Done!! -> writing to file -> DONE !\n",
      "N =  20  T =  2.20 got Data->analyzing..Done!! -> writing to file -> DONE !\n",
      "N =  26  T =  2.20 got Data->analyzing..Done!! -> writing to file -> DONE !\n",
      "N =  32  T =  2.20 got Data->analyzing..Done!! -> writing to file -> DONE !\n",
      "N =  38  T =  2.20 got Data->analyzing..Done!! -> writing to file -> DONE !\n",
      "N =  12  T =  2.22 got Data->analyzing..Done!! -> writing to file -> DONE !\n",
      "N =  23  T =  2.22 got Data->analyzing..Done!! -> writing to file -> DONE !\n",
      "N =  29  T =  2.22 got Data->analyzing..Done!! -> writing to file -> DONE !\n",
      "N =  15  T =  2.22 got Data->analyzing..Done!! -> writing to file -> DONE !\n",
      "N =  20  T =  2.22 got Data->analyzing..Done!! -> writing to file -> DONE !\n",
      "N =  26  T =  2.22 got Data->analyzing..Done!! -> writing to file -> DONE !\n",
      "N =  32  T =  2.22 got Data->analyzing..Done!! -> writing to file -> DONE !\n",
      "N =  38  T =  2.22 got Data->analyzing..Done!! -> writing to file -> DONE !\n",
      "N =  12  T =  2.24 got Data->analyzing..Done!! -> writing to file -> DONE !\n",
      "N =  23  T =  2.24 got Data->analyzing..Done!! -> writing to file -> DONE !\n",
      "N =  29  T =  2.24 got Data->analyzing..Done!! -> writing to file -> DONE !\n",
      "N =  15  T =  2.24 got Data->analyzing..Done!! -> writing to file -> DONE !\n",
      "N =  20  T =  2.24 got Data->analyzing..Done!! -> writing to file -> DONE !\n",
      "N =  26  T =  2.24 got Data->analyzing..Done!! -> writing to file -> DONE !\n",
      "N =  32  T =  2.24 got Data->analyzing..Done!! -> writing to file -> DONE !\n",
      "N =  38  T =  2.24 got Data->analyzing..Done!! -> writing to file -> DONE !\n",
      "N =  12  T =  2.26 got Data->analyzing..Done!! -> writing to file -> DONE !\n",
      "N =  23  T =  2.26 got Data->analyzing..Done!! -> writing to file -> DONE !\n",
      "N =  29  T =  2.26 got Data->analyzing..Done!! -> writing to file -> DONE !\n",
      "N =  15  T =  2.26 got Data->analyzing..Done!! -> writing to file -> DONE !\n",
      "N =  20  T =  2.26 got Data->analyzing..Done!! -> writing to file -> DONE !\n",
      "N =  26  T =  2.26 got Data->analyzing..Done!! -> writing to file -> DONE !\n",
      "N =  32  T =  2.26 got Data->analyzing..Done!! -> writing to file -> DONE !\n",
      "N =  38  T =  2.26 got Data->analyzing..Done!! -> writing to file -> DONE !\n",
      "N =  12  T =  2.28 got Data->analyzing..Done!! -> writing to file -> DONE !\n",
      "N =  23  T =  2.28 got Data->analyzing..Done!! -> writing to file -> DONE !\n",
      "N =  29  T =  2.28 got Data->analyzing..Done!! -> writing to file -> DONE !\n",
      "N =  15  T =  2.28 got Data->analyzing..Done!! -> writing to file -> DONE !\n",
      "N =  20  T =  2.28 got Data->analyzing..Done!! -> writing to file -> DONE !\n",
      "N =  26  T =  2.28 got Data->analyzing..Done!! -> writing to file -> DONE !\n",
      "N =  32  T =  2.28 got Data->analyzing..Done!! -> writing to file -> DONE !\n",
      "N =  38  T =  2.28 got Data->analyzing..Done!! -> writing to file -> DONE !\n",
      "N =  12  T =  2.30 got Data->analyzing..Done!! -> writing to file -> DONE !\n",
      "N =  23  T =  2.30 got Data->analyzing..Done!! -> writing to file -> DONE !\n",
      "N =  29  T =  2.30 got Data->analyzing..Done!! -> writing to file -> DONE !\n",
      "N =  15  T =  2.30 got Data->analyzing..Done!! -> writing to file -> DONE !\n",
      "N =  20  T =  2.30 got Data->analyzing..Done!! -> writing to file -> DONE !\n",
      "N =  26  T =  2.30 got Data->analyzing..Done!! -> writing to file -> DONE !\n",
      "N =  32  T =  2.30 got Data->analyzing..Done!! -> writing to file -> DONE !\n",
      "N =  38  T =  2.30 got Data->analyzing..Done!! -> writing to file -> DONE !\n",
      "N =  12  T =  2.32 got Data->analyzing..Done!! -> writing to file -> DONE !\n",
      "N =  23  T =  2.32 got Data->analyzing..Done!! -> writing to file -> DONE !\n",
      "N =  29  T =  2.32 got Data->analyzing..Done!! -> writing to file -> DONE !\n",
      "N =  15  T =  2.32 got Data->analyzing..Done!! -> writing to file -> DONE !\n",
      "N =  20  T =  2.32 got Data->analyzing..Done!! -> writing to file -> DONE !\n",
      "N =  26  T =  2.32 got Data->analyzing..Done!! -> writing to file -> DONE !\n",
      "N =  32  T =  2.32 got Data->analyzing..Done!! -> writing to file -> DONE !\n",
      "N =  38  T =  2.32 got Data->analyzing..Done!! -> writing to file -> DONE !\n",
      "N =  12  T =  2.34 got Data->analyzing..Done!! -> writing to file -> DONE !\n",
      "N =  23  T =  2.34 got Data->analyzing..Done!! -> writing to file -> DONE !\n",
      "N =  29  T =  2.34 got Data->analyzing..Done!! -> writing to file -> DONE !\n",
      "N =  15  T =  2.34 got Data->analyzing..Done!! -> writing to file -> DONE !\n",
      "N =  20  T =  2.34 got Data->analyzing..Done!! -> writing to file -> DONE !\n",
      "N =  26  T =  2.34 got Data->analyzing..Done!! -> writing to file -> DONE !\n",
      "N =  32  T =  2.34 got Data->analyzing..Done!! -> writing to file -> DONE !\n",
      "N =  38  T =  2.34 got Data->analyzing..Done!! -> writing to file -> DONE !\n",
      "N =  12  T =  2.36 got Data->analyzing..Done!! -> writing to file -> DONE !\n",
      "N =  23  T =  2.36 got Data->analyzing..Done!! -> writing to file -> DONE !\n",
      "N =  29  T =  2.36 got Data->analyzing..Done!! -> writing to file -> DONE !\n",
      "N =  15  T =  2.36 got Data->analyzing..Done!! -> writing to file -> DONE !\n",
      "N =  20  T =  2.36 got Data->analyzing..Done!! -> writing to file -> DONE !\n",
      "N =  26  T =  2.36 got Data->analyzing..Done!! -> writing to file -> DONE !\n",
      "N =  32  T =  2.36 got Data->analyzing..Done!! -> writing to file -> DONE !\n",
      "N =  38  T =  2.36 got Data->analyzing..Done!! -> writing to file -> DONE !\n",
      "N =  12  T =  2.38 got Data->analyzing..Done!! -> writing to file -> DONE !\n",
      "N =  23  T =  2.38 got Data->analyzing..Done!! -> writing to file -> DONE !\n",
      "N =  29  T =  2.38 got Data->analyzing..Done!! -> writing to file -> DONE !\n",
      "N =  15  T =  2.38 got Data->analyzing..Done!! -> writing to file -> DONE !\n",
      "N =  20  T =  2.38 got Data->analyzing..Done!! -> writing to file -> DONE !\n",
      "N =  26  T =  2.38 got Data->analyzing..Done!! -> writing to file -> DONE !\n",
      "N =  32  T =  2.38 got Data->analyzing..Done!! -> writing to file -> DONE !\n",
      "N =  38  T =  2.38 got Data->analyzing..Done!! -> writing to file -> DONE !\n",
      "N =  12  T =  2.40 got Data->analyzing..Done!! -> writing to file -> DONE !\n",
      "N =  23  T =  2.40 got Data->analyzing..Done!! -> writing to file -> DONE !\n",
      "N =  29  T =  2.40 got Data->analyzing..Done!! -> writing to file -> DONE !\n",
      "N =  15  T =  2.40 got Data->analyzing..Done!! -> writing to file -> DONE !\n",
      "N =  20  T =  2.40 got Data->analyzing..Done!! -> writing to file -> DONE !\n",
      "N =  26  T =  2.40 got Data->analyzing..Done!! -> writing to file -> DONE !\n",
      "N =  32  T =  2.40 got Data->analyzing..Done!! -> writing to file -> DONE !\n",
      "N =  38  T =  2.40 got Data->analyzing..Done!! -> writing to file -> DONE !\n",
      "N =  12  T =  2.42 got Data->analyzing..Done!! -> writing to file -> DONE !\n",
      "N =  23  T =  2.42 got Data->analyzing..Done!! -> writing to file -> DONE !\n",
      "N =  29  T =  2.42 got Data->analyzing..Done!! -> writing to file -> DONE !\n",
      "N =  15  T =  2.42 got Data->analyzing..Done!! -> writing to file -> DONE !\n",
      "N =  20  T =  2.42 got Data->analyzing..Done!! -> writing to file -> DONE !\n",
      "N =  26  T =  2.42 got Data->analyzing..Done!! -> writing to file -> DONE !\n",
      "N =  32  T =  2.42 got Data->analyzing..Done!! -> writing to file -> DONE !\n",
      "N =  38  T =  2.42 got Data->analyzing..Done!! -> writing to file -> DONE !\n",
      "N =  12  T =  2.44 got Data->analyzing..Done!! -> writing to file -> DONE !\n",
      "N =  23  T =  2.44 got Data->analyzing..Done!! -> writing to file -> DONE !\n",
      "N =  29  T =  2.44 got Data->analyzing..Done!! -> writing to file -> DONE !\n",
      "N =  15  T =  2.44 got Data->analyzing..Done!! -> writing to file -> DONE !\n",
      "N =  20  T =  2.44 got Data->analyzing..Done!! -> writing to file -> DONE !\n",
      "N =  26  T =  2.44 got Data->analyzing..Done!! -> writing to file -> DONE !\n",
      "N =  32  T =  2.44 got Data->analyzing..Done!! -> writing to file -> DONE !\n",
      "N =  38  T =  2.44 got Data->analyzing..Done!! -> writing to file -> DONE !\n",
      "N =  12  T =  2.46 got Data->analyzing..Done!! -> writing to file -> DONE !\n",
      "N =  23  T =  2.46 got Data->analyzing..Done!! -> writing to file -> DONE !\n",
      "N =  29  T =  2.46 got Data->analyzing..Done!! -> writing to file -> DONE !\n",
      "N =  15  T =  2.46 got Data->analyzing..Done!! -> writing to file -> DONE !\n",
      "N =  20  T =  2.46 got Data->analyzing..Done!! -> writing to file -> DONE !\n",
      "N =  26  T =  2.46 got Data->analyzing..Done!! -> writing to file -> DONE !\n",
      "N =  32  T =  2.46 got Data->analyzing..Done!! -> writing to file -> DONE !\n",
      "N =  38  T =  2.46 got Data->analyzing..Done!! -> writing to file -> DONE !\n",
      "N =  12  T =  2.48 got Data->analyzing..Done!! -> writing to file -> DONE !\n",
      "N =  23  T =  2.48 got Data->analyzing..Done!! -> writing to file -> DONE !\n",
      "N =  29  T =  2.48 got Data->analyzing..Done!! -> writing to file -> DONE !\n",
      "N =  15  T =  2.48 got Data->analyzing..Done!! -> writing to file -> DONE !\n",
      "N =  20  T =  2.48 got Data->analyzing..Done!! -> writing to file -> DONE !\n",
      "N =  26  T =  2.48 got Data->analyzing..Done!! -> writing to file -> DONE !\n",
      "N =  32  T =  2.48 got Data->analyzing..Done!! -> writing to file -> DONE !\n",
      "N =  38  T =  2.48 got Data->analyzing..Done!! -> writing to file -> DONE !\n",
      "N =  12  T =  2.50 got Data->analyzing..Done!! -> writing to file -> DONE !\n",
      "N =  23  T =  2.50 got Data->analyzing..Done!! -> writing to file -> DONE !\n",
      "N =  29  T =  2.50 got Data->analyzing..Done!! -> writing to file -> DONE !\n",
      "N =  15  T =  2.50 got Data->analyzing..Done!! -> writing to file -> DONE !\n",
      "N =  20  T =  2.50 got Data->analyzing..Done!! -> writing to file -> DONE !\n",
      "N =  26  T =  2.50 got Data->analyzing..Done!! -> writing to file -> DONE !\n",
      "N =  32  T =  2.50 got Data->analyzing..Done!! -> writing to file -> DONE !\n",
      "N =  38  T =  2.50 got Data->analyzing..Done!! -> writing to file -> DONE !\n",
      "N =  12  T =  2.52 got Data->analyzing..Done!! -> writing to file -> DONE !\n",
      "N =  23  T =  2.52 got Data->analyzing..Done!! -> writing to file -> DONE !\n",
      "N =  29  T =  2.52 got Data->analyzing..Done!! -> writing to file -> DONE !\n",
      "N =  15  T =  2.52 got Data->analyzing..Done!! -> writing to file -> DONE !\n",
      "N =  20  T =  2.52 got Data->analyzing..Done!! -> writing to file -> DONE !\n",
      "N =  26  T =  2.52 got Data->analyzing..Done!! -> writing to file -> DONE !\n",
      "N =  32  T =  2.52 got Data->analyzing..Done!! -> writing to file -> DONE !\n",
      "N =  38  T =  2.52 got Data->analyzing..Done!! -> writing to file -> DONE !\n",
      "N =  12  T =  2.54 got Data->analyzing..Done!! -> writing to file -> DONE !\n",
      "N =  23  T =  2.54 got Data->analyzing..Done!! -> writing to file -> DONE !\n",
      "N =  29  T =  2.54 got Data->analyzing..Done!! -> writing to file -> DONE !\n",
      "N =  15  T =  2.54 got Data->analyzing..Done!! -> writing to file -> DONE !\n",
      "N =  20  T =  2.54 got Data->analyzing..Done!! -> writing to file -> DONE !\n",
      "N =  26  T =  2.54 got Data->analyzing..Done!! -> writing to file -> DONE !\n",
      "N =  32  T =  2.54 got Data->analyzing..Done!! -> writing to file -> DONE !\n",
      "N =  38  T =  2.54 got Data->analyzing..Done!! -> writing to file -> DONE !\n",
      "N =  12  T =  2.56 got Data->analyzing..Done!! -> writing to file -> DONE !\n",
      "N =  23  T =  2.56 got Data->analyzing..Done!! -> writing to file -> DONE !\n",
      "N =  29  T =  2.56 got Data->analyzing..Done!! -> writing to file -> DONE !\n",
      "N =  15  T =  2.56 got Data->analyzing..Done!! -> writing to file -> DONE !\n",
      "N =  20  T =  2.56 got Data->analyzing..Done!! -> writing to file -> DONE !\n",
      "N =  26  T =  2.56 got Data->analyzing..Done!! -> writing to file -> DONE !\n",
      "N =  32  T =  2.56 got Data->analyzing..Done!! -> writing to file -> DONE !\n",
      "N =  38  T =  2.56 got Data->analyzing..Done!! -> writing to file -> DONE !\n",
      "N =  12  T =  2.58 got Data->analyzing..Done!! -> writing to file -> DONE !\n",
      "N =  23  T =  2.58 got Data->analyzing..Done!! -> writing to file -> DONE !\n",
      "N =  29  T =  2.58 got Data->analyzing..Done!! -> writing to file -> DONE !\n",
      "N =  15  T =  2.58 got Data->analyzing..Done!! -> writing to file -> DONE !\n",
      "N =  20  T =  2.58 got Data->analyzing..Done!! -> writing to file -> DONE !\n",
      "N =  26  T =  2.58 got Data->analyzing..Done!! -> writing to file -> DONE !\n",
      "N =  32  T =  2.58 got Data->analyzing..Done!! -> writing to file -> DONE !\n",
      "N =  38  T =  2.58 got Data->analyzing..Done!! -> writing to file -> DONE !\n",
      "N =  12  T =  2.60 got Data->analyzing..Done!! -> writing to file -> DONE !\n",
      "N =  23  T =  2.60 got Data->analyzing..Done!! -> writing to file -> DONE !\n",
      "N =  29  T =  2.60 got Data->analyzing..Done!! -> writing to file -> DONE !\n",
      "N =  15  T =  2.60 got Data->analyzing..Done!! -> writing to file -> DONE !\n",
      "N =  20  T =  2.60 got Data->analyzing..Done!! -> writing to file -> DONE !\n",
      "N =  26  T =  2.60 got Data->analyzing..Done!! -> writing to file -> DONE !\n",
      "N =  32  T =  2.60 got Data->analyzing..Done!! -> writing to file -> DONE !\n",
      "N =  38  T =  2.60 got Data->analyzing..Done!! -> writing to file -> DONE !\n",
      "N =  12  T =  2.62 got Data->analyzing..Done!! -> writing to file -> DONE !\n",
      "N =  23  T =  2.62 got Data->analyzing..Done!! -> writing to file -> DONE !\n",
      "N =  29  T =  2.62 got Data->analyzing..Done!! -> writing to file -> DONE !\n",
      "N =  15  T =  2.62 got Data->analyzing..Done!! -> writing to file -> DONE !\n",
      "N =  20  T =  2.62 got Data->analyzing..Done!! -> writing to file -> DONE !\n",
      "N =  26  T =  2.62 got Data->analyzing..Done!! -> writing to file -> DONE !\n",
      "N =  32  T =  2.62 got Data->analyzing..Done!! -> writing to file -> DONE !\n",
      "N =  38  T =  2.62 got Data->analyzing..Done!! -> writing to file -> DONE !\n",
      "N =  12  T =  2.64 got Data->analyzing..Done!! -> writing to file -> DONE !\n",
      "N =  23  T =  2.64 got Data->analyzing..Done!! -> writing to file -> DONE !\n",
      "N =  29  T =  2.64 got Data->analyzing..Done!! -> writing to file -> DONE !\n",
      "N =  15  T =  2.64 got Data->analyzing..Done!! -> writing to file -> DONE !\n",
      "N =  20  T =  2.64 got Data->analyzing..Done!! -> writing to file -> DONE !\n",
      "N =  26  T =  2.64 got Data->analyzing..Done!! -> writing to file -> DONE !\n",
      "N =  32  T =  2.64 got Data->analyzing..Done!! -> writing to file -> DONE !\n",
      "N =  38  T =  2.64 got Data->analyzing..Done!! -> writing to file -> DONE !\n",
      "N =  12  T =  2.66 got Data->analyzing..Done!! -> writing to file -> DONE !\n",
      "N =  23  T =  2.66 got Data->analyzing..Done!! -> writing to file -> DONE !\n",
      "N =  29  T =  2.66 got Data->analyzing..Done!! -> writing to file -> DONE !\n",
      "N =  15  T =  2.66 got Data->analyzing..Done!! -> writing to file -> DONE !\n",
      "N =  20  T =  2.66 got Data->analyzing..Done!! -> writing to file -> DONE !\n",
      "N =  26  T =  2.66 got Data->analyzing..Done!! -> writing to file -> DONE !\n",
      "N =  32  T =  2.66 got Data->analyzing..Done!! -> writing to file -> DONE !\n",
      "N =  38  T =  2.66 got Data->analyzing..Done!! -> writing to file -> DONE !\n",
      "N =  12  T =  2.68 got Data->analyzing..Done!! -> writing to file -> DONE !\n",
      "N =  23  T =  2.68 got Data->analyzing..Done!! -> writing to file -> DONE !\n",
      "N =  29  T =  2.68 got Data->analyzing..Done!! -> writing to file -> DONE !\n",
      "N =  15  T =  2.68 got Data->analyzing..Done!! -> writing to file -> DONE !\n",
      "N =  20  T =  2.68 got Data->analyzing..Done!! -> writing to file -> DONE !\n",
      "N =  26  T =  2.68 got Data->analyzing..Done!! -> writing to file -> DONE !\n",
      "N =  32  T =  2.68 got Data->analyzing..Done!! -> writing to file -> DONE !\n",
      "N =  38  T =  2.68 got Data->analyzing..Done!! -> writing to file -> DONE !\n",
      "N =  12  T =  2.70 got Data->analyzing..Done!! -> writing to file -> DONE !\n",
      "N =  23  T =  2.70 got Data->analyzing..Done!! -> writing to file -> DONE !\n",
      "N =  29  T =  2.70 got Data->analyzing..Done!! -> writing to file -> DONE !\n",
      "N =  15  T =  2.70 got Data->analyzing..Done!! -> writing to file -> DONE !\n",
      "N =  20  T =  2.70 got Data->analyzing..Done!! -> writing to file -> DONE !\n",
      "N =  26  T =  2.70 got Data->analyzing..Done!! -> writing to file -> DONE !\n",
      "N =  32  T =  2.70 got Data->analyzing..Done!! -> writing to file -> DONE !\n",
      "N =  38  T =  2.70 got Data->analyzing..Done!! -> writing to file -> DONE !\n",
      "N =  12  T =  2.72 got Data->analyzing..Done!! -> writing to file -> DONE !\n",
      "N =  23  T =  2.72 got Data->analyzing..Done!! -> writing to file -> DONE !\n",
      "N =  29  T =  2.72 got Data->analyzing..Done!! -> writing to file -> DONE !\n",
      "N =  15  T =  2.72 got Data->analyzing..Done!! -> writing to file -> DONE !\n",
      "N =  20  T =  2.72 got Data->analyzing..Done!! -> writing to file -> DONE !\n",
      "N =  26  T =  2.72 got Data->analyzing..Done!! -> writing to file -> DONE !\n",
      "N =  32  T =  2.72 got Data->analyzing..Done!! -> writing to file -> DONE !\n",
      "N =  38  T =  2.72 got Data->analyzing..Done!! -> writing to file -> DONE !\n",
      "N =  12  T =  2.74 got Data->analyzing..Done!! -> writing to file -> DONE !\n",
      "N =  23  T =  2.74 got Data->analyzing..Done!! -> writing to file -> DONE !\n",
      "N =  29  T =  2.74 got Data->analyzing..Done!! -> writing to file -> DONE !\n",
      "N =  15  T =  2.74 got Data->analyzing..Done!! -> writing to file -> DONE !\n",
      "N =  20  T =  2.74 got Data->analyzing..Done!! -> writing to file -> DONE !\n",
      "N =  26  T =  2.74 got Data->analyzing..Done!! -> writing to file -> DONE !\n",
      "N =  32  T =  2.74 got Data->analyzing..Done!! -> writing to file -> DONE !\n",
      "N =  38  T =  2.74 got Data->analyzing..Done!! -> writing to file -> DONE !\n",
      "N =  12  T =  2.76 got Data->analyzing..Done!! -> writing to file -> DONE !\n",
      "N =  23  T =  2.76 got Data->analyzing..Done!! -> writing to file -> DONE !\n",
      "N =  29  T =  2.76 got Data->analyzing..Done!! -> writing to file -> DONE !\n",
      "N =  15  T =  2.76 got Data->analyzing..Done!! -> writing to file -> DONE !\n",
      "N =  20  T =  2.76 got Data->analyzing..Done!! -> writing to file -> DONE !\n",
      "N =  26  T =  2.76 got Data->analyzing..Done!! -> writing to file -> DONE !\n",
      "N =  32  T =  2.76 got Data->analyzing..Done!! -> writing to file -> DONE !\n",
      "N =  38  T =  2.76 got Data->analyzing..Done!! -> writing to file -> DONE !\n",
      "N =  12  T =  2.78 got Data->analyzing..Done!! -> writing to file -> DONE !\n",
      "N =  23  T =  2.78 got Data->analyzing..Done!! -> writing to file -> DONE !\n",
      "N =  29  T =  2.78 got Data->analyzing..Done!! -> writing to file -> DONE !\n",
      "N =  15  T =  2.78 got Data->analyzing..Done!! -> writing to file -> DONE !\n",
      "N =  20  T =  2.78 got Data->analyzing..Done!! -> writing to file -> DONE !\n",
      "N =  26  T =  2.78 got Data->analyzing..Done!! -> writing to file -> DONE !\n",
      "N =  32  T =  2.78 got Data->analyzing..Done!! -> writing to file -> DONE !\n",
      "N =  38  T =  2.78 got Data->analyzing..Done!! -> writing to file -> DONE !\n",
      "N =  12  T =  2.80 got Data->analyzing..Done!! -> writing to file -> DONE !\n",
      "N =  23  T =  2.80 got Data->analyzing..Done!! -> writing to file -> DONE !\n",
      "N =  29  T =  2.80 got Data->analyzing..Done!! -> writing to file -> DONE !\n",
      "N =  15  T =  2.80 got Data->analyzing..Done!! -> writing to file -> DONE !\n",
      "N =  20  T =  2.80 got Data->analyzing..Done!! -> writing to file -> DONE !\n",
      "N =  26  T =  2.80 got Data->analyzing..Done!! -> writing to file -> DONE !\n",
      "N =  32  T =  2.80 got Data->analyzing..Done!! -> writing to file -> DONE !\n",
      "N =  38  T =  2.80 got Data->analyzing..Done!! -> writing to file -> DONE !\n",
      "N =  12  T =  2.82 got Data->analyzing..Done!! -> writing to file -> DONE !\n",
      "N =  23  T =  2.82 got Data->analyzing..Done!! -> writing to file -> DONE !\n",
      "!! at (N,T) -> ( 29 , 2.8200000000000007 ) ,\n",
      "N =  15  T =  2.82 got Data->analyzing..Done!! -> writing to file -> DONE !\n",
      "N =  20  T =  2.82 got Data->analyzing..Done!! -> writing to file -> DONE !\n",
      "N =  26  T =  2.82 got Data->analyzing..Done!! -> writing to file -> DONE !\n",
      "N =  32  T =  2.82 got Data->analyzing..Done!! -> writing to file -> DONE !\n",
      "N =  38  T =  2.82 got Data->analyzing..Done!! -> writing to file -> DONE !\n",
      "N =  12  T =  2.84 got Data->analyzing..Done!! -> writing to file -> DONE !\n",
      "N =  23  T =  2.84 got Data->analyzing..Done!! -> writing to file -> DONE !\n",
      "!! at (N,T) -> ( 29 , 2.8400000000000007 ) ,\n",
      "N =  15  T =  2.84 got Data->analyzing..Done!! -> writing to file -> DONE !\n",
      "N =  20  T =  2.84 got Data->analyzing..Done!! -> writing to file -> DONE !\n",
      "N =  26  T =  2.84 got Data->analyzing..Done!! -> writing to file -> DONE !\n",
      "N =  32  T =  2.84 got Data->analyzing..Done!! -> writing to file -> DONE !\n",
      "N =  38  T =  2.84 got Data->analyzing..Done!! -> writing to file -> DONE !\n",
      "N =  12  T =  2.86 got Data->analyzing..Done!! -> writing to file -> DONE !\n",
      "N =  23  T =  2.86 got Data->analyzing..Done!! -> writing to file -> DONE !\n",
      "!! at (N,T) -> ( 29 , 2.8600000000000008 ) ,\n",
      "N =  15  T =  2.86 got Data->analyzing..Done!! -> writing to file -> DONE !\n",
      "N =  20  T =  2.86 got Data->analyzing..Done!! -> writing to file -> DONE !\n",
      "N =  26  T =  2.86 got Data->analyzing..Done!! -> writing to file -> DONE !\n",
      "N =  32  T =  2.86 got Data->analyzing..Done!! -> writing to file -> DONE !\n",
      "N =  38  T =  2.86 got Data->analyzing..Done!! -> writing to file -> DONE !\n",
      "N =  12  T =  2.88 got Data->analyzing..Done!! -> writing to file -> DONE !\n",
      "N =  23  T =  2.88 got Data->analyzing..Done!! -> writing to file -> DONE !\n",
      "!! at (N,T) -> ( 29 , 2.880000000000001 ) ,\n",
      "N =  15  T =  2.88 got Data->analyzing..Done!! -> writing to file -> DONE !\n",
      "N =  20  T =  2.88 got Data->analyzing..Done!! -> writing to file -> DONE !\n",
      "N =  26  T =  2.88 got Data->analyzing..Done!! -> writing to file -> DONE !\n",
      "N =  32  T =  2.88 got Data->analyzing..Done!! -> writing to file -> DONE !\n",
      "N =  38  T =  2.88 got Data->analyzing..Done!! -> writing to file -> DONE !\n",
      "N =  12  T =  2.90 got Data->analyzing..Done!! -> writing to file -> DONE !\n",
      "N =  23  T =  2.90 got Data->analyzing..Done!! -> writing to file -> DONE !\n",
      "!! at (N,T) -> ( 29 , 2.900000000000001 ) ,\n",
      "N =  15  T =  2.90 got Data->analyzing..Done!! -> writing to file -> DONE !\n",
      "N =  20  T =  2.90 got Data->analyzing..Done!! -> writing to file -> DONE !\n",
      "N =  26  T =  2.90 got Data->analyzing..Done!! -> writing to file -> DONE !\n",
      "N =  32  T =  2.90 got Data->analyzing..Done!! -> writing to file -> DONE !\n",
      "N =  38  T =  2.90 got Data->analyzing..Done!! -> writing to file -> DONE !\n",
      "N =  12  T =  2.92 got Data->analyzing..Done!! -> writing to file -> DONE !\n",
      "N =  23  T =  2.92 got Data->analyzing..Done!! -> writing to file -> DONE !\n",
      "!! at (N,T) -> ( 29 , 2.920000000000001 ) ,\n",
      "N =  15  T =  2.92 got Data->analyzing..Done!! -> writing to file -> DONE !\n",
      "N =  20  T =  2.92 got Data->analyzing..Done!! -> writing to file -> DONE !\n",
      "N =  26  T =  2.92 got Data->analyzing..Done!! -> writing to file -> DONE !\n",
      "N =  32  T =  2.92 got Data->analyzing..Done!! -> writing to file -> DONE !\n",
      "N =  38  T =  2.92 got Data->analyzing..Done!! -> writing to file -> DONE !\n",
      "N =  12  T =  2.94 got Data->analyzing..Done!! -> writing to file -> DONE !\n",
      "N =  23  T =  2.94 got Data->analyzing..Done!! -> writing to file -> DONE !\n",
      "!! at (N,T) -> ( 29 , 2.940000000000001 ) ,\n",
      "N =  15  T =  2.94 got Data->analyzing..Done!! -> writing to file -> DONE !\n",
      "N =  20  T =  2.94 got Data->analyzing..Done!! -> writing to file -> DONE !\n",
      "N =  26  T =  2.94 got Data->analyzing..Done!! -> writing to file -> DONE !\n",
      "N =  32  T =  2.94 got Data->analyzing..Done!! -> writing to file -> DONE !\n",
      "N =  38  T =  2.94 got Data->analyzing..Done!! -> writing to file -> DONE !\n",
      "N =  12  T =  2.96 got Data->analyzing..Done!! -> writing to file -> DONE !\n",
      "N =  23  T =  2.96 got Data->analyzing..Done!! -> writing to file -> DONE !\n",
      "!! at (N,T) -> ( 29 , 2.960000000000001 ) ,\n",
      "N =  15  T =  2.96 got Data->analyzing..Done!! -> writing to file -> DONE !\n",
      "N =  20  T =  2.96 got Data->analyzing..Done!! -> writing to file -> DONE !\n",
      "N =  26  T =  2.96 got Data->analyzing..Done!! -> writing to file -> DONE !\n",
      "N =  32  T =  2.96 got Data->analyzing..Done!! -> writing to file -> DONE !\n",
      "N =  38  T =  2.96 got Data->analyzing..Done!! -> writing to file -> DONE !\n",
      "N =  12  T =  2.98 got Data->analyzing..Done!! -> writing to file -> DONE !\n",
      "N =  23  T =  2.98 got Data->analyzing..Done!! -> writing to file -> DONE !\n",
      "!! at (N,T) -> ( 29 , 2.980000000000001 ) ,\n",
      "N =  15  T =  2.98 got Data->analyzing..Done!! -> writing to file -> DONE !\n",
      "N =  20  T =  2.98 got Data->analyzing..Done!! -> writing to file -> DONE !\n",
      "N =  26  T =  2.98 got Data->analyzing..Done!! -> writing to file -> DONE !\n",
      "N =  32  T =  2.98 got Data->analyzing..Done!! -> writing to file -> DONE !\n",
      "N =  38  T =  2.98 got Data->analyzing..Done!! -> writing to file -> DONE !\n",
      "N =  12  T =  3.00 got Data->analyzing..Done!! -> writing to file -> DONE !\n",
      "N =  23  T =  3.00 got Data->analyzing..Done!! -> writing to file -> DONE !\n",
      "!! at (N,T) -> ( 29 , 3.000000000000001 ) ,\n",
      "N =  15  T =  3.00 got Data->analyzing..Done!! -> writing to file -> DONE !\n",
      "N =  20  T =  3.00 got Data->analyzing..Done!! -> writing to file -> DONE !\n",
      "N =  26  T =  3.00 got Data->analyzing..Done!! -> writing to file -> DONE !\n",
      "N =  32  T =  3.00 got Data->analyzing..Done!! -> writing to file -> DONE !\n",
      "N =  38  T =  3.00 got Data->analyzing..Done!! -> writing to file -> DONE !\n",
      "N =  12  T =  3.02 got Data->analyzing..Done!! -> writing to file -> DONE !\n",
      "N =  23  T =  3.02 got Data->analyzing..Done!! -> writing to file -> DONE !\n",
      "!! at (N,T) -> ( 29 , 3.020000000000001 ) ,\n",
      "N =  15  T =  3.02 got Data->analyzing..Done!! -> writing to file -> DONE !\n",
      "N =  20  T =  3.02 got Data->analyzing..Done!! -> writing to file -> DONE !\n",
      "N =  26  T =  3.02 got Data->analyzing..Done!! -> writing to file -> DONE !\n",
      "N =  32  T =  3.02 got Data->analyzing..Done!! -> writing to file -> DONE !\n",
      "N =  38  T =  3.02 got Data->analyzing..Done!! -> writing to file -> DONE !\n",
      "N =  12  T =  3.04 got Data->analyzing..Done!! -> writing to file -> DONE !\n",
      "N =  23  T =  3.04 got Data->analyzing..Done!! -> writing to file -> DONE !\n",
      "!! at (N,T) -> ( 29 , 3.040000000000001 ) ,\n",
      "N =  15  T =  3.04 got Data->analyzing..Done!! -> writing to file -> DONE !\n",
      "N =  20  T =  3.04 got Data->analyzing..Done!! -> writing to file -> DONE !\n",
      "N =  26  T =  3.04 got Data->analyzing..Done!! -> writing to file -> DONE !\n",
      "N =  32  T =  3.04 got Data->analyzing..Done!! -> writing to file -> DONE !\n",
      "N =  38  T =  3.04 got Data->analyzing..Done!! -> writing to file -> DONE !\n",
      "N =  12  T =  3.06 got Data->analyzing..Done!! -> writing to file -> DONE !\n",
      "N =  23  T =  3.06 got Data->analyzing..Done!! -> writing to file -> DONE !\n",
      "!! at (N,T) -> ( 29 , 3.060000000000001 ) ,\n",
      "N =  15  T =  3.06 got Data->analyzing..Done!! -> writing to file -> DONE !\n",
      "N =  20  T =  3.06 got Data->analyzing..Done!! -> writing to file -> DONE !\n",
      "N =  26  T =  3.06 got Data->analyzing..Done!! -> writing to file -> DONE !\n",
      "N =  32  T =  3.06 got Data->analyzing..Done!! -> writing to file -> DONE !\n",
      "N =  38  T =  3.06 got Data->analyzing..Done!! -> writing to file -> DONE !\n",
      "N =  12  T =  3.08 got Data->analyzing..Done!! -> writing to file -> DONE !\n",
      "N =  23  T =  3.08 got Data->analyzing..Done!! -> writing to file -> DONE !\n",
      "!! at (N,T) -> ( 29 , 3.080000000000001 ) ,\n",
      "N =  15  T =  3.08 got Data->analyzing..Done!! -> writing to file -> DONE !\n",
      "N =  20  T =  3.08 got Data->analyzing..Done!! -> writing to file -> DONE !\n",
      "N =  26  T =  3.08 got Data->analyzing..Done!! -> writing to file -> DONE !\n",
      "N =  32  T =  3.08 got Data->analyzing..Done!! -> writing to file -> DONE !\n",
      "N =  38  T =  3.08 got Data->analyzing..Done!! -> writing to file -> DONE !\n",
      "N =  12  T =  3.10 got Data->analyzing..Done!! -> writing to file -> DONE !\n",
      "N =  23  T =  3.10 got Data->analyzing..Done!! -> writing to file -> DONE !\n",
      "!! at (N,T) -> ( 29 , 3.100000000000001 ) ,\n",
      "N =  15  T =  3.10 got Data->analyzing..Done!! -> writing to file -> DONE !\n",
      "N =  20  T =  3.10 got Data->analyzing..Done!! -> writing to file -> DONE !\n",
      "N =  26  T =  3.10 got Data->analyzing..Done!! -> writing to file -> DONE !\n",
      "N =  32  T =  3.10 got Data->analyzing..Done!! -> writing to file -> DONE !\n",
      "N =  38  T =  3.10 got Data->analyzing..Done!! -> writing to file -> DONE !\n"
     ]
    }
   ],
   "source": [
    "NUMS=[12,23,29,15,20,26,32,38]\n",
    "x=1.92\n",
    "T=[]\n",
    "for i in range(60):\n",
    "    T.append(x)\n",
    "    x+=0.02\n",
    "\n",
    "f=open(\"DATA/critical_exps/results\",'w')\n",
    "f_xi=open(\"DATA/critical_exps/cfit\",'w')\n",
    "f.write(\"Temp\")\n",
    "errer_happend=[]\n",
    "for N in NUMS:\n",
    "    f.write(\",N_\"+str(N)+\"_mag\"+\",N_\"+str(N)+\"_magErr\"+\",N_\"+str(N)+\"_sp_heat\"+\",N_\"+str(N))\n",
    "    f.write(\"_sp_heatErr\"+\",N_\"+str(N)+\"_succep\"+\",N_\"+str(N)+\"_succepErr\")\n",
    "f.write(\"\\n\")\n",
    "f_xi.write(\"N,temp,Xi,Xi_err\")\n",
    "\n",
    "for temp in T:\n",
    "    t_s=\"{0:.2f}\".format(temp)\n",
    "    f.write(t_s)\n",
    "    for N in NUMS:\n",
    "        try:\n",
    "            loga=open('log','a')\n",
    "            loga.write(\"AT \"+str(N)+\" , \"+t_s+\" -> \\n\")\n",
    "            loga.close()\n",
    "            fname='DATA/critical_exps/sampled_data/N_'+str(N)+'_T_'+str(t_s)+\"_icingMC\"\n",
    "            data_h=get_data(fname)\n",
    "            print(\"N = \",N,\" T = \",t_s,\"got Data\",end=\"->analyzing..\")\n",
    "            ana=analyze(temp,N**2,data_h['energy'],data_h['magentization'])\n",
    "            print(\"Done!! -> writing to file ->\",end=\"\")\n",
    "            f_xi.write(\"\\n\"+str(N)+\",\")\n",
    "            f_xi.write(str(temp)+\",\")\n",
    "            f_xi.write(str(ana[2][0])+\",\")\n",
    "            f_xi.write(str(ana[2][1]))\n",
    "            f.write(\",\"+str(ana[0][0])+\",\"+str(ana[0][1]))\n",
    "            f.write(\",\"+str(ana[1][0])+\",\"+str(ana[1][1]))\n",
    "            f.write(\",\"+str(ana[2][0])+\",\"+str(ana[2][1]))  \n",
    "            print(\" DONE !\")\n",
    "            loga=open('log','a')\n",
    "            loga.write(\"DONE !! \\n\")\n",
    "            loga.close()\n",
    "        except:\n",
    "            print (\"!! at (N,T) -> (\",N,\",\",temp,\") ,\")\n",
    "            errer_happend.append([N,temp])\n",
    "    f.write(\"\\n\")\n",
    "f.close()\n",
    "f_xi.close()"
   ]
  },
  {
   "cell_type": "code",
   "execution_count": 30,
   "metadata": {
    "ExecuteTime": {
     "end_time": "2018-09-30T16:47:41.445914Z",
     "start_time": "2018-09-30T16:47:41.441147Z"
    }
   },
   "outputs": [
    {
     "data": {
      "text/plain": [
       "dict_keys([16.0, 20.0, 24.0, 28.0, 32.0])"
      ]
     },
     "execution_count": 30,
     "metadata": {},
     "output_type": "execute_result"
    }
   ],
   "source": [
    "Xi_dic.keys()"
   ]
  },
  {
   "cell_type": "code",
   "execution_count": 31,
   "metadata": {
    "ExecuteTime": {
     "end_time": "2018-09-30T16:47:45.444653Z",
     "start_time": "2018-09-30T16:47:44.122881Z"
    }
   },
   "outputs": [
    {
     "data": {
      "image/png": "[encoded data removed]",
      "text/plain": [
       "<matplotlib.figure.Figure at 0x7ff309545cc0>"
      ]
     },
     "metadata": {},
     "output_type": "display_data"
    },
    {
     "data": {
      "image/png": "[encoded data removed]",
      "text/plain": [
       "<matplotlib.figure.Figure at 0x7ff30945bd30>"
      ]
     },
     "metadata": {},
     "output_type": "display_data"
    },
    {
     "data": {
      "image/png": "[encoded data removed]",
      "text/plain": [
       "<matplotlib.figure.Figure at 0x7ff3090677b8>"
      ]
     },
     "metadata": {},
     "output_type": "display_data"
    },
    {
     "data": {
      "image/png": "[encoded data removed]",
      "text/plain": [
       "<matplotlib.figure.Figure at 0x7ff308fe2128>"
      ]
     },
     "metadata": {},
     "output_type": "display_data"
    },
    {
     "data": {
      "image/png": "[encoded data removed]",
      "text/plain": [
       "<matplotlib.figure.Figure at 0x7ff308f67160>"
      ]
     },
     "metadata": {},
     "output_type": "display_data"
    }
   ],
   "source": [
    "for k in Xi_dic.keys():\n",
    "    plt.figure()\n",
    "    plt.errorbar(Xi_dic[k]['temp'],Xi_dic[k]['sucep'],Xi_dic[k]['sucep_err'],fmt='o')\n",
    "    plt.title(str(k))"
   ]
  },
  {
   "cell_type": "markdown",
   "metadata": {},
   "source": [
    "## Fitting log( Sucep ) vs log (reduced_temp)"
   ]
  },
  {
   "cell_type": "markdown",
   "metadata": {},
   "source": [
    "    FROM THE Low twmp side"
   ]
  },
  {
   "cell_type": "code",
   "execution_count": 32,
   "metadata": {
    "ExecuteTime": {
     "end_time": "2018-09-30T16:47:56.296840Z",
     "start_time": "2018-09-30T16:47:54.778331Z"
    }
   },
   "outputs": [
    {
     "name": "stdout",
     "output_type": "stream",
     "text": [
      "from L =  16.0  - >   2.6910415312209666  +/-  0.1948091551415541\n",
      "from L =  20.0  - >   2.7414535970402527  +/-  0.15915629287995778\n",
      "from L =  24.0  - >   3.0190662515523163  +/-  0.14622129873601078\n",
      "from L =  28.0  - >   2.7906755877416223  +/-  0.11174958224025859\n",
      "from L =  32.0  - >   2.890236208984656  +/-  0.1312092497356004\n"
     ]
    },
    {
     "data": {
      "image/png": "[encoded data removed]",
      "text/plain": [
       "<matplotlib.figure.Figure at 0x7ff308ec5b00>"
      ]
     },
     "metadata": {},
     "output_type": "display_data"
    },
    {
     "data": {
      "image/png": "[encoded data removed]",
      "text/plain": [
       "<matplotlib.figure.Figure at 0x7ff308d9a748>"
      ]
     },
     "metadata": {},
     "output_type": "display_data"
    },
    {
     "data": {
      "image/png": "[encoded data removed]",
      "text/plain": [
       "<matplotlib.figure.Figure at 0x7ff309595ba8>"
      ]
     },
     "metadata": {},
     "output_type": "display_data"
    },
    {
     "data": {
      "image/png": "[encoded data removed]",
      "text/plain": [
       "<matplotlib.figure.Figure at 0x7ff308d02828>"
      ]
     },
     "metadata": {},
     "output_type": "display_data"
    },
    {
     "data": {
      "image/png": "[encoded data removed]",
      "text/plain": [
       "<matplotlib.figure.Figure at 0x7ff308e16e80>"
      ]
     },
     "metadata": {},
     "output_type": "display_data"
    }
   ],
   "source": [
    "def _leniar(x,a,b):\n",
    "    return b+a*x\n",
    "for k in list(Xi_dic.keys()):\n",
    "    p=0\n",
    "    for i in Xi_dic[k]['temp']:\n",
    "        if i>0:\n",
    "            break\n",
    "        p+=1\n",
    "    lnXi=[log(i) for i in Xi_dic[k]['sucep'][:p]]\n",
    "    lnXi_err=[i/j for i,j in zip(Xi_dic[k]['sucep_err'],Xi_dic[k]['sucep'][:p])]\n",
    "    lntemp=[log(abs(i)) for i in Xi_dic[k]['temp'][:p]]\n",
    "    for i in range(5)  :  \n",
    "        q=lntemp.index(min(lntemp))\n",
    "        lntemp.pop(q)\n",
    "        lnXi.pop(q)\n",
    "        lnXi_err.pop(q)\n",
    "    plt.figure()\n",
    "    plt.errorbar(lntemp,lnXi,lnXi_err,fmt='o')\n",
    "    c=curve_fit(_leniar,lntemp,lnXi,sigma=lnXi_err)\n",
    "    print(\"from L = \",k,\" - >  \",-1*c[0][0],\" +/- \",sqrt(c[1][0][0]))"
   ]
  },
  {
   "cell_type": "markdown",
   "metadata": {},
   "source": [
    "    FROM THE High temp side"
   ]
  },
  {
   "cell_type": "code",
   "execution_count": 33,
   "metadata": {
    "ExecuteTime": {
     "end_time": "2018-09-30T16:48:05.735636Z",
     "start_time": "2018-09-30T16:48:04.461719Z"
    },
    "scrolled": true
   },
   "outputs": [
    {
     "name": "stdout",
     "output_type": "stream",
     "text": [
      "from L =  16.0  - >   0.18051053541412826  +/-  0.3096216693736163\n",
      "from L =  20.0  - >   1.6481230241581484  +/-  0.10683969725741183\n",
      "from L =  24.0  - >   1.6308278884402538  +/-  0.22847492221892685\n",
      "from L =  28.0  - >   1.5541885178832198  +/-  0.18993292127255934\n",
      "from L =  32.0  - >   0.6868003333554975  +/-  0.20862607783706735\n"
     ]
    },
    {
     "data": {
      "image/png": "[encoded data removed]",
      "text/plain": [
       "<matplotlib.figure.Figure at 0x7ff308e6c0b8>"
      ]
     },
     "metadata": {},
     "output_type": "display_data"
    },
    {
     "data": {
      "image/png": "[encoded data removed]",
      "text/plain": [
       "<matplotlib.figure.Figure at 0x7ff309fc59b0>"
      ]
     },
     "metadata": {},
     "output_type": "display_data"
    },
    {
     "data": {
      "image/png": "[encoded data removed]",
      "text/plain": [
       "<matplotlib.figure.Figure at 0x7ff309f190f0>"
      ]
     },
     "metadata": {},
     "output_type": "display_data"
    },
    {
     "data": {
      "image/png": "[encoded data removed]",
      "text/plain": [
       "<matplotlib.figure.Figure at 0x7ff308f84c50>"
      ]
     },
     "metadata": {},
     "output_type": "display_data"
    },
    {
     "data": {
      "image/png": "[encoded data removed]",
      "text/plain": [
       "<matplotlib.figure.Figure at 0x7ff308f484a8>"
      ]
     },
     "metadata": {},
     "output_type": "display_data"
    }
   ],
   "source": [
    "for k in list(Xi_dic.keys()):\n",
    "    p=0\n",
    "    for i in Xi_dic[k]['temp']:\n",
    "        if i>0:\n",
    "            break\n",
    "        p+=1\n",
    "    lnXi=[log(i) for i in Xi_dic[k]['sucep'][p:]]\n",
    "    lnXi_err=[i/j for i,j in zip(Xi_dic[k]['sucep_err'],Xi_dic[k]['sucep'][p:])]\n",
    "    lntemp=[log(abs(i)) for i in Xi_dic[k]['temp'][p:]]\n",
    "    for i in range(8)  :  \n",
    "        q=lntemp.index(min(lntemp))\n",
    "        lntemp.pop(q)\n",
    "        lnXi.pop(q)\n",
    "        lnXi_err.pop(q)\n",
    "    plt.figure()\n",
    "    plt.errorbar(lntemp,lnXi,lnXi_err,fmt='o')\n",
    "    c=curve_fit(_leniar,lntemp,lnXi,sigma=lnXi_err)\n",
    "    print(\"from L = \",k,\" - >  \",-1*c[0][0],\" +/- \",sqrt(c[1][0][0]))"
   ]
  },
  {
   "cell_type": "markdown",
   "metadata": {},
   "source": [
    "## Fitting the peak value vs L"
   ]
  },
  {
   "cell_type": "code",
   "execution_count": 34,
   "metadata": {
    "ExecuteTime": {
     "end_time": "2018-09-30T16:48:12.442394Z",
     "start_time": "2018-09-30T16:48:12.436336Z"
    },
    "collapsed": true
   },
   "outputs": [],
   "source": [
    "ids=[]\n",
    "for k in Xi_dic.keys():\n",
    "    t=max(Xi_dic[k]['sucep'])\n",
    "    idt=Xi_dic[k]['sucep'].index(t)\n",
    "    ids.append(idt)\n",
    "#     print(max(Xi_dic[k]['sucep']))"
   ]
  },
  {
   "cell_type": "code",
   "execution_count": 35,
   "metadata": {
    "ExecuteTime": {
     "end_time": "2018-09-30T16:48:14.352786Z",
     "start_time": "2018-09-30T16:48:14.348687Z"
    }
   },
   "outputs": [
    {
     "data": {
      "text/plain": [
       "dict_keys([16.0, 20.0, 24.0, 28.0, 32.0])"
      ]
     },
     "execution_count": 35,
     "metadata": {},
     "output_type": "execute_result"
    }
   ],
   "source": [
    "Xi_dic.keys()"
   ]
  },
  {
   "cell_type": "code",
   "execution_count": 36,
   "metadata": {
    "ExecuteTime": {
     "end_time": "2018-09-30T16:48:16.575000Z",
     "start_time": "2018-09-30T16:48:16.569473Z"
    },
    "collapsed": true
   },
   "outputs": [],
   "source": [
    "NUMS=list( Xi_dic.keys())\n",
    "ln_max=[log(Xi_dic[k]['sucep'][i]) for k,i in zip(NUMS,ids)]\n",
    "ln_maxerr=[Xi_dic[k]['sucep_err'][i]/Xi_dic[k]['sucep'][i] for k,i in zip(NUMS,ids)]\n",
    "ln_D=[log(i) for i in NUMS]"
   ]
  },
  {
   "cell_type": "code",
   "execution_count": 37,
   "metadata": {
    "ExecuteTime": {
     "end_time": "2018-09-30T16:48:19.628874Z",
     "start_time": "2018-09-30T16:48:19.322396Z"
    }
   },
   "outputs": [
    {
     "data": {
      "text/plain": [
       "<Container object of 3 artists>"
      ]
     },
     "execution_count": 37,
     "metadata": {},
     "output_type": "execute_result"
    },
    {
     "data": {
      "image/png": "[encoded data removed]",
      "text/plain": [
       "<matplotlib.figure.Figure at 0x7ff308ec5e80>"
      ]
     },
     "metadata": {},
     "output_type": "display_data"
    }
   ],
   "source": [
    "plt.errorbar(ln_D,ln_max,ln_maxerr,fmt='o')"
   ]
  },
  {
   "cell_type": "code",
   "execution_count": 38,
   "metadata": {
    "ExecuteTime": {
     "end_time": "2018-09-30T16:48:22.172175Z",
     "start_time": "2018-09-30T16:48:22.165427Z"
    }
   },
   "outputs": [
    {
     "name": "stdout",
     "output_type": "stream",
     "text": [
      "gamma =  1.6734875532535587  +/-  0.15946224396464057\n"
     ]
    }
   ],
   "source": [
    "def _leniar(x,a,b):\n",
    "    return b+a*x\n",
    "c=curve_fit(_leniar,ln_D,ln_max,sigma=ln_maxerr)\n",
    "print(\"gamma = \",c[0][0],\" +/- \",sqrt(c[1][0][0]))"
   ]
  },
  {
   "cell_type": "code",
   "execution_count": 44,
   "metadata": {
    "ExecuteTime": {
     "end_time": "2018-09-30T16:49:01.024179Z",
     "start_time": "2018-09-30T16:49:00.952064Z"
    },
    "scrolled": false
   },
   "outputs": [
    {
     "name": "stdout",
     "output_type": "stream",
     "text": [
      "gamma =  0.4820105329309635  +/-  inf\n",
      "neu =  0.4930608064698312  +/-  inf\n",
      "tc =  -1190.4152929780932  +/-  inf\n",
      "0.482,0.493,-1190.415,-152752.813,10184.588,0.111,"
     ]
    },
    {
     "name": "stderr",
     "output_type": "stream",
     "text": [
      "/home/aravind/anaconda3/lib/python3.6/site-packages/ipykernel_launcher.py:23: RuntimeWarning: overflow encountered in exp\n",
      "/home/aravind/anaconda3/lib/python3.6/site-packages/scipy/optimize/minpack.py:779: OptimizeWarning: Covariance of the parameters could not be estimated\n",
      "  category=OptimizeWarning)\n"
     ]
    }
   ],
   "source": [
    "temps2=[i*2.26+2.26 for i in temps]\n",
    "cf=curve_fit(sucepFuncC,[ls,temps2],xis)\n",
    "print(\"gamma = \",cf[0][0],\" +/- \",sqrt(cf[1][0][0]))\n",
    "print(\"neu = \",cf[0][1],\" +/- \",sqrt(cf[1][1][1]))\n",
    "print(\"tc = \",cf[0][2],\" +/- \",sqrt(cf[1][2][2]))\n",
    "for i in cf[0]:\n",
    "    print(\"{0:0.3f}\".format(i),end=\",\")\n",
    "# print(matrix(cf[1]))"
   ]
  },
  {
   "cell_type": "code",
   "execution_count": 45,
   "metadata": {
    "ExecuteTime": {
     "end_time": "2018-09-30T16:49:09.974319Z",
     "start_time": "2018-09-30T16:49:09.660800Z"
    }
   },
   "outputs": [
    {
     "data": {
      "text/plain": [
       "[<matplotlib.lines.Line2D at 0x7ff308c2d128>]"
      ]
     },
     "execution_count": 45,
     "metadata": {},
     "output_type": "execute_result"
    },
    {
     "data": {
      "image/png": "[encoded data removed]",
      "text/plain": [
       "<matplotlib.figure.Figure at 0x7ff308b93b38>"
      ]
     },
     "metadata": {},
     "output_type": "display_data"
    }
   ],
   "source": [
    "tc =  2.380553747775189\n",
    "gamma =   1.8462567568411445\n",
    "neu =   1.0889981299859464\n",
    "gn=gamma/neu\n",
    "\n",
    "for k in Xi_dic.keys():\n",
    "    temps2=[i*k**(1/neu) for i in Xi_dic[k]['temp']]\n",
    "    y=[i/k**gn for i in Xi_dic[k]['sucep']]\n",
    "    y_err=[i/k**gn for i in Xi_dic[k]['sucep_err']]\n",
    "    plt.errorbar(temps2,y,y_err,fmt='o',c='g',ecolor='r',zorder=1,label='MCMC data')\n",
    "#     y=[sucepFuncA([k,i],1.447,1.006,2.373,0.096,-0.022,0.001)/k**gn for i in x]\n",
    "x1=linspace(-5,5,80)\n",
    "x=[i*tc+tc for i in x1]\n",
    "y=[sucepFuncC([1,i],1.846,1.089,2.381,0.089,0.813,0.006) for i in x]\n",
    "plt.plot(x,y,zorder=5,c='b')\n",
    "# f.savefig('../VISITS/TaylorAnsatz.pdf')"
   ]
  },
  {
   "cell_type": "code",
   "execution_count": 25,
   "metadata": {
    "ExecuteTime": {
     "end_time": "2018-09-17T17:05:03.936433Z",
     "start_time": "2018-09-17T17:05:01.226755Z"
    }
   },
   "outputs": [
    {
     "data": {
      "image/png": "[encoded data removed]",
      "text/plain": [
       "<matplotlib.figure.Figure at 0x7f717248e630>"
      ]
     },
     "metadata": {},
     "output_type": "display_data"
    }
   ],
   "source": [
    "xmin,xmax=1e9,-1e9\n",
    "tc =  2.3734450368544877\n",
    "gamma =  1.4471826743188843\n",
    "neu =  1.0056825050371871\n",
    "gn=gamma/neu\n",
    "axes=[]\n",
    "f,ax=plt.subplots(nrows=2,ncols=4,figsize=(20,10))\n",
    "for  i in ax:\n",
    "    for j in i:\n",
    "        axes.append(j)\n",
    "j=0\n",
    "for k in Xi_dic.keys():\n",
    "    temps2=[i*2.26+2.26 for i in Xi_dic[k]['temp']]\n",
    "    y=[i/k**gn for i in Xi_dic[k]['sucep']]\n",
    "    x=linspace(min(temps2),max(temps2),20)\n",
    "    y=[i/k**gn for i in Xi_dic[k]['sucep']]\n",
    "    y_err=[i/k**gn for i in Xi_dic[k]['sucep_err']]\n",
    "    axes[j].errorbar(temps2,y,y_err,fmt='o',c='g',ecolor='r',zorder=1,label='MCMC data')\n",
    "    y=[sucepFuncA([k,i],1.447,1.006,2.373,0.096,-0.022,0.001)/k**gn for i in x]\n",
    "    axes[j].scatter(x,y,c='b',zorder=2,label='fit')\n",
    "    axes[j].legend(loc=0)\n",
    "    axes[j].set_title(\"L = \"+str(k))\n",
    "    \n",
    "    j+=1\n",
    "f.suptitle('Fit for the Taylor O(X^2) ansatz')\n",
    "# f.savefig('../VISITS/TaylorAnsatz.pdf')"
   ]
  },
  {
   "cell_type": "markdown",
   "metadata": {},
   "source": [
    "        Fitting from single L"
   ]
  },
  {
   "cell_type": "code",
   "execution_count": 36,
   "metadata": {
    "ExecuteTime": {
     "end_time": "2018-09-14T16:47:57.961084Z",
     "start_time": "2018-09-14T16:47:57.955656Z"
    },
    "collapsed": true
   },
   "outputs": [],
   "source": [
    "def sucepFunc(var,gamma,neu,a,b,c):\n",
    "    x=var[1]*(var[0]**(1/neu))\n",
    "    t=(var[0])**(gamma/neu) \n",
    "    t*=(a+b*x+c*x*x)\n",
    "    return t"
   ]
  },
  {
   "cell_type": "code",
   "execution_count": 37,
   "metadata": {
    "ExecuteTime": {
     "end_time": "2018-09-14T16:48:52.610085Z",
     "start_time": "2018-09-14T16:48:52.595781Z"
    },
    "scrolled": false
   },
   "outputs": [
    {
     "name": "stdout",
     "output_type": "stream",
     "text": [
      "gamma =  -1.4478813502199053  +/-  99326.86158107866\n",
      "-1.448,0.732,-43063.305,605.804,-2.030,"
     ]
    }
   ],
   "source": [
    "k=20\n",
    "temps2=[i*2.26+2.26 for i in Xi_dic[k]['temp']]\n",
    "cf=curve_fit(sucepFunc,[dimen[k],temps2],Xi_dic[k]['sucep'])\n",
    "print(\"gamma = \",cf[0][0],\" +/- \",sqrt(cf[1][0][0]))\n",
    "for i in cf[0]:\n",
    "    print(\"{0:0.3f}\".format(i),end=\",\")\n",
    "# print(matrix(cf[1]))"
   ]
  },
  {
   "cell_type": "code",
   "execution_count": 166,
   "metadata": {
    "ExecuteTime": {
     "end_time": "2018-09-14T10:23:20.224439Z",
     "start_time": "2018-09-14T10:23:19.949494Z"
    }
   },
   "outputs": [
    {
     "data": {
      "text/plain": [
       "<Container object of 3 artists>"
      ]
     },
     "execution_count": 166,
     "metadata": {},
     "output_type": "execute_result"
    },
    {
     "data": {
      "image/png": "[encoded data removed]",
      "text/plain": [
       "<matplotlib.figure.Figure at 0x7f1b687406d8>"
      ]
     },
     "metadata": {},
     "output_type": "display_data"
    }
   ],
   "source": [
    "k=20\n",
    "x=linspace(-0.1,0.4,20)\n",
    "y=[sucepFunc([k,i],-62.052,68.339,70.550,300.164,-1380.121) for i in x]\n",
    "plt.scatter(x,y)\n",
    "plt.errorbar(Xi_dic[k]['temp'],Xi_dic[k]['sucep'],Xi_dic[k]['sucep_err'],fmt='o',c='g')"
   ]
  },
  {
   "cell_type": "code",
   "execution_count": null,
   "metadata": {
    "collapsed": true
   },
   "outputs": [],
   "source": []
  },
  {
   "cell_type": "code",
   "execution_count": 234,
   "metadata": {
    "ExecuteTime": {
     "end_time": "2018-09-13T20:55:49.166098Z",
     "start_time": "2018-09-13T20:55:49.160855Z"
    }
   },
   "outputs": [
    {
     "name": "stdout",
     "output_type": "stream",
     "text": [
      "gamma =  0.6172696422176321  +/-  0.7411628020869737\n"
     ]
    }
   ],
   "source": [
    "print(\"gamma = \",cf[0][0],\" +/- \",sqrt(cf[1][0][0]))"
   ]
  },
  {
   "cell_type": "code",
   "execution_count": null,
   "metadata": {
    "collapsed": true
   },
   "outputs": [],
   "source": []
  },
  {
   "cell_type": "code",
   "execution_count": null,
   "metadata": {
    "collapsed": true
   },
   "outputs": [],
   "source": []
  },
  {
   "cell_type": "code",
   "execution_count": null,
   "metadata": {
    "collapsed": true
   },
   "outputs": [],
   "source": []
  },
  {
   "cell_type": "code",
   "execution_count": null,
   "metadata": {
    "collapsed": true
   },
   "outputs": [],
   "source": []
  },
  {
   "cell_type": "code",
   "execution_count": null,
   "metadata": {
    "collapsed": true
   },
   "outputs": [],
   "source": []
  },
  {
   "cell_type": "code",
   "execution_count": 145,
   "metadata": {
    "ExecuteTime": {
     "end_time": "2018-09-13T19:52:39.577001Z",
     "start_time": "2018-09-13T19:52:39.572586Z"
    },
    "collapsed": true
   },
   "outputs": [],
   "source": [
    "yp=[sucepFunc([i,j],1.07171635e+00,  2.17234368e+00,  1.40450682e-01, -7.57334989e-05) for i,j in zip(xiL,reduced_temp)]"
   ]
  },
  {
   "cell_type": "code",
   "execution_count": 308,
   "metadata": {
    "ExecuteTime": {
     "end_time": "2018-09-13T21:20:20.785616Z",
     "start_time": "2018-09-13T21:20:20.772717Z"
    },
    "collapsed": true
   },
   "outputs": [],
   "source": [
    "def _fun(p,q,r):\n",
    "    print(p[0],p[1])\n",
    "    return r*(p[0]+p[1]**q)\n",
    "\n",
    "x=linspace(1,10,10)\n",
    "x2=[i*i for i in x]\n",
    "p=[[i,j] for i,j in zip(x,x2)]\n",
    "y=[i+(i*i)**0.64 for i in x]"
   ]
  }
 ],
 "metadata": {
  "kernelspec": {
   "display_name": "Python 3",
   "language": "python",
   "name": "python3"
  },
  "language_info": {
   "codemirror_mode": {
    "name": "ipython",
    "version": 3
   },
   "file_extension": ".py",
   "mimetype": "text/x-python",
   "name": "python",
   "nbconvert_exporter": "python",
   "pygments_lexer": "ipython3",
   "version": "3.6.1"
  }
 },
 "nbformat": 4,
 "nbformat_minor": 2
}
