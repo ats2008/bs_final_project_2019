{
 "cells": [
  {
   "cell_type": "markdown",
   "metadata": {},
   "source": [
    "## Importing packeges"
   ]
  },
  {
   "cell_type": "code",
   "execution_count": 3,
   "metadata": {
    "ExecuteTime": {
     "end_time": "2018-10-05T06:24:23.150399Z",
     "start_time": "2018-10-05T06:24:22.121925Z"
    },
    "code_folding": [
     6,
     9
    ]
   },
   "outputs": [
    {
     "name": "stderr",
     "output_type": "stream",
     "text": [
      "/home/aravind/anaconda3/lib/python3.6/site-packages/statsmodels/compat/pandas.py:56: FutureWarning: The pandas.core.datetools module is deprecated and will be removed in a future version. Please use the pandas.tseries module instead.\n",
      "  from pandas.core import datetools\n"
     ]
    }
   ],
   "source": [
    "from ising_lib import *\n",
    "from numpy import *\n",
    "from scipy.optimize import curve_fit\n",
    "from matplotlib import pyplot as plt\n",
    "%matplotlib inline\n",
    "\n",
    "def variance(X):\n",
    "    return var(X)\n",
    "\n",
    "def Average(X):\n",
    "    return average(X)\n",
    "    \n",
    "    \n",
    "    \n",
    "def analyze(temparature,L,E,M):\n",
    "    mag,mag_err=jacknife(M,Average)\n",
    "    sp_heat,sp_heat_err=jacknife(E,variance)\n",
    "    sp_heat/=(temparature*temparature*L)\n",
    "    sp_heat_err/=(temparature*temparature*L)\n",
    "    sucep,sucep_err=jacknife(M,variance)\n",
    "    sucep/=(temparature*L)\n",
    "    sucep_err/=(temparature*L)\n",
    "    return [mag,mag_err],[sp_heat,sp_heat_err],[sucep,sucep_err]"
   ]
  },
  {
   "cell_type": "markdown",
   "metadata": {},
   "source": [
    "## VERIFICATION FOR ALGOS"
   ]
  },
  {
   "cell_type": "markdown",
   "metadata": {},
   "source": [
    "### READING FROM FILE TO VERIFY"
   ]
  },
  {
   "cell_type": "code",
   "execution_count": 12,
   "metadata": {
    "ExecuteTime": {
     "end_time": "2018-10-04T18:59:42.528390Z",
     "start_time": "2018-10-04T18:59:42.516741Z"
    }
   },
   "outputs": [
    {
     "name": "stdout",
     "output_type": "stream",
     "text": [
      "630\n"
     ]
    }
   ],
   "source": [
    "f=open('cppData/potts/fnames_all_potts','r')\n",
    "fnames=[]\n",
    "l=f.readline()\n",
    "while l:\n",
    "    fnames.append('cppData/potts/'+l[:-1])\n",
    "    l=f.readline()\n",
    "f.close()\n",
    "print(len(fnames))"
   ]
  },
  {
   "cell_type": "markdown",
   "metadata": {},
   "source": [
    "## EXTRACTING FROM MCMC DATA"
   ]
  },
  {
   "cell_type": "code",
   "execution_count": 13,
   "metadata": {
    "ExecuteTime": {
     "end_time": "2018-10-04T19:00:50.687450Z",
     "start_time": "2018-10-04T18:59:43.789112Z"
    },
    "code_folding": [],
    "scrolled": true
   },
   "outputs": [
    {
     "name": "stdout",
     "output_type": "stream",
     "text": [
      "Doing  13 ( 0 )/ 630  L :  32  T :  0.45   Q :  2  [  cppData/potts/N_32_Q_2_T_0.450_potts.txt\n",
      "Doing  14 ( 1 )/ 630  L :  32  T :  0.47   Q :  2  [  cppData/potts/N_32_Q_2_T_0.470_potts.txt\n",
      "Doing  15 ( 2 )/ 630  L :  32  T :  0.49   Q :  2  [  cppData/potts/N_32_Q_2_T_0.490_potts.txt\n",
      "Doing  16 ( 3 )/ 630  L :  32  T :  0.5   Q :  2  [  cppData/potts/N_32_Q_2_T_0.500_potts.txt\n",
      "Doing  17 ( 4 )/ 630  L :  32  T :  0.51   Q :  2  [  cppData/potts/N_32_Q_2_T_0.510_potts.txt\n",
      "Doing  18 ( 5 )/ 630  L :  32  T :  0.53   Q :  2  [  cppData/potts/N_32_Q_2_T_0.530_potts.txt\n",
      "Doing  19 ( 6 )/ 630  L :  32  T :  0.55   Q :  2  [  cppData/potts/N_32_Q_2_T_0.550_potts.txt\n",
      "Doing  20 ( 7 )/ 630  L :  32  T :  0.57   Q :  2  [  cppData/potts/N_32_Q_2_T_0.570_potts.txt\n",
      "Doing  21 ( 8 )/ 630  L :  32  T :  0.59   Q :  2  [  cppData/potts/N_32_Q_2_T_0.590_potts.txt\n",
      "Doing  22 ( 9 )/ 630  L :  32  T :  0.6   Q :  2  [  cppData/potts/N_32_Q_2_T_0.600_potts.txt\n",
      "Doing  23 ( 10 )/ 630  L :  32  T :  0.61   Q :  2  [  cppData/potts/N_32_Q_2_T_0.610_potts.txt\n",
      "Doing  24 ( 11 )/ 630  L :  32  T :  0.63   Q :  2  [  cppData/potts/N_32_Q_2_T_0.630_potts.txt\n",
      "Doing  25 ( 12 )/ 630  L :  32  T :  0.65   Q :  2  [  cppData/potts/N_32_Q_2_T_0.650_potts.txt\n",
      "Doing  26 ( 13 )/ 630  L :  32  T :  0.67   Q :  2  [  cppData/potts/N_32_Q_2_T_0.670_potts.txt\n",
      "Doing  27 ( 14 )/ 630  L :  32  T :  0.69   Q :  2  [  cppData/potts/N_32_Q_2_T_0.690_potts.txt\n",
      "Doing  28 ( 15 )/ 630  L :  32  T :  0.7   Q :  2  [  cppData/potts/N_32_Q_2_T_0.700_potts.txt\n",
      "Doing  29 ( 16 )/ 630  L :  32  T :  0.71   Q :  2  [  cppData/potts/N_32_Q_2_T_0.710_potts.txt\n",
      "Doing  30 ( 17 )/ 630  L :  32  T :  0.73   Q :  2  [  cppData/potts/N_32_Q_2_T_0.730_potts.txt\n",
      "Doing  31 ( 18 )/ 630  L :  32  T :  0.75   Q :  2  [  cppData/potts/N_32_Q_2_T_0.750_potts.txt\n",
      "Doing  32 ( 19 )/ 630  L :  32  T :  0.77   Q :  2  [  cppData/potts/N_32_Q_2_T_0.770_potts.txt\n",
      "Doing  33 ( 20 )/ 630  L :  32  T :  0.79   Q :  2  [  cppData/potts/N_32_Q_2_T_0.790_potts.txt\n",
      "Doing  34 ( 21 )/ 630  L :  32  T :  0.8   Q :  2  [  cppData/potts/N_32_Q_2_T_0.800_potts.txt\n",
      "Doing  35 ( 22 )/ 630  L :  32  T :  0.81   Q :  2  [  cppData/potts/N_32_Q_2_T_0.810_potts.txt\n",
      "Doing  36 ( 23 )/ 630  L :  32  T :  0.83   Q :  2  [  cppData/potts/N_32_Q_2_T_0.830_potts.txt\n",
      "Doing  37 ( 24 )/ 630  L :  32  T :  0.85   Q :  2  [  cppData/potts/N_32_Q_2_T_0.850_potts.txt\n",
      "Doing  38 ( 25 )/ 630  L :  32  T :  0.87   Q :  2  [  cppData/potts/N_32_Q_2_T_0.870_potts.txt\n",
      "Doing  39 ( 26 )/ 630  L :  32  T :  0.89   Q :  2  [  cppData/potts/N_32_Q_2_T_0.890_potts.txt\n",
      "Doing  40 ( 27 )/ 630  L :  32  T :  0.9   Q :  2  [  cppData/potts/N_32_Q_2_T_0.900_potts.txt\n",
      "Doing  41 ( 28 )/ 630  L :  32  T :  0.91   Q :  2  [  cppData/potts/N_32_Q_2_T_0.910_potts.txt\n",
      "Doing  42 ( 29 )/ 630  L :  32  T :  0.93   Q :  2  [  cppData/potts/N_32_Q_2_T_0.930_potts.txt\n",
      "Doing  43 ( 30 )/ 630  L :  32  T :  0.95   Q :  2  [  cppData/potts/N_32_Q_2_T_0.950_potts.txt\n",
      "Doing  44 ( 31 )/ 630  L :  32  T :  0.97   Q :  2  [  cppData/potts/N_32_Q_2_T_0.970_potts.txt\n",
      "Doing  45 ( 32 )/ 630  L :  32  T :  0.99   Q :  2  [  cppData/potts/N_32_Q_2_T_0.990_potts.txt\n",
      "Doing  46 ( 33 )/ 630  L :  32  T :  1   Q :  2  [  cppData/potts/N_32_Q_2_T_1.000_potts.txt\n",
      "Doing  47 ( 34 )/ 630  L :  32  T :  1.01   Q :  2  [  cppData/potts/N_32_Q_2_T_1.010_potts.txt\n",
      "Doing  48 ( 35 )/ 630  L :  32  T :  1.03   Q :  2  [  cppData/potts/N_32_Q_2_T_1.030_potts.txt\n",
      "Doing  49 ( 36 )/ 630  L :  32  T :  1.05   Q :  2  [  cppData/potts/N_32_Q_2_T_1.050_potts.txt\n",
      "Doing  50 ( 37 )/ 630  L :  32  T :  1.07   Q :  2  [  cppData/potts/N_32_Q_2_T_1.070_potts.txt\n",
      "Doing  51 ( 38 )/ 630  L :  32  T :  1.09   Q :  2  [  cppData/potts/N_32_Q_2_T_1.090_potts.txt\n",
      "Doing  52 ( 39 )/ 630  L :  32  T :  1.1   Q :  2  [  cppData/potts/N_32_Q_2_T_1.100_potts.txt\n",
      "Doing  53 ( 40 )/ 630  L :  32  T :  1.11   Q :  2  [  cppData/potts/N_32_Q_2_T_1.110_potts.txt\n",
      "Doing  54 ( 41 )/ 630  L :  32  T :  1.13   Q :  2  [  cppData/potts/N_32_Q_2_T_1.130_potts.txt\n",
      "Doing  55 ( 42 )/ 630  L :  32  T :  1.15   Q :  2  [  cppData/potts/N_32_Q_2_T_1.150_potts.txt\n",
      "Doing  56 ( 43 )/ 630  L :  32  T :  1.17   Q :  2  [  cppData/potts/N_32_Q_2_T_1.170_potts.txt\n",
      "Doing  57 ( 44 )/ 630  L :  32  T :  1.19   Q :  2  [  cppData/potts/N_32_Q_2_T_1.190_potts.txt\n",
      "Doing  58 ( 45 )/ 630  L :  32  T :  1.2   Q :  2  [  cppData/potts/N_32_Q_2_T_1.200_potts.txt\n",
      "Doing  59 ( 46 )/ 630  L :  32  T :  1.21   Q :  2  [  cppData/potts/N_32_Q_2_T_1.210_potts.txt\n",
      "Doing  60 ( 47 )/ 630  L :  32  T :  1.23   Q :  2  [  cppData/potts/N_32_Q_2_T_1.230_potts.txt\n",
      "Doing  61 ( 48 )/ 630  L :  32  T :  1.25   Q :  2  [  cppData/potts/N_32_Q_2_T_1.250_potts.txt\n",
      "Doing  62 ( 49 )/ 630  L :  32  T :  1.27   Q :  2  [  cppData/potts/N_32_Q_2_T_1.270_potts.txt\n",
      "Doing  63 ( 50 )/ 630  L :  32  T :  1.29   Q :  2  [  cppData/potts/N_32_Q_2_T_1.290_potts.txt\n",
      "Doing  64 ( 51 )/ 630  L :  32  T :  1.3   Q :  2  [  cppData/potts/N_32_Q_2_T_1.300_potts.txt\n",
      "Doing  65 ( 52 )/ 630  L :  32  T :  1.31   Q :  2  [  cppData/potts/N_32_Q_2_T_1.310_potts.txt\n",
      "Doing  66 ( 53 )/ 630  L :  32  T :  1.33   Q :  2  [  cppData/potts/N_32_Q_2_T_1.330_potts.txt\n",
      "Doing  67 ( 54 )/ 630  L :  32  T :  1.35   Q :  2  [  cppData/potts/N_32_Q_2_T_1.350_potts.txt\n",
      "Doing  68 ( 55 )/ 630  L :  32  T :  1.37   Q :  2  [  cppData/potts/N_32_Q_2_T_1.370_potts.txt\n",
      "Doing  69 ( 56 )/ 630  L :  32  T :  1.39   Q :  2  [  cppData/potts/N_32_Q_2_T_1.390_potts.txt\n",
      "Doing  70 ( 57 )/ 630  L :  32  T :  1.4   Q :  2  [  cppData/potts/N_32_Q_2_T_1.400_potts.txt\n",
      "Doing  71 ( 58 )/ 630  L :  32  T :  1.41   Q :  2  [  cppData/potts/N_32_Q_2_T_1.410_potts.txt\n",
      "Doing  72 ( 59 )/ 630  L :  32  T :  1.43   Q :  2  [  cppData/potts/N_32_Q_2_T_1.430_potts.txt\n",
      "Doing  73 ( 60 )/ 630  L :  32  T :  1.45   Q :  2  [  cppData/potts/N_32_Q_2_T_1.450_potts.txt\n",
      "Doing  74 ( 61 )/ 630  L :  32  T :  1.47   Q :  2  [  cppData/potts/N_32_Q_2_T_1.470_potts.txt\n",
      "Doing  75 ( 62 )/ 630  L :  32  T :  1.49   Q :  2  [  cppData/potts/N_32_Q_2_T_1.490_potts.txt\n",
      "Doing  76 ( 63 )/ 630  L :  32  T :  1.5   Q :  2  [  cppData/potts/N_32_Q_2_T_1.500_potts.txt\n",
      "Doing  77 ( 64 )/ 630  L :  32  T :  1.51   Q :  2  [  cppData/potts/N_32_Q_2_T_1.510_potts.txt\n",
      "Doing  78 ( 65 )/ 630  L :  32  T :  1.53   Q :  2  [  cppData/potts/N_32_Q_2_T_1.530_potts.txt\n",
      "Doing  79 ( 66 )/ 630  L :  32  T :  1.55   Q :  2  [  cppData/potts/N_32_Q_2_T_1.550_potts.txt\n",
      "Doing  80 ( 67 )/ 630  L :  32  T :  1.57   Q :  2  [  cppData/potts/N_32_Q_2_T_1.570_potts.txt\n",
      "Doing  81 ( 68 )/ 630  L :  32  T :  1.59   Q :  2  [  cppData/potts/N_32_Q_2_T_1.590_potts.txt\n",
      "Doing  82 ( 69 )/ 630  L :  32  T :  1.6   Q :  2  [  cppData/potts/N_32_Q_2_T_1.600_potts.txt\n",
      "Doing  83 ( 70 )/ 630  L :  32  T :  1.61   Q :  2  [  cppData/potts/N_32_Q_2_T_1.610_potts.txt\n",
      "Doing  84 ( 71 )/ 630  L :  32  T :  1.63   Q :  2  [  cppData/potts/N_32_Q_2_T_1.630_potts.txt\n",
      "Doing  85 ( 72 )/ 630  L :  32  T :  1.65   Q :  2  [  cppData/potts/N_32_Q_2_T_1.650_potts.txt\n",
      "Doing  86 ( 73 )/ 630  L :  32  T :  1.67   Q :  2  [  cppData/potts/N_32_Q_2_T_1.670_potts.txt\n",
      "Doing  87 ( 74 )/ 630  L :  32  T :  1.69   Q :  2  [  cppData/potts/N_32_Q_2_T_1.690_potts.txt\n",
      "Doing  88 ( 75 )/ 630  L :  32  T :  1.7   Q :  2  [  cppData/potts/N_32_Q_2_T_1.700_potts.txt\n",
      "Doing  89 ( 76 )/ 630  L :  32  T :  1.71   Q :  2  [  cppData/potts/N_32_Q_2_T_1.710_potts.txt\n",
      "Doing  90 ( 77 )/ 630  L :  32  T :  1.73   Q :  2  [  cppData/potts/N_32_Q_2_T_1.730_potts.txt\n",
      "Doing  91 ( 78 )/ 630  L :  32  T :  1.75   Q :  2  [  cppData/potts/N_32_Q_2_T_1.750_potts.txt\n",
      "Doing  92 ( 79 )/ 630  L :  32  T :  1.77   Q :  2  [  cppData/potts/N_32_Q_2_T_1.770_potts.txt\n",
      "Doing  93 ( 80 )/ 630  L :  32  T :  1.79   Q :  2  [  cppData/potts/N_32_Q_2_T_1.790_potts.txt\n",
      "Doing  94 ( 81 )/ 630  L :  32  T :  1.8   Q :  2  [  cppData/potts/N_32_Q_2_T_1.800_potts.txt\n",
      "Doing  95 ( 82 )/ 630  L :  32  T :  1.81   Q :  2  [  cppData/potts/N_32_Q_2_T_1.810_potts.txt\n",
      "Doing  96 ( 83 )/ 630  L :  32  T :  1.83   Q :  2  [  cppData/potts/N_32_Q_2_T_1.830_potts.txt\n",
      "Doing  97 ( 84 )/ 630  L :  32  T :  1.85   Q :  2  [  cppData/potts/N_32_Q_2_T_1.850_potts.txt\n",
      "Doing  98 ( 85 )/ 630  L :  32  T :  1.87   Q :  2  [  cppData/potts/N_32_Q_2_T_1.870_potts.txt\n"
     ]
    },
    {
     "name": "stdout",
     "output_type": "stream",
     "text": [
      "Doing  99 ( 86 )/ 630  L :  32  T :  1.89   Q :  2  [  cppData/potts/N_32_Q_2_T_1.890_potts.txt\n",
      "Doing  100 ( 87 )/ 630  L :  32  T :  1.9   Q :  2  [  cppData/potts/N_32_Q_2_T_1.900_potts.txt\n",
      "Doing  101 ( 88 )/ 630  L :  32  T :  1.91   Q :  2  [  cppData/potts/N_32_Q_2_T_1.910_potts.txt\n",
      "Doing  102 ( 89 )/ 630  L :  32  T :  1.93   Q :  2  [  cppData/potts/N_32_Q_2_T_1.930_potts.txt\n",
      "Doing  103 ( 90 )/ 630  L :  32  T :  1.95   Q :  2  [  cppData/potts/N_32_Q_2_T_1.950_potts.txt\n",
      "Doing  104 ( 91 )/ 630  L :  32  T :  1.97   Q :  2  [  cppData/potts/N_32_Q_2_T_1.970_potts.txt\n",
      "Doing  105 ( 92 )/ 630  L :  32  T :  1.99   Q :  2  [  cppData/potts/N_32_Q_2_T_1.990_potts.txt\n",
      "Doing  118 ( 93 )/ 630  L :  32  T :  0.45   Q :  3  [  cppData/potts/N_32_Q_3_T_0.450_potts.txt\n",
      "Doing  119 ( 94 )/ 630  L :  32  T :  0.47   Q :  3  [  cppData/potts/N_32_Q_3_T_0.470_potts.txt\n",
      "Doing  120 ( 95 )/ 630  L :  32  T :  0.49   Q :  3  [  cppData/potts/N_32_Q_3_T_0.490_potts.txt\n",
      "Doing  121 ( 96 )/ 630  L :  32  T :  0.5   Q :  3  [  cppData/potts/N_32_Q_3_T_0.500_potts.txt\n",
      "Doing  122 ( 97 )/ 630  L :  32  T :  0.51   Q :  3  [  cppData/potts/N_32_Q_3_T_0.510_potts.txt\n",
      "Doing  123 ( 98 )/ 630  L :  32  T :  0.53   Q :  3  [  cppData/potts/N_32_Q_3_T_0.530_potts.txt\n",
      "Doing  124 ( 99 )/ 630  L :  32  T :  0.55   Q :  3  [  cppData/potts/N_32_Q_3_T_0.550_potts.txt\n",
      "Doing  125 ( 100 )/ 630  L :  32  T :  0.57   Q :  3  [  cppData/potts/N_32_Q_3_T_0.570_potts.txt\n",
      "Doing  126 ( 101 )/ 630  L :  32  T :  0.59   Q :  3  [  cppData/potts/N_32_Q_3_T_0.590_potts.txt\n",
      "Doing  127 ( 102 )/ 630  L :  32  T :  0.6   Q :  3  [  cppData/potts/N_32_Q_3_T_0.600_potts.txt\n",
      "Doing  128 ( 103 )/ 630  L :  32  T :  0.61   Q :  3  [  cppData/potts/N_32_Q_3_T_0.610_potts.txt\n",
      "Doing  129 ( 104 )/ 630  L :  32  T :  0.63   Q :  3  [  cppData/potts/N_32_Q_3_T_0.630_potts.txt\n",
      "Doing  130 ( 105 )/ 630  L :  32  T :  0.65   Q :  3  [  cppData/potts/N_32_Q_3_T_0.650_potts.txt\n",
      "Doing  131 ( 106 )/ 630  L :  32  T :  0.67   Q :  3  [  cppData/potts/N_32_Q_3_T_0.670_potts.txt\n",
      "Doing  132 ( 107 )/ 630  L :  32  T :  0.69   Q :  3  [  cppData/potts/N_32_Q_3_T_0.690_potts.txt\n",
      "Doing  133 ( 108 )/ 630  L :  32  T :  0.7   Q :  3  [  cppData/potts/N_32_Q_3_T_0.700_potts.txt\n",
      "Doing  134 ( 109 )/ 630  L :  32  T :  0.71   Q :  3  [  cppData/potts/N_32_Q_3_T_0.710_potts.txt\n",
      "Doing  135 ( 110 )/ 630  L :  32  T :  0.73   Q :  3  [  cppData/potts/N_32_Q_3_T_0.730_potts.txt\n",
      "Doing  136 ( 111 )/ 630  L :  32  T :  0.75   Q :  3  [  cppData/potts/N_32_Q_3_T_0.750_potts.txt\n",
      "Doing  137 ( 112 )/ 630  L :  32  T :  0.77   Q :  3  [  cppData/potts/N_32_Q_3_T_0.770_potts.txt\n",
      "Doing  138 ( 113 )/ 630  L :  32  T :  0.79   Q :  3  [  cppData/potts/N_32_Q_3_T_0.790_potts.txt\n",
      "Doing  139 ( 114 )/ 630  L :  32  T :  0.8   Q :  3  [  cppData/potts/N_32_Q_3_T_0.800_potts.txt\n",
      "Doing  140 ( 115 )/ 630  L :  32  T :  0.81   Q :  3  [  cppData/potts/N_32_Q_3_T_0.810_potts.txt\n",
      "Doing  141 ( 116 )/ 630  L :  32  T :  0.83   Q :  3  [  cppData/potts/N_32_Q_3_T_0.830_potts.txt\n",
      "Doing  142 ( 117 )/ 630  L :  32  T :  0.85   Q :  3  [  cppData/potts/N_32_Q_3_T_0.850_potts.txt\n",
      "Doing  143 ( 118 )/ 630  L :  32  T :  0.87   Q :  3  [  cppData/potts/N_32_Q_3_T_0.870_potts.txt\n",
      "Doing  144 ( 119 )/ 630  L :  32  T :  0.89   Q :  3  [  cppData/potts/N_32_Q_3_T_0.890_potts.txt\n",
      "Doing  145 ( 120 )/ 630  L :  32  T :  0.9   Q :  3  [  cppData/potts/N_32_Q_3_T_0.900_potts.txt\n",
      "Doing  146 ( 121 )/ 630  L :  32  T :  0.91   Q :  3  [  cppData/potts/N_32_Q_3_T_0.910_potts.txt\n",
      "Doing  147 ( 122 )/ 630  L :  32  T :  0.93   Q :  3  [  cppData/potts/N_32_Q_3_T_0.930_potts.txt\n",
      "Doing  148 ( 123 )/ 630  L :  32  T :  0.95   Q :  3  [  cppData/potts/N_32_Q_3_T_0.950_potts.txt\n",
      "Doing  149 ( 124 )/ 630  L :  32  T :  0.97   Q :  3  [  cppData/potts/N_32_Q_3_T_0.970_potts.txt\n",
      "Doing  150 ( 125 )/ 630  L :  32  T :  0.99   Q :  3  [  cppData/potts/N_32_Q_3_T_0.990_potts.txt\n",
      "Doing  151 ( 126 )/ 630  L :  32  T :  1   Q :  3  [  cppData/potts/N_32_Q_3_T_1.000_potts.txt\n",
      "Doing  152 ( 127 )/ 630  L :  32  T :  1.01   Q :  3  [  cppData/potts/N_32_Q_3_T_1.010_potts.txt\n",
      "Doing  153 ( 128 )/ 630  L :  32  T :  1.03   Q :  3  [  cppData/potts/N_32_Q_3_T_1.030_potts.txt\n",
      "Doing  154 ( 129 )/ 630  L :  32  T :  1.05   Q :  3  [  cppData/potts/N_32_Q_3_T_1.050_potts.txt\n",
      "Doing  155 ( 130 )/ 630  L :  32  T :  1.07   Q :  3  [  cppData/potts/N_32_Q_3_T_1.070_potts.txt\n",
      "Doing  156 ( 131 )/ 630  L :  32  T :  1.09   Q :  3  [  cppData/potts/N_32_Q_3_T_1.090_potts.txt\n",
      "Doing  157 ( 132 )/ 630  L :  32  T :  1.1   Q :  3  [  cppData/potts/N_32_Q_3_T_1.100_potts.txt\n",
      "Doing  158 ( 133 )/ 630  L :  32  T :  1.11   Q :  3  [  cppData/potts/N_32_Q_3_T_1.110_potts.txt\n",
      "Doing  159 ( 134 )/ 630  L :  32  T :  1.13   Q :  3  [  cppData/potts/N_32_Q_3_T_1.130_potts.txt\n",
      "Doing  160 ( 135 )/ 630  L :  32  T :  1.15   Q :  3  [  cppData/potts/N_32_Q_3_T_1.150_potts.txt\n",
      "Doing  161 ( 136 )/ 630  L :  32  T :  1.17   Q :  3  [  cppData/potts/N_32_Q_3_T_1.170_potts.txt\n",
      "Doing  162 ( 137 )/ 630  L :  32  T :  1.19   Q :  3  [  cppData/potts/N_32_Q_3_T_1.190_potts.txt\n",
      "Doing  163 ( 138 )/ 630  L :  32  T :  1.2   Q :  3  [  cppData/potts/N_32_Q_3_T_1.200_potts.txt\n",
      "Doing  164 ( 139 )/ 630  L :  32  T :  1.21   Q :  3  [  cppData/potts/N_32_Q_3_T_1.210_potts.txt\n",
      "Doing  165 ( 140 )/ 630  L :  32  T :  1.23   Q :  3  [  cppData/potts/N_32_Q_3_T_1.230_potts.txt\n",
      "Doing  166 ( 141 )/ 630  L :  32  T :  1.25   Q :  3  [  cppData/potts/N_32_Q_3_T_1.250_potts.txt\n",
      "Doing  167 ( 142 )/ 630  L :  32  T :  1.27   Q :  3  [  cppData/potts/N_32_Q_3_T_1.270_potts.txt\n",
      "Doing  168 ( 143 )/ 630  L :  32  T :  1.29   Q :  3  [  cppData/potts/N_32_Q_3_T_1.290_potts.txt\n",
      "Doing  169 ( 144 )/ 630  L :  32  T :  1.3   Q :  3  [  cppData/potts/N_32_Q_3_T_1.300_potts.txt\n",
      "Doing  170 ( 145 )/ 630  L :  32  T :  1.31   Q :  3  [  cppData/potts/N_32_Q_3_T_1.310_potts.txt\n",
      "Doing  171 ( 146 )/ 630  L :  32  T :  1.33   Q :  3  [  cppData/potts/N_32_Q_3_T_1.330_potts.txt\n",
      "Doing  172 ( 147 )/ 630  L :  32  T :  1.35   Q :  3  [  cppData/potts/N_32_Q_3_T_1.350_potts.txt\n",
      "Doing  173 ( 148 )/ 630  L :  32  T :  1.37   Q :  3  [  cppData/potts/N_32_Q_3_T_1.370_potts.txt\n",
      "Doing  174 ( 149 )/ 630  L :  32  T :  1.39   Q :  3  [  cppData/potts/N_32_Q_3_T_1.390_potts.txt\n",
      "Doing  175 ( 150 )/ 630  L :  32  T :  1.4   Q :  3  [  cppData/potts/N_32_Q_3_T_1.400_potts.txt\n",
      "Doing  176 ( 151 )/ 630  L :  32  T :  1.41   Q :  3  [  cppData/potts/N_32_Q_3_T_1.410_potts.txt\n",
      "Doing  177 ( 152 )/ 630  L :  32  T :  1.43   Q :  3  [  cppData/potts/N_32_Q_3_T_1.430_potts.txt\n",
      "Doing  178 ( 153 )/ 630  L :  32  T :  1.45   Q :  3  [  cppData/potts/N_32_Q_3_T_1.450_potts.txt\n",
      "Doing  179 ( 154 )/ 630  L :  32  T :  1.47   Q :  3  [  cppData/potts/N_32_Q_3_T_1.470_potts.txt\n",
      "Doing  180 ( 155 )/ 630  L :  32  T :  1.49   Q :  3  [  cppData/potts/N_32_Q_3_T_1.490_potts.txt\n",
      "Doing  181 ( 156 )/ 630  L :  32  T :  1.5   Q :  3  [  cppData/potts/N_32_Q_3_T_1.500_potts.txt\n",
      "Doing  182 ( 157 )/ 630  L :  32  T :  1.51   Q :  3  [  cppData/potts/N_32_Q_3_T_1.510_potts.txt\n",
      "Doing  183 ( 158 )/ 630  L :  32  T :  1.53   Q :  3  [  cppData/potts/N_32_Q_3_T_1.530_potts.txt\n",
      "Doing  184 ( 159 )/ 630  L :  32  T :  1.55   Q :  3  [  cppData/potts/N_32_Q_3_T_1.550_potts.txt\n",
      "Doing  185 ( 160 )/ 630  L :  32  T :  1.57   Q :  3  [  cppData/potts/N_32_Q_3_T_1.570_potts.txt\n",
      "Doing  186 ( 161 )/ 630  L :  32  T :  1.59   Q :  3  [  cppData/potts/N_32_Q_3_T_1.590_potts.txt\n",
      "Doing  187 ( 162 )/ 630  L :  32  T :  1.6   Q :  3  [  cppData/potts/N_32_Q_3_T_1.600_potts.txt\n",
      "Doing  188 ( 163 )/ 630  L :  32  T :  1.61   Q :  3  [  cppData/potts/N_32_Q_3_T_1.610_potts.txt\n",
      "Doing  189 ( 164 )/ 630  L :  32  T :  1.63   Q :  3  [  cppData/potts/N_32_Q_3_T_1.630_potts.txt\n",
      "Doing  190 ( 165 )/ 630  L :  32  T :  1.65   Q :  3  [  cppData/potts/N_32_Q_3_T_1.650_potts.txt\n",
      "Doing  191 ( 166 )/ 630  L :  32  T :  1.67   Q :  3  [  cppData/potts/N_32_Q_3_T_1.670_potts.txt\n",
      "Doing  192 ( 167 )/ 630  L :  32  T :  1.69   Q :  3  [  cppData/potts/N_32_Q_3_T_1.690_potts.txt\n",
      "Doing  193 ( 168 )/ 630  L :  32  T :  1.7   Q :  3  [  cppData/potts/N_32_Q_3_T_1.700_potts.txt\n",
      "Doing  194 ( 169 )/ 630  L :  32  T :  1.71   Q :  3  [  cppData/potts/N_32_Q_3_T_1.710_potts.txt\n",
      "Doing  195 ( 170 )/ 630  L :  32  T :  1.73   Q :  3  [  cppData/potts/N_32_Q_3_T_1.730_potts.txt\n"
     ]
    },
    {
     "name": "stdout",
     "output_type": "stream",
     "text": [
      "Doing  196 ( 171 )/ 630  L :  32  T :  1.75   Q :  3  [  cppData/potts/N_32_Q_3_T_1.750_potts.txt\n",
      "Doing  197 ( 172 )/ 630  L :  32  T :  1.77   Q :  3  [  cppData/potts/N_32_Q_3_T_1.770_potts.txt\n",
      "Doing  198 ( 173 )/ 630  L :  32  T :  1.79   Q :  3  [  cppData/potts/N_32_Q_3_T_1.790_potts.txt\n",
      "Doing  199 ( 174 )/ 630  L :  32  T :  1.8   Q :  3  [  cppData/potts/N_32_Q_3_T_1.800_potts.txt\n",
      "Doing  200 ( 175 )/ 630  L :  32  T :  1.81   Q :  3  [  cppData/potts/N_32_Q_3_T_1.810_potts.txt\n",
      "Doing  201 ( 176 )/ 630  L :  32  T :  1.83   Q :  3  [  cppData/potts/N_32_Q_3_T_1.830_potts.txt\n",
      "Doing  202 ( 177 )/ 630  L :  32  T :  1.85   Q :  3  [  cppData/potts/N_32_Q_3_T_1.850_potts.txt\n",
      "Doing  203 ( 178 )/ 630  L :  32  T :  1.87   Q :  3  [  cppData/potts/N_32_Q_3_T_1.870_potts.txt\n",
      "Doing  204 ( 179 )/ 630  L :  32  T :  1.89   Q :  3  [  cppData/potts/N_32_Q_3_T_1.890_potts.txt\n",
      "Doing  205 ( 180 )/ 630  L :  32  T :  1.9   Q :  3  [  cppData/potts/N_32_Q_3_T_1.900_potts.txt\n",
      "Doing  206 ( 181 )/ 630  L :  32  T :  1.91   Q :  3  [  cppData/potts/N_32_Q_3_T_1.910_potts.txt\n",
      "Doing  207 ( 182 )/ 630  L :  32  T :  1.93   Q :  3  [  cppData/potts/N_32_Q_3_T_1.930_potts.txt\n",
      "Doing  208 ( 183 )/ 630  L :  32  T :  1.95   Q :  3  [  cppData/potts/N_32_Q_3_T_1.950_potts.txt\n",
      "Doing  209 ( 184 )/ 630  L :  32  T :  1.97   Q :  3  [  cppData/potts/N_32_Q_3_T_1.970_potts.txt\n",
      "Doing  210 ( 185 )/ 630  L :  32  T :  1.99   Q :  3  [  cppData/potts/N_32_Q_3_T_1.990_potts.txt\n",
      "Doing  223 ( 186 )/ 630  L :  32  T :  0.45   Q :  4  [  cppData/potts/N_32_Q_4_T_0.450_potts.txt\n",
      "Doing  224 ( 187 )/ 630  L :  32  T :  0.47   Q :  4  [  cppData/potts/N_32_Q_4_T_0.470_potts.txt\n",
      "Doing  225 ( 188 )/ 630  L :  32  T :  0.49   Q :  4  [  cppData/potts/N_32_Q_4_T_0.490_potts.txt\n",
      "Doing  226 ( 189 )/ 630  L :  32  T :  0.5   Q :  4  [  cppData/potts/N_32_Q_4_T_0.500_potts.txt\n",
      "Doing  227 ( 190 )/ 630  L :  32  T :  0.51   Q :  4  [  cppData/potts/N_32_Q_4_T_0.510_potts.txt\n",
      "Doing  228 ( 191 )/ 630  L :  32  T :  0.53   Q :  4  [  cppData/potts/N_32_Q_4_T_0.530_potts.txt\n",
      "Doing  229 ( 192 )/ 630  L :  32  T :  0.55   Q :  4  [  cppData/potts/N_32_Q_4_T_0.550_potts.txt\n",
      "Doing  230 ( 193 )/ 630  L :  32  T :  0.57   Q :  4  [  cppData/potts/N_32_Q_4_T_0.570_potts.txt\n",
      "Doing  231 ( 194 )/ 630  L :  32  T :  0.59   Q :  4  [  cppData/potts/N_32_Q_4_T_0.590_potts.txt\n",
      "Doing  232 ( 195 )/ 630  L :  32  T :  0.6   Q :  4  [  cppData/potts/N_32_Q_4_T_0.600_potts.txt\n",
      "Doing  233 ( 196 )/ 630  L :  32  T :  0.61   Q :  4  [  cppData/potts/N_32_Q_4_T_0.610_potts.txt\n",
      "Doing  234 ( 197 )/ 630  L :  32  T :  0.63   Q :  4  [  cppData/potts/N_32_Q_4_T_0.630_potts.txt\n",
      "Doing  235 ( 198 )/ 630  L :  32  T :  0.65   Q :  4  [  cppData/potts/N_32_Q_4_T_0.650_potts.txt\n",
      "Doing  236 ( 199 )/ 630  L :  32  T :  0.67   Q :  4  [  cppData/potts/N_32_Q_4_T_0.670_potts.txt\n",
      "Doing  237 ( 200 )/ 630  L :  32  T :  0.69   Q :  4  [  cppData/potts/N_32_Q_4_T_0.690_potts.txt\n",
      "Doing  238 ( 201 )/ 630  L :  32  T :  0.7   Q :  4  [  cppData/potts/N_32_Q_4_T_0.700_potts.txt\n",
      "Doing  239 ( 202 )/ 630  L :  32  T :  0.71   Q :  4  [  cppData/potts/N_32_Q_4_T_0.710_potts.txt\n",
      "Doing  240 ( 203 )/ 630  L :  32  T :  0.73   Q :  4  [  cppData/potts/N_32_Q_4_T_0.730_potts.txt\n",
      "Doing  241 ( 204 )/ 630  L :  32  T :  0.75   Q :  4  [  cppData/potts/N_32_Q_4_T_0.750_potts.txt\n",
      "Doing  242 ( 205 )/ 630  L :  32  T :  0.77   Q :  4  [  cppData/potts/N_32_Q_4_T_0.770_potts.txt\n",
      "Doing  243 ( 206 )/ 630  L :  32  T :  0.79   Q :  4  [  cppData/potts/N_32_Q_4_T_0.790_potts.txt\n",
      "Doing  244 ( 207 )/ 630  L :  32  T :  0.8   Q :  4  [  cppData/potts/N_32_Q_4_T_0.800_potts.txt\n",
      "Doing  245 ( 208 )/ 630  L :  32  T :  0.81   Q :  4  [  cppData/potts/N_32_Q_4_T_0.810_potts.txt\n",
      "Doing  246 ( 209 )/ 630  L :  32  T :  0.83   Q :  4  [  cppData/potts/N_32_Q_4_T_0.830_potts.txt\n",
      "Doing  247 ( 210 )/ 630  L :  32  T :  0.85   Q :  4  [  cppData/potts/N_32_Q_4_T_0.850_potts.txt\n",
      "Doing  248 ( 211 )/ 630  L :  32  T :  0.87   Q :  4  [  cppData/potts/N_32_Q_4_T_0.870_potts.txt\n",
      "Doing  249 ( 212 )/ 630  L :  32  T :  0.89   Q :  4  [  cppData/potts/N_32_Q_4_T_0.890_potts.txt\n",
      "Doing  250 ( 213 )/ 630  L :  32  T :  0.9   Q :  4  [  cppData/potts/N_32_Q_4_T_0.900_potts.txt\n",
      "Doing  251 ( 214 )/ 630  L :  32  T :  0.91   Q :  4  [  cppData/potts/N_32_Q_4_T_0.910_potts.txt\n",
      "Doing  252 ( 215 )/ 630  L :  32  T :  0.93   Q :  4  [  cppData/potts/N_32_Q_4_T_0.930_potts.txt\n",
      "Doing  253 ( 216 )/ 630  L :  32  T :  0.95   Q :  4  [  cppData/potts/N_32_Q_4_T_0.950_potts.txt\n",
      "Doing  254 ( 217 )/ 630  L :  32  T :  0.97   Q :  4  [  cppData/potts/N_32_Q_4_T_0.970_potts.txt\n",
      "Doing  255 ( 218 )/ 630  L :  32  T :  0.99   Q :  4  [  cppData/potts/N_32_Q_4_T_0.990_potts.txt\n",
      "Doing  256 ( 219 )/ 630  L :  32  T :  1   Q :  4  [  cppData/potts/N_32_Q_4_T_1.000_potts.txt\n",
      "Doing  257 ( 220 )/ 630  L :  32  T :  1.01   Q :  4  [  cppData/potts/N_32_Q_4_T_1.010_potts.txt\n",
      "Doing  258 ( 221 )/ 630  L :  32  T :  1.03   Q :  4  [  cppData/potts/N_32_Q_4_T_1.030_potts.txt\n",
      "Doing  259 ( 222 )/ 630  L :  32  T :  1.05   Q :  4  [  cppData/potts/N_32_Q_4_T_1.050_potts.txt\n",
      "Doing  260 ( 223 )/ 630  L :  32  T :  1.07   Q :  4  [  cppData/potts/N_32_Q_4_T_1.070_potts.txt\n",
      "Doing  261 ( 224 )/ 630  L :  32  T :  1.09   Q :  4  [  cppData/potts/N_32_Q_4_T_1.090_potts.txt\n",
      "Doing  262 ( 225 )/ 630  L :  32  T :  1.1   Q :  4  [  cppData/potts/N_32_Q_4_T_1.100_potts.txt\n",
      "Doing  263 ( 226 )/ 630  L :  32  T :  1.11   Q :  4  [  cppData/potts/N_32_Q_4_T_1.110_potts.txt\n",
      "Doing  264 ( 227 )/ 630  L :  32  T :  1.13   Q :  4  [  cppData/potts/N_32_Q_4_T_1.130_potts.txt\n",
      "Doing  265 ( 228 )/ 630  L :  32  T :  1.15   Q :  4  [  cppData/potts/N_32_Q_4_T_1.150_potts.txt\n",
      "Doing  266 ( 229 )/ 630  L :  32  T :  1.17   Q :  4  [  cppData/potts/N_32_Q_4_T_1.170_potts.txt\n",
      "Doing  267 ( 230 )/ 630  L :  32  T :  1.19   Q :  4  [  cppData/potts/N_32_Q_4_T_1.190_potts.txt\n",
      "Doing  268 ( 231 )/ 630  L :  32  T :  1.2   Q :  4  [  cppData/potts/N_32_Q_4_T_1.200_potts.txt\n",
      "Doing  269 ( 232 )/ 630  L :  32  T :  1.21   Q :  4  [  cppData/potts/N_32_Q_4_T_1.210_potts.txt\n",
      "Doing  270 ( 233 )/ 630  L :  32  T :  1.23   Q :  4  [  cppData/potts/N_32_Q_4_T_1.230_potts.txt\n",
      "Doing  271 ( 234 )/ 630  L :  32  T :  1.25   Q :  4  [  cppData/potts/N_32_Q_4_T_1.250_potts.txt\n",
      "Doing  272 ( 235 )/ 630  L :  32  T :  1.27   Q :  4  [  cppData/potts/N_32_Q_4_T_1.270_potts.txt\n",
      "Doing  273 ( 236 )/ 630  L :  32  T :  1.29   Q :  4  [  cppData/potts/N_32_Q_4_T_1.290_potts.txt\n",
      "Doing  274 ( 237 )/ 630  L :  32  T :  1.3   Q :  4  [  cppData/potts/N_32_Q_4_T_1.300_potts.txt\n",
      "Doing  275 ( 238 )/ 630  L :  32  T :  1.31   Q :  4  [  cppData/potts/N_32_Q_4_T_1.310_potts.txt\n",
      "Doing  276 ( 239 )/ 630  L :  32  T :  1.33   Q :  4  [  cppData/potts/N_32_Q_4_T_1.330_potts.txt\n",
      "Doing  277 ( 240 )/ 630  L :  32  T :  1.35   Q :  4  [  cppData/potts/N_32_Q_4_T_1.350_potts.txt\n",
      "Doing  278 ( 241 )/ 630  L :  32  T :  1.37   Q :  4  [  cppData/potts/N_32_Q_4_T_1.370_potts.txt\n",
      "Doing  279 ( 242 )/ 630  L :  32  T :  1.39   Q :  4  [  cppData/potts/N_32_Q_4_T_1.390_potts.txt\n",
      "Doing  280 ( 243 )/ 630  L :  32  T :  1.4   Q :  4  [  cppData/potts/N_32_Q_4_T_1.400_potts.txt\n",
      "Doing  281 ( 244 )/ 630  L :  32  T :  1.41   Q :  4  [  cppData/potts/N_32_Q_4_T_1.410_potts.txt\n",
      "Doing  282 ( 245 )/ 630  L :  32  T :  1.43   Q :  4  [  cppData/potts/N_32_Q_4_T_1.430_potts.txt\n",
      "Doing  283 ( 246 )/ 630  L :  32  T :  1.45   Q :  4  [  cppData/potts/N_32_Q_4_T_1.450_potts.txt\n",
      "Doing  284 ( 247 )/ 630  L :  32  T :  1.47   Q :  4  [  cppData/potts/N_32_Q_4_T_1.470_potts.txt\n",
      "Doing  285 ( 248 )/ 630  L :  32  T :  1.49   Q :  4  [  cppData/potts/N_32_Q_4_T_1.490_potts.txt\n",
      "Doing  286 ( 249 )/ 630  L :  32  T :  1.5   Q :  4  [  cppData/potts/N_32_Q_4_T_1.500_potts.txt\n",
      "Doing  287 ( 250 )/ 630  L :  32  T :  1.51   Q :  4  [  cppData/potts/N_32_Q_4_T_1.510_potts.txt\n",
      "Doing  288 ( 251 )/ 630  L :  32  T :  1.53   Q :  4  [  cppData/potts/N_32_Q_4_T_1.530_potts.txt\n",
      "Doing  289 ( 252 )/ 630  L :  32  T :  1.55   Q :  4  [  cppData/potts/N_32_Q_4_T_1.550_potts.txt\n",
      "Doing  290 ( 253 )/ 630  L :  32  T :  1.57   Q :  4  [  cppData/potts/N_32_Q_4_T_1.570_potts.txt\n",
      "Doing  291 ( 254 )/ 630  L :  32  T :  1.59   Q :  4  [  cppData/potts/N_32_Q_4_T_1.590_potts.txt\n"
     ]
    },
    {
     "name": "stdout",
     "output_type": "stream",
     "text": [
      "Doing  292 ( 255 )/ 630  L :  32  T :  1.6   Q :  4  [  cppData/potts/N_32_Q_4_T_1.600_potts.txt\n",
      "Doing  293 ( 256 )/ 630  L :  32  T :  1.61   Q :  4  [  cppData/potts/N_32_Q_4_T_1.610_potts.txt\n",
      "Doing  294 ( 257 )/ 630  L :  32  T :  1.63   Q :  4  [  cppData/potts/N_32_Q_4_T_1.630_potts.txt\n",
      "Doing  295 ( 258 )/ 630  L :  32  T :  1.65   Q :  4  [  cppData/potts/N_32_Q_4_T_1.650_potts.txt\n",
      "Doing  296 ( 259 )/ 630  L :  32  T :  1.67   Q :  4  [  cppData/potts/N_32_Q_4_T_1.670_potts.txt\n",
      "Doing  297 ( 260 )/ 630  L :  32  T :  1.69   Q :  4  [  cppData/potts/N_32_Q_4_T_1.690_potts.txt\n",
      "Doing  298 ( 261 )/ 630  L :  32  T :  1.7   Q :  4  [  cppData/potts/N_32_Q_4_T_1.700_potts.txt\n",
      "Doing  299 ( 262 )/ 630  L :  32  T :  1.71   Q :  4  [  cppData/potts/N_32_Q_4_T_1.710_potts.txt\n",
      "Doing  300 ( 263 )/ 630  L :  32  T :  1.73   Q :  4  [  cppData/potts/N_32_Q_4_T_1.730_potts.txt\n",
      "Doing  301 ( 264 )/ 630  L :  32  T :  1.75   Q :  4  [  cppData/potts/N_32_Q_4_T_1.750_potts.txt\n",
      "Doing  302 ( 265 )/ 630  L :  32  T :  1.77   Q :  4  [  cppData/potts/N_32_Q_4_T_1.770_potts.txt\n",
      "Doing  303 ( 266 )/ 630  L :  32  T :  1.79   Q :  4  [  cppData/potts/N_32_Q_4_T_1.790_potts.txt\n",
      "Doing  304 ( 267 )/ 630  L :  32  T :  1.8   Q :  4  [  cppData/potts/N_32_Q_4_T_1.800_potts.txt\n",
      "Doing  305 ( 268 )/ 630  L :  32  T :  1.81   Q :  4  [  cppData/potts/N_32_Q_4_T_1.810_potts.txt\n",
      "Doing  306 ( 269 )/ 630  L :  32  T :  1.83   Q :  4  [  cppData/potts/N_32_Q_4_T_1.830_potts.txt\n",
      "Doing  307 ( 270 )/ 630  L :  32  T :  1.85   Q :  4  [  cppData/potts/N_32_Q_4_T_1.850_potts.txt\n",
      "Doing  308 ( 271 )/ 630  L :  32  T :  1.87   Q :  4  [  cppData/potts/N_32_Q_4_T_1.870_potts.txt\n",
      "Doing  309 ( 272 )/ 630  L :  32  T :  1.89   Q :  4  [  cppData/potts/N_32_Q_4_T_1.890_potts.txt\n",
      "Doing  310 ( 273 )/ 630  L :  32  T :  1.9   Q :  4  [  cppData/potts/N_32_Q_4_T_1.900_potts.txt\n",
      "Doing  311 ( 274 )/ 630  L :  32  T :  1.91   Q :  4  [  cppData/potts/N_32_Q_4_T_1.910_potts.txt\n",
      "Doing  312 ( 275 )/ 630  L :  32  T :  1.93   Q :  4  [  cppData/potts/N_32_Q_4_T_1.930_potts.txt\n",
      "Doing  313 ( 276 )/ 630  L :  32  T :  1.95   Q :  4  [  cppData/potts/N_32_Q_4_T_1.950_potts.txt\n",
      "Doing  314 ( 277 )/ 630  L :  32  T :  1.97   Q :  4  [  cppData/potts/N_32_Q_4_T_1.970_potts.txt\n",
      "Doing  315 ( 278 )/ 630  L :  32  T :  1.99   Q :  4  [  cppData/potts/N_32_Q_4_T_1.990_potts.txt\n",
      "Doing  328 ( 279 )/ 630  L :  32  T :  0.45   Q :  5  [  cppData/potts/N_32_Q_5_T_0.450_potts.txt\n",
      "Doing  329 ( 280 )/ 630  L :  32  T :  0.47   Q :  5  [  cppData/potts/N_32_Q_5_T_0.470_potts.txt\n",
      "Doing  330 ( 281 )/ 630  L :  32  T :  0.49   Q :  5  [  cppData/potts/N_32_Q_5_T_0.490_potts.txt\n",
      "Doing  331 ( 282 )/ 630  L :  32  T :  0.5   Q :  5  [  cppData/potts/N_32_Q_5_T_0.500_potts.txt\n",
      "Doing  332 ( 283 )/ 630  L :  32  T :  0.51   Q :  5  [  cppData/potts/N_32_Q_5_T_0.510_potts.txt\n",
      "Doing  333 ( 284 )/ 630  L :  32  T :  0.53   Q :  5  [  cppData/potts/N_32_Q_5_T_0.530_potts.txt\n",
      "Doing  334 ( 285 )/ 630  L :  32  T :  0.55   Q :  5  [  cppData/potts/N_32_Q_5_T_0.550_potts.txt\n",
      "Doing  335 ( 286 )/ 630  L :  32  T :  0.57   Q :  5  [  cppData/potts/N_32_Q_5_T_0.570_potts.txt\n",
      "Doing  336 ( 287 )/ 630  L :  32  T :  0.59   Q :  5  [  cppData/potts/N_32_Q_5_T_0.590_potts.txt\n",
      "Doing  337 ( 288 )/ 630  L :  32  T :  0.6   Q :  5  [  cppData/potts/N_32_Q_5_T_0.600_potts.txt\n",
      "Doing  338 ( 289 )/ 630  L :  32  T :  0.61   Q :  5  [  cppData/potts/N_32_Q_5_T_0.610_potts.txt\n",
      "Doing  339 ( 290 )/ 630  L :  32  T :  0.63   Q :  5  [  cppData/potts/N_32_Q_5_T_0.630_potts.txt\n",
      "Doing  340 ( 291 )/ 630  L :  32  T :  0.65   Q :  5  [  cppData/potts/N_32_Q_5_T_0.650_potts.txt\n",
      "Doing  341 ( 292 )/ 630  L :  32  T :  0.67   Q :  5  [  cppData/potts/N_32_Q_5_T_0.670_potts.txt\n",
      "Doing  342 ( 293 )/ 630  L :  32  T :  0.69   Q :  5  [  cppData/potts/N_32_Q_5_T_0.690_potts.txt\n",
      "Doing  343 ( 294 )/ 630  L :  32  T :  0.7   Q :  5  [  cppData/potts/N_32_Q_5_T_0.700_potts.txt\n",
      "Doing  344 ( 295 )/ 630  L :  32  T :  0.71   Q :  5  [  cppData/potts/N_32_Q_5_T_0.710_potts.txt\n",
      "Doing  345 ( 296 )/ 630  L :  32  T :  0.73   Q :  5  [  cppData/potts/N_32_Q_5_T_0.730_potts.txt\n",
      "Doing  346 ( 297 )/ 630  L :  32  T :  0.75   Q :  5  [  cppData/potts/N_32_Q_5_T_0.750_potts.txt\n",
      "Doing  347 ( 298 )/ 630  L :  32  T :  0.77   Q :  5  [  cppData/potts/N_32_Q_5_T_0.770_potts.txt\n",
      "Doing  348 ( 299 )/ 630  L :  32  T :  0.79   Q :  5  [  cppData/potts/N_32_Q_5_T_0.790_potts.txt\n",
      "Doing  349 ( 300 )/ 630  L :  32  T :  0.8   Q :  5  [  cppData/potts/N_32_Q_5_T_0.800_potts.txt\n",
      "Doing  350 ( 301 )/ 630  L :  32  T :  0.81   Q :  5  [  cppData/potts/N_32_Q_5_T_0.810_potts.txt\n",
      "Doing  351 ( 302 )/ 630  L :  32  T :  0.83   Q :  5  [  cppData/potts/N_32_Q_5_T_0.830_potts.txt\n",
      "Doing  352 ( 303 )/ 630  L :  32  T :  0.85   Q :  5  [  cppData/potts/N_32_Q_5_T_0.850_potts.txt\n",
      "Doing  353 ( 304 )/ 630  L :  32  T :  0.87   Q :  5  [  cppData/potts/N_32_Q_5_T_0.870_potts.txt\n",
      "Doing  354 ( 305 )/ 630  L :  32  T :  0.89   Q :  5  [  cppData/potts/N_32_Q_5_T_0.890_potts.txt\n",
      "Doing  355 ( 306 )/ 630  L :  32  T :  0.9   Q :  5  [  cppData/potts/N_32_Q_5_T_0.900_potts.txt\n",
      "Doing  356 ( 307 )/ 630  L :  32  T :  0.91   Q :  5  [  cppData/potts/N_32_Q_5_T_0.910_potts.txt\n",
      "Doing  357 ( 308 )/ 630  L :  32  T :  0.93   Q :  5  [  cppData/potts/N_32_Q_5_T_0.930_potts.txt\n",
      "Doing  358 ( 309 )/ 630  L :  32  T :  0.95   Q :  5  [  cppData/potts/N_32_Q_5_T_0.950_potts.txt\n",
      "Doing  359 ( 310 )/ 630  L :  32  T :  0.97   Q :  5  [  cppData/potts/N_32_Q_5_T_0.970_potts.txt\n",
      "Doing  360 ( 311 )/ 630  L :  32  T :  0.99   Q :  5  [  cppData/potts/N_32_Q_5_T_0.990_potts.txt\n",
      "Doing  361 ( 312 )/ 630  L :  32  T :  1   Q :  5  [  cppData/potts/N_32_Q_5_T_1.000_potts.txt\n",
      "Doing  362 ( 313 )/ 630  L :  32  T :  1.01   Q :  5  [  cppData/potts/N_32_Q_5_T_1.010_potts.txt\n",
      "Doing  363 ( 314 )/ 630  L :  32  T :  1.03   Q :  5  [  cppData/potts/N_32_Q_5_T_1.030_potts.txt\n",
      "Doing  364 ( 315 )/ 630  L :  32  T :  1.05   Q :  5  [  cppData/potts/N_32_Q_5_T_1.050_potts.txt\n",
      "Doing  365 ( 316 )/ 630  L :  32  T :  1.07   Q :  5  [  cppData/potts/N_32_Q_5_T_1.070_potts.txt\n",
      "Doing  366 ( 317 )/ 630  L :  32  T :  1.09   Q :  5  [  cppData/potts/N_32_Q_5_T_1.090_potts.txt\n",
      "Doing  367 ( 318 )/ 630  L :  32  T :  1.1   Q :  5  [  cppData/potts/N_32_Q_5_T_1.100_potts.txt\n",
      "Doing  368 ( 319 )/ 630  L :  32  T :  1.11   Q :  5  [  cppData/potts/N_32_Q_5_T_1.110_potts.txt\n",
      "Doing  369 ( 320 )/ 630  L :  32  T :  1.13   Q :  5  [  cppData/potts/N_32_Q_5_T_1.130_potts.txt\n",
      "Doing  370 ( 321 )/ 630  L :  32  T :  1.15   Q :  5  [  cppData/potts/N_32_Q_5_T_1.150_potts.txt\n",
      "Doing  371 ( 322 )/ 630  L :  32  T :  1.17   Q :  5  [  cppData/potts/N_32_Q_5_T_1.170_potts.txt\n",
      "Doing  372 ( 323 )/ 630  L :  32  T :  1.19   Q :  5  [  cppData/potts/N_32_Q_5_T_1.190_potts.txt\n",
      "Doing  373 ( 324 )/ 630  L :  32  T :  1.2   Q :  5  [  cppData/potts/N_32_Q_5_T_1.200_potts.txt\n",
      "Doing  374 ( 325 )/ 630  L :  32  T :  1.21   Q :  5  [  cppData/potts/N_32_Q_5_T_1.210_potts.txt\n",
      "Doing  375 ( 326 )/ 630  L :  32  T :  1.23   Q :  5  [  cppData/potts/N_32_Q_5_T_1.230_potts.txt\n",
      "Doing  376 ( 327 )/ 630  L :  32  T :  1.25   Q :  5  [  cppData/potts/N_32_Q_5_T_1.250_potts.txt\n",
      "Doing  377 ( 328 )/ 630  L :  32  T :  1.27   Q :  5  [  cppData/potts/N_32_Q_5_T_1.270_potts.txt\n",
      "Doing  378 ( 329 )/ 630  L :  32  T :  1.29   Q :  5  [  cppData/potts/N_32_Q_5_T_1.290_potts.txt\n",
      "Doing  379 ( 330 )/ 630  L :  32  T :  1.3   Q :  5  [  cppData/potts/N_32_Q_5_T_1.300_potts.txt\n",
      "Doing  380 ( 331 )/ 630  L :  32  T :  1.31   Q :  5  [  cppData/potts/N_32_Q_5_T_1.310_potts.txt\n",
      "Doing  381 ( 332 )/ 630  L :  32  T :  1.33   Q :  5  [  cppData/potts/N_32_Q_5_T_1.330_potts.txt\n",
      "Doing  382 ( 333 )/ 630  L :  32  T :  1.35   Q :  5  [  cppData/potts/N_32_Q_5_T_1.350_potts.txt\n",
      "Doing  383 ( 334 )/ 630  L :  32  T :  1.37   Q :  5  [  cppData/potts/N_32_Q_5_T_1.370_potts.txt\n",
      "Doing  384 ( 335 )/ 630  L :  32  T :  1.39   Q :  5  [  cppData/potts/N_32_Q_5_T_1.390_potts.txt\n",
      "Doing  385 ( 336 )/ 630  L :  32  T :  1.4   Q :  5  [  cppData/potts/N_32_Q_5_T_1.400_potts.txt\n",
      "Doing  386 ( 337 )/ 630  L :  32  T :  1.41   Q :  5  [  cppData/potts/N_32_Q_5_T_1.410_potts.txt\n",
      "Doing  387 ( 338 )/ 630  L :  32  T :  1.43   Q :  5  [  cppData/potts/N_32_Q_5_T_1.430_potts.txt\n",
      "Doing  388 ( 339 )/ 630  L :  32  T :  1.45   Q :  5  [  cppData/potts/N_32_Q_5_T_1.450_potts.txt\n"
     ]
    },
    {
     "name": "stdout",
     "output_type": "stream",
     "text": [
      "Doing  389 ( 340 )/ 630  L :  32  T :  1.47   Q :  5  [  cppData/potts/N_32_Q_5_T_1.470_potts.txt\n",
      "Doing  390 ( 341 )/ 630  L :  32  T :  1.49   Q :  5  [  cppData/potts/N_32_Q_5_T_1.490_potts.txt\n",
      "Doing  391 ( 342 )/ 630  L :  32  T :  1.5   Q :  5  [  cppData/potts/N_32_Q_5_T_1.500_potts.txt\n",
      "Doing  392 ( 343 )/ 630  L :  32  T :  1.51   Q :  5  [  cppData/potts/N_32_Q_5_T_1.510_potts.txt\n",
      "Doing  393 ( 344 )/ 630  L :  32  T :  1.53   Q :  5  [  cppData/potts/N_32_Q_5_T_1.530_potts.txt\n",
      "Doing  394 ( 345 )/ 630  L :  32  T :  1.55   Q :  5  [  cppData/potts/N_32_Q_5_T_1.550_potts.txt\n",
      "Doing  395 ( 346 )/ 630  L :  32  T :  1.57   Q :  5  [  cppData/potts/N_32_Q_5_T_1.570_potts.txt\n",
      "Doing  396 ( 347 )/ 630  L :  32  T :  1.59   Q :  5  [  cppData/potts/N_32_Q_5_T_1.590_potts.txt\n",
      "Doing  397 ( 348 )/ 630  L :  32  T :  1.6   Q :  5  [  cppData/potts/N_32_Q_5_T_1.600_potts.txt\n",
      "Doing  398 ( 349 )/ 630  L :  32  T :  1.61   Q :  5  [  cppData/potts/N_32_Q_5_T_1.610_potts.txt\n",
      "Doing  399 ( 350 )/ 630  L :  32  T :  1.63   Q :  5  [  cppData/potts/N_32_Q_5_T_1.630_potts.txt\n",
      "Doing  400 ( 351 )/ 630  L :  32  T :  1.65   Q :  5  [  cppData/potts/N_32_Q_5_T_1.650_potts.txt\n",
      "Doing  401 ( 352 )/ 630  L :  32  T :  1.67   Q :  5  [  cppData/potts/N_32_Q_5_T_1.670_potts.txt\n",
      "Doing  402 ( 353 )/ 630  L :  32  T :  1.69   Q :  5  [  cppData/potts/N_32_Q_5_T_1.690_potts.txt\n",
      "Doing  403 ( 354 )/ 630  L :  32  T :  1.7   Q :  5  [  cppData/potts/N_32_Q_5_T_1.700_potts.txt\n",
      "Doing  404 ( 355 )/ 630  L :  32  T :  1.71   Q :  5  [  cppData/potts/N_32_Q_5_T_1.710_potts.txt\n",
      "Doing  405 ( 356 )/ 630  L :  32  T :  1.73   Q :  5  [  cppData/potts/N_32_Q_5_T_1.730_potts.txt\n",
      "Doing  406 ( 357 )/ 630  L :  32  T :  1.75   Q :  5  [  cppData/potts/N_32_Q_5_T_1.750_potts.txt\n",
      "Doing  407 ( 358 )/ 630  L :  32  T :  1.77   Q :  5  [  cppData/potts/N_32_Q_5_T_1.770_potts.txt\n",
      "Doing  408 ( 359 )/ 630  L :  32  T :  1.79   Q :  5  [  cppData/potts/N_32_Q_5_T_1.790_potts.txt\n",
      "Doing  409 ( 360 )/ 630  L :  32  T :  1.8   Q :  5  [  cppData/potts/N_32_Q_5_T_1.800_potts.txt\n",
      "Doing  410 ( 361 )/ 630  L :  32  T :  1.81   Q :  5  [  cppData/potts/N_32_Q_5_T_1.810_potts.txt\n",
      "Doing  411 ( 362 )/ 630  L :  32  T :  1.83   Q :  5  [  cppData/potts/N_32_Q_5_T_1.830_potts.txt\n",
      "Doing  412 ( 363 )/ 630  L :  32  T :  1.85   Q :  5  [  cppData/potts/N_32_Q_5_T_1.850_potts.txt\n",
      "Doing  413 ( 364 )/ 630  L :  32  T :  1.87   Q :  5  [  cppData/potts/N_32_Q_5_T_1.870_potts.txt\n",
      "Doing  414 ( 365 )/ 630  L :  32  T :  1.89   Q :  5  [  cppData/potts/N_32_Q_5_T_1.890_potts.txt\n",
      "Doing  415 ( 366 )/ 630  L :  32  T :  1.9   Q :  5  [  cppData/potts/N_32_Q_5_T_1.900_potts.txt\n",
      "Doing  416 ( 367 )/ 630  L :  32  T :  1.91   Q :  5  [  cppData/potts/N_32_Q_5_T_1.910_potts.txt\n",
      "Doing  417 ( 368 )/ 630  L :  32  T :  1.93   Q :  5  [  cppData/potts/N_32_Q_5_T_1.930_potts.txt\n",
      "Doing  418 ( 369 )/ 630  L :  32  T :  1.95   Q :  5  [  cppData/potts/N_32_Q_5_T_1.950_potts.txt\n",
      "Doing  419 ( 370 )/ 630  L :  32  T :  1.97   Q :  5  [  cppData/potts/N_32_Q_5_T_1.970_potts.txt\n",
      "Doing  420 ( 371 )/ 630  L :  32  T :  1.99   Q :  5  [  cppData/potts/N_32_Q_5_T_1.990_potts.txt\n",
      "Doing  433 ( 372 )/ 630  L :  32  T :  0.45   Q :  6  [  cppData/potts/N_32_Q_6_T_0.450_potts.txt\n",
      "Doing  434 ( 373 )/ 630  L :  32  T :  0.47   Q :  6  [  cppData/potts/N_32_Q_6_T_0.470_potts.txt\n",
      "Doing  435 ( 374 )/ 630  L :  32  T :  0.49   Q :  6  [  cppData/potts/N_32_Q_6_T_0.490_potts.txt\n",
      "Doing  436 ( 375 )/ 630  L :  32  T :  0.5   Q :  6  [  cppData/potts/N_32_Q_6_T_0.500_potts.txt\n",
      "Doing  437 ( 376 )/ 630  L :  32  T :  0.51   Q :  6  [  cppData/potts/N_32_Q_6_T_0.510_potts.txt\n",
      "Doing  438 ( 377 )/ 630  L :  32  T :  0.53   Q :  6  [  cppData/potts/N_32_Q_6_T_0.530_potts.txt\n",
      "Doing  439 ( 378 )/ 630  L :  32  T :  0.55   Q :  6  [  cppData/potts/N_32_Q_6_T_0.550_potts.txt\n",
      "Doing  440 ( 379 )/ 630  L :  32  T :  0.57   Q :  6  [  cppData/potts/N_32_Q_6_T_0.570_potts.txt\n",
      "Doing  441 ( 380 )/ 630  L :  32  T :  0.59   Q :  6  [  cppData/potts/N_32_Q_6_T_0.590_potts.txt\n",
      "Doing  442 ( 381 )/ 630  L :  32  T :  0.6   Q :  6  [  cppData/potts/N_32_Q_6_T_0.600_potts.txt\n",
      "Doing  443 ( 382 )/ 630  L :  32  T :  0.61   Q :  6  [  cppData/potts/N_32_Q_6_T_0.610_potts.txt\n",
      "Doing  444 ( 383 )/ 630  L :  32  T :  0.63   Q :  6  [  cppData/potts/N_32_Q_6_T_0.630_potts.txt\n",
      "Doing  445 ( 384 )/ 630  L :  32  T :  0.65   Q :  6  [  cppData/potts/N_32_Q_6_T_0.650_potts.txt\n",
      "Doing  446 ( 385 )/ 630  L :  32  T :  0.67   Q :  6  [  cppData/potts/N_32_Q_6_T_0.670_potts.txt\n",
      "Doing  447 ( 386 )/ 630  L :  32  T :  0.69   Q :  6  [  cppData/potts/N_32_Q_6_T_0.690_potts.txt\n",
      "Doing  448 ( 387 )/ 630  L :  32  T :  0.7   Q :  6  [  cppData/potts/N_32_Q_6_T_0.700_potts.txt\n",
      "Doing  449 ( 388 )/ 630  L :  32  T :  0.71   Q :  6  [  cppData/potts/N_32_Q_6_T_0.710_potts.txt\n",
      "Doing  450 ( 389 )/ 630  L :  32  T :  0.73   Q :  6  [  cppData/potts/N_32_Q_6_T_0.730_potts.txt\n",
      "Doing  451 ( 390 )/ 630  L :  32  T :  0.75   Q :  6  [  cppData/potts/N_32_Q_6_T_0.750_potts.txt\n",
      "Doing  452 ( 391 )/ 630  L :  32  T :  0.77   Q :  6  [  cppData/potts/N_32_Q_6_T_0.770_potts.txt\n",
      "Doing  453 ( 392 )/ 630  L :  32  T :  0.79   Q :  6  [  cppData/potts/N_32_Q_6_T_0.790_potts.txt\n",
      "Doing  454 ( 393 )/ 630  L :  32  T :  0.8   Q :  6  [  cppData/potts/N_32_Q_6_T_0.800_potts.txt\n",
      "Doing  455 ( 394 )/ 630  L :  32  T :  0.81   Q :  6  [  cppData/potts/N_32_Q_6_T_0.810_potts.txt\n",
      "Doing  456 ( 395 )/ 630  L :  32  T :  0.83   Q :  6  [  cppData/potts/N_32_Q_6_T_0.830_potts.txt\n",
      "Doing  457 ( 396 )/ 630  L :  32  T :  0.85   Q :  6  [  cppData/potts/N_32_Q_6_T_0.850_potts.txt\n",
      "Doing  458 ( 397 )/ 630  L :  32  T :  0.87   Q :  6  [  cppData/potts/N_32_Q_6_T_0.870_potts.txt\n",
      "Doing  459 ( 398 )/ 630  L :  32  T :  0.89   Q :  6  [  cppData/potts/N_32_Q_6_T_0.890_potts.txt\n",
      "Doing  460 ( 399 )/ 630  L :  32  T :  0.9   Q :  6  [  cppData/potts/N_32_Q_6_T_0.900_potts.txt\n",
      "Doing  461 ( 400 )/ 630  L :  32  T :  0.91   Q :  6  [  cppData/potts/N_32_Q_6_T_0.910_potts.txt\n",
      "Doing  462 ( 401 )/ 630  L :  32  T :  0.93   Q :  6  [  cppData/potts/N_32_Q_6_T_0.930_potts.txt\n",
      "Doing  463 ( 402 )/ 630  L :  32  T :  0.95   Q :  6  [  cppData/potts/N_32_Q_6_T_0.950_potts.txt\n",
      "Doing  464 ( 403 )/ 630  L :  32  T :  0.97   Q :  6  [  cppData/potts/N_32_Q_6_T_0.970_potts.txt\n",
      "Doing  465 ( 404 )/ 630  L :  32  T :  0.99   Q :  6  [  cppData/potts/N_32_Q_6_T_0.990_potts.txt\n",
      "Doing  466 ( 405 )/ 630  L :  32  T :  1   Q :  6  [  cppData/potts/N_32_Q_6_T_1.000_potts.txt\n",
      "Doing  467 ( 406 )/ 630  L :  32  T :  1.01   Q :  6  [  cppData/potts/N_32_Q_6_T_1.010_potts.txt\n",
      "Doing  468 ( 407 )/ 630  L :  32  T :  1.03   Q :  6  [  cppData/potts/N_32_Q_6_T_1.030_potts.txt\n",
      "Doing  469 ( 408 )/ 630  L :  32  T :  1.05   Q :  6  [  cppData/potts/N_32_Q_6_T_1.050_potts.txt\n",
      "Doing  470 ( 409 )/ 630  L :  32  T :  1.07   Q :  6  [  cppData/potts/N_32_Q_6_T_1.070_potts.txt\n",
      "Doing  471 ( 410 )/ 630  L :  32  T :  1.09   Q :  6  [  cppData/potts/N_32_Q_6_T_1.090_potts.txt\n",
      "Doing  472 ( 411 )/ 630  L :  32  T :  1.1   Q :  6  [  cppData/potts/N_32_Q_6_T_1.100_potts.txt\n",
      "Doing  473 ( 412 )/ 630  L :  32  T :  1.11   Q :  6  [  cppData/potts/N_32_Q_6_T_1.110_potts.txt\n",
      "Doing  474 ( 413 )/ 630  L :  32  T :  1.13   Q :  6  [  cppData/potts/N_32_Q_6_T_1.130_potts.txt\n",
      "Doing  475 ( 414 )/ 630  L :  32  T :  1.15   Q :  6  [  cppData/potts/N_32_Q_6_T_1.150_potts.txt\n",
      "Doing  476 ( 415 )/ 630  L :  32  T :  1.17   Q :  6  [  cppData/potts/N_32_Q_6_T_1.170_potts.txt\n",
      "Doing  477 ( 416 )/ 630  L :  32  T :  1.19   Q :  6  [  cppData/potts/N_32_Q_6_T_1.190_potts.txt\n",
      "Doing  478 ( 417 )/ 630  L :  32  T :  1.2   Q :  6  [  cppData/potts/N_32_Q_6_T_1.200_potts.txt\n",
      "Doing  479 ( 418 )/ 630  L :  32  T :  1.21   Q :  6  [  cppData/potts/N_32_Q_6_T_1.210_potts.txt\n",
      "Doing  480 ( 419 )/ 630  L :  32  T :  1.23   Q :  6  [  cppData/potts/N_32_Q_6_T_1.230_potts.txt\n",
      "Doing  481 ( 420 )/ 630  L :  32  T :  1.25   Q :  6  [  cppData/potts/N_32_Q_6_T_1.250_potts.txt\n",
      "Doing  482 ( 421 )/ 630  L :  32  T :  1.27   Q :  6  [  cppData/potts/N_32_Q_6_T_1.270_potts.txt\n",
      "Doing  483 ( 422 )/ 630  L :  32  T :  1.29   Q :  6  [  cppData/potts/N_32_Q_6_T_1.290_potts.txt\n",
      "Doing  484 ( 423 )/ 630  L :  32  T :  1.3   Q :  6  [  cppData/potts/N_32_Q_6_T_1.300_potts.txt\n",
      "Doing  485 ( 424 )/ 630  L :  32  T :  1.31   Q :  6  [  cppData/potts/N_32_Q_6_T_1.310_potts.txt\n"
     ]
    },
    {
     "name": "stdout",
     "output_type": "stream",
     "text": [
      "Doing  486 ( 425 )/ 630  L :  32  T :  1.33   Q :  6  [  cppData/potts/N_32_Q_6_T_1.330_potts.txt\n",
      "Doing  487 ( 426 )/ 630  L :  32  T :  1.35   Q :  6  [  cppData/potts/N_32_Q_6_T_1.350_potts.txt\n",
      "Doing  488 ( 427 )/ 630  L :  32  T :  1.37   Q :  6  [  cppData/potts/N_32_Q_6_T_1.370_potts.txt\n",
      "Doing  489 ( 428 )/ 630  L :  32  T :  1.39   Q :  6  [  cppData/potts/N_32_Q_6_T_1.390_potts.txt\n",
      "Doing  490 ( 429 )/ 630  L :  32  T :  1.4   Q :  6  [  cppData/potts/N_32_Q_6_T_1.400_potts.txt\n",
      "Doing  491 ( 430 )/ 630  L :  32  T :  1.41   Q :  6  [  cppData/potts/N_32_Q_6_T_1.410_potts.txt\n",
      "Doing  492 ( 431 )/ 630  L :  32  T :  1.43   Q :  6  [  cppData/potts/N_32_Q_6_T_1.430_potts.txt\n",
      "Doing  493 ( 432 )/ 630  L :  32  T :  1.45   Q :  6  [  cppData/potts/N_32_Q_6_T_1.450_potts.txt\n",
      "Doing  494 ( 433 )/ 630  L :  32  T :  1.47   Q :  6  [  cppData/potts/N_32_Q_6_T_1.470_potts.txt\n",
      "Doing  495 ( 434 )/ 630  L :  32  T :  1.49   Q :  6  [  cppData/potts/N_32_Q_6_T_1.490_potts.txt\n",
      "Doing  496 ( 435 )/ 630  L :  32  T :  1.5   Q :  6  [  cppData/potts/N_32_Q_6_T_1.500_potts.txt\n",
      "Doing  497 ( 436 )/ 630  L :  32  T :  1.51   Q :  6  [  cppData/potts/N_32_Q_6_T_1.510_potts.txt\n",
      "Doing  498 ( 437 )/ 630  L :  32  T :  1.53   Q :  6  [  cppData/potts/N_32_Q_6_T_1.530_potts.txt\n",
      "Doing  499 ( 438 )/ 630  L :  32  T :  1.55   Q :  6  [  cppData/potts/N_32_Q_6_T_1.550_potts.txt\n",
      "Doing  500 ( 439 )/ 630  L :  32  T :  1.57   Q :  6  [  cppData/potts/N_32_Q_6_T_1.570_potts.txt\n",
      "Doing  501 ( 440 )/ 630  L :  32  T :  1.59   Q :  6  [  cppData/potts/N_32_Q_6_T_1.590_potts.txt\n",
      "Doing  502 ( 441 )/ 630  L :  32  T :  1.6   Q :  6  [  cppData/potts/N_32_Q_6_T_1.600_potts.txt\n",
      "Doing  503 ( 442 )/ 630  L :  32  T :  1.61   Q :  6  [  cppData/potts/N_32_Q_6_T_1.610_potts.txt\n",
      "Doing  504 ( 443 )/ 630  L :  32  T :  1.63   Q :  6  [  cppData/potts/N_32_Q_6_T_1.630_potts.txt\n",
      "Doing  505 ( 444 )/ 630  L :  32  T :  1.65   Q :  6  [  cppData/potts/N_32_Q_6_T_1.650_potts.txt\n",
      "Doing  506 ( 445 )/ 630  L :  32  T :  1.67   Q :  6  [  cppData/potts/N_32_Q_6_T_1.670_potts.txt\n",
      "Doing  507 ( 446 )/ 630  L :  32  T :  1.69   Q :  6  [  cppData/potts/N_32_Q_6_T_1.690_potts.txt\n",
      "Doing  508 ( 447 )/ 630  L :  32  T :  1.7   Q :  6  [  cppData/potts/N_32_Q_6_T_1.700_potts.txt\n",
      "Doing  509 ( 448 )/ 630  L :  32  T :  1.71   Q :  6  [  cppData/potts/N_32_Q_6_T_1.710_potts.txt\n",
      "Doing  510 ( 449 )/ 630  L :  32  T :  1.73   Q :  6  [  cppData/potts/N_32_Q_6_T_1.730_potts.txt\n",
      "Doing  511 ( 450 )/ 630  L :  32  T :  1.75   Q :  6  [  cppData/potts/N_32_Q_6_T_1.750_potts.txt\n",
      "Doing  512 ( 451 )/ 630  L :  32  T :  1.77   Q :  6  [  cppData/potts/N_32_Q_6_T_1.770_potts.txt\n",
      "Doing  513 ( 452 )/ 630  L :  32  T :  1.79   Q :  6  [  cppData/potts/N_32_Q_6_T_1.790_potts.txt\n",
      "Doing  514 ( 453 )/ 630  L :  32  T :  1.8   Q :  6  [  cppData/potts/N_32_Q_6_T_1.800_potts.txt\n",
      "Doing  515 ( 454 )/ 630  L :  32  T :  1.81   Q :  6  [  cppData/potts/N_32_Q_6_T_1.810_potts.txt\n",
      "Doing  516 ( 455 )/ 630  L :  32  T :  1.83   Q :  6  [  cppData/potts/N_32_Q_6_T_1.830_potts.txt\n",
      "Doing  517 ( 456 )/ 630  L :  32  T :  1.85   Q :  6  [  cppData/potts/N_32_Q_6_T_1.850_potts.txt\n",
      "Doing  518 ( 457 )/ 630  L :  32  T :  1.87   Q :  6  [  cppData/potts/N_32_Q_6_T_1.870_potts.txt\n",
      "Doing  519 ( 458 )/ 630  L :  32  T :  1.89   Q :  6  [  cppData/potts/N_32_Q_6_T_1.890_potts.txt\n",
      "Doing  520 ( 459 )/ 630  L :  32  T :  1.9   Q :  6  [  cppData/potts/N_32_Q_6_T_1.900_potts.txt\n",
      "Doing  521 ( 460 )/ 630  L :  32  T :  1.91   Q :  6  [  cppData/potts/N_32_Q_6_T_1.910_potts.txt\n",
      "Doing  522 ( 461 )/ 630  L :  32  T :  1.93   Q :  6  [  cppData/potts/N_32_Q_6_T_1.930_potts.txt\n",
      "Doing  523 ( 462 )/ 630  L :  32  T :  1.95   Q :  6  [  cppData/potts/N_32_Q_6_T_1.950_potts.txt\n",
      "Doing  524 ( 463 )/ 630  L :  32  T :  1.97   Q :  6  [  cppData/potts/N_32_Q_6_T_1.970_potts.txt\n",
      "Doing  525 ( 464 )/ 630  L :  32  T :  1.99   Q :  6  [  cppData/potts/N_32_Q_6_T_1.990_potts.txt\n",
      "Doing  538 ( 465 )/ 630  L :  32  T :  0.45   Q :  7  [  cppData/potts/N_32_Q_7_T_0.450_potts.txt\n",
      "Doing  539 ( 466 )/ 630  L :  32  T :  0.47   Q :  7  [  cppData/potts/N_32_Q_7_T_0.470_potts.txt\n",
      "Doing  540 ( 467 )/ 630  L :  32  T :  0.49   Q :  7  [  cppData/potts/N_32_Q_7_T_0.490_potts.txt\n",
      "Doing  541 ( 468 )/ 630  L :  32  T :  0.5   Q :  7  [  cppData/potts/N_32_Q_7_T_0.500_potts.txt\n",
      "Doing  542 ( 469 )/ 630  L :  32  T :  0.51   Q :  7  [  cppData/potts/N_32_Q_7_T_0.510_potts.txt\n",
      "Doing  543 ( 470 )/ 630  L :  32  T :  0.53   Q :  7  [  cppData/potts/N_32_Q_7_T_0.530_potts.txt\n",
      "Doing  544 ( 471 )/ 630  L :  32  T :  0.55   Q :  7  [  cppData/potts/N_32_Q_7_T_0.550_potts.txt\n",
      "Doing  545 ( 472 )/ 630  L :  32  T :  0.57   Q :  7  [  cppData/potts/N_32_Q_7_T_0.570_potts.txt\n",
      "Doing  546 ( 473 )/ 630  L :  32  T :  0.59   Q :  7  [  cppData/potts/N_32_Q_7_T_0.590_potts.txt\n",
      "Doing  547 ( 474 )/ 630  L :  32  T :  0.6   Q :  7  [  cppData/potts/N_32_Q_7_T_0.600_potts.txt\n",
      "Doing  548 ( 475 )/ 630  L :  32  T :  0.61   Q :  7  [  cppData/potts/N_32_Q_7_T_0.610_potts.txt\n",
      "Doing  549 ( 476 )/ 630  L :  32  T :  0.63   Q :  7  [  cppData/potts/N_32_Q_7_T_0.630_potts.txt\n",
      "Doing  550 ( 477 )/ 630  L :  32  T :  0.65   Q :  7  [  cppData/potts/N_32_Q_7_T_0.650_potts.txt\n",
      "Doing  551 ( 478 )/ 630  L :  32  T :  0.67   Q :  7  [  cppData/potts/N_32_Q_7_T_0.670_potts.txt\n",
      "Doing  552 ( 479 )/ 630  L :  32  T :  0.69   Q :  7  [  cppData/potts/N_32_Q_7_T_0.690_potts.txt\n",
      "Doing  553 ( 480 )/ 630  L :  32  T :  0.7   Q :  7  [  cppData/potts/N_32_Q_7_T_0.700_potts.txt\n",
      "Doing  554 ( 481 )/ 630  L :  32  T :  0.71   Q :  7  [  cppData/potts/N_32_Q_7_T_0.710_potts.txt\n",
      "Doing  555 ( 482 )/ 630  L :  32  T :  0.73   Q :  7  [  cppData/potts/N_32_Q_7_T_0.730_potts.txt\n",
      "Doing  556 ( 483 )/ 630  L :  32  T :  0.75   Q :  7  [  cppData/potts/N_32_Q_7_T_0.750_potts.txt\n",
      "Doing  557 ( 484 )/ 630  L :  32  T :  0.77   Q :  7  [  cppData/potts/N_32_Q_7_T_0.770_potts.txt\n",
      "Doing  558 ( 485 )/ 630  L :  32  T :  0.79   Q :  7  [  cppData/potts/N_32_Q_7_T_0.790_potts.txt\n",
      "Doing  559 ( 486 )/ 630  L :  32  T :  0.8   Q :  7  [  cppData/potts/N_32_Q_7_T_0.800_potts.txt\n",
      "Doing  560 ( 487 )/ 630  L :  32  T :  0.81   Q :  7  [  cppData/potts/N_32_Q_7_T_0.810_potts.txt\n",
      "Doing  561 ( 488 )/ 630  L :  32  T :  0.83   Q :  7  [  cppData/potts/N_32_Q_7_T_0.830_potts.txt\n",
      "Doing  562 ( 489 )/ 630  L :  32  T :  0.85   Q :  7  [  cppData/potts/N_32_Q_7_T_0.850_potts.txt\n",
      "Doing  563 ( 490 )/ 630  L :  32  T :  0.87   Q :  7  [  cppData/potts/N_32_Q_7_T_0.870_potts.txt\n",
      "Doing  564 ( 491 )/ 630  L :  32  T :  0.89   Q :  7  [  cppData/potts/N_32_Q_7_T_0.890_potts.txt\n",
      "Doing  565 ( 492 )/ 630  L :  32  T :  0.9   Q :  7  [  cppData/potts/N_32_Q_7_T_0.900_potts.txt\n",
      "Doing  566 ( 493 )/ 630  L :  32  T :  0.91   Q :  7  [  cppData/potts/N_32_Q_7_T_0.910_potts.txt\n",
      "Doing  567 ( 494 )/ 630  L :  32  T :  0.93   Q :  7  [  cppData/potts/N_32_Q_7_T_0.930_potts.txt\n",
      "Doing  568 ( 495 )/ 630  L :  32  T :  0.95   Q :  7  [  cppData/potts/N_32_Q_7_T_0.950_potts.txt\n",
      "Doing  569 ( 496 )/ 630  L :  32  T :  0.97   Q :  7  [  cppData/potts/N_32_Q_7_T_0.970_potts.txt\n",
      "Doing  570 ( 497 )/ 630  L :  32  T :  0.99   Q :  7  [  cppData/potts/N_32_Q_7_T_0.990_potts.txt\n",
      "Doing  571 ( 498 )/ 630  L :  32  T :  1   Q :  7  [  cppData/potts/N_32_Q_7_T_1.000_potts.txt\n",
      "Doing  572 ( 499 )/ 630  L :  32  T :  1.01   Q :  7  [  cppData/potts/N_32_Q_7_T_1.010_potts.txt\n",
      "Doing  573 ( 500 )/ 630  L :  32  T :  1.03   Q :  7  [  cppData/potts/N_32_Q_7_T_1.030_potts.txt\n",
      "Doing  574 ( 501 )/ 630  L :  32  T :  1.05   Q :  7  [  cppData/potts/N_32_Q_7_T_1.050_potts.txt\n",
      "Doing  575 ( 502 )/ 630  L :  32  T :  1.07   Q :  7  [  cppData/potts/N_32_Q_7_T_1.070_potts.txt\n",
      "Doing  576 ( 503 )/ 630  L :  32  T :  1.09   Q :  7  [  cppData/potts/N_32_Q_7_T_1.090_potts.txt\n",
      "Doing  577 ( 504 )/ 630  L :  32  T :  1.1   Q :  7  [  cppData/potts/N_32_Q_7_T_1.100_potts.txt\n",
      "Doing  578 ( 505 )/ 630  L :  32  T :  1.11   Q :  7  [  cppData/potts/N_32_Q_7_T_1.110_potts.txt\n",
      "Doing  579 ( 506 )/ 630  L :  32  T :  1.13   Q :  7  [  cppData/potts/N_32_Q_7_T_1.130_potts.txt\n",
      "Doing  580 ( 507 )/ 630  L :  32  T :  1.15   Q :  7  [  cppData/potts/N_32_Q_7_T_1.150_potts.txt\n",
      "Doing  581 ( 508 )/ 630  L :  32  T :  1.17   Q :  7  [  cppData/potts/N_32_Q_7_T_1.170_potts.txt\n"
     ]
    },
    {
     "name": "stdout",
     "output_type": "stream",
     "text": [
      "Doing  582 ( 509 )/ 630  L :  32  T :  1.19   Q :  7  [  cppData/potts/N_32_Q_7_T_1.190_potts.txt\n",
      "Doing  583 ( 510 )/ 630  L :  32  T :  1.2   Q :  7  [  cppData/potts/N_32_Q_7_T_1.200_potts.txt\n",
      "Doing  584 ( 511 )/ 630  L :  32  T :  1.21   Q :  7  [  cppData/potts/N_32_Q_7_T_1.210_potts.txt\n",
      "Doing  585 ( 512 )/ 630  L :  32  T :  1.23   Q :  7  [  cppData/potts/N_32_Q_7_T_1.230_potts.txt\n",
      "Doing  586 ( 513 )/ 630  L :  32  T :  1.25   Q :  7  [  cppData/potts/N_32_Q_7_T_1.250_potts.txt\n",
      "Doing  587 ( 514 )/ 630  L :  32  T :  1.27   Q :  7  [  cppData/potts/N_32_Q_7_T_1.270_potts.txt\n",
      "Doing  588 ( 515 )/ 630  L :  32  T :  1.29   Q :  7  [  cppData/potts/N_32_Q_7_T_1.290_potts.txt\n",
      "Doing  589 ( 516 )/ 630  L :  32  T :  1.3   Q :  7  [  cppData/potts/N_32_Q_7_T_1.300_potts.txt\n",
      "Doing  590 ( 517 )/ 630  L :  32  T :  1.31   Q :  7  [  cppData/potts/N_32_Q_7_T_1.310_potts.txt\n",
      "Doing  591 ( 518 )/ 630  L :  32  T :  1.33   Q :  7  [  cppData/potts/N_32_Q_7_T_1.330_potts.txt\n",
      "Doing  592 ( 519 )/ 630  L :  32  T :  1.35   Q :  7  [  cppData/potts/N_32_Q_7_T_1.350_potts.txt\n",
      "Doing  593 ( 520 )/ 630  L :  32  T :  1.37   Q :  7  [  cppData/potts/N_32_Q_7_T_1.370_potts.txt\n",
      "Doing  594 ( 521 )/ 630  L :  32  T :  1.39   Q :  7  [  cppData/potts/N_32_Q_7_T_1.390_potts.txt\n",
      "Doing  595 ( 522 )/ 630  L :  32  T :  1.4   Q :  7  [  cppData/potts/N_32_Q_7_T_1.400_potts.txt\n",
      "Doing  596 ( 523 )/ 630  L :  32  T :  1.41   Q :  7  [  cppData/potts/N_32_Q_7_T_1.410_potts.txt\n",
      "Doing  597 ( 524 )/ 630  L :  32  T :  1.43   Q :  7  [  cppData/potts/N_32_Q_7_T_1.430_potts.txt\n",
      "Doing  598 ( 525 )/ 630  L :  32  T :  1.45   Q :  7  [  cppData/potts/N_32_Q_7_T_1.450_potts.txt\n",
      "Doing  599 ( 526 )/ 630  L :  32  T :  1.47   Q :  7  [  cppData/potts/N_32_Q_7_T_1.470_potts.txt\n",
      "Doing  600 ( 527 )/ 630  L :  32  T :  1.49   Q :  7  [  cppData/potts/N_32_Q_7_T_1.490_potts.txt\n",
      "Doing  601 ( 528 )/ 630  L :  32  T :  1.5   Q :  7  [  cppData/potts/N_32_Q_7_T_1.500_potts.txt\n",
      "Doing  602 ( 529 )/ 630  L :  32  T :  1.51   Q :  7  [  cppData/potts/N_32_Q_7_T_1.510_potts.txt\n",
      "Doing  603 ( 530 )/ 630  L :  32  T :  1.53   Q :  7  [  cppData/potts/N_32_Q_7_T_1.530_potts.txt\n",
      "Doing  604 ( 531 )/ 630  L :  32  T :  1.55   Q :  7  [  cppData/potts/N_32_Q_7_T_1.550_potts.txt\n",
      "Doing  605 ( 532 )/ 630  L :  32  T :  1.57   Q :  7  [  cppData/potts/N_32_Q_7_T_1.570_potts.txt\n",
      "Doing  606 ( 533 )/ 630  L :  32  T :  1.59   Q :  7  [  cppData/potts/N_32_Q_7_T_1.590_potts.txt\n",
      "Doing  607 ( 534 )/ 630  L :  32  T :  1.6   Q :  7  [  cppData/potts/N_32_Q_7_T_1.600_potts.txt\n",
      "Doing  608 ( 535 )/ 630  L :  32  T :  1.61   Q :  7  [  cppData/potts/N_32_Q_7_T_1.610_potts.txt\n",
      "Doing  609 ( 536 )/ 630  L :  32  T :  1.63   Q :  7  [  cppData/potts/N_32_Q_7_T_1.630_potts.txt\n",
      "Doing  610 ( 537 )/ 630  L :  32  T :  1.65   Q :  7  [  cppData/potts/N_32_Q_7_T_1.650_potts.txt\n",
      "Doing  611 ( 538 )/ 630  L :  32  T :  1.67   Q :  7  [  cppData/potts/N_32_Q_7_T_1.670_potts.txt\n",
      "Doing  612 ( 539 )/ 630  L :  32  T :  1.69   Q :  7  [  cppData/potts/N_32_Q_7_T_1.690_potts.txt\n",
      "Doing  613 ( 540 )/ 630  L :  32  T :  1.7   Q :  7  [  cppData/potts/N_32_Q_7_T_1.700_potts.txt\n",
      "Doing  614 ( 541 )/ 630  L :  32  T :  1.71   Q :  7  [  cppData/potts/N_32_Q_7_T_1.710_potts.txt\n",
      "Doing  615 ( 542 )/ 630  L :  32  T :  1.73   Q :  7  [  cppData/potts/N_32_Q_7_T_1.730_potts.txt\n",
      "Doing  616 ( 543 )/ 630  L :  32  T :  1.75   Q :  7  [  cppData/potts/N_32_Q_7_T_1.750_potts.txt\n",
      "Doing  617 ( 544 )/ 630  L :  32  T :  1.77   Q :  7  [  cppData/potts/N_32_Q_7_T_1.770_potts.txt\n",
      "Doing  618 ( 545 )/ 630  L :  32  T :  1.79   Q :  7  [  cppData/potts/N_32_Q_7_T_1.790_potts.txt\n",
      "Doing  619 ( 546 )/ 630  L :  32  T :  1.8   Q :  7  [  cppData/potts/N_32_Q_7_T_1.800_potts.txt\n",
      "Doing  620 ( 547 )/ 630  L :  32  T :  1.81   Q :  7  [  cppData/potts/N_32_Q_7_T_1.810_potts.txt\n",
      "Doing  621 ( 548 )/ 630  L :  32  T :  1.83   Q :  7  [  cppData/potts/N_32_Q_7_T_1.830_potts.txt\n",
      "Doing  622 ( 549 )/ 630  L :  32  T :  1.85   Q :  7  [  cppData/potts/N_32_Q_7_T_1.850_potts.txt\n",
      "Doing  623 ( 550 )/ 630  L :  32  T :  1.87   Q :  7  [  cppData/potts/N_32_Q_7_T_1.870_potts.txt\n",
      "Doing  624 ( 551 )/ 630  L :  32  T :  1.89   Q :  7  [  cppData/potts/N_32_Q_7_T_1.890_potts.txt\n",
      "Doing  625 ( 552 )/ 630  L :  32  T :  1.9   Q :  7  [  cppData/potts/N_32_Q_7_T_1.900_potts.txt\n",
      "Doing  626 ( 553 )/ 630  L :  32  T :  1.91   Q :  7  [  cppData/potts/N_32_Q_7_T_1.910_potts.txt\n",
      "Doing  627 ( 554 )/ 630  L :  32  T :  1.93   Q :  7  [  cppData/potts/N_32_Q_7_T_1.930_potts.txt\n",
      "Doing  628 ( 555 )/ 630  L :  32  T :  1.95   Q :  7  [  cppData/potts/N_32_Q_7_T_1.950_potts.txt\n",
      "Doing  629 ( 556 )/ 630  L :  32  T :  1.97   Q :  7  [  cppData/potts/N_32_Q_7_T_1.970_potts.txt\n",
      "Doing  630 ( 557 )/ 630  L :  32  T :  1.99   Q :  7  [  cppData/potts/N_32_Q_7_T_1.990_potts.txt\n"
     ]
    }
   ],
   "source": [
    "ml=500\n",
    "sampled=[]\n",
    "analy=dict()\n",
    "i=-1\n",
    "rslt=open('cppanalysis/result_potts_allMC','w')\n",
    "cfit=open('cppanalysis/cfit_potts_allMC','w')\n",
    "rslt.write('Temp,N,Q,Magetization,MagErr,Specific_Heat,SP_Err,Succeptibility,succepErr\\n')\n",
    "cfit.write('N,temp,Xi,Xi_err\\n')\n",
    "l=len(fnames)\n",
    "j=-1\n",
    "for fn in fnames:\n",
    "    i+=1\n",
    "    dat=get_data(fn);\n",
    "    try:\n",
    "        L=dat['params']['length of lattice  '];\n",
    "    except:\n",
    "        L=dat['params']['N '];    \n",
    "    try:\n",
    "        T=dat['params']['T   '];\n",
    "    except:\n",
    "        T=dat['params']['T '];\n",
    "    try:\n",
    "        Q=dat['params']['Q   '];\n",
    "    except:\n",
    "        Q=dat['params']['Q   '];    \n",
    "    if T<0.45:\n",
    "        continue\n",
    "    j+=1;\n",
    "    print(\"Doing \",i+1 ,\"(\",j,\")/\",l, \" L : \",L,\" T : \",T,\"  Q : \",Q,\" [ \" ,fn)\n",
    "    N=L*L\n",
    "    sdata=sample_data(dat,Max_lags=ml);\n",
    "    analy=analyze(T,N,sdata['energy'],sdata['magentization'])\n",
    "    rslt.write(str(T)+\",\"+str(L)+\",\"+str(Q)+\",\"+str(analy[0][0])+\",\"+str(analy[0][1]))\n",
    "    rslt.write(\",\"+str(analy[1][0])+\",\"+str(analy[1][1]))\n",
    "    rslt.write(\",\"+str(analy[2][0])+\",\"+str(analy[2][1])+\"\\n\")\n",
    "    cfit.write(str(L)+\",\"+str(T)+\",\"+str(analy[2][0])+\",\"+str(analy[2][1])+\"\\n\")\n",
    "rslt.close()\n",
    "cfit.close()"
   ]
  },
  {
   "cell_type": "markdown",
   "metadata": {},
   "source": [
    "## READING THE EXTRACTED DATA FOR POTTS"
   ]
  },
  {
   "cell_type": "code",
   "execution_count": 6,
   "metadata": {
    "ExecuteTime": {
     "end_time": "2018-10-05T06:30:41.510084Z",
     "start_time": "2018-10-05T06:30:41.473987Z"
    }
   },
   "outputs": [
    {
     "name": "stdout",
     "output_type": "stream",
     "text": [
      "186\n"
     ]
    }
   ],
   "source": [
    "f=open('cppanalysis/result_potts_wtry','r')\n",
    "extracted_vals=dict()\n",
    "l=f.readline()\n",
    "l=f.readline()\n",
    "i=0\n",
    "while l:\n",
    "    i+=1\n",
    "    it=l[:-1].split(',')\n",
    "    L=int(it[1])\n",
    "    Q=int(it[2])\n",
    "    if L not in extracted_vals.keys():\n",
    "        extracted_vals.update({L:dict()})\n",
    "    if Q not in extracted_vals[L].keys():\n",
    "        extracted_vals[L].update({Q:{'T':[],'mag':[],'mag_err':[],'sp_heat':[],'sp_heat_err':[],\n",
    "                                  'sucep':[],'sucep_err':[]}})\n",
    "    extracted_vals[L][Q]['T'].append(float(it[0]))\n",
    "    extracted_vals[L][Q]['mag'].append(float(it[3]))\n",
    "    extracted_vals[L][Q]['mag_err'].append(float(it[4]))\n",
    "    extracted_vals[L][Q]['sp_heat'].append(float(it[5]))\n",
    "    extracted_vals[L][Q]['sp_heat_err'].append(float(it[6]))\n",
    "    extracted_vals[L][Q]['sucep'].append(float(it[7]))\n",
    "    extracted_vals[L][Q]['sucep_err'].append(float(it[8]))\n",
    "#     print(extracted_vals[L][Q])\n",
    "    l=f.readline()\n",
    "#     except:\n",
    "#     print(it)\n",
    "#     l=f.readline()\n",
    "f.close()\n",
    "print(i)\n"
   ]
  },
  {
   "cell_type": "code",
   "execution_count": 7,
   "metadata": {
    "ExecuteTime": {
     "end_time": "2018-10-05T06:30:43.673654Z",
     "start_time": "2018-10-05T06:30:43.135811Z"
    }
   },
   "outputs": [
    {
     "data": {
      "text/plain": [
       "<matplotlib.legend.Legend at 0x7f5cae474668>"
      ]
     },
     "execution_count": 7,
     "metadata": {},
     "output_type": "execute_result"
    },
    {
     "data": {
      "image/png": "[encoded data removed]",
      "text/plain": [
       "<matplotlib.figure.Figure at 0x7f5cae504c18>"
      ]
     },
     "metadata": {},
     "output_type": "display_data"
    }
   ],
   "source": [
    "lbl='mag'\n",
    "plt.figure(figsize=(10,10))\n",
    "for L in extracted_vals.keys():\n",
    "    for Q in extracted_vals[L].keys():\n",
    "        Y=[(k/L**2)/Q for k in extracted_vals[L][Q][lbl]]\n",
    "        Y_err=[(k/L**2)/Q for k in extracted_vals[L][Q][lbl+\"_err\"]]\n",
    "#         Y=extracted_vals[L][Q][lbl]\n",
    "#         Y_err=extracted_vals[L][Q][lbl+\"_err\"]\n",
    "        plt.errorbar(extracted_vals[L][Q]['T'],Y,Y_err,fmt='o',label=str(Q))\n",
    "        \n",
    "plt.xlabel('T')\n",
    "plt.ylabel(lbl)\n",
    "plt.title(lbl+ \" vs T\")\n",
    "plt.legend(loc=0)"
   ]
  },
  {
   "cell_type": "code",
   "execution_count": 8,
   "metadata": {
    "ExecuteTime": {
     "end_time": "2018-10-05T06:30:46.373958Z",
     "start_time": "2018-10-05T06:30:45.934974Z"
    }
   },
   "outputs": [
    {
     "data": {
      "text/plain": [
       "<matplotlib.legend.Legend at 0x7f5cae384f98>"
      ]
     },
     "execution_count": 8,
     "metadata": {},
     "output_type": "execute_result"
    },
    {
     "data": {
      "image/png": "[encoded data removed]",
      "text/plain": [
       "<matplotlib.figure.Figure at 0x7f5cae44b438>"
      ]
     },
     "metadata": {},
     "output_type": "display_data"
    }
   ],
   "source": [
    "lbl='sucep'\n",
    "plt.figure(figsize=(10,10))\n",
    "for L in extracted_vals.keys():\n",
    "    for Q in extracted_vals[L].keys():\n",
    "        if Q==2:\n",
    "            continue\n",
    "#     for Q in [2]:\n",
    "#         Y=[(k/L**2) for k in extracted_vals[L][Q][lbl]]\n",
    "#         Y_err=[(k/L**2) for k in extracted_vals[L][Q][lbl+\"_err\"]]\n",
    "        Y=extracted_vals[L][Q][lbl]\n",
    "        Y_err=extracted_vals[L][Q][lbl+\"_err\"]\n",
    "        plt.errorbar(extracted_vals[L][Q]['T'],Y,Y_err,fmt='o',label=str(Q))\n",
    "        \n",
    "plt.xlabel('T')\n",
    "plt.ylabel(lbl)\n",
    "plt.title(lbl+ \" vs T\")\n",
    "plt.legend(loc=0)"
   ]
  },
  {
   "cell_type": "code",
   "execution_count": null,
   "metadata": {
    "collapsed": true
   },
   "outputs": [],
   "source": []
  },
  {
   "cell_type": "code",
   "execution_count": null,
   "metadata": {
    "collapsed": true
   },
   "outputs": [],
   "source": []
  },
  {
   "cell_type": "code",
   "execution_count": null,
   "metadata": {
    "collapsed": true
   },
   "outputs": [],
   "source": []
  },
  {
   "cell_type": "code",
   "execution_count": null,
   "metadata": {
    "collapsed": true
   },
   "outputs": [],
   "source": []
  },
  {
   "cell_type": "code",
   "execution_count": null,
   "metadata": {
    "collapsed": true
   },
   "outputs": [],
   "source": []
  },
  {
   "cell_type": "code",
   "execution_count": null,
   "metadata": {
    "collapsed": true
   },
   "outputs": [],
   "source": []
  },
  {
   "cell_type": "code",
   "execution_count": null,
   "metadata": {
    "collapsed": true
   },
   "outputs": [],
   "source": []
  },
  {
   "cell_type": "code",
   "execution_count": null,
   "metadata": {
    "collapsed": true
   },
   "outputs": [],
   "source": []
  },
  {
   "cell_type": "code",
   "execution_count": null,
   "metadata": {
    "collapsed": true
   },
   "outputs": [],
   "source": []
  },
  {
   "cell_type": "code",
   "execution_count": null,
   "metadata": {
    "collapsed": true
   },
   "outputs": [],
   "source": []
  },
  {
   "cell_type": "code",
   "execution_count": null,
   "metadata": {
    "collapsed": true
   },
   "outputs": [],
   "source": []
  },
  {
   "cell_type": "code",
   "execution_count": null,
   "metadata": {
    "collapsed": true
   },
   "outputs": [],
   "source": []
  },
  {
   "cell_type": "code",
   "execution_count": null,
   "metadata": {
    "collapsed": true
   },
   "outputs": [],
   "source": []
  },
  {
   "cell_type": "markdown",
   "metadata": {},
   "source": [
    "## Finite Size Scaling Methord"
   ]
  },
  {
   "cell_type": "markdown",
   "metadata": {},
   "source": [
    "## Curve fitting "
   ]
  },
  {
   "cell_type": "code",
   "execution_count": 106,
   "metadata": {
    "ExecuteTime": {
     "end_time": "2018-10-04T14:44:05.165717Z",
     "start_time": "2018-10-04T14:44:05.048397Z"
    },
    "collapsed": true
   },
   "outputs": [],
   "source": [
    "f=open('cppanalysis/cfit','r')\n",
    "# f=open('DATA/critical_exps/cfit','r')\n",
    "l=f.readline()\n",
    "l=f.readline()\n",
    "xi=[]\n",
    "xi_err=[]\n",
    "xiL=[]\n",
    "xitemp=[]\n",
    "while l:\n",
    "    it=l[:-1].split(\",\")\n",
    "    xiL.append(float(it[0]))\n",
    "    xitemp.append(float(it[1]))\n",
    "    xi.append(float(it[2]))\n",
    "    xi_err.append(float(it[3]))\n",
    "    l=f.readline()\n",
    "reduced_temp=[(i-2.26)/2.26 for i in xitemp]\n",
    "\n",
    "Xi_dic=dict()\n",
    "for i,j,k,l in zip(xi,xi_err,xiL,reduced_temp):\n",
    "    if k not in Xi_dic.keys():\n",
    "        Xi_dic.update({k:{'temp':[],'sucep':[],'sucep_err':[]}})\n",
    "    Xi_dic[k]['temp'].append(l)\n",
    "    Xi_dic[k]['sucep'].append(i)    \n",
    "    Xi_dic[k]['sucep_err'].append(j)   "
   ]
  },
  {
   "cell_type": "markdown",
   "metadata": {},
   "source": [
    "    Leniarising the whole data set "
   ]
  },
  {
   "cell_type": "code",
   "execution_count": 88,
   "metadata": {
    "ExecuteTime": {
     "end_time": "2018-10-04T08:09:54.275343Z",
     "start_time": "2018-10-04T08:09:53.693131Z"
    }
   },
   "outputs": [
    {
     "data": {
      "text/plain": [
       "<matplotlib.legend.Legend at 0x7ffa6145c828>"
      ]
     },
     "execution_count": 88,
     "metadata": {},
     "output_type": "execute_result"
    },
    {
     "data": {
      "image/png": "[encoded data removed]",
      "text/plain": [
       "<matplotlib.figure.Figure at 0x7ffa61463780>"
      ]
     },
     "metadata": {},
     "output_type": "display_data"
    }
   ],
   "source": [
    "plt.figure(figsize=(10,10))\n",
    "for k in Xi_dic.keys():\n",
    "    x2=[i/k**1.75 for i in Xi_dic[k]['sucep']]\n",
    "    x2_err=[i/k**1.75 for i in Xi_dic[k]['sucep_err']]\n",
    "    x_ax=[k*i for i in Xi_dic[k]['temp']]\n",
    "    plt.errorbar(x_ax,x2,x2_err,fmt='o',label=str(k),markersize=1)\n",
    "plt.legend(loc=1)"
   ]
  },
  {
   "cell_type": "code",
   "execution_count": 90,
   "metadata": {
    "ExecuteTime": {
     "end_time": "2018-10-04T08:10:03.907268Z",
     "start_time": "2018-10-04T08:10:03.893742Z"
    },
    "collapsed": true
   },
   "outputs": [],
   "source": [
    "dimen=dict()\n",
    "for k in Xi_dic.keys():\n",
    "    dimen.update({k:[k for i in Xi_dic[k]['temp']]})\n",
    "ls=[]\n",
    "temps=[]\n",
    "xis=[]\n",
    "xis_err=[]\n",
    "for k in Xi_dic.keys():\n",
    "    if k==38:\n",
    "        continue\n",
    "    for l,m,i,j in zip(Xi_dic[k]['sucep'],Xi_dic[k]['sucep_err'],Xi_dic[k]['temp'],dimen[k]):\n",
    "        if i<-0.0:\n",
    "            continue\n",
    "        ls.append(j)\n",
    "        temps.append(i)\n",
    "        xis.append(l)\n",
    "        xis_err.append(m)"
   ]
  },
  {
   "cell_type": "markdown",
   "metadata": {},
   "source": [
    "    Ploting the whole dset"
   ]
  },
  {
   "cell_type": "code",
   "execution_count": 91,
   "metadata": {
    "ExecuteTime": {
     "end_time": "2018-10-04T08:10:06.217799Z",
     "start_time": "2018-10-04T08:10:05.875964Z"
    }
   },
   "outputs": [
    {
     "data": {
      "text/plain": [
       "<Container object of 3 artists>"
      ]
     },
     "execution_count": 91,
     "metadata": {},
     "output_type": "execute_result"
    },
    {
     "data": {
      "image/png": "[encoded data removed]",
      "text/plain": [
       "<matplotlib.figure.Figure at 0x7ffa630400b8>"
      ]
     },
     "metadata": {},
     "output_type": "display_data"
    }
   ],
   "source": [
    "plt.errorbar(temps,xis,xis_err,fmt='o')"
   ]
  },
  {
   "cell_type": "markdown",
   "metadata": {},
   "source": [
    "        FITTING FROM WHOLE DATA"
   ]
  },
  {
   "cell_type": "code",
   "execution_count": 92,
   "metadata": {
    "ExecuteTime": {
     "end_time": "2018-10-04T08:10:21.255226Z",
     "start_time": "2018-10-04T08:10:21.208735Z"
    },
    "collapsed": true
   },
   "outputs": [],
   "source": [
    "def sucepFunc0(var,gamma,neu,tc,a,b,c):\n",
    "#     tc=2.26\n",
    "    t=(var[1]-tc)/tc\n",
    "    x=t*(var[0]**(1/neu))\n",
    "    return (var[0])**(gamma/neu)*(a+b*x+c*x*x)\n",
    "\n",
    "def sucepFunc(var,gamma,neu,a,b,c):\n",
    "    tc=2.26\n",
    "    t=(var[1]-tc)/tc\n",
    "    x=t*(var[0]**(1/neu))\n",
    "    return (var[0])**(gamma/neu)*(a+b*x+c*x*x)\n",
    "\n",
    "def sucepFuncA(var,gamma,neu,tc,a,b,c):\n",
    "#     tc=2.26\n",
    "    t=(var[1]-tc)/tc\n",
    "    x=t*(var[0]**(1/neu))\n",
    "    return (var[0])**(gamma/neu)*(a+b*x+c*x*x)\n",
    "\n",
    "def sucepFuncB(var,gamma,neu,a,b,c):\n",
    "    tc=2.26\n",
    "    t=(var[1]-tc)/tc\n",
    "    x=t*(var[0]**(1/neu))\n",
    "    return (var[0])**(gamma/neu)*(a*(1-1/(1+exp(-b*x*x)))+c)\n",
    "\n",
    "def sucepFuncC(var,gamma,neu,tc,a,b,c):\n",
    "#     tc=2.26\n",
    "    t=(var[1]-tc)/tc\n",
    "    x=t*(var[0]**(1/neu))\n",
    "    return (var[0])**(gamma/neu)*(a*(1-1/(1+exp(-b*x*x)))+c)\n",
    "\n",
    "def sucepFuncD(var,gamma,neu,tc,a,b,c):\n",
    "#     tc=2.26\n",
    "    t=(var[1]-tc)/tc\n",
    "    x=t*(var[0]**(1/neu))\n",
    "    return (var[0])**(gamma/neu)*(a/(1+exp(b*x*x)))"
   ]
  },
  {
   "cell_type": "code",
   "execution_count": null,
   "metadata": {
    "collapsed": true
   },
   "outputs": [],
   "source": []
  },
  {
   "cell_type": "code",
   "execution_count": 93,
   "metadata": {
    "ExecuteTime": {
     "end_time": "2018-10-04T08:10:23.606609Z",
     "start_time": "2018-10-04T08:10:23.274397Z"
    }
   },
   "outputs": [
    {
     "ename": "RuntimeError",
     "evalue": "Optimal parameters not found: Number of calls to function has reached maxfev = 1400.",
     "output_type": "error",
     "traceback": [
      "\u001b[0;31m---------------------------------------------------------------------------\u001b[0m",
      "\u001b[0;31mRuntimeError\u001b[0m                              Traceback (most recent call last)",
      "\u001b[0;32m<ipython-input-93-f7e848fc6a61>\u001b[0m in \u001b[0;36m<module>\u001b[0;34m()\u001b[0m\n\u001b[1;32m      1\u001b[0m \u001b[0mtemps2\u001b[0m\u001b[0;34m=\u001b[0m\u001b[0;34m[\u001b[0m\u001b[0mi\u001b[0m\u001b[0;34m*\u001b[0m\u001b[0;36m2.26\u001b[0m\u001b[0;34m+\u001b[0m\u001b[0;36m2.26\u001b[0m \u001b[0;32mfor\u001b[0m \u001b[0mi\u001b[0m \u001b[0;32min\u001b[0m \u001b[0mtemps\u001b[0m\u001b[0;34m]\u001b[0m\u001b[0;34m\u001b[0m\u001b[0m\n\u001b[0;32m----> 2\u001b[0;31m \u001b[0mcf\u001b[0m\u001b[0;34m=\u001b[0m\u001b[0mcurve_fit\u001b[0m\u001b[0;34m(\u001b[0m\u001b[0msucepFuncA\u001b[0m\u001b[0;34m,\u001b[0m\u001b[0;34m[\u001b[0m\u001b[0mls\u001b[0m\u001b[0;34m,\u001b[0m\u001b[0mtemps2\u001b[0m\u001b[0;34m]\u001b[0m\u001b[0;34m,\u001b[0m\u001b[0mxis\u001b[0m\u001b[0;34m)\u001b[0m\u001b[0;34m\u001b[0m\u001b[0m\n\u001b[0m\u001b[1;32m      3\u001b[0m \u001b[0mprint\u001b[0m\u001b[0;34m(\u001b[0m\u001b[0;34m\"gamma = \"\u001b[0m\u001b[0;34m,\u001b[0m\u001b[0mcf\u001b[0m\u001b[0;34m[\u001b[0m\u001b[0;36m0\u001b[0m\u001b[0;34m]\u001b[0m\u001b[0;34m[\u001b[0m\u001b[0;36m0\u001b[0m\u001b[0;34m]\u001b[0m\u001b[0;34m,\u001b[0m\u001b[0;34m\" +/- \"\u001b[0m\u001b[0;34m,\u001b[0m\u001b[0msqrt\u001b[0m\u001b[0;34m(\u001b[0m\u001b[0mcf\u001b[0m\u001b[0;34m[\u001b[0m\u001b[0;36m1\u001b[0m\u001b[0;34m]\u001b[0m\u001b[0;34m[\u001b[0m\u001b[0;36m0\u001b[0m\u001b[0;34m]\u001b[0m\u001b[0;34m[\u001b[0m\u001b[0;36m0\u001b[0m\u001b[0;34m]\u001b[0m\u001b[0;34m)\u001b[0m\u001b[0;34m)\u001b[0m\u001b[0;34m\u001b[0m\u001b[0m\n\u001b[1;32m      4\u001b[0m \u001b[0mprint\u001b[0m\u001b[0;34m(\u001b[0m\u001b[0;34m\"neu = \"\u001b[0m\u001b[0;34m,\u001b[0m\u001b[0mcf\u001b[0m\u001b[0;34m[\u001b[0m\u001b[0;36m0\u001b[0m\u001b[0;34m]\u001b[0m\u001b[0;34m[\u001b[0m\u001b[0;36m1\u001b[0m\u001b[0;34m]\u001b[0m\u001b[0;34m,\u001b[0m\u001b[0;34m\" +/- \"\u001b[0m\u001b[0;34m,\u001b[0m\u001b[0msqrt\u001b[0m\u001b[0;34m(\u001b[0m\u001b[0mcf\u001b[0m\u001b[0;34m[\u001b[0m\u001b[0;36m1\u001b[0m\u001b[0;34m]\u001b[0m\u001b[0;34m[\u001b[0m\u001b[0;36m1\u001b[0m\u001b[0;34m]\u001b[0m\u001b[0;34m[\u001b[0m\u001b[0;36m1\u001b[0m\u001b[0;34m]\u001b[0m\u001b[0;34m)\u001b[0m\u001b[0;34m)\u001b[0m\u001b[0;34m\u001b[0m\u001b[0m\n\u001b[1;32m      5\u001b[0m \u001b[0mprint\u001b[0m\u001b[0;34m(\u001b[0m\u001b[0;34m\"tc = \"\u001b[0m\u001b[0;34m,\u001b[0m\u001b[0mcf\u001b[0m\u001b[0;34m[\u001b[0m\u001b[0;36m0\u001b[0m\u001b[0;34m]\u001b[0m\u001b[0;34m[\u001b[0m\u001b[0;36m2\u001b[0m\u001b[0;34m]\u001b[0m\u001b[0;34m,\u001b[0m\u001b[0;34m\" +/- \"\u001b[0m\u001b[0;34m,\u001b[0m\u001b[0msqrt\u001b[0m\u001b[0;34m(\u001b[0m\u001b[0mcf\u001b[0m\u001b[0;34m[\u001b[0m\u001b[0;36m1\u001b[0m\u001b[0;34m]\u001b[0m\u001b[0;34m[\u001b[0m\u001b[0;36m2\u001b[0m\u001b[0;34m]\u001b[0m\u001b[0;34m[\u001b[0m\u001b[0;36m2\u001b[0m\u001b[0;34m]\u001b[0m\u001b[0;34m)\u001b[0m\u001b[0;34m)\u001b[0m\u001b[0;34m\u001b[0m\u001b[0m\n",
      "\u001b[0;32m/home/aravind/anaconda3/lib/python3.6/site-packages/scipy/optimize/minpack.py\u001b[0m in \u001b[0;36mcurve_fit\u001b[0;34m(f, xdata, ydata, p0, sigma, absolute_sigma, check_finite, bounds, method, jac, **kwargs)\u001b[0m\n\u001b[1;32m    738\u001b[0m         \u001b[0mcost\u001b[0m \u001b[0;34m=\u001b[0m \u001b[0mnp\u001b[0m\u001b[0;34m.\u001b[0m\u001b[0msum\u001b[0m\u001b[0;34m(\u001b[0m\u001b[0minfodict\u001b[0m\u001b[0;34m[\u001b[0m\u001b[0;34m'fvec'\u001b[0m\u001b[0;34m]\u001b[0m \u001b[0;34m**\u001b[0m \u001b[0;36m2\u001b[0m\u001b[0;34m)\u001b[0m\u001b[0;34m\u001b[0m\u001b[0m\n\u001b[1;32m    739\u001b[0m         \u001b[0;32mif\u001b[0m \u001b[0mier\u001b[0m \u001b[0;32mnot\u001b[0m \u001b[0;32min\u001b[0m \u001b[0;34m[\u001b[0m\u001b[0;36m1\u001b[0m\u001b[0;34m,\u001b[0m \u001b[0;36m2\u001b[0m\u001b[0;34m,\u001b[0m \u001b[0;36m3\u001b[0m\u001b[0;34m,\u001b[0m \u001b[0;36m4\u001b[0m\u001b[0;34m]\u001b[0m\u001b[0;34m:\u001b[0m\u001b[0;34m\u001b[0m\u001b[0m\n\u001b[0;32m--> 740\u001b[0;31m             \u001b[0;32mraise\u001b[0m \u001b[0mRuntimeError\u001b[0m\u001b[0;34m(\u001b[0m\u001b[0;34m\"Optimal parameters not found: \"\u001b[0m \u001b[0;34m+\u001b[0m \u001b[0merrmsg\u001b[0m\u001b[0;34m)\u001b[0m\u001b[0;34m\u001b[0m\u001b[0m\n\u001b[0m\u001b[1;32m    741\u001b[0m     \u001b[0;32melse\u001b[0m\u001b[0;34m:\u001b[0m\u001b[0;34m\u001b[0m\u001b[0m\n\u001b[1;32m    742\u001b[0m         \u001b[0;31m# Rename maxfev (leastsq) to max_nfev (least_squares), if specified.\u001b[0m\u001b[0;34m\u001b[0m\u001b[0;34m\u001b[0m\u001b[0m\n",
      "\u001b[0;31mRuntimeError\u001b[0m: Optimal parameters not found: Number of calls to function has reached maxfev = 1400."
     ]
    }
   ],
   "source": [
    "temps2=[i*2.26+2.26 for i in temps]\n",
    "cf=curve_fit(sucepFuncA,[ls,temps2],xis)\n",
    "print(\"gamma = \",cf[0][0],\" +/- \",sqrt(cf[1][0][0]))\n",
    "print(\"neu = \",cf[0][1],\" +/- \",sqrt(cf[1][1][1]))\n",
    "print(\"tc = \",cf[0][2],\" +/- \",sqrt(cf[1][2][2]))\n",
    "for i in cf[0]:\n",
    "    print(\"{0:0.3f}\".format(i),end=\",\")\n",
    "# print(matrix(cf[1]))"
   ]
  },
  {
   "cell_type": "code",
   "execution_count": 88,
   "metadata": {
    "ExecuteTime": {
     "end_time": "2018-10-02T20:05:53.157273Z",
     "start_time": "2018-10-02T20:05:51.769072Z"
    }
   },
   "outputs": [
    {
     "name": "stderr",
     "output_type": "stream",
     "text": [
      "/home/aravind/anaconda3/lib/python3.6/site-packages/ipykernel_launcher.py:29: RuntimeWarning: overflow encountered in exp\n"
     ]
    },
    {
     "ename": "RuntimeError",
     "evalue": "Optimal parameters not found: Number of calls to function has reached maxfev = 1400.",
     "output_type": "error",
     "traceback": [
      "\u001b[0;31m---------------------------------------------------------------------------\u001b[0m",
      "\u001b[0;31mRuntimeError\u001b[0m                              Traceback (most recent call last)",
      "\u001b[0;32m<ipython-input-88-a3a861e236ca>\u001b[0m in \u001b[0;36m<module>\u001b[0;34m()\u001b[0m\n\u001b[1;32m      1\u001b[0m \u001b[0mtemps2\u001b[0m\u001b[0;34m=\u001b[0m\u001b[0;34m[\u001b[0m\u001b[0mi\u001b[0m\u001b[0;34m*\u001b[0m\u001b[0;36m2.26\u001b[0m\u001b[0;34m+\u001b[0m\u001b[0;36m2.26\u001b[0m \u001b[0;32mfor\u001b[0m \u001b[0mi\u001b[0m \u001b[0;32min\u001b[0m \u001b[0mtemps\u001b[0m\u001b[0;34m]\u001b[0m\u001b[0;34m\u001b[0m\u001b[0m\n\u001b[0;32m----> 2\u001b[0;31m \u001b[0mcf\u001b[0m\u001b[0;34m=\u001b[0m\u001b[0mcurve_fit\u001b[0m\u001b[0;34m(\u001b[0m\u001b[0msucepFuncC\u001b[0m\u001b[0;34m,\u001b[0m\u001b[0;34m[\u001b[0m\u001b[0mls\u001b[0m\u001b[0;34m,\u001b[0m\u001b[0mtemps2\u001b[0m\u001b[0;34m]\u001b[0m\u001b[0;34m,\u001b[0m\u001b[0mxis\u001b[0m\u001b[0;34m)\u001b[0m\u001b[0;34m\u001b[0m\u001b[0m\n\u001b[0m\u001b[1;32m      3\u001b[0m \u001b[0mprint\u001b[0m\u001b[0;34m(\u001b[0m\u001b[0;34m\"gamma = \"\u001b[0m\u001b[0;34m,\u001b[0m\u001b[0mcf\u001b[0m\u001b[0;34m[\u001b[0m\u001b[0;36m0\u001b[0m\u001b[0;34m]\u001b[0m\u001b[0;34m[\u001b[0m\u001b[0;36m0\u001b[0m\u001b[0;34m]\u001b[0m\u001b[0;34m,\u001b[0m\u001b[0;34m\" +/- \"\u001b[0m\u001b[0;34m,\u001b[0m\u001b[0msqrt\u001b[0m\u001b[0;34m(\u001b[0m\u001b[0mcf\u001b[0m\u001b[0;34m[\u001b[0m\u001b[0;36m1\u001b[0m\u001b[0;34m]\u001b[0m\u001b[0;34m[\u001b[0m\u001b[0;36m0\u001b[0m\u001b[0;34m]\u001b[0m\u001b[0;34m[\u001b[0m\u001b[0;36m0\u001b[0m\u001b[0;34m]\u001b[0m\u001b[0;34m)\u001b[0m\u001b[0;34m)\u001b[0m\u001b[0;34m\u001b[0m\u001b[0m\n\u001b[1;32m      4\u001b[0m \u001b[0mprint\u001b[0m\u001b[0;34m(\u001b[0m\u001b[0;34m\"neu = \"\u001b[0m\u001b[0;34m,\u001b[0m\u001b[0mcf\u001b[0m\u001b[0;34m[\u001b[0m\u001b[0;36m0\u001b[0m\u001b[0;34m]\u001b[0m\u001b[0;34m[\u001b[0m\u001b[0;36m1\u001b[0m\u001b[0;34m]\u001b[0m\u001b[0;34m,\u001b[0m\u001b[0;34m\" +/- \"\u001b[0m\u001b[0;34m,\u001b[0m\u001b[0msqrt\u001b[0m\u001b[0;34m(\u001b[0m\u001b[0mcf\u001b[0m\u001b[0;34m[\u001b[0m\u001b[0;36m1\u001b[0m\u001b[0;34m]\u001b[0m\u001b[0;34m[\u001b[0m\u001b[0;36m1\u001b[0m\u001b[0;34m]\u001b[0m\u001b[0;34m[\u001b[0m\u001b[0;36m1\u001b[0m\u001b[0;34m]\u001b[0m\u001b[0;34m)\u001b[0m\u001b[0;34m)\u001b[0m\u001b[0;34m\u001b[0m\u001b[0m\n\u001b[1;32m      5\u001b[0m \u001b[0mprint\u001b[0m\u001b[0;34m(\u001b[0m\u001b[0;34m\"tc = \"\u001b[0m\u001b[0;34m,\u001b[0m\u001b[0mcf\u001b[0m\u001b[0;34m[\u001b[0m\u001b[0;36m0\u001b[0m\u001b[0;34m]\u001b[0m\u001b[0;34m[\u001b[0m\u001b[0;36m2\u001b[0m\u001b[0;34m]\u001b[0m\u001b[0;34m,\u001b[0m\u001b[0;34m\" +/- \"\u001b[0m\u001b[0;34m,\u001b[0m\u001b[0msqrt\u001b[0m\u001b[0;34m(\u001b[0m\u001b[0mcf\u001b[0m\u001b[0;34m[\u001b[0m\u001b[0;36m1\u001b[0m\u001b[0;34m]\u001b[0m\u001b[0;34m[\u001b[0m\u001b[0;36m2\u001b[0m\u001b[0;34m]\u001b[0m\u001b[0;34m[\u001b[0m\u001b[0;36m2\u001b[0m\u001b[0;34m]\u001b[0m\u001b[0;34m)\u001b[0m\u001b[0;34m)\u001b[0m\u001b[0;34m\u001b[0m\u001b[0m\n",
      "\u001b[0;32m/home/aravind/anaconda3/lib/python3.6/site-packages/scipy/optimize/minpack.py\u001b[0m in \u001b[0;36mcurve_fit\u001b[0;34m(f, xdata, ydata, p0, sigma, absolute_sigma, check_finite, bounds, method, jac, **kwargs)\u001b[0m\n\u001b[1;32m    738\u001b[0m         \u001b[0mcost\u001b[0m \u001b[0;34m=\u001b[0m \u001b[0mnp\u001b[0m\u001b[0;34m.\u001b[0m\u001b[0msum\u001b[0m\u001b[0;34m(\u001b[0m\u001b[0minfodict\u001b[0m\u001b[0;34m[\u001b[0m\u001b[0;34m'fvec'\u001b[0m\u001b[0;34m]\u001b[0m \u001b[0;34m**\u001b[0m \u001b[0;36m2\u001b[0m\u001b[0;34m)\u001b[0m\u001b[0;34m\u001b[0m\u001b[0m\n\u001b[1;32m    739\u001b[0m         \u001b[0;32mif\u001b[0m \u001b[0mier\u001b[0m \u001b[0;32mnot\u001b[0m \u001b[0;32min\u001b[0m \u001b[0;34m[\u001b[0m\u001b[0;36m1\u001b[0m\u001b[0;34m,\u001b[0m \u001b[0;36m2\u001b[0m\u001b[0;34m,\u001b[0m \u001b[0;36m3\u001b[0m\u001b[0;34m,\u001b[0m \u001b[0;36m4\u001b[0m\u001b[0;34m]\u001b[0m\u001b[0;34m:\u001b[0m\u001b[0;34m\u001b[0m\u001b[0m\n\u001b[0;32m--> 740\u001b[0;31m             \u001b[0;32mraise\u001b[0m \u001b[0mRuntimeError\u001b[0m\u001b[0;34m(\u001b[0m\u001b[0;34m\"Optimal parameters not found: \"\u001b[0m \u001b[0;34m+\u001b[0m \u001b[0merrmsg\u001b[0m\u001b[0;34m)\u001b[0m\u001b[0;34m\u001b[0m\u001b[0m\n\u001b[0m\u001b[1;32m    741\u001b[0m     \u001b[0;32melse\u001b[0m\u001b[0;34m:\u001b[0m\u001b[0;34m\u001b[0m\u001b[0m\n\u001b[1;32m    742\u001b[0m         \u001b[0;31m# Rename maxfev (leastsq) to max_nfev (least_squares), if specified.\u001b[0m\u001b[0;34m\u001b[0m\u001b[0;34m\u001b[0m\u001b[0m\n",
      "\u001b[0;31mRuntimeError\u001b[0m: Optimal parameters not found: Number of calls to function has reached maxfev = 1400."
     ]
    }
   ],
   "source": [
    "temps2=[i*2.26+2.26 for i in temps]\n",
    "cf=curve_fit(sucepFuncC,[ls,temps2],xis)\n",
    "print(\"gamma = \",cf[0][0],\" +/- \",sqrt(cf[1][0][0]))\n",
    "print(\"neu = \",cf[0][1],\" +/- \",sqrt(cf[1][1][1]))\n",
    "print(\"tc = \",cf[0][2],\" +/- \",sqrt(cf[1][2][2]))\n",
    "for i in cf[0]:\n",
    "    print(\"{0:0.3f}\".format(i),end=\",\")\n",
    "# print(matrix(cf[1]))"
   ]
  },
  {
   "cell_type": "code",
   "execution_count": null,
   "metadata": {
    "collapsed": true
   },
   "outputs": [],
   "source": []
  },
  {
   "cell_type": "code",
   "execution_count": null,
   "metadata": {
    "collapsed": true
   },
   "outputs": [],
   "source": []
  },
  {
   "cell_type": "code",
   "execution_count": 7,
   "metadata": {
    "ExecuteTime": {
     "end_time": "2018-09-26T09:58:28.212230Z",
     "start_time": "2018-09-26T09:58:27.672874Z"
    }
   },
   "outputs": [
    {
     "data": {
      "text/plain": [
       "<matplotlib.legend.Legend at 0x7f95225439b0>"
      ]
     },
     "execution_count": 7,
     "metadata": {},
     "output_type": "execute_result"
    },
    {
     "data": {
      "image/png": "[encoded data removed]",
      "text/plain": [
       "<matplotlib.figure.Figure at 0x7f9522543978>"
      ]
     },
     "metadata": {},
     "output_type": "display_data"
    }
   ],
   "source": [
    "k=int(0.5e4)\n",
    "# plt.scatter(dat3['time'][0:k],[i/N**2 +2 for i in dat3['energy'][0:k]],label='py',s=1)\n",
    "# plt.scatter(dat2['time'][0:k],[i/N**2 for i in dat2['energy'][0:k]],label='Metro',s=1)\n",
    "plt.scatter(dat1['time'][0:k],[i/N**2 for i in dat1['energy'][0:k]],label='Wolf',s=1)\n",
    "plt.legend(loc=0)"
   ]
  },
  {
   "cell_type": "code",
   "execution_count": 159,
   "metadata": {
    "ExecuteTime": {
     "end_time": "2018-09-26T09:58:21.825561Z",
     "start_time": "2018-09-26T09:58:21.157505Z"
    }
   },
   "outputs": [
    {
     "data": {
      "text/plain": [
       "<matplotlib.legend.Legend at 0x7ffb18afea90>"
      ]
     },
     "execution_count": 159,
     "metadata": {},
     "output_type": "execute_result"
    },
    {
     "data": {
      "image/png": "[encoded data removed]",
      "text/plain": [
       "<matplotlib.figure.Figure at 0x7ffb18b6c5c0>"
      ]
     },
     "metadata": {},
     "output_type": "display_data"
    }
   ],
   "source": [
    "k=int(0.5e4)\n",
    "plt.scatter(dat3['time'][0:k],dat3['magentization'][0:k],s=1,label='py')\n",
    "plt.scatter(dat2['time'][0:k],dat2['magentization'][0:k],s=1,label='Metro')\n",
    "plt.scatter(dat1['time'][0:k],dat1['magentization'][0:k],s=1,label='Wolf')\n",
    "plt.legend(loc=0)"
   ]
  },
  {
   "cell_type": "code",
   "execution_count": 167,
   "metadata": {
    "ExecuteTime": {
     "end_time": "2018-09-26T10:08:56.055721Z",
     "start_time": "2018-09-26T10:08:56.014568Z"
    }
   },
   "outputs": [
    {
     "name": "stdout",
     "output_type": "stream",
     "text": [
      "wolf\n",
      "([34.375, 6.138313195731288], [0.41089843749999994, 0.16609362675221614], [0.2649296875, 0.078464502922318])\n",
      "metro\n",
      "([55.55, 6.933131350418544], [0.5008359374999999, 0.09412668455194373], [0.91389875, 0.22792460751973698])\n",
      "pycode\n",
      "([67.9, 9.016297611364635], [0.21752499999999994, 0.04582938564936674], [1.545595, 0.4969820767189925])\n"
     ]
    }
   ],
   "source": [
    "ml=1000\n",
    "sdata=sample_data(dat1,Max_lags=ml);\n",
    "a=analyze(3.2,25*25,sdata['energy'],sdata['magentization'])\n",
    "print(\"wolf\")\n",
    "print(a)\n",
    "sdata=sample_data(dat2,Max_lags=ml);\n",
    "a=analyze(3.2,25*25,sdata['energy'],sdata['magentization'])\n",
    "print(\"metro\")\n",
    "print(a)\n",
    "sdata=sample_data(dat3,Max_lags=ml);\n",
    "a=analyze(3.2,25*25,sdata['energy'],sdata['magentization'])\n",
    "print(\"pycode\")\n",
    "print(a)"
   ]
  },
  {
   "cell_type": "markdown",
   "metadata": {},
   "source": [
    "## Defining functions"
   ]
  },
  {
   "cell_type": "code",
   "execution_count": 165,
   "metadata": {
    "ExecuteTime": {
     "end_time": "2018-09-26T10:07:44.604175Z",
     "start_time": "2018-09-26T10:07:44.594065Z"
    },
    "code_folding": [
     0,
     3
    ],
    "collapsed": true
   },
   "outputs": [],
   "source": [
    "def variance(X):\n",
    "    return var(X)\n",
    "\n",
    "def Average(X):\n",
    "    return average(X)\n",
    "    \n",
    "    \n",
    "    \n",
    "def analyze(temparature,L,E,M):\n",
    "    mag,mag_err=jacknife(M,Average)\n",
    "    sp_heat,sp_heat_err=jacknife(E,variance)\n",
    "    sp_heat/=(temparature*temparature*L)\n",
    "    sp_heat_err/=(temparature*temparature*L)\n",
    "    sucep,sucep_err=jacknife(M,variance)\n",
    "    sucep/=(temparature*L)\n",
    "    sucep_err/=(temparature*L)\n",
    "    return [mag,mag_err],[sp_heat,sp_heat_err],[sucep,sucep_err]"
   ]
  },
  {
   "cell_type": "markdown",
   "metadata": {},
   "source": [
    "## Sampling the thermalized zone"
   ]
  },
  {
   "cell_type": "code",
   "execution_count": 169,
   "metadata": {
    "ExecuteTime": {
     "end_time": "2018-09-14T10:26:05.487502Z",
     "start_time": "2018-09-14T10:26:05.482521Z"
    },
    "collapsed": true
   },
   "outputs": [],
   "source": [
    "from imp import reload\n",
    "import ising_lib\n",
    "ising_lib=reload(ising_lib)\n",
    "from ising_lib import *"
   ]
  },
  {
   "cell_type": "code",
   "execution_count": 170,
   "metadata": {
    "ExecuteTime": {
     "end_time": "2018-09-14T10:27:36.943294Z",
     "start_time": "2018-09-14T10:26:45.602911Z"
    }
   },
   "outputs": [
    {
     "name": "stdout",
     "output_type": "stream",
     "text": [
      "N =  12  T =  1.92  tau =  4  err =  0.06830830615711093\n",
      "N =  12  T =  1.94  tau =  13  err =  0.19198851053579633\n",
      "N =  12  T =  1.96  tau =  23  err =  0.30133956702928966\n",
      "N =  12  T =  1.98  tau =  9  err =  0.15822771445658462\n",
      "N =  12  T =  2.00  tau =  8  err =  0.14422426034616964\n",
      "N =  12  T =  2.02  tau =  6  err =  0.09284242400400405\n",
      "N =  12  T =  2.04  tau =  7  err =  0.11155182153680339\n",
      "N =  12  T =  2.06  tau =  11  err =  0.1870980706767788\n",
      "N =  12  T =  2.08  tau =  9  err =  0.17315482799986642\n",
      "N =  12  T =  2.10  tau =  11  err =  0.16726867894601016\n",
      "N =  12  T =  2.12  tau =  14  err =  0.21819474176943035\n",
      "N =  12  T =  2.14  tau =  15  err =  0.246850443532347\n",
      "N =  12  T =  2.16  tau =  31  err =  0.5129810078596215\n",
      "N =  12  T =  2.18  tau =  28  err =  0.5633519518115175\n",
      "N =  12  T =  2.20  tau =  12  err =  0.22078835008788106\n",
      "N =  12  T =  2.22  tau =  16  err =  0.27394160510953497\n",
      "N =  12  T =  2.24  tau =  17  err =  0.31807986671497473\n",
      "N =  12  T =  2.26  tau =  17  err =  0.299046570540034\n",
      "N =  12  T =  2.28  tau =  19  err =  0.3816710023815416\n",
      "N =  12  T =  2.30  tau =  40  err =  0.8425588246621305\n",
      "N =  12  T =  2.32  tau =  25  err =  0.4343143562332798\n",
      "N =  12  T =  2.34  tau =  20  err =  0.41062709989637325\n",
      "N =  12  T =  2.36  tau =  24  err =  0.505420973566436\n",
      "N =  12  T =  2.38  tau =  21  err =  0.4248675452966107\n",
      "N =  12  T =  2.40  tau =  18  err =  0.3227248536638586\n",
      "N =  12  T =  2.42  tau =  32  err =  0.6245404896927514\n",
      "N =  12  T =  2.44  tau =  18  err =  0.3394462375322296\n",
      "N =  12  T =  2.46  tau =  19  err =  0.3482900553478549\n",
      "N =  12  T =  2.48  tau =  19  err =  0.32749156275350666\n",
      "N =  12  T =  2.50  tau =  14  err =  0.24151269074804588\n",
      "N =  12  T =  2.52  tau =  16  err =  0.28506530009748005\n",
      "N =  12  T =  2.54  tau =  16  err =  0.308328799776994\n",
      "N =  12  T =  2.56  tau =  19  err =  0.3418421378820228\n",
      "N =  12  T =  2.58  tau =  17  err =  0.302463946525517\n",
      "N =  12  T =  2.60  tau =  13  err =  0.2209839164713817\n",
      "N =  12  T =  2.62  tau =  14  err =  0.27084665932549246\n",
      "N =  12  T =  2.64  tau =  13  err =  0.22445502124477615\n",
      "N =  12  T =  2.66  tau =  12  err =  0.2338412750350963\n",
      "N =  12  T =  2.68  tau =  13  err =  0.226852414925947\n",
      "N =  12  T =  2.70  tau =  14  err =  0.26295130613969864\n",
      "N =  12  T =  2.72  tau =  10  err =  0.18300125146477575\n",
      "N =  12  T =  2.74  tau =  10  err =  0.16860942223589914\n",
      "N =  12  T =  2.76  tau =  11  err =  0.22050458554309577\n",
      "N =  12  T =  2.78  tau =  9  err =  0.16505680436531775\n",
      "N =  12  T =  2.80  tau =  8  err =  0.13920796793671936\n",
      "N =  12  T =  2.82  tau =  9  err =  0.14769242108361605\n",
      "N =  12  T =  2.84  tau =  8  err =  0.14083116791646275\n",
      "N =  12  T =  2.86  tau =  8  err =  0.1390677652284671\n",
      "N =  12  T =  2.88  tau =  7  err =  0.127377879241954\n",
      "N =  12  T =  2.90  tau =  7  err =  0.12161282342359779\n",
      "N =  12  T =  2.92  tau =  6  err =  0.11152541186822075\n",
      "N =  12  T =  2.94  tau =  7  err =  0.13750796190295134\n",
      "N =  12  T =  2.96  tau =  6  err =  0.1037522599155665\n",
      "N =  12  T =  2.98  tau =  6  err =  0.10301019982286708\n",
      "N =  12  T =  3.00  tau =  6  err =  0.09478171020772162\n",
      "N =  12  T =  3.02  tau =  6  err =  0.10394493120182177\n",
      "N =  12  T =  3.04  tau =  5  err =  0.08991699402692196\n",
      "N =  12  T =  3.06  tau =  4  err =  0.07213242138886722\n",
      "N =  12  T =  3.08  tau =  5  err =  0.09333236747655003\n",
      "N =  12  T =  3.10  tau =  5  err =  0.08895804689145348\n",
      "N =  18  T =  1.92  tau =  4  err =  0.06820791317752438\n",
      "N =  18  T =  1.94  tau =  5  err =  0.07955353473486569\n",
      "N =  18  T =  1.96  tau =  5  err =  0.07743344135417857\n",
      "N =  18  T =  1.98  tau =  7  err =  0.1213807529590359\n",
      "N =  18  T =  2.00  tau =  7  err =  0.11905815292972786\n",
      "N =  18  T =  2.02  tau =  8  err =  0.12569293357004938\n",
      "N =  18  T =  2.04  tau =  7  err =  0.11275666093509212\n",
      "N =  18  T =  2.06  tau =  10  err =  0.18368246824128567\n",
      "N =  18  T =  2.08  tau =  64  err =  0.6030280096928476\n",
      "N =  18  T =  2.10  tau =  11  err =  0.2066346508021694\n",
      "N =  18  T =  2.20  tau =  50  err =  0.8875100135103696\n",
      "N =  18  T =  2.40  tau =  47  err =  0.8159047322260636\n",
      "N =  18  T =  2.60  tau =  24  err =  0.4183426978851481\n",
      "N =  18  T =  2.80  tau =  13  err =  0.2218225945928464\n",
      "N =  18  T =  3.00  tau =  5  err =  0.08773211937797085\n",
      "N =  23  T =  1.92  tau =  4  err =  0.07183747538000237\n",
      "N =  23  T =  1.94  tau =  5  err =  0.09274560711721823\n",
      "N =  23  T =  1.96  tau =  7  err =  0.1231693978020694\n",
      "N =  23  T =  1.98  tau =  6  err =  0.09793494721259913\n",
      "N =  23  T =  2.00  tau =  5  err =  0.08380397260007962\n",
      "N =  23  T =  2.02  tau =  10  err =  0.15758823120859947\n",
      "N =  23  T =  2.04  tau =  10  err =  0.1775607919224054\n",
      "N =  23  T =  2.06  tau =  9  err =  0.1510444339306548\n",
      "N =  23  T =  2.08  tau =  18  err =  0.3075060757866913\n",
      "N =  23  T =  2.10  tau =  20  err =  0.3096841596999414\n",
      "N =  23  T =  2.12  tau =  15  err =  0.30917819830469734\n",
      "N =  23  T =  2.14  tau =  12  err =  0.2006215759776532\n",
      "N =  23  T =  2.16  tau =  53  err =  0.922341770326361\n",
      "N =  23  T =  2.18  tau =  19  err =  0.3581002133044762\n",
      "N =  23  T =  2.20  tau =  57  err =  0.899203395556194\n",
      "N =  23  T =  2.22  tau =  63  err =  0.9793843310926339\n",
      "N =  23  T =  2.24  tau =  111  err =  1.8653349837073885\n",
      "N =  23  T =  2.26  tau =  46  err =  0.8094648857571338\n",
      "N =  23  T =  2.28  tau =  69  err =  1.1554380815089276\n",
      "N =  23  T =  2.30  tau =  82  err =  1.3876023732768543\n",
      "N =  23  T =  2.32  tau =  69  err =  1.2694373703391642\n",
      "N =  23  T =  2.34  tau =  50  err =  1.1086404920332433\n",
      "N =  23  T =  2.36  tau =  53  err =  0.9967591244822593\n",
      "N =  23  T =  2.38  tau =  71  err =  1.1523130933144248\n",
      "N =  23  T =  2.40  tau =  61  err =  1.1022603419376655\n",
      "N =  23  T =  2.42  tau =  66  err =  1.2415577492586143\n",
      "N =  23  T =  2.44  tau =  53  err =  0.974925670976595\n",
      "N =  23  T =  2.46  tau =  47  err =  0.8901580670192897\n",
      "N =  23  T =  2.48  tau =  36  err =  0.599743207467182\n",
      "N =  23  T =  2.50  tau =  43  err =  0.9284070651133489\n",
      "N =  23  T =  2.52  tau =  29  err =  0.5785331088206109\n",
      "N =  23  T =  2.54  tau =  26  err =  0.4639936150421549\n",
      "N =  23  T =  2.56  tau =  31  err =  0.5828159200964557\n",
      "N =  23  T =  2.58  tau =  26  err =  0.4386453530024458\n",
      "N =  23  T =  2.60  tau =  25  err =  0.48404434041926536\n",
      "N =  23  T =  2.62  tau =  23  err =  0.3978610520194503\n",
      "N =  23  T =  2.64  tau =  18  err =  0.3306888761528668\n",
      "N =  23  T =  2.66  tau =  13  err =  0.26069361245327094\n",
      "N =  23  T =  2.68  tau =  17  err =  0.3224035967975178\n",
      "N =  23  T =  2.70  tau =  13  err =  0.21377624112843777\n",
      "N =  23  T =  2.72  tau =  12  err =  0.21230313986987734\n",
      "N =  23  T =  2.74  tau =  12  err =  0.20913180076971488\n",
      "N =  23  T =  2.76  tau =  11  err =  0.21999951384814834\n",
      "N =  23  T =  2.78  tau =  12  err =  0.21767629178674544\n",
      "N =  23  T =  2.80  tau =  11  err =  0.19628159109349796\n",
      "N =  23  T =  2.82  tau =  8  err =  0.13088325664415495\n",
      "N =  23  T =  2.84  tau =  10  err =  0.19317816367390858\n",
      "N =  23  T =  2.86  tau =  8  err =  0.1488414980002511\n",
      "N =  23  T =  2.88  tau =  7  err =  0.13135257187500343\n",
      "N =  23  T =  2.90  tau =  10  err =  0.17009163836259938\n",
      "N =  23  T =  2.92  tau =  7  err =  0.1134306560307049\n",
      "N =  23  T =  2.94  tau =  7  err =  0.13472094047640032\n",
      "N =  23  T =  2.96  tau =  6  err =  0.09862901910639706\n",
      "N =  23  T =  2.98  tau =  7  err =  0.1211501527320428\n",
      "N =  23  T =  3.00  tau =  7  err =  0.11553406915817842\n",
      "N =  23  T =  3.02  tau =  5  err =  0.08957320317693544\n",
      "N =  23  T =  3.04  tau =  5  err =  0.0830692843837166\n",
      "N =  23  T =  3.06  tau =  6  err =  0.11011729525230153\n",
      "N =  23  T =  3.08  tau =  4  err =  0.06617393617686794\n",
      "N =  23  T =  3.10  tau =  5  err =  0.07851649183620121\n",
      "N =  29  T =  1.92  tau =  5  err =  0.08330175720958514\n",
      "N =  29  T =  1.94  tau =  5  err =  0.078292290288855\n",
      "N =  29  T =  1.96  tau =  7  err =  0.11903117608000707\n",
      "N =  29  T =  1.98  tau =  9  err =  0.166184319842084\n",
      "N =  29  T =  2.00  tau =  5  err =  0.08454465026369616\n",
      "N =  29  T =  2.02  tau =  14  err =  0.20894955932543133\n",
      "N =  29  T =  2.04  tau =  8  err =  0.14836192114473792\n",
      "N =  29  T =  2.06  tau =  10  err =  0.18361850012034361\n",
      "N =  29  T =  2.08  tau =  19  err =  0.33276519371792584\n",
      "N =  29  T =  2.10  tau =  40  err =  0.6879493191858658\n",
      "N =  29  T =  2.12  tau =  73  err =  0.813932074156425\n",
      "N =  29  T =  2.14  tau =  20  err =  0.37293371118138907\n",
      "N =  29  T =  2.16  tau =  19  err =  0.3274188057974461\n",
      "N =  29  T =  2.18  tau =  36  err =  0.6893843222732757\n",
      "N =  29  T =  2.20  tau =  209  err =  1.4125257876357704\n",
      "N =  29  T =  2.22  tau =  77  err =  1.202318483721153\n",
      "N =  29  T =  2.24  tau =  51  err =  1.245635336739658\n",
      "N =  29  T =  2.26  tau =  267  err =  3.418689943575218\n",
      "N =  29  T =  2.28  tau =  105  err =  1.8603919261555646\n",
      "N =  29  T =  2.30  tau =  198  err =  3.6668676511002123\n",
      "N =  29  T =  2.32  tau =  161  err =  2.6002377525415614\n",
      "N =  29  T =  2.34  tau =  103  err =  1.7557283207886565\n",
      "N =  29  T =  2.36  tau =  102  err =  2.0199155412780616\n",
      "N =  29  T =  2.38  tau =  99  err =  1.904887398180943\n",
      "N =  29  T =  2.40  tau =  85  err =  1.3302601816842614\n",
      "N =  29  T =  2.42  tau =  83  err =  1.8740951926631044\n",
      "N =  29  T =  2.44  tau =  65  err =  1.1099686664990827\n",
      "N =  29  T =  2.46  tau =  56  err =  1.2309889169639754\n",
      "N =  29  T =  2.48  tau =  63  err =  1.2664226455932799\n",
      "N =  29  T =  2.50  tau =  40  err =  0.7712080719110659\n",
      "N =  29  T =  2.52  tau =  31  err =  0.5511216889845929\n",
      "N =  29  T =  2.54  tau =  35  err =  0.7140317931455511\n",
      "N =  29  T =  2.56  tau =  36  err =  0.658568708343908\n",
      "N =  29  T =  2.58  tau =  25  err =  0.4369390568147149\n",
      "N =  29  T =  2.60  tau =  20  err =  0.3408793304951829\n",
      "N =  29  T =  2.62  tau =  31  err =  0.5621980071860054\n",
      "N =  29  T =  2.64  tau =  18  err =  0.31793977872867474\n",
      "N =  29  T =  2.66  tau =  20  err =  0.3601303105223517\n",
      "N =  29  T =  2.68  tau =  18  err =  0.30085624343639505\n",
      "N =  29  T =  2.70  tau =  22  err =  0.37973849591426534\n",
      "N =  29  T =  2.72  tau =  12  err =  0.21922977778437494\n",
      "N =  29  T =  2.74  tau =  11  err =  0.19862485866295765\n",
      "N =  29  T =  2.76  tau =  18  err =  0.372133583481361\n",
      "N =  29  T =  2.78  tau =  10  err =  0.17743045363321294\n",
      "N =  29  T =  2.80  tau =  10  err =  0.17511126034809557\n",
      "N =  15  T =  1.92  tau =  6  err =  0.08995683915144788\n",
      "N =  15  T =  1.94  tau =  10  err =  0.15532553382946948\n",
      "N =  15  T =  1.96  tau =  6  err =  0.10505926546607501\n",
      "N =  15  T =  1.98  tau =  5  err =  0.0870221783786905\n",
      "N =  15  T =  2.00  tau =  5  err =  0.07641386334683202\n",
      "N =  15  T =  2.02  tau =  7  err =  0.12853480102874473\n",
      "N =  15  T =  2.04  tau =  7  err =  0.1250459464168608\n",
      "N =  15  T =  2.06  tau =  9  err =  0.1636645253540355\n",
      "N =  15  T =  2.08  tau =  8  err =  0.14065262056426758\n",
      "N =  15  T =  2.10  tau =  20  err =  0.3241702590857567\n",
      "N =  15  T =  2.12  tau =  7  err =  0.12746869379727083\n",
      "N =  15  T =  2.14  tau =  31  err =  0.5369026684517211\n",
      "N =  15  T =  2.16  tau =  20  err =  0.32262115441899536\n",
      "N =  15  T =  2.18  tau =  22  err =  0.41552245039428626\n",
      "N =  15  T =  2.20  tau =  15  err =  0.27331437862490215\n",
      "N =  15  T =  2.22  tau =  24  err =  0.3974235402516831\n",
      "N =  15  T =  2.24  tau =  25  err =  0.4990963248688057\n",
      "N =  15  T =  2.26  tau =  37  err =  0.74364381778275\n",
      "N =  15  T =  2.28  tau =  68  err =  1.6124964311118357\n",
      "N =  15  T =  2.30  tau =  27  err =  0.5044742545892076\n",
      "N =  15  T =  2.32  tau =  36  err =  0.7716697437279566\n",
      "N =  15  T =  2.34  tau =  25  err =  0.47286301026858596\n",
      "N =  15  T =  2.36  tau =  29  err =  0.5240156493557538\n",
      "N =  15  T =  2.38  tau =  30  err =  0.527644645644006\n",
      "N =  15  T =  2.40  tau =  29  err =  0.50967198050337\n",
      "N =  15  T =  2.42  tau =  32  err =  0.6119687258839901\n",
      "N =  15  T =  2.44  tau =  37  err =  0.6071416673010441\n",
      "N =  15  T =  2.46  tau =  24  err =  0.4675935389580455\n",
      "N =  15  T =  2.48  tau =  20  err =  0.3942918040173425\n",
      "N =  15  T =  2.50  tau =  25  err =  0.48233538227410727\n",
      "N =  15  T =  2.52  tau =  22  err =  0.38011007898328175\n",
      "N =  15  T =  2.54  tau =  20  err =  0.39404180582250636\n",
      "N =  15  T =  2.56  tau =  23  err =  0.3411041400489424\n",
      "N =  15  T =  2.58  tau =  18  err =  0.34875135935331314\n",
      "N =  15  T =  2.60  tau =  19  err =  0.3224239098300892\n",
      "N =  15  T =  2.62  tau =  16  err =  0.2985106557794163\n",
      "N =  15  T =  2.64  tau =  16  err =  0.2988350979070331\n",
      "N =  15  T =  2.66  tau =  16  err =  0.30273897373233416\n",
      "N =  15  T =  2.68  tau =  14  err =  0.2581022042945036\n",
      "N =  15  T =  2.70  tau =  15  err =  0.3067068211110492\n",
      "N =  15  T =  2.72  tau =  10  err =  0.2093276661383427\n",
      "N =  15  T =  2.74  tau =  12  err =  0.21144319961715294\n",
      "N =  15  T =  2.76  tau =  10  err =  0.16961278488160972\n",
      "N =  15  T =  2.78  tau =  9  err =  0.14828388206151683\n",
      "N =  15  T =  2.80  tau =  9  err =  0.16066090095018085\n",
      "N =  15  T =  2.82  tau =  9  err =  0.15315030018125006\n",
      "N =  15  T =  2.84  tau =  6  err =  0.11648423324975053\n",
      "N =  15  T =  2.86  tau =  7  err =  0.11958240118710452\n",
      "N =  15  T =  2.88  tau =  8  err =  0.13052982449783607\n",
      "N =  15  T =  2.90  tau =  8  err =  0.1277277156185632\n",
      "N =  15  T =  2.92  tau =  6  err =  0.1036402819295362\n",
      "N =  15  T =  2.94  tau =  7  err =  0.12716900878426998\n",
      "N =  15  T =  2.96  tau =  7  err =  0.12353366744596538\n",
      "N =  15  T =  2.98  tau =  6  err =  0.0985649703867981\n",
      "N =  15  T =  3.00  tau =  7  err =  0.1187930797882525\n",
      "N =  15  T =  3.02  tau =  6  err =  0.10279990924401473\n",
      "N =  15  T =  3.04  tau =  6  err =  0.09706747739413832\n",
      "N =  15  T =  3.06  tau =  5  err =  0.08443518698016106\n",
      "N =  15  T =  3.08  tau =  5  err =  0.08715520501924692\n",
      "N =  15  T =  3.10  tau =  5  err =  0.07886685066381047\n",
      "N =  20  T =  1.92  tau =  4  err =  0.06358869298266517\n",
      "N =  20  T =  1.94  tau =  9  err =  0.13660061672031193\n",
      "N =  20  T =  1.96  tau =  7  err =  0.12330270031264451\n",
      "N =  20  T =  1.98  tau =  5  err =  0.08931560303740642\n",
      "N =  20  T =  2.00  tau =  18  err =  0.2960034114738576\n",
      "N =  20  T =  2.02  tau =  50  err =  0.38984500568540026\n",
      "N =  20  T =  2.04  tau =  8  err =  0.14534310231982536\n",
      "N =  20  T =  2.06  tau =  8  err =  0.13276772601971193\n",
      "N =  20  T =  2.08  tau =  13  err =  0.22273015029790796\n",
      "N =  20  T =  2.10  tau =  58  err =  0.7496713135387912\n",
      "N =  20  T =  2.12  tau =  12  err =  0.2227616022519036\n",
      "N =  20  T =  2.14  tau =  18  err =  0.3660814851232398\n",
      "N =  20  T =  2.16  tau =  71  err =  0.9729295634088054\n",
      "N =  20  T =  2.18  tau =  76  err =  1.1420132761492228\n",
      "N =  20  T =  2.20  tau =  20  err =  0.4125963466808941\n",
      "N =  20  T =  2.22  tau =  56  err =  1.0142963128911398\n",
      "N =  20  T =  2.24  tau =  45  err =  0.8012819644615394\n",
      "N =  20  T =  2.26  tau =  58  err =  1.0502648929796112\n",
      "N =  20  T =  2.28  tau =  121  err =  1.782250127966142\n",
      "N =  20  T =  2.30  tau =  63  err =  1.1598572937000202\n",
      "N =  20  T =  2.32  tau =  36  err =  0.6568408494204335\n",
      "N =  20  T =  2.34  tau =  60  err =  1.0396901939674341\n",
      "N =  20  T =  2.36  tau =  52  err =  1.1403405035329368\n",
      "N =  20  T =  2.38  tau =  49  err =  0.7917743229972741\n",
      "N =  20  T =  2.40  tau =  39  err =  0.6301111165272825\n",
      "N =  20  T =  2.42  tau =  55  err =  1.0468493323789578\n",
      "N =  20  T =  2.44  tau =  63  err =  1.2870478886512062\n",
      "N =  20  T =  2.46  tau =  46  err =  0.7150863776192334\n",
      "N =  20  T =  2.48  tau =  33  err =  0.7499969304016063\n",
      "N =  20  T =  2.50  tau =  43  err =  0.7188758444629455\n",
      "N =  20  T =  2.52  tau =  38  err =  0.6662047697647508\n",
      "N =  20  T =  2.54  tau =  25  err =  0.5200002330755593\n",
      "N =  20  T =  2.56  tau =  33  err =  0.652304898071265\n",
      "N =  20  T =  2.58  tau =  22  err =  0.4574335510002254\n",
      "N =  20  T =  2.60  tau =  24  err =  0.5445893425483908\n",
      "N =  20  T =  2.62  tau =  24  err =  0.47596474467742717\n",
      "N =  20  T =  2.64  tau =  17  err =  0.28680842045776167\n",
      "N =  20  T =  2.66  tau =  16  err =  0.2790090849949351\n",
      "N =  20  T =  2.68  tau =  12  err =  0.22001473115549364\n",
      "N =  20  T =  2.70  tau =  12  err =  0.2095914380624061\n",
      "N =  20  T =  2.72  tau =  14  err =  0.2472847009256292\n",
      "N =  20  T =  2.74  tau =  12  err =  0.21811205276013132\n",
      "N =  20  T =  2.76  tau =  13  err =  0.23222518220628197\n",
      "N =  20  T =  2.78  tau =  11  err =  0.20276894443080418\n",
      "N =  20  T =  2.80  tau =  10  err =  0.17172331678675243\n",
      "N =  20  T =  2.82  tau =  8  err =  0.15146698518652363\n",
      "N =  20  T =  2.84  tau =  9  err =  0.1761917984961318\n",
      "N =  20  T =  2.86  tau =  9  err =  0.16550953999839915\n",
      "N =  20  T =  2.88  tau =  9  err =  0.154014412494393\n",
      "N =  20  T =  2.90  tau =  8  err =  0.13768310745558826\n",
      "N =  20  T =  2.92  tau =  8  err =  0.13201042117354947\n",
      "N =  20  T =  2.94  tau =  7  err =  0.12036826611294416\n",
      "N =  20  T =  2.96  tau =  8  err =  0.13661598325943097\n",
      "N =  20  T =  2.98  tau =  7  err =  0.11527271876150334\n",
      "N =  20  T =  3.00  tau =  6  err =  0.09616928110035328\n",
      "N =  20  T =  3.02  tau =  6  err =  0.11308733932234788\n",
      "N =  20  T =  3.04  tau =  5  err =  0.08379964465678005\n",
      "N =  20  T =  3.06  tau =  6  err =  0.09859909335646991\n",
      "N =  20  T =  3.08  tau =  6  err =  0.10059752356704739\n",
      "N =  20  T =  3.10  tau =  5  err =  0.08491343277288682\n",
      "N =  26  T =  1.92  tau =  5  err =  0.0709460960222349\n",
      "N =  26  T =  1.94  tau =  6  err =  0.10453609174745387\n",
      "N =  26  T =  1.96  tau =  7  err =  0.11784222268064155\n",
      "N =  26  T =  1.98  tau =  5  err =  0.08606407250661124\n",
      "N =  26  T =  2.00  tau =  8  err =  0.15386341151980845\n",
      "N =  26  T =  2.02  tau =  8  err =  0.15169676250010036\n",
      "N =  26  T =  2.04  tau =  24  err =  0.42818071031677496\n",
      "N =  26  T =  2.06  tau =  22  err =  0.36974969554367093\n",
      "N =  26  T =  2.08  tau =  91  err =  0.7568625866001945\n",
      "N =  26  T =  2.10  tau =  72  err =  0.8795546773484958\n",
      "N =  26  T =  2.12  tau =  14  err =  0.2606841679744038\n",
      "N =  26  T =  2.14  tau =  22  err =  0.4069460137530858\n",
      "N =  26  T =  2.16  tau =  32  err =  0.5475688667834246\n",
      "N =  26  T =  2.18  tau =  79  err =  1.0035434535743435\n",
      "N =  26  T =  2.20  tau =  100  err =  1.2883044946494338\n",
      "N =  26  T =  2.22  tau =  32  err =  0.5312449906527958\n",
      "N =  26  T =  2.24  tau =  60  err =  1.0950792593223284\n",
      "N =  26  T =  2.26  tau =  65  err =  1.328325506688524\n",
      "N =  26  T =  2.28  tau =  91  err =  1.9896526447545861\n",
      "N =  26  T =  2.30  tau =  110  err =  1.6592334650778415\n",
      "N =  26  T =  2.32  tau =  54  err =  0.964112767867385\n",
      "N =  26  T =  2.34  tau =  71  err =  1.138921854981946\n",
      "N =  26  T =  2.36  tau =  82  err =  1.4061391450205172\n",
      "N =  26  T =  2.38  tau =  115  err =  2.010093578528624\n",
      "N =  26  T =  2.40  tau =  53  err =  1.110694334768751\n",
      "N =  26  T =  2.42  tau =  66  err =  1.5206349907554693\n",
      "N =  26  T =  2.44  tau =  58  err =  1.0919916721997764\n",
      "N =  26  T =  2.46  tau =  60  err =  1.257303383099217\n",
      "N =  26  T =  2.48  tau =  33  err =  0.5912489976963258\n",
      "N =  26  T =  2.50  tau =  35  err =  0.610078343378197\n",
      "N =  26  T =  2.52  tau =  42  err =  0.6411698375145249\n",
      "N =  26  T =  2.54  tau =  30  err =  0.5526631827013244\n",
      "N =  26  T =  2.56  tau =  27  err =  0.5105516885490536\n",
      "N =  26  T =  2.58  tau =  25  err =  0.45027923954651344\n",
      "N =  26  T =  2.60  tau =  23  err =  0.4390540528098188\n",
      "N =  26  T =  2.62  tau =  18  err =  0.35288876782027084\n",
      "N =  26  T =  2.64  tau =  27  err =  0.4733142958709774\n",
      "N =  26  T =  2.66  tau =  17  err =  0.2923983351133443\n",
      "N =  26  T =  2.68  tau =  15  err =  0.30680227103292024\n",
      "N =  26  T =  2.70  tau =  17  err =  0.31075042634937\n",
      "N =  26  T =  2.72  tau =  18  err =  0.3571259119489875\n",
      "N =  26  T =  2.74  tau =  13  err =  0.22585361155190548\n",
      "N =  26  T =  2.76  tau =  15  err =  0.27843963234381225\n",
      "N =  26  T =  2.78  tau =  10  err =  0.18567840718311543\n",
      "N =  26  T =  2.80  tau =  9  err =  0.15724623630163118\n",
      "N =  26  T =  2.82  tau =  9  err =  0.1683217572010406\n",
      "N =  26  T =  2.84  tau =  9  err =  0.16286757079695696\n",
      "N =  26  T =  2.86  tau =  9  err =  0.17748987085695378\n",
      "N =  26  T =  2.88  tau =  9  err =  0.145973913750245\n",
      "N =  26  T =  2.90  tau =  8  err =  0.1425498535383652\n",
      "N =  26  T =  2.92  tau =  9  err =  0.1457522455895316\n",
      "N =  26  T =  2.94  tau =  7  err =  0.12678441866898474\n",
      "N =  26  T =  2.96  tau =  7  err =  0.11906600904985519\n",
      "N =  26  T =  2.98  tau =  7  err =  0.12045108181083788\n",
      "N =  26  T =  3.00  tau =  8  err =  0.13573415820387183\n",
      "N =  26  T =  3.02  tau =  6  err =  0.10808725297717091\n",
      "N =  26  T =  3.04  tau =  6  err =  0.10351825605825757\n",
      "N =  26  T =  3.06  tau =  6  err =  0.1088452095597535\n",
      "N =  26  T =  3.08  tau =  6  err =  0.09199841747895998\n",
      "N =  26  T =  3.10  tau =  5  err =  0.0772289026513436\n",
      "N =  32  T =  1.92  tau =  6  err =  0.09449129588493954\n",
      "N =  32  T =  1.94  tau =  6  err =  0.10522232688226626\n",
      "N =  32  T =  1.96  tau =  5  err =  0.08869662370199155\n",
      "N =  32  T =  1.98  tau =  7  err =  0.10879619071332643\n",
      "N =  32  T =  2.00  tau =  12  err =  0.21507787259200262\n",
      "N =  32  T =  2.02  tau =  7  err =  0.11205701650111788\n",
      "N =  32  T =  2.04  tau =  25  err =  0.40714715806797347\n",
      "N =  32  T =  2.06  tau =  10  err =  0.18646180494767106\n",
      "N =  32  T =  2.08  tau =  15  err =  0.2661262302464871\n",
      "N =  32  T =  2.10  tau =  25  err =  0.4559035919480584\n",
      "N =  32  T =  2.12  tau =  27  err =  0.45585213354235476\n",
      "N =  32  T =  2.14  tau =  76  err =  1.0912961208066432\n",
      "N =  32  T =  2.16  tau =  43  err =  0.6588380977271981\n",
      "N =  32  T =  2.18  tau =  82  err =  0.8425580584322218\n",
      "N =  32  T =  2.20  tau =  21  err =  0.3857490447950504\n",
      "N =  32  T =  2.22  tau =  51  err =  0.9603769815141041\n",
      "N =  32  T =  2.24  tau =  144  err =  2.36775334077539\n",
      "N =  32  T =  2.26  tau =  94  err =  1.5465489137177026\n",
      "N =  32  T =  2.28  tau =  122  err =  1.7638651506863237\n",
      "N =  32  T =  2.30  tau =  194  err =  4.448052263811044\n",
      "N =  32  T =  2.32  tau =  114  err =  2.3665218766147866\n",
      "N =  32  T =  2.34  tau =  194  err =  3.2205873991220018\n",
      "N =  32  T =  2.36  tau =  231  err =  3.1494257999114454\n",
      "N =  32  T =  2.38  tau =  136  err =  2.970517726737639\n",
      "N =  32  T =  2.40  tau =  185  err =  3.7567781532429136\n",
      "N =  32  T =  2.42  tau =  67  err =  1.429354427899066\n",
      "N =  32  T =  2.44  tau =  61  err =  0.9455662724117962\n",
      "N =  32  T =  2.46  tau =  33  err =  0.6967138646628519\n",
      "N =  32  T =  2.48  tau =  37  err =  0.7132934433399841\n",
      "N =  32  T =  2.50  tau =  63  err =  1.2696808761706673\n",
      "N =  32  T =  2.52  tau =  37  err =  0.6996579625762188\n",
      "N =  32  T =  2.54  tau =  35  err =  0.6422194462381183\n",
      "N =  32  T =  2.56  tau =  31  err =  0.5948533102314945\n",
      "N =  32  T =  2.58  tau =  22  err =  0.3677443529590242\n",
      "N =  32  T =  2.60  tau =  17  err =  0.351077950721383\n",
      "N =  32  T =  2.62  tau =  27  err =  0.443902242539101\n",
      "N =  32  T =  2.64  tau =  21  err =  0.43380591794513856\n",
      "N =  32  T =  2.66  tau =  19  err =  0.3502174906894901\n",
      "N =  32  T =  2.68  tau =  15  err =  0.2842881779126097\n",
      "N =  32  T =  2.70  tau =  16  err =  0.2734068741975794\n",
      "N =  32  T =  2.72  tau =  15  err =  0.2647279654818663\n",
      "N =  32  T =  2.74  tau =  13  err =  0.25605169169016134\n",
      "N =  32  T =  2.76  tau =  12  err =  0.2177612152373948\n",
      "N =  32  T =  2.78  tau =  11  err =  0.1947585040479185\n",
      "N =  32  T =  2.80  tau =  10  err =  0.17648731609089\n",
      "N =  32  T =  2.82  tau =  11  err =  0.19681732645102806\n",
      "N =  32  T =  2.84  tau =  8  err =  0.1506083891537392\n",
      "N =  32  T =  2.86  tau =  11  err =  0.2211227601550659\n",
      "N =  32  T =  2.88  tau =  8  err =  0.13768011435442032\n",
      "N =  32  T =  2.90  tau =  8  err =  0.13515891645416642\n",
      "N =  32  T =  2.92  tau =  6  err =  0.10313919592724732\n",
      "N =  32  T =  2.94  tau =  10  err =  0.1800201509445689\n",
      "N =  32  T =  2.96  tau =  6  err =  0.10817017812748471\n",
      "N =  32  T =  2.98  tau =  6  err =  0.11212521972073264\n",
      "N =  32  T =  3.00  tau =  7  err =  0.1361163985657905\n",
      "N =  32  T =  3.02  tau =  7  err =  0.11445440095116051\n",
      "N =  32  T =  3.04  tau =  7  err =  0.10843852479879214\n",
      "N =  32  T =  3.06  tau =  6  err =  0.10331262786418222\n",
      "N =  32  T =  3.08  tau =  5  err =  0.08585225714079994\n",
      "N =  32  T =  3.10  tau =  5  err =  0.08800064531570224\n",
      "N =  38  T =  1.92  tau =  5  err =  0.09008235461016292\n",
      "N =  38  T =  1.94  tau =  6  err =  0.1025975265064012\n",
      "N =  38  T =  1.96  tau =  7  err =  0.11632440744593932\n",
      "N =  38  T =  1.98  tau =  8  err =  0.1340772712606893\n",
      "N =  38  T =  2.00  tau =  12  err =  0.22432483513154788\n",
      "N =  38  T =  2.02  tau =  8  err =  0.1430372332019497\n",
      "N =  38  T =  2.04  tau =  8  err =  0.1379246535585964\n",
      "N =  38  T =  2.06  tau =  13  err =  0.23368865727563778\n",
      "N =  38  T =  2.08  tau =  12  err =  0.2100041258938186\n",
      "N =  38  T =  2.10  tau =  20  err =  0.403825053080373\n",
      "N =  38  T =  2.12  tau =  49  err =  0.8988101114373921\n",
      "N =  38  T =  2.14  tau =  25  err =  0.4395661272493609\n",
      "N =  38  T =  2.16  tau =  38  err =  0.6257673939203959\n",
      "N =  38  T =  2.18  tau =  66  err =  1.039534286470706\n",
      "N =  38  T =  2.20  tau =  33  err =  0.6411220913931177\n",
      "N =  38  T =  2.22  tau =  122  err =  1.7991222030617828\n",
      "N =  38  T =  2.24  tau =  167  err =  2.686469426384042\n",
      "N =  38  T =  2.26  tau =  165  err =  2.063034413183225\n",
      "N =  38  T =  2.28  tau =  229  err =  4.6536523929904625\n",
      "N =  38  T =  2.30  tau =  103  err =  2.1726352142027197\n",
      "N =  38  T =  2.32  tau =  265  err =  4.085423575102593\n",
      "N =  38  T =  2.34  tau =  197  err =  3.5241076030995604\n",
      "N =  38  T =  2.36  tau =  104  err =  1.558270009697957\n",
      "N =  38  T =  2.38  tau =  118  err =  2.059245373920428\n",
      "N =  38  T =  2.40  tau =  62  err =  1.1369494016161932\n",
      "N =  38  T =  2.42  tau =  94  err =  1.5428953204232976\n",
      "N =  38  T =  2.44  tau =  70  err =  1.335467698510993\n",
      "N =  38  T =  2.46  tau =  63  err =  1.2421902133993399\n",
      "N =  38  T =  2.48  tau =  62  err =  1.1705041527464515\n",
      "N =  38  T =  2.50  tau =  42  err =  1.1055996662331353\n",
      "N =  38  T =  2.52  tau =  45  err =  0.8794607367870649\n",
      "N =  38  T =  2.54  tau =  28  err =  0.5102070864706346\n",
      "N =  38  T =  2.56  tau =  30  err =  0.5752475092172714\n",
      "N =  38  T =  2.58  tau =  30  err =  0.6883130786988971\n",
      "N =  38  T =  2.60  tau =  19  err =  0.3339822850101557\n",
      "N =  38  T =  2.62  tau =  21  err =  0.4160966888280814\n",
      "N =  38  T =  2.64  tau =  18  err =  0.35552171774655095\n",
      "N =  38  T =  2.66  tau =  18  err =  0.30311438567061433\n",
      "N =  38  T =  2.68  tau =  21  err =  0.4118269193268819\n",
      "N =  38  T =  2.70  tau =  15  err =  0.2689976732835058\n",
      "N =  38  T =  2.72  tau =  13  err =  0.22399478557956481\n",
      "N =  38  T =  2.74  tau =  14  err =  0.24098471798288978\n",
      "N =  38  T =  2.76  tau =  14  err =  0.2515152498126835\n",
      "N =  38  T =  2.78  tau =  12  err =  0.21575106741496913\n",
      "N =  38  T =  2.80  tau =  12  err =  0.20370796018310985\n",
      "N =  38  T =  2.82  tau =  11  err =  0.18544617399223975\n",
      "N =  38  T =  2.84  tau =  9  err =  0.1598580637189885\n",
      "N =  38  T =  2.86  tau =  10  err =  0.17646899229008345\n",
      "N =  38  T =  2.88  tau =  9  err =  0.15699387432033352\n",
      "N =  38  T =  2.90  tau =  9  err =  0.14934713078678857\n",
      "N =  38  T =  2.92  tau =  8  err =  0.15113183764944108\n",
      "N =  38  T =  2.94  tau =  7  err =  0.1277401692994083\n",
      "N =  38  T =  2.96  tau =  7  err =  0.12989710383972009\n",
      "N =  38  T =  2.98  tau =  7  err =  0.11429206151976254\n",
      "N =  38  T =  3.00  tau =  6  err =  0.09525379960330588\n",
      "N =  38  T =  3.02  tau =  6  err =  0.09705562726314987\n",
      "N =  38  T =  3.04  tau =  6  err =  0.09254849271086492\n",
      "N =  38  T =  3.06  tau =  5  err =  0.08777224847156687\n",
      "N =  38  T =  3.08  tau =  5  err =  0.0847271748036384\n",
      "N =  38  T =  3.10  tau =  5  err =  0.07850767168683831\n",
      "________  ERRONEUS  _____\n",
      " [[18, 2.12], [18, 2.14], [18, 2.16], [18, 2.18], [18, 2.22], [18, 2.24], [18, 2.2600000000000002], [18, 2.2800000000000002], [18, 2.3000000000000003], [18, 2.3200000000000003], [18, 2.3400000000000003], [18, 2.3600000000000003], [18, 2.3800000000000003], [18, 2.4200000000000004], [18, 2.4400000000000004], [18, 2.4600000000000004], [18, 2.4800000000000004], [18, 2.5000000000000004], [18, 2.5200000000000005], [18, 2.5400000000000005], [18, 2.5600000000000005], [18, 2.5800000000000005], [18, 2.6200000000000006], [18, 2.6400000000000006], [18, 2.6600000000000006], [18, 2.6800000000000006], [18, 2.7000000000000006], [18, 2.7200000000000006], [18, 2.7400000000000007], [18, 2.7600000000000007], [18, 2.7800000000000007], [18, 2.8200000000000007], [18, 2.8400000000000007], [18, 2.8600000000000008], [18, 2.880000000000001], [18, 2.900000000000001], [18, 2.920000000000001], [18, 2.940000000000001], [18, 2.960000000000001], [18, 2.980000000000001], [18, 3.020000000000001], [18, 3.040000000000001], [18, 3.060000000000001], [18, 3.080000000000001], [18, 3.100000000000001], [29, 2.8200000000000007], [29, 2.8400000000000007], [29, 2.8600000000000008], [29, 2.880000000000001], [29, 2.900000000000001], [29, 2.920000000000001], [29, 2.940000000000001], [29, 2.960000000000001], [29, 2.980000000000001], [29, 3.000000000000001], [29, 3.020000000000001], [29, 3.040000000000001], [29, 3.060000000000001], [29, 3.080000000000001], [29, 3.100000000000001]]\n"
     ]
    }
   ],
   "source": [
    "NUMS=[12,18,23,29,15,20,26,32,38]\n",
    "x=1.92\n",
    "T=[]\n",
    "for i in range(60):\n",
    "    T.append(x)\n",
    "    x+=0.02\n",
    "lag=1e4\n",
    "erroneus=[]\n",
    "for N in NUMS:\n",
    "    for temp in T:\n",
    "        try:\n",
    "            t_s=\"{0:.2f}\".format(temp)\n",
    "            fname='DATA/MC_2Dising_model_data_serc/N_'+str(N)+'_T_'+str(t_s)+\"_icingMC\"        \n",
    "            data=get_data(fname)\n",
    "            resampled_data,tau,err=sample_data(data,int(lag),return_params=True)\n",
    "            if(tau>400):\n",
    "                erroneus.append([N,temp])\n",
    "            print(\"N = \",N,\" T = \",t_s,\" tau = \",tau,\" err = \",err)\n",
    "            resampled_data['params'].update({'remarks':'resampled with themalization params as below '})\n",
    "            resampled_data['params'].update({'lags_read':int(lag)})\n",
    "            resampled_data['params'].update({'Sampled_at':max(int(tau*2),25)})\n",
    "            resampled_data['params'].update({'correlation_time':int(tau)})\n",
    "            resampled_data['params'].update({'correlation_time_err':float(err)})\n",
    "            fname='DATA/critical_exps/sampled_data/N_'+str(N)+'_T_'+str(t_s)+\"_icingMC\" \n",
    "            write_data(fname,resampled_data)\n",
    "        except:\n",
    "            erroneus.append([N,temp])\n",
    "print(\"________  ERRONEUS  _____\\n\",erroneus)"
   ]
  },
  {
   "cell_type": "markdown",
   "metadata": {},
   "source": [
    "## Data Analysis for the models"
   ]
  },
  {
   "cell_type": "markdown",
   "metadata": {},
   "source": [
    "### Getting the data read"
   ]
  },
  {
   "cell_type": "code",
   "execution_count": null,
   "metadata": {
    "collapsed": true
   },
   "outputs": [],
   "source": []
  },
  {
   "cell_type": "code",
   "execution_count": null,
   "metadata": {
    "collapsed": true
   },
   "outputs": [],
   "source": []
  },
  {
   "cell_type": "code",
   "execution_count": null,
   "metadata": {
    "collapsed": true
   },
   "outputs": [],
   "source": []
  },
  {
   "cell_type": "code",
   "execution_count": null,
   "metadata": {
    "collapsed": true
   },
   "outputs": [],
   "source": []
  },
  {
   "cell_type": "markdown",
   "metadata": {},
   "source": [
    "## Data extraction for the curve fitting ( and saving the analysis too)"
   ]
  },
  {
   "cell_type": "code",
   "execution_count": 25,
   "metadata": {
    "ExecuteTime": {
     "end_time": "2018-09-17T19:41:13.206353Z",
     "start_time": "2018-09-17T19:40:53.180584Z"
    }
   },
   "outputs": [
    {
     "name": "stdout",
     "output_type": "stream",
     "text": [
      "N =  12  T =  1.92 got Data->analyzing..Done!! -> writing to file -> DONE !\n",
      "N =  23  T =  1.92 got Data->analyzing..Done!! -> writing to file -> DONE !\n",
      "N =  29  T =  1.92 got Data->analyzing..Done!! -> writing to file -> DONE !\n",
      "N =  15  T =  1.92 got Data->analyzing..Done!! -> writing to file -> DONE !\n",
      "N =  20  T =  1.92 got Data->analyzing..Done!! -> writing to file -> DONE !\n",
      "N =  26  T =  1.92 got Data->analyzing..Done!! -> writing to file -> DONE !\n",
      "N =  32  T =  1.92 got Data->analyzing..Done!! -> writing to file -> DONE !\n",
      "N =  38  T =  1.92 got Data->analyzing..Done!! -> writing to file -> DONE !\n",
      "N =  12  T =  1.94 got Data->analyzing..Done!! -> writing to file -> DONE !\n",
      "N =  23  T =  1.94 got Data->analyzing..Done!! -> writing to file -> DONE !\n",
      "N =  29  T =  1.94 got Data->analyzing..Done!! -> writing to file -> DONE !\n",
      "N =  15  T =  1.94 got Data->analyzing..Done!! -> writing to file -> DONE !\n",
      "N =  20  T =  1.94 got Data->analyzing..Done!! -> writing to file -> DONE !\n",
      "N =  26  T =  1.94 got Data->analyzing..Done!! -> writing to file -> DONE !\n",
      "N =  32  T =  1.94 got Data->analyzing..Done!! -> writing to file -> DONE !\n",
      "N =  38  T =  1.94 got Data->analyzing..Done!! -> writing to file -> DONE !\n",
      "N =  12  T =  1.96 got Data->analyzing..Done!! -> writing to file -> DONE !\n",
      "N =  23  T =  1.96 got Data->analyzing..Done!! -> writing to file -> DONE !\n",
      "N =  29  T =  1.96 got Data->analyzing..Done!! -> writing to file -> DONE !\n",
      "N =  15  T =  1.96 got Data->analyzing..Done!! -> writing to file -> DONE !\n",
      "N =  20  T =  1.96 got Data->analyzing..Done!! -> writing to file -> DONE !\n",
      "N =  26  T =  1.96 got Data->analyzing..Done!! -> writing to file -> DONE !\n",
      "N =  32  T =  1.96 got Data->analyzing..Done!! -> writing to file -> DONE !\n",
      "N =  38  T =  1.96 got Data->analyzing..Done!! -> writing to file -> DONE !\n",
      "N =  12  T =  1.98 got Data->analyzing..Done!! -> writing to file -> DONE !\n",
      "N =  23  T =  1.98 got Data->analyzing..Done!! -> writing to file -> DONE !\n",
      "N =  29  T =  1.98 got Data->analyzing..Done!! -> writing to file -> DONE !\n",
      "N =  15  T =  1.98 got Data->analyzing..Done!! -> writing to file -> DONE !\n",
      "N =  20  T =  1.98 got Data->analyzing..Done!! -> writing to file -> DONE !\n",
      "N =  26  T =  1.98 got Data->analyzing..Done!! -> writing to file -> DONE !\n",
      "N =  32  T =  1.98 got Data->analyzing..Done!! -> writing to file -> DONE !\n",
      "N =  38  T =  1.98 got Data->analyzing..Done!! -> writing to file -> DONE !\n",
      "N =  12  T =  2.00 got Data->analyzing..Done!! -> writing to file -> DONE !\n",
      "N =  23  T =  2.00 got Data->analyzing..Done!! -> writing to file -> DONE !\n",
      "N =  29  T =  2.00 got Data->analyzing..Done!! -> writing to file -> DONE !\n",
      "N =  15  T =  2.00 got Data->analyzing..Done!! -> writing to file -> DONE !\n",
      "N =  20  T =  2.00 got Data->analyzing..Done!! -> writing to file -> DONE !\n",
      "N =  26  T =  2.00 got Data->analyzing..Done!! -> writing to file -> DONE !\n",
      "N =  32  T =  2.00 got Data->analyzing..Done!! -> writing to file -> DONE !\n",
      "N =  38  T =  2.00 got Data->analyzing..Done!! -> writing to file -> DONE !\n",
      "N =  12  T =  2.02 got Data->analyzing..Done!! -> writing to file -> DONE !\n",
      "N =  23  T =  2.02 got Data->analyzing..Done!! -> writing to file -> DONE !\n",
      "N =  29  T =  2.02 got Data->analyzing..Done!! -> writing to file -> DONE !\n",
      "N =  15  T =  2.02 got Data->analyzing..Done!! -> writing to file -> DONE !\n",
      "N =  20  T =  2.02 got Data->analyzing..Done!! -> writing to file -> DONE !\n",
      "N =  26  T =  2.02 got Data->analyzing..Done!! -> writing to file -> DONE !\n",
      "N =  32  T =  2.02 got Data->analyzing..Done!! -> writing to file -> DONE !\n",
      "N =  38  T =  2.02 got Data->analyzing..Done!! -> writing to file -> DONE !\n",
      "N =  12  T =  2.04 got Data->analyzing..Done!! -> writing to file -> DONE !\n",
      "N =  23  T =  2.04 got Data->analyzing..Done!! -> writing to file -> DONE !\n",
      "N =  29  T =  2.04 got Data->analyzing..Done!! -> writing to file -> DONE !\n",
      "N =  15  T =  2.04 got Data->analyzing..Done!! -> writing to file -> DONE !\n",
      "N =  20  T =  2.04 got Data->analyzing..Done!! -> writing to file -> DONE !\n",
      "N =  26  T =  2.04 got Data->analyzing..Done!! -> writing to file -> DONE !\n",
      "N =  32  T =  2.04 got Data->analyzing..Done!! -> writing to file -> DONE !\n",
      "N =  38  T =  2.04 got Data->analyzing..Done!! -> writing to file -> DONE !\n",
      "N =  12  T =  2.06 got Data->analyzing..Done!! -> writing to file -> DONE !\n",
      "N =  23  T =  2.06 got Data->analyzing..Done!! -> writing to file -> DONE !\n",
      "N =  29  T =  2.06 got Data->analyzing..Done!! -> writing to file -> DONE !\n",
      "N =  15  T =  2.06 got Data->analyzing..Done!! -> writing to file -> DONE !\n",
      "N =  20  T =  2.06 got Data->analyzing..Done!! -> writing to file -> DONE !\n",
      "N =  26  T =  2.06 got Data->analyzing..Done!! -> writing to file -> DONE !\n",
      "N =  32  T =  2.06 got Data->analyzing..Done!! -> writing to file -> DONE !\n",
      "N =  38  T =  2.06 got Data->analyzing..Done!! -> writing to file -> DONE !\n",
      "N =  12  T =  2.08 got Data->analyzing..Done!! -> writing to file -> DONE !\n",
      "N =  23  T =  2.08 got Data->analyzing..Done!! -> writing to file -> DONE !\n",
      "N =  29  T =  2.08 got Data->analyzing..Done!! -> writing to file -> DONE !\n",
      "N =  15  T =  2.08 got Data->analyzing..Done!! -> writing to file -> DONE !\n",
      "N =  20  T =  2.08 got Data->analyzing..Done!! -> writing to file -> DONE !\n",
      "N =  26  T =  2.08 got Data->analyzing..Done!! -> writing to file -> DONE !\n",
      "N =  32  T =  2.08 got Data->analyzing..Done!! -> writing to file -> DONE !\n",
      "N =  38  T =  2.08 got Data->analyzing..Done!! -> writing to file -> DONE !\n",
      "N =  12  T =  2.10 got Data->analyzing..Done!! -> writing to file -> DONE !\n",
      "N =  23  T =  2.10 got Data->analyzing..Done!! -> writing to file -> DONE !\n",
      "N =  29  T =  2.10 got Data->analyzing..Done!! -> writing to file -> DONE !\n",
      "N =  15  T =  2.10 got Data->analyzing..Done!! -> writing to file -> DONE !\n",
      "N =  20  T =  2.10 got Data->analyzing..Done!! -> writing to file -> DONE !\n",
      "N =  26  T =  2.10 got Data->analyzing..Done!! -> writing to file -> DONE !\n",
      "N =  32  T =  2.10 got Data->analyzing..Done!! -> writing to file -> DONE !\n",
      "N =  38  T =  2.10 got Data->analyzing..Done!! -> writing to file -> DONE !\n",
      "N =  12  T =  2.12 got Data->analyzing..Done!! -> writing to file -> DONE !\n",
      "N =  23  T =  2.12 got Data->analyzing..Done!! -> writing to file -> DONE !\n",
      "N =  29  T =  2.12 got Data->analyzing..Done!! -> writing to file -> DONE !\n",
      "N =  15  T =  2.12 got Data->analyzing..Done!! -> writing to file -> DONE !\n",
      "N =  20  T =  2.12 got Data->analyzing..Done!! -> writing to file -> DONE !\n",
      "N =  26  T =  2.12 got Data->analyzing..Done!! -> writing to file -> DONE !\n",
      "N =  32  T =  2.12 got Data->analyzing..Done!! -> writing to file -> DONE !\n",
      "N =  38  T =  2.12 got Data->analyzing..Done!! -> writing to file -> DONE !\n",
      "N =  12  T =  2.14 got Data->analyzing..Done!! -> writing to file -> DONE !\n",
      "N =  23  T =  2.14 got Data->analyzing..Done!! -> writing to file -> DONE !\n",
      "N =  29  T =  2.14 got Data->analyzing..Done!! -> writing to file -> DONE !\n",
      "N =  15  T =  2.14 got Data->analyzing..Done!! -> writing to file -> DONE !\n",
      "N =  20  T =  2.14 got Data->analyzing..Done!! -> writing to file -> DONE !\n",
      "N =  26  T =  2.14 got Data->analyzing..Done!! -> writing to file -> DONE !\n",
      "N =  32  T =  2.14 got Data->analyzing..Done!! -> writing to file -> DONE !\n",
      "N =  38  T =  2.14 got Data->analyzing..Done!! -> writing to file -> DONE !\n",
      "N =  12  T =  2.16 got Data->analyzing..Done!! -> writing to file -> DONE !\n",
      "N =  23  T =  2.16 got Data->analyzing..Done!! -> writing to file -> DONE !\n",
      "N =  29  T =  2.16 got Data->analyzing..Done!! -> writing to file -> DONE !\n",
      "N =  15  T =  2.16 got Data->analyzing..Done!! -> writing to file -> DONE !\n",
      "N =  20  T =  2.16 got Data->analyzing..Done!! -> writing to file -> DONE !\n",
      "N =  26  T =  2.16 got Data->analyzing..Done!! -> writing to file -> DONE !\n",
      "N =  32  T =  2.16 got Data->analyzing..Done!! -> writing to file -> DONE !\n",
      "N =  38  T =  2.16 got Data->analyzing..Done!! -> writing to file -> DONE !\n",
      "N =  12  T =  2.18 got Data->analyzing..Done!! -> writing to file -> DONE !\n",
      "N =  23  T =  2.18 got Data->analyzing..Done!! -> writing to file -> DONE !\n",
      "N =  29  T =  2.18 got Data->analyzing..Done!! -> writing to file -> DONE !\n",
      "N =  15  T =  2.18 got Data->analyzing..Done!! -> writing to file -> DONE !\n",
      "N =  20  T =  2.18 got Data->analyzing..Done!! -> writing to file -> DONE !\n",
      "N =  26  T =  2.18 got Data->analyzing..Done!! -> writing to file -> DONE !\n",
      "N =  32  T =  2.18 got Data->analyzing..Done!! -> writing to file -> DONE !\n",
      "N =  38  T =  2.18 got Data->analyzing..Done!! -> writing to file -> DONE !\n",
      "N =  12  T =  2.20 got Data->analyzing..Done!! -> writing to file -> DONE !\n",
      "N =  23  T =  2.20 got Data->analyzing..Done!! -> writing to file -> DONE !\n",
      "N =  29  T =  2.20 got Data->analyzing..Done!! -> writing to file -> DONE !\n",
      "N =  15  T =  2.20 got Data->analyzing..Done!! -> writing to file -> DONE !\n",
      "N =  20  T =  2.20 got Data->analyzing..Done!! -> writing to file -> DONE !\n",
      "N =  26  T =  2.20 got Data->analyzing..Done!! -> writing to file -> DONE !\n",
      "N =  32  T =  2.20 got Data->analyzing..Done!! -> writing to file -> DONE !\n",
      "N =  38  T =  2.20 got Data->analyzing..Done!! -> writing to file -> DONE !\n",
      "N =  12  T =  2.22 got Data->analyzing..Done!! -> writing to file -> DONE !\n",
      "N =  23  T =  2.22 got Data->analyzing..Done!! -> writing to file -> DONE !\n",
      "N =  29  T =  2.22 got Data->analyzing..Done!! -> writing to file -> DONE !\n",
      "N =  15  T =  2.22 got Data->analyzing..Done!! -> writing to file -> DONE !\n",
      "N =  20  T =  2.22 got Data->analyzing..Done!! -> writing to file -> DONE !\n",
      "N =  26  T =  2.22 got Data->analyzing..Done!! -> writing to file -> DONE !\n",
      "N =  32  T =  2.22 got Data->analyzing..Done!! -> writing to file -> DONE !\n",
      "N =  38  T =  2.22 got Data->analyzing..Done!! -> writing to file -> DONE !\n",
      "N =  12  T =  2.24 got Data->analyzing..Done!! -> writing to file -> DONE !\n",
      "N =  23  T =  2.24 got Data->analyzing..Done!! -> writing to file -> DONE !\n",
      "N =  29  T =  2.24 got Data->analyzing..Done!! -> writing to file -> DONE !\n",
      "N =  15  T =  2.24 got Data->analyzing..Done!! -> writing to file -> DONE !\n",
      "N =  20  T =  2.24 got Data->analyzing..Done!! -> writing to file -> DONE !\n",
      "N =  26  T =  2.24 got Data->analyzing..Done!! -> writing to file -> DONE !\n",
      "N =  32  T =  2.24 got Data->analyzing..Done!! -> writing to file -> DONE !\n",
      "N =  38  T =  2.24 got Data->analyzing..Done!! -> writing to file -> DONE !\n",
      "N =  12  T =  2.26 got Data->analyzing..Done!! -> writing to file -> DONE !\n",
      "N =  23  T =  2.26 got Data->analyzing..Done!! -> writing to file -> DONE !\n",
      "N =  29  T =  2.26 got Data->analyzing..Done!! -> writing to file -> DONE !\n",
      "N =  15  T =  2.26 got Data->analyzing..Done!! -> writing to file -> DONE !\n",
      "N =  20  T =  2.26 got Data->analyzing..Done!! -> writing to file -> DONE !\n",
      "N =  26  T =  2.26 got Data->analyzing..Done!! -> writing to file -> DONE !\n",
      "N =  32  T =  2.26 got Data->analyzing..Done!! -> writing to file -> DONE !\n",
      "N =  38  T =  2.26 got Data->analyzing..Done!! -> writing to file -> DONE !\n",
      "N =  12  T =  2.28 got Data->analyzing..Done!! -> writing to file -> DONE !\n",
      "N =  23  T =  2.28 got Data->analyzing..Done!! -> writing to file -> DONE !\n",
      "N =  29  T =  2.28 got Data->analyzing..Done!! -> writing to file -> DONE !\n",
      "N =  15  T =  2.28 got Data->analyzing..Done!! -> writing to file -> DONE !\n",
      "N =  20  T =  2.28 got Data->analyzing..Done!! -> writing to file -> DONE !\n",
      "N =  26  T =  2.28 got Data->analyzing..Done!! -> writing to file -> DONE !\n",
      "N =  32  T =  2.28 got Data->analyzing..Done!! -> writing to file -> DONE !\n",
      "N =  38  T =  2.28 got Data->analyzing..Done!! -> writing to file -> DONE !\n",
      "N =  12  T =  2.30 got Data->analyzing..Done!! -> writing to file -> DONE !\n",
      "N =  23  T =  2.30 got Data->analyzing..Done!! -> writing to file -> DONE !\n",
      "N =  29  T =  2.30 got Data->analyzing..Done!! -> writing to file -> DONE !\n",
      "N =  15  T =  2.30 got Data->analyzing..Done!! -> writing to file -> DONE !\n",
      "N =  20  T =  2.30 got Data->analyzing..Done!! -> writing to file -> DONE !\n",
      "N =  26  T =  2.30 got Data->analyzing..Done!! -> writing to file -> DONE !\n",
      "N =  32  T =  2.30 got Data->analyzing..Done!! -> writing to file -> DONE !\n",
      "N =  38  T =  2.30 got Data->analyzing..Done!! -> writing to file -> DONE !\n",
      "N =  12  T =  2.32 got Data->analyzing..Done!! -> writing to file -> DONE !\n",
      "N =  23  T =  2.32 got Data->analyzing..Done!! -> writing to file -> DONE !\n",
      "N =  29  T =  2.32 got Data->analyzing..Done!! -> writing to file -> DONE !\n",
      "N =  15  T =  2.32 got Data->analyzing..Done!! -> writing to file -> DONE !\n",
      "N =  20  T =  2.32 got Data->analyzing..Done!! -> writing to file -> DONE !\n",
      "N =  26  T =  2.32 got Data->analyzing..Done!! -> writing to file -> DONE !\n",
      "N =  32  T =  2.32 got Data->analyzing..Done!! -> writing to file -> DONE !\n",
      "N =  38  T =  2.32 got Data->analyzing..Done!! -> writing to file -> DONE !\n",
      "N =  12  T =  2.34 got Data->analyzing..Done!! -> writing to file -> DONE !\n",
      "N =  23  T =  2.34 got Data->analyzing..Done!! -> writing to file -> DONE !\n",
      "N =  29  T =  2.34 got Data->analyzing..Done!! -> writing to file -> DONE !\n",
      "N =  15  T =  2.34 got Data->analyzing..Done!! -> writing to file -> DONE !\n",
      "N =  20  T =  2.34 got Data->analyzing..Done!! -> writing to file -> DONE !\n",
      "N =  26  T =  2.34 got Data->analyzing..Done!! -> writing to file -> DONE !\n",
      "N =  32  T =  2.34 got Data->analyzing..Done!! -> writing to file -> DONE !\n",
      "N =  38  T =  2.34 got Data->analyzing..Done!! -> writing to file -> DONE !\n",
      "N =  12  T =  2.36 got Data->analyzing..Done!! -> writing to file -> DONE !\n",
      "N =  23  T =  2.36 got Data->analyzing..Done!! -> writing to file -> DONE !\n",
      "N =  29  T =  2.36 got Data->analyzing..Done!! -> writing to file -> DONE !\n",
      "N =  15  T =  2.36 got Data->analyzing..Done!! -> writing to file -> DONE !\n",
      "N =  20  T =  2.36 got Data->analyzing..Done!! -> writing to file -> DONE !\n",
      "N =  26  T =  2.36 got Data->analyzing..Done!! -> writing to file -> DONE !\n",
      "N =  32  T =  2.36 got Data->analyzing..Done!! -> writing to file -> DONE !\n",
      "N =  38  T =  2.36 got Data->analyzing..Done!! -> writing to file -> DONE !\n",
      "N =  12  T =  2.38 got Data->analyzing..Done!! -> writing to file -> DONE !\n",
      "N =  23  T =  2.38 got Data->analyzing..Done!! -> writing to file -> DONE !\n",
      "N =  29  T =  2.38 got Data->analyzing..Done!! -> writing to file -> DONE !\n",
      "N =  15  T =  2.38 got Data->analyzing..Done!! -> writing to file -> DONE !\n",
      "N =  20  T =  2.38 got Data->analyzing..Done!! -> writing to file -> DONE !\n",
      "N =  26  T =  2.38 got Data->analyzing..Done!! -> writing to file -> DONE !\n",
      "N =  32  T =  2.38 got Data->analyzing..Done!! -> writing to file -> DONE !\n",
      "N =  38  T =  2.38 got Data->analyzing..Done!! -> writing to file -> DONE !\n",
      "N =  12  T =  2.40 got Data->analyzing..Done!! -> writing to file -> DONE !\n",
      "N =  23  T =  2.40 got Data->analyzing..Done!! -> writing to file -> DONE !\n",
      "N =  29  T =  2.40 got Data->analyzing..Done!! -> writing to file -> DONE !\n",
      "N =  15  T =  2.40 got Data->analyzing..Done!! -> writing to file -> DONE !\n",
      "N =  20  T =  2.40 got Data->analyzing..Done!! -> writing to file -> DONE !\n",
      "N =  26  T =  2.40 got Data->analyzing..Done!! -> writing to file -> DONE !\n",
      "N =  32  T =  2.40 got Data->analyzing..Done!! -> writing to file -> DONE !\n",
      "N =  38  T =  2.40 got Data->analyzing..Done!! -> writing to file -> DONE !\n",
      "N =  12  T =  2.42 got Data->analyzing..Done!! -> writing to file -> DONE !\n",
      "N =  23  T =  2.42 got Data->analyzing..Done!! -> writing to file -> DONE !\n",
      "N =  29  T =  2.42 got Data->analyzing..Done!! -> writing to file -> DONE !\n",
      "N =  15  T =  2.42 got Data->analyzing..Done!! -> writing to file -> DONE !\n",
      "N =  20  T =  2.42 got Data->analyzing..Done!! -> writing to file -> DONE !\n",
      "N =  26  T =  2.42 got Data->analyzing..Done!! -> writing to file -> DONE !\n",
      "N =  32  T =  2.42 got Data->analyzing..Done!! -> writing to file -> DONE !\n",
      "N =  38  T =  2.42 got Data->analyzing..Done!! -> writing to file -> DONE !\n",
      "N =  12  T =  2.44 got Data->analyzing..Done!! -> writing to file -> DONE !\n",
      "N =  23  T =  2.44 got Data->analyzing..Done!! -> writing to file -> DONE !\n",
      "N =  29  T =  2.44 got Data->analyzing..Done!! -> writing to file -> DONE !\n",
      "N =  15  T =  2.44 got Data->analyzing..Done!! -> writing to file -> DONE !\n",
      "N =  20  T =  2.44 got Data->analyzing..Done!! -> writing to file -> DONE !\n",
      "N =  26  T =  2.44 got Data->analyzing..Done!! -> writing to file -> DONE !\n",
      "N =  32  T =  2.44 got Data->analyzing..Done!! -> writing to file -> DONE !\n",
      "N =  38  T =  2.44 got Data->analyzing..Done!! -> writing to file -> DONE !\n",
      "N =  12  T =  2.46 got Data->analyzing..Done!! -> writing to file -> DONE !\n",
      "N =  23  T =  2.46 got Data->analyzing..Done!! -> writing to file -> DONE !\n",
      "N =  29  T =  2.46 got Data->analyzing..Done!! -> writing to file -> DONE !\n",
      "N =  15  T =  2.46 got Data->analyzing..Done!! -> writing to file -> DONE !\n",
      "N =  20  T =  2.46 got Data->analyzing..Done!! -> writing to file -> DONE !\n",
      "N =  26  T =  2.46 got Data->analyzing..Done!! -> writing to file -> DONE !\n",
      "N =  32  T =  2.46 got Data->analyzing..Done!! -> writing to file -> DONE !\n",
      "N =  38  T =  2.46 got Data->analyzing..Done!! -> writing to file -> DONE !\n",
      "N =  12  T =  2.48 got Data->analyzing..Done!! -> writing to file -> DONE !\n",
      "N =  23  T =  2.48 got Data->analyzing..Done!! -> writing to file -> DONE !\n",
      "N =  29  T =  2.48 got Data->analyzing..Done!! -> writing to file -> DONE !\n",
      "N =  15  T =  2.48 got Data->analyzing..Done!! -> writing to file -> DONE !\n",
      "N =  20  T =  2.48 got Data->analyzing..Done!! -> writing to file -> DONE !\n",
      "N =  26  T =  2.48 got Data->analyzing..Done!! -> writing to file -> DONE !\n",
      "N =  32  T =  2.48 got Data->analyzing..Done!! -> writing to file -> DONE !\n",
      "N =  38  T =  2.48 got Data->analyzing..Done!! -> writing to file -> DONE !\n",
      "N =  12  T =  2.50 got Data->analyzing..Done!! -> writing to file -> DONE !\n",
      "N =  23  T =  2.50 got Data->analyzing..Done!! -> writing to file -> DONE !\n",
      "N =  29  T =  2.50 got Data->analyzing..Done!! -> writing to file -> DONE !\n",
      "N =  15  T =  2.50 got Data->analyzing..Done!! -> writing to file -> DONE !\n",
      "N =  20  T =  2.50 got Data->analyzing..Done!! -> writing to file -> DONE !\n",
      "N =  26  T =  2.50 got Data->analyzing..Done!! -> writing to file -> DONE !\n",
      "N =  32  T =  2.50 got Data->analyzing..Done!! -> writing to file -> DONE !\n",
      "N =  38  T =  2.50 got Data->analyzing..Done!! -> writing to file -> DONE !\n",
      "N =  12  T =  2.52 got Data->analyzing..Done!! -> writing to file -> DONE !\n",
      "N =  23  T =  2.52 got Data->analyzing..Done!! -> writing to file -> DONE !\n",
      "N =  29  T =  2.52 got Data->analyzing..Done!! -> writing to file -> DONE !\n",
      "N =  15  T =  2.52 got Data->analyzing..Done!! -> writing to file -> DONE !\n",
      "N =  20  T =  2.52 got Data->analyzing..Done!! -> writing to file -> DONE !\n",
      "N =  26  T =  2.52 got Data->analyzing..Done!! -> writing to file -> DONE !\n",
      "N =  32  T =  2.52 got Data->analyzing..Done!! -> writing to file -> DONE !\n",
      "N =  38  T =  2.52 got Data->analyzing..Done!! -> writing to file -> DONE !\n",
      "N =  12  T =  2.54 got Data->analyzing..Done!! -> writing to file -> DONE !\n",
      "N =  23  T =  2.54 got Data->analyzing..Done!! -> writing to file -> DONE !\n",
      "N =  29  T =  2.54 got Data->analyzing..Done!! -> writing to file -> DONE !\n",
      "N =  15  T =  2.54 got Data->analyzing..Done!! -> writing to file -> DONE !\n",
      "N =  20  T =  2.54 got Data->analyzing..Done!! -> writing to file -> DONE !\n",
      "N =  26  T =  2.54 got Data->analyzing..Done!! -> writing to file -> DONE !\n",
      "N =  32  T =  2.54 got Data->analyzing..Done!! -> writing to file -> DONE !\n",
      "N =  38  T =  2.54 got Data->analyzing..Done!! -> writing to file -> DONE !\n",
      "N =  12  T =  2.56 got Data->analyzing..Done!! -> writing to file -> DONE !\n",
      "N =  23  T =  2.56 got Data->analyzing..Done!! -> writing to file -> DONE !\n",
      "N =  29  T =  2.56 got Data->analyzing..Done!! -> writing to file -> DONE !\n",
      "N =  15  T =  2.56 got Data->analyzing..Done!! -> writing to file -> DONE !\n",
      "N =  20  T =  2.56 got Data->analyzing..Done!! -> writing to file -> DONE !\n",
      "N =  26  T =  2.56 got Data->analyzing..Done!! -> writing to file -> DONE !\n",
      "N =  32  T =  2.56 got Data->analyzing..Done!! -> writing to file -> DONE !\n",
      "N =  38  T =  2.56 got Data->analyzing..Done!! -> writing to file -> DONE !\n",
      "N =  12  T =  2.58 got Data->analyzing..Done!! -> writing to file -> DONE !\n",
      "N =  23  T =  2.58 got Data->analyzing..Done!! -> writing to file -> DONE !\n",
      "N =  29  T =  2.58 got Data->analyzing..Done!! -> writing to file -> DONE !\n",
      "N =  15  T =  2.58 got Data->analyzing..Done!! -> writing to file -> DONE !\n",
      "N =  20  T =  2.58 got Data->analyzing..Done!! -> writing to file -> DONE !\n",
      "N =  26  T =  2.58 got Data->analyzing..Done!! -> writing to file -> DONE !\n",
      "N =  32  T =  2.58 got Data->analyzing..Done!! -> writing to file -> DONE !\n",
      "N =  38  T =  2.58 got Data->analyzing..Done!! -> writing to file -> DONE !\n",
      "N =  12  T =  2.60 got Data->analyzing..Done!! -> writing to file -> DONE !\n",
      "N =  23  T =  2.60 got Data->analyzing..Done!! -> writing to file -> DONE !\n",
      "N =  29  T =  2.60 got Data->analyzing..Done!! -> writing to file -> DONE !\n",
      "N =  15  T =  2.60 got Data->analyzing..Done!! -> writing to file -> DONE !\n",
      "N =  20  T =  2.60 got Data->analyzing..Done!! -> writing to file -> DONE !\n",
      "N =  26  T =  2.60 got Data->analyzing..Done!! -> writing to file -> DONE !\n",
      "N =  32  T =  2.60 got Data->analyzing..Done!! -> writing to file -> DONE !\n",
      "N =  38  T =  2.60 got Data->analyzing..Done!! -> writing to file -> DONE !\n",
      "N =  12  T =  2.62 got Data->analyzing..Done!! -> writing to file -> DONE !\n",
      "N =  23  T =  2.62 got Data->analyzing..Done!! -> writing to file -> DONE !\n",
      "N =  29  T =  2.62 got Data->analyzing..Done!! -> writing to file -> DONE !\n",
      "N =  15  T =  2.62 got Data->analyzing..Done!! -> writing to file -> DONE !\n",
      "N =  20  T =  2.62 got Data->analyzing..Done!! -> writing to file -> DONE !\n",
      "N =  26  T =  2.62 got Data->analyzing..Done!! -> writing to file -> DONE !\n",
      "N =  32  T =  2.62 got Data->analyzing..Done!! -> writing to file -> DONE !\n",
      "N =  38  T =  2.62 got Data->analyzing..Done!! -> writing to file -> DONE !\n",
      "N =  12  T =  2.64 got Data->analyzing..Done!! -> writing to file -> DONE !\n",
      "N =  23  T =  2.64 got Data->analyzing..Done!! -> writing to file -> DONE !\n",
      "N =  29  T =  2.64 got Data->analyzing..Done!! -> writing to file -> DONE !\n",
      "N =  15  T =  2.64 got Data->analyzing..Done!! -> writing to file -> DONE !\n",
      "N =  20  T =  2.64 got Data->analyzing..Done!! -> writing to file -> DONE !\n",
      "N =  26  T =  2.64 got Data->analyzing..Done!! -> writing to file -> DONE !\n",
      "N =  32  T =  2.64 got Data->analyzing..Done!! -> writing to file -> DONE !\n",
      "N =  38  T =  2.64 got Data->analyzing..Done!! -> writing to file -> DONE !\n",
      "N =  12  T =  2.66 got Data->analyzing..Done!! -> writing to file -> DONE !\n",
      "N =  23  T =  2.66 got Data->analyzing..Done!! -> writing to file -> DONE !\n",
      "N =  29  T =  2.66 got Data->analyzing..Done!! -> writing to file -> DONE !\n",
      "N =  15  T =  2.66 got Data->analyzing..Done!! -> writing to file -> DONE !\n",
      "N =  20  T =  2.66 got Data->analyzing..Done!! -> writing to file -> DONE !\n",
      "N =  26  T =  2.66 got Data->analyzing..Done!! -> writing to file -> DONE !\n",
      "N =  32  T =  2.66 got Data->analyzing..Done!! -> writing to file -> DONE !\n",
      "N =  38  T =  2.66 got Data->analyzing..Done!! -> writing to file -> DONE !\n",
      "N =  12  T =  2.68 got Data->analyzing..Done!! -> writing to file -> DONE !\n",
      "N =  23  T =  2.68 got Data->analyzing..Done!! -> writing to file -> DONE !\n",
      "N =  29  T =  2.68 got Data->analyzing..Done!! -> writing to file -> DONE !\n",
      "N =  15  T =  2.68 got Data->analyzing..Done!! -> writing to file -> DONE !\n",
      "N =  20  T =  2.68 got Data->analyzing..Done!! -> writing to file -> DONE !\n",
      "N =  26  T =  2.68 got Data->analyzing..Done!! -> writing to file -> DONE !\n",
      "N =  32  T =  2.68 got Data->analyzing..Done!! -> writing to file -> DONE !\n",
      "N =  38  T =  2.68 got Data->analyzing..Done!! -> writing to file -> DONE !\n",
      "N =  12  T =  2.70 got Data->analyzing..Done!! -> writing to file -> DONE !\n",
      "N =  23  T =  2.70 got Data->analyzing..Done!! -> writing to file -> DONE !\n",
      "N =  29  T =  2.70 got Data->analyzing..Done!! -> writing to file -> DONE !\n",
      "N =  15  T =  2.70 got Data->analyzing..Done!! -> writing to file -> DONE !\n",
      "N =  20  T =  2.70 got Data->analyzing..Done!! -> writing to file -> DONE !\n",
      "N =  26  T =  2.70 got Data->analyzing..Done!! -> writing to file -> DONE !\n",
      "N =  32  T =  2.70 got Data->analyzing..Done!! -> writing to file -> DONE !\n",
      "N =  38  T =  2.70 got Data->analyzing..Done!! -> writing to file -> DONE !\n",
      "N =  12  T =  2.72 got Data->analyzing..Done!! -> writing to file -> DONE !\n",
      "N =  23  T =  2.72 got Data->analyzing..Done!! -> writing to file -> DONE !\n",
      "N =  29  T =  2.72 got Data->analyzing..Done!! -> writing to file -> DONE !\n",
      "N =  15  T =  2.72 got Data->analyzing..Done!! -> writing to file -> DONE !\n",
      "N =  20  T =  2.72 got Data->analyzing..Done!! -> writing to file -> DONE !\n",
      "N =  26  T =  2.72 got Data->analyzing..Done!! -> writing to file -> DONE !\n",
      "N =  32  T =  2.72 got Data->analyzing..Done!! -> writing to file -> DONE !\n",
      "N =  38  T =  2.72 got Data->analyzing..Done!! -> writing to file -> DONE !\n",
      "N =  12  T =  2.74 got Data->analyzing..Done!! -> writing to file -> DONE !\n",
      "N =  23  T =  2.74 got Data->analyzing..Done!! -> writing to file -> DONE !\n",
      "N =  29  T =  2.74 got Data->analyzing..Done!! -> writing to file -> DONE !\n",
      "N =  15  T =  2.74 got Data->analyzing..Done!! -> writing to file -> DONE !\n",
      "N =  20  T =  2.74 got Data->analyzing..Done!! -> writing to file -> DONE !\n",
      "N =  26  T =  2.74 got Data->analyzing..Done!! -> writing to file -> DONE !\n",
      "N =  32  T =  2.74 got Data->analyzing..Done!! -> writing to file -> DONE !\n",
      "N =  38  T =  2.74 got Data->analyzing..Done!! -> writing to file -> DONE !\n",
      "N =  12  T =  2.76 got Data->analyzing..Done!! -> writing to file -> DONE !\n",
      "N =  23  T =  2.76 got Data->analyzing..Done!! -> writing to file -> DONE !\n",
      "N =  29  T =  2.76 got Data->analyzing..Done!! -> writing to file -> DONE !\n",
      "N =  15  T =  2.76 got Data->analyzing..Done!! -> writing to file -> DONE !\n",
      "N =  20  T =  2.76 got Data->analyzing..Done!! -> writing to file -> DONE !\n",
      "N =  26  T =  2.76 got Data->analyzing..Done!! -> writing to file -> DONE !\n",
      "N =  32  T =  2.76 got Data->analyzing..Done!! -> writing to file -> DONE !\n",
      "N =  38  T =  2.76 got Data->analyzing..Done!! -> writing to file -> DONE !\n",
      "N =  12  T =  2.78 got Data->analyzing..Done!! -> writing to file -> DONE !\n",
      "N =  23  T =  2.78 got Data->analyzing..Done!! -> writing to file -> DONE !\n",
      "N =  29  T =  2.78 got Data->analyzing..Done!! -> writing to file -> DONE !\n",
      "N =  15  T =  2.78 got Data->analyzing..Done!! -> writing to file -> DONE !\n",
      "N =  20  T =  2.78 got Data->analyzing..Done!! -> writing to file -> DONE !\n",
      "N =  26  T =  2.78 got Data->analyzing..Done!! -> writing to file -> DONE !\n",
      "N =  32  T =  2.78 got Data->analyzing..Done!! -> writing to file -> DONE !\n",
      "N =  38  T =  2.78 got Data->analyzing..Done!! -> writing to file -> DONE !\n",
      "N =  12  T =  2.80 got Data->analyzing..Done!! -> writing to file -> DONE !\n",
      "N =  23  T =  2.80 got Data->analyzing..Done!! -> writing to file -> DONE !\n",
      "N =  29  T =  2.80 got Data->analyzing..Done!! -> writing to file -> DONE !\n",
      "N =  15  T =  2.80 got Data->analyzing..Done!! -> writing to file -> DONE !\n",
      "N =  20  T =  2.80 got Data->analyzing..Done!! -> writing to file -> DONE !\n",
      "N =  26  T =  2.80 got Data->analyzing..Done!! -> writing to file -> DONE !\n",
      "N =  32  T =  2.80 got Data->analyzing..Done!! -> writing to file -> DONE !\n",
      "N =  38  T =  2.80 got Data->analyzing..Done!! -> writing to file -> DONE !\n",
      "N =  12  T =  2.82 got Data->analyzing..Done!! -> writing to file -> DONE !\n",
      "N =  23  T =  2.82 got Data->analyzing..Done!! -> writing to file -> DONE !\n",
      "!! at (N,T) -> ( 29 , 2.8200000000000007 ) ,\n",
      "N =  15  T =  2.82 got Data->analyzing..Done!! -> writing to file -> DONE !\n",
      "N =  20  T =  2.82 got Data->analyzing..Done!! -> writing to file -> DONE !\n",
      "N =  26  T =  2.82 got Data->analyzing..Done!! -> writing to file -> DONE !\n",
      "N =  32  T =  2.82 got Data->analyzing..Done!! -> writing to file -> DONE !\n",
      "N =  38  T =  2.82 got Data->analyzing..Done!! -> writing to file -> DONE !\n",
      "N =  12  T =  2.84 got Data->analyzing..Done!! -> writing to file -> DONE !\n",
      "N =  23  T =  2.84 got Data->analyzing..Done!! -> writing to file -> DONE !\n",
      "!! at (N,T) -> ( 29 , 2.8400000000000007 ) ,\n",
      "N =  15  T =  2.84 got Data->analyzing..Done!! -> writing to file -> DONE !\n",
      "N =  20  T =  2.84 got Data->analyzing..Done!! -> writing to file -> DONE !\n",
      "N =  26  T =  2.84 got Data->analyzing..Done!! -> writing to file -> DONE !\n",
      "N =  32  T =  2.84 got Data->analyzing..Done!! -> writing to file -> DONE !\n",
      "N =  38  T =  2.84 got Data->analyzing..Done!! -> writing to file -> DONE !\n",
      "N =  12  T =  2.86 got Data->analyzing..Done!! -> writing to file -> DONE !\n",
      "N =  23  T =  2.86 got Data->analyzing..Done!! -> writing to file -> DONE !\n",
      "!! at (N,T) -> ( 29 , 2.8600000000000008 ) ,\n",
      "N =  15  T =  2.86 got Data->analyzing..Done!! -> writing to file -> DONE !\n",
      "N =  20  T =  2.86 got Data->analyzing..Done!! -> writing to file -> DONE !\n",
      "N =  26  T =  2.86 got Data->analyzing..Done!! -> writing to file -> DONE !\n",
      "N =  32  T =  2.86 got Data->analyzing..Done!! -> writing to file -> DONE !\n",
      "N =  38  T =  2.86 got Data->analyzing..Done!! -> writing to file -> DONE !\n",
      "N =  12  T =  2.88 got Data->analyzing..Done!! -> writing to file -> DONE !\n",
      "N =  23  T =  2.88 got Data->analyzing..Done!! -> writing to file -> DONE !\n",
      "!! at (N,T) -> ( 29 , 2.880000000000001 ) ,\n",
      "N =  15  T =  2.88 got Data->analyzing..Done!! -> writing to file -> DONE !\n",
      "N =  20  T =  2.88 got Data->analyzing..Done!! -> writing to file -> DONE !\n",
      "N =  26  T =  2.88 got Data->analyzing..Done!! -> writing to file -> DONE !\n",
      "N =  32  T =  2.88 got Data->analyzing..Done!! -> writing to file -> DONE !\n",
      "N =  38  T =  2.88 got Data->analyzing..Done!! -> writing to file -> DONE !\n",
      "N =  12  T =  2.90 got Data->analyzing..Done!! -> writing to file -> DONE !\n",
      "N =  23  T =  2.90 got Data->analyzing..Done!! -> writing to file -> DONE !\n",
      "!! at (N,T) -> ( 29 , 2.900000000000001 ) ,\n",
      "N =  15  T =  2.90 got Data->analyzing..Done!! -> writing to file -> DONE !\n",
      "N =  20  T =  2.90 got Data->analyzing..Done!! -> writing to file -> DONE !\n",
      "N =  26  T =  2.90 got Data->analyzing..Done!! -> writing to file -> DONE !\n",
      "N =  32  T =  2.90 got Data->analyzing..Done!! -> writing to file -> DONE !\n",
      "N =  38  T =  2.90 got Data->analyzing..Done!! -> writing to file -> DONE !\n",
      "N =  12  T =  2.92 got Data->analyzing..Done!! -> writing to file -> DONE !\n",
      "N =  23  T =  2.92 got Data->analyzing..Done!! -> writing to file -> DONE !\n",
      "!! at (N,T) -> ( 29 , 2.920000000000001 ) ,\n",
      "N =  15  T =  2.92 got Data->analyzing..Done!! -> writing to file -> DONE !\n",
      "N =  20  T =  2.92 got Data->analyzing..Done!! -> writing to file -> DONE !\n",
      "N =  26  T =  2.92 got Data->analyzing..Done!! -> writing to file -> DONE !\n",
      "N =  32  T =  2.92 got Data->analyzing..Done!! -> writing to file -> DONE !\n",
      "N =  38  T =  2.92 got Data->analyzing..Done!! -> writing to file -> DONE !\n",
      "N =  12  T =  2.94 got Data->analyzing..Done!! -> writing to file -> DONE !\n",
      "N =  23  T =  2.94 got Data->analyzing..Done!! -> writing to file -> DONE !\n",
      "!! at (N,T) -> ( 29 , 2.940000000000001 ) ,\n",
      "N =  15  T =  2.94 got Data->analyzing..Done!! -> writing to file -> DONE !\n",
      "N =  20  T =  2.94 got Data->analyzing..Done!! -> writing to file -> DONE !\n",
      "N =  26  T =  2.94 got Data->analyzing..Done!! -> writing to file -> DONE !\n",
      "N =  32  T =  2.94 got Data->analyzing..Done!! -> writing to file -> DONE !\n",
      "N =  38  T =  2.94 got Data->analyzing..Done!! -> writing to file -> DONE !\n",
      "N =  12  T =  2.96 got Data->analyzing..Done!! -> writing to file -> DONE !\n",
      "N =  23  T =  2.96 got Data->analyzing..Done!! -> writing to file -> DONE !\n",
      "!! at (N,T) -> ( 29 , 2.960000000000001 ) ,\n",
      "N =  15  T =  2.96 got Data->analyzing..Done!! -> writing to file -> DONE !\n",
      "N =  20  T =  2.96 got Data->analyzing..Done!! -> writing to file -> DONE !\n",
      "N =  26  T =  2.96 got Data->analyzing..Done!! -> writing to file -> DONE !\n",
      "N =  32  T =  2.96 got Data->analyzing..Done!! -> writing to file -> DONE !\n",
      "N =  38  T =  2.96 got Data->analyzing..Done!! -> writing to file -> DONE !\n",
      "N =  12  T =  2.98 got Data->analyzing..Done!! -> writing to file -> DONE !\n",
      "N =  23  T =  2.98 got Data->analyzing..Done!! -> writing to file -> DONE !\n",
      "!! at (N,T) -> ( 29 , 2.980000000000001 ) ,\n",
      "N =  15  T =  2.98 got Data->analyzing..Done!! -> writing to file -> DONE !\n",
      "N =  20  T =  2.98 got Data->analyzing..Done!! -> writing to file -> DONE !\n",
      "N =  26  T =  2.98 got Data->analyzing..Done!! -> writing to file -> DONE !\n",
      "N =  32  T =  2.98 got Data->analyzing..Done!! -> writing to file -> DONE !\n",
      "N =  38  T =  2.98 got Data->analyzing..Done!! -> writing to file -> DONE !\n",
      "N =  12  T =  3.00 got Data->analyzing..Done!! -> writing to file -> DONE !\n",
      "N =  23  T =  3.00 got Data->analyzing..Done!! -> writing to file -> DONE !\n",
      "!! at (N,T) -> ( 29 , 3.000000000000001 ) ,\n",
      "N =  15  T =  3.00 got Data->analyzing..Done!! -> writing to file -> DONE !\n",
      "N =  20  T =  3.00 got Data->analyzing..Done!! -> writing to file -> DONE !\n",
      "N =  26  T =  3.00 got Data->analyzing..Done!! -> writing to file -> DONE !\n",
      "N =  32  T =  3.00 got Data->analyzing..Done!! -> writing to file -> DONE !\n",
      "N =  38  T =  3.00 got Data->analyzing..Done!! -> writing to file -> DONE !\n",
      "N =  12  T =  3.02 got Data->analyzing..Done!! -> writing to file -> DONE !\n",
      "N =  23  T =  3.02 got Data->analyzing..Done!! -> writing to file -> DONE !\n",
      "!! at (N,T) -> ( 29 , 3.020000000000001 ) ,\n",
      "N =  15  T =  3.02 got Data->analyzing..Done!! -> writing to file -> DONE !\n",
      "N =  20  T =  3.02 got Data->analyzing..Done!! -> writing to file -> DONE !\n",
      "N =  26  T =  3.02 got Data->analyzing..Done!! -> writing to file -> DONE !\n",
      "N =  32  T =  3.02 got Data->analyzing..Done!! -> writing to file -> DONE !\n",
      "N =  38  T =  3.02 got Data->analyzing..Done!! -> writing to file -> DONE !\n",
      "N =  12  T =  3.04 got Data->analyzing..Done!! -> writing to file -> DONE !\n",
      "N =  23  T =  3.04 got Data->analyzing..Done!! -> writing to file -> DONE !\n",
      "!! at (N,T) -> ( 29 , 3.040000000000001 ) ,\n",
      "N =  15  T =  3.04 got Data->analyzing..Done!! -> writing to file -> DONE !\n",
      "N =  20  T =  3.04 got Data->analyzing..Done!! -> writing to file -> DONE !\n",
      "N =  26  T =  3.04 got Data->analyzing..Done!! -> writing to file -> DONE !\n",
      "N =  32  T =  3.04 got Data->analyzing..Done!! -> writing to file -> DONE !\n",
      "N =  38  T =  3.04 got Data->analyzing..Done!! -> writing to file -> DONE !\n",
      "N =  12  T =  3.06 got Data->analyzing..Done!! -> writing to file -> DONE !\n",
      "N =  23  T =  3.06 got Data->analyzing..Done!! -> writing to file -> DONE !\n",
      "!! at (N,T) -> ( 29 , 3.060000000000001 ) ,\n",
      "N =  15  T =  3.06 got Data->analyzing..Done!! -> writing to file -> DONE !\n",
      "N =  20  T =  3.06 got Data->analyzing..Done!! -> writing to file -> DONE !\n",
      "N =  26  T =  3.06 got Data->analyzing..Done!! -> writing to file -> DONE !\n",
      "N =  32  T =  3.06 got Data->analyzing..Done!! -> writing to file -> DONE !\n",
      "N =  38  T =  3.06 got Data->analyzing..Done!! -> writing to file -> DONE !\n",
      "N =  12  T =  3.08 got Data->analyzing..Done!! -> writing to file -> DONE !\n",
      "N =  23  T =  3.08 got Data->analyzing..Done!! -> writing to file -> DONE !\n",
      "!! at (N,T) -> ( 29 , 3.080000000000001 ) ,\n",
      "N =  15  T =  3.08 got Data->analyzing..Done!! -> writing to file -> DONE !\n",
      "N =  20  T =  3.08 got Data->analyzing..Done!! -> writing to file -> DONE !\n",
      "N =  26  T =  3.08 got Data->analyzing..Done!! -> writing to file -> DONE !\n",
      "N =  32  T =  3.08 got Data->analyzing..Done!! -> writing to file -> DONE !\n",
      "N =  38  T =  3.08 got Data->analyzing..Done!! -> writing to file -> DONE !\n",
      "N =  12  T =  3.10 got Data->analyzing..Done!! -> writing to file -> DONE !\n",
      "N =  23  T =  3.10 got Data->analyzing..Done!! -> writing to file -> DONE !\n",
      "!! at (N,T) -> ( 29 , 3.100000000000001 ) ,\n",
      "N =  15  T =  3.10 got Data->analyzing..Done!! -> writing to file -> DONE !\n",
      "N =  20  T =  3.10 got Data->analyzing..Done!! -> writing to file -> DONE !\n",
      "N =  26  T =  3.10 got Data->analyzing..Done!! -> writing to file -> DONE !\n",
      "N =  32  T =  3.10 got Data->analyzing..Done!! -> writing to file -> DONE !\n",
      "N =  38  T =  3.10 got Data->analyzing..Done!! -> writing to file -> DONE !\n"
     ]
    }
   ],
   "source": [
    "NUMS=[12,23,29,15,20,26,32,38]\n",
    "x=1.92\n",
    "T=[]\n",
    "for i in range(60):\n",
    "    T.append(x)\n",
    "    x+=0.02\n",
    "\n",
    "f=open(\"DATA/critical_exps/results\",'w')\n",
    "f_xi=open(\"DATA/critical_exps/cfit\",'w')\n",
    "f.write(\"Temp\")\n",
    "errer_happend=[]\n",
    "for N in NUMS:\n",
    "    f.write(\",N_\"+str(N)+\"_mag\"+\",N_\"+str(N)+\"_magErr\"+\",N_\"+str(N)+\"_sp_heat\"+\",N_\"+str(N))\n",
    "    f.write(\"_sp_heatErr\"+\",N_\"+str(N)+\"_succep\"+\",N_\"+str(N)+\"_succepErr\")\n",
    "f.write(\"\\n\")\n",
    "f_xi.write(\"N,temp,Xi,Xi_err\")\n",
    "\n",
    "for temp in T:\n",
    "    t_s=\"{0:.2f}\".format(temp)\n",
    "    f.write(t_s)\n",
    "    for N in NUMS:\n",
    "        try:\n",
    "            loga=open('log','a')\n",
    "            loga.write(\"AT \"+str(N)+\" , \"+t_s+\" -> \\n\")\n",
    "            loga.close()\n",
    "            fname='DATA/critical_exps/sampled_data/N_'+str(N)+'_T_'+str(t_s)+\"_icingMC\"\n",
    "            data_h=get_data(fname)\n",
    "            print(\"N = \",N,\" T = \",t_s,\"got Data\",end=\"->analyzing..\")\n",
    "            ana=analyze(temp,N**2,data_h['energy'],data_h['magentization'])\n",
    "            print(\"Done!! -> writing to file ->\",end=\"\")\n",
    "            f_xi.write(\"\\n\"+str(N)+\",\")\n",
    "            f_xi.write(str(temp)+\",\")\n",
    "            f_xi.write(str(ana[2][0])+\",\")\n",
    "            f_xi.write(str(ana[2][1]))\n",
    "            f.write(\",\"+str(ana[0][0])+\",\"+str(ana[0][1]))\n",
    "            f.write(\",\"+str(ana[1][0])+\",\"+str(ana[1][1]))\n",
    "            f.write(\",\"+str(ana[2][0])+\",\"+str(ana[2][1]))  \n",
    "            print(\" DONE !\")\n",
    "            loga=open('log','a')\n",
    "            loga.write(\"DONE !! \\n\")\n",
    "            loga.close()\n",
    "        except:\n",
    "            print (\"!! at (N,T) -> (\",N,\",\",temp,\") ,\")\n",
    "            errer_happend.append([N,temp])\n",
    "    f.write(\"\\n\")\n",
    "f.close()\n",
    "f_xi.close()"
   ]
  },
  {
   "cell_type": "code",
   "execution_count": 30,
   "metadata": {
    "ExecuteTime": {
     "end_time": "2018-09-30T16:47:41.445914Z",
     "start_time": "2018-09-30T16:47:41.441147Z"
    }
   },
   "outputs": [
    {
     "data": {
      "text/plain": [
       "dict_keys([16.0, 20.0, 24.0, 28.0, 32.0])"
      ]
     },
     "execution_count": 30,
     "metadata": {},
     "output_type": "execute_result"
    }
   ],
   "source": [
    "Xi_dic.keys()"
   ]
  },
  {
   "cell_type": "code",
   "execution_count": 31,
   "metadata": {
    "ExecuteTime": {
     "end_time": "2018-09-30T16:47:45.444653Z",
     "start_time": "2018-09-30T16:47:44.122881Z"
    }
   },
   "outputs": [
    {
     "data": {
      "image/png": "[encoded data removed]",
      "text/plain": [
       "<matplotlib.figure.Figure at 0x7ff309545cc0>"
      ]
     },
     "metadata": {},
     "output_type": "display_data"
    },
    {
     "data": {
      "image/png": "[encoded data removed]",
      "text/plain": [
       "<matplotlib.figure.Figure at 0x7ff30945bd30>"
      ]
     },
     "metadata": {},
     "output_type": "display_data"
    },
    {
     "data": {
      "image/png": "[encoded data removed]",
      "text/plain": [
       "<matplotlib.figure.Figure at 0x7ff3090677b8>"
      ]
     },
     "metadata": {},
     "output_type": "display_data"
    },
    {
     "data": {
      "image/png": "[encoded data removed]",
      "text/plain": [
       "<matplotlib.figure.Figure at 0x7ff308fe2128>"
      ]
     },
     "metadata": {},
     "output_type": "display_data"
    },
    {
     "data": {
      "image/png": "[encoded data removed]",
      "text/plain": [
       "<matplotlib.figure.Figure at 0x7ff308f67160>"
      ]
     },
     "metadata": {},
     "output_type": "display_data"
    }
   ],
   "source": [
    "for k in Xi_dic.keys():\n",
    "    plt.figure()\n",
    "    plt.errorbar(Xi_dic[k]['temp'],Xi_dic[k]['sucep'],Xi_dic[k]['sucep_err'],fmt='o')\n",
    "    plt.title(str(k))"
   ]
  },
  {
   "cell_type": "markdown",
   "metadata": {},
   "source": [
    "## Fitting log( Sucep ) vs log (reduced_temp)"
   ]
  },
  {
   "cell_type": "markdown",
   "metadata": {},
   "source": [
    "    FROM THE Low twmp side"
   ]
  },
  {
   "cell_type": "code",
   "execution_count": 32,
   "metadata": {
    "ExecuteTime": {
     "end_time": "2018-09-30T16:47:56.296840Z",
     "start_time": "2018-09-30T16:47:54.778331Z"
    }
   },
   "outputs": [
    {
     "name": "stdout",
     "output_type": "stream",
     "text": [
      "from L =  16.0  - >   2.6910415312209666  +/-  0.1948091551415541\n",
      "from L =  20.0  - >   2.7414535970402527  +/-  0.15915629287995778\n",
      "from L =  24.0  - >   3.0190662515523163  +/-  0.14622129873601078\n",
      "from L =  28.0  - >   2.7906755877416223  +/-  0.11174958224025859\n",
      "from L =  32.0  - >   2.890236208984656  +/-  0.1312092497356004\n"
     ]
    },
    {
     "data": {
      "image/png": "[encoded data removed]",
      "text/plain": [
       "<matplotlib.figure.Figure at 0x7ff308ec5b00>"
      ]
     },
     "metadata": {},
     "output_type": "display_data"
    },
    {
     "data": {
      "image/png": "[encoded data removed]",
      "text/plain": [
       "<matplotlib.figure.Figure at 0x7ff308d9a748>"
      ]
     },
     "metadata": {},
     "output_type": "display_data"
    },
    {
     "data": {
      "image/png": "[encoded data removed]",
      "text/plain": [
       "<matplotlib.figure.Figure at 0x7ff309595ba8>"
      ]
     },
     "metadata": {},
     "output_type": "display_data"
    },
    {
     "data": {
      "image/png": "[encoded data removed]",
      "text/plain": [
       "<matplotlib.figure.Figure at 0x7ff308d02828>"
      ]
     },
     "metadata": {},
     "output_type": "display_data"
    },
    {
     "data": {
      "image/png": "[encoded data removed]",
      "text/plain": [
       "<matplotlib.figure.Figure at 0x7ff308e16e80>"
      ]
     },
     "metadata": {},
     "output_type": "display_data"
    }
   ],
   "source": [
    "def _leniar(x,a,b):\n",
    "    return b+a*x\n",
    "for k in list(Xi_dic.keys()):\n",
    "    p=0\n",
    "    for i in Xi_dic[k]['temp']:\n",
    "        if i>0:\n",
    "            break\n",
    "        p+=1\n",
    "    lnXi=[log(i) for i in Xi_dic[k]['sucep'][:p]]\n",
    "    lnXi_err=[i/j for i,j in zip(Xi_dic[k]['sucep_err'],Xi_dic[k]['sucep'][:p])]\n",
    "    lntemp=[log(abs(i)) for i in Xi_dic[k]['temp'][:p]]\n",
    "    for i in range(5)  :  \n",
    "        q=lntemp.index(min(lntemp))\n",
    "        lntemp.pop(q)\n",
    "        lnXi.pop(q)\n",
    "        lnXi_err.pop(q)\n",
    "    plt.figure()\n",
    "    plt.errorbar(lntemp,lnXi,lnXi_err,fmt='o')\n",
    "    c=curve_fit(_leniar,lntemp,lnXi,sigma=lnXi_err)\n",
    "    print(\"from L = \",k,\" - >  \",-1*c[0][0],\" +/- \",sqrt(c[1][0][0]))"
   ]
  },
  {
   "cell_type": "markdown",
   "metadata": {},
   "source": [
    "    FROM THE High temp side"
   ]
  },
  {
   "cell_type": "code",
   "execution_count": 33,
   "metadata": {
    "ExecuteTime": {
     "end_time": "2018-09-30T16:48:05.735636Z",
     "start_time": "2018-09-30T16:48:04.461719Z"
    },
    "scrolled": true
   },
   "outputs": [
    {
     "name": "stdout",
     "output_type": "stream",
     "text": [
      "from L =  16.0  - >   0.18051053541412826  +/-  0.3096216693736163\n",
      "from L =  20.0  - >   1.6481230241581484  +/-  0.10683969725741183\n",
      "from L =  24.0  - >   1.6308278884402538  +/-  0.22847492221892685\n",
      "from L =  28.0  - >   1.5541885178832198  +/-  0.18993292127255934\n",
      "from L =  32.0  - >   0.6868003333554975  +/-  0.20862607783706735\n"
     ]
    },
    {
     "data": {
      "image/png": "[encoded data removed]",
      "text/plain": [
       "<matplotlib.figure.Figure at 0x7ff308e6c0b8>"
      ]
     },
     "metadata": {},
     "output_type": "display_data"
    },
    {
     "data": {
      "image/png": "[encoded data removed]",
      "text/plain": [
       "<matplotlib.figure.Figure at 0x7ff309fc59b0>"
      ]
     },
     "metadata": {},
     "output_type": "display_data"
    },
    {
     "data": {
      "image/png": "[encoded data removed]",
      "text/plain": [
       "<matplotlib.figure.Figure at 0x7ff309f190f0>"
      ]
     },
     "metadata": {},
     "output_type": "display_data"
    },
    {
     "data": {
      "image/png": "[encoded data removed]",
      "text/plain": [
       "<matplotlib.figure.Figure at 0x7ff308f84c50>"
      ]
     },
     "metadata": {},
     "output_type": "display_data"
    },
    {
     "data": {
      "image/png": "[encoded data removed]",
      "text/plain": [
       "<matplotlib.figure.Figure at 0x7ff308f484a8>"
      ]
     },
     "metadata": {},
     "output_type": "display_data"
    }
   ],
   "source": [
    "for k in list(Xi_dic.keys()):\n",
    "    p=0\n",
    "    for i in Xi_dic[k]['temp']:\n",
    "        if i>0:\n",
    "            break\n",
    "        p+=1\n",
    "    lnXi=[log(i) for i in Xi_dic[k]['sucep'][p:]]\n",
    "    lnXi_err=[i/j for i,j in zip(Xi_dic[k]['sucep_err'],Xi_dic[k]['sucep'][p:])]\n",
    "    lntemp=[log(abs(i)) for i in Xi_dic[k]['temp'][p:]]\n",
    "    for i in range(8)  :  \n",
    "        q=lntemp.index(min(lntemp))\n",
    "        lntemp.pop(q)\n",
    "        lnXi.pop(q)\n",
    "        lnXi_err.pop(q)\n",
    "    plt.figure()\n",
    "    plt.errorbar(lntemp,lnXi,lnXi_err,fmt='o')\n",
    "    c=curve_fit(_leniar,lntemp,lnXi,sigma=lnXi_err)\n",
    "    print(\"from L = \",k,\" - >  \",-1*c[0][0],\" +/- \",sqrt(c[1][0][0]))"
   ]
  },
  {
   "cell_type": "markdown",
   "metadata": {},
   "source": [
    "## Fitting the peak value vs L"
   ]
  },
  {
   "cell_type": "code",
   "execution_count": 34,
   "metadata": {
    "ExecuteTime": {
     "end_time": "2018-09-30T16:48:12.442394Z",
     "start_time": "2018-09-30T16:48:12.436336Z"
    },
    "collapsed": true
   },
   "outputs": [],
   "source": [
    "ids=[]\n",
    "for k in Xi_dic.keys():\n",
    "    t=max(Xi_dic[k]['sucep'])\n",
    "    idt=Xi_dic[k]['sucep'].index(t)\n",
    "    ids.append(idt)\n",
    "#     print(max(Xi_dic[k]['sucep']))"
   ]
  },
  {
   "cell_type": "code",
   "execution_count": 35,
   "metadata": {
    "ExecuteTime": {
     "end_time": "2018-09-30T16:48:14.352786Z",
     "start_time": "2018-09-30T16:48:14.348687Z"
    }
   },
   "outputs": [
    {
     "data": {
      "text/plain": [
       "dict_keys([16.0, 20.0, 24.0, 28.0, 32.0])"
      ]
     },
     "execution_count": 35,
     "metadata": {},
     "output_type": "execute_result"
    }
   ],
   "source": [
    "Xi_dic.keys()"
   ]
  },
  {
   "cell_type": "code",
   "execution_count": 36,
   "metadata": {
    "ExecuteTime": {
     "end_time": "2018-09-30T16:48:16.575000Z",
     "start_time": "2018-09-30T16:48:16.569473Z"
    },
    "collapsed": true
   },
   "outputs": [],
   "source": [
    "NUMS=list( Xi_dic.keys())\n",
    "ln_max=[log(Xi_dic[k]['sucep'][i]) for k,i in zip(NUMS,ids)]\n",
    "ln_maxerr=[Xi_dic[k]['sucep_err'][i]/Xi_dic[k]['sucep'][i] for k,i in zip(NUMS,ids)]\n",
    "ln_D=[log(i) for i in NUMS]"
   ]
  },
  {
   "cell_type": "code",
   "execution_count": 37,
   "metadata": {
    "ExecuteTime": {
     "end_time": "2018-09-30T16:48:19.628874Z",
     "start_time": "2018-09-30T16:48:19.322396Z"
    }
   },
   "outputs": [
    {
     "data": {
      "text/plain": [
       "<Container object of 3 artists>"
      ]
     },
     "execution_count": 37,
     "metadata": {},
     "output_type": "execute_result"
    },
    {
     "data": {
      "image/png": "[encoded data removed]",
      "text/plain": [
       "<matplotlib.figure.Figure at 0x7ff308ec5e80>"
      ]
     },
     "metadata": {},
     "output_type": "display_data"
    }
   ],
   "source": [
    "plt.errorbar(ln_D,ln_max,ln_maxerr,fmt='o')"
   ]
  },
  {
   "cell_type": "code",
   "execution_count": 38,
   "metadata": {
    "ExecuteTime": {
     "end_time": "2018-09-30T16:48:22.172175Z",
     "start_time": "2018-09-30T16:48:22.165427Z"
    }
   },
   "outputs": [
    {
     "name": "stdout",
     "output_type": "stream",
     "text": [
      "gamma =  1.6734875532535587  +/-  0.15946224396464057\n"
     ]
    }
   ],
   "source": [
    "def _leniar(x,a,b):\n",
    "    return b+a*x\n",
    "c=curve_fit(_leniar,ln_D,ln_max,sigma=ln_maxerr)\n",
    "print(\"gamma = \",c[0][0],\" +/- \",sqrt(c[1][0][0]))"
   ]
  },
  {
   "cell_type": "code",
   "execution_count": 44,
   "metadata": {
    "ExecuteTime": {
     "end_time": "2018-09-30T16:49:01.024179Z",
     "start_time": "2018-09-30T16:49:00.952064Z"
    },
    "scrolled": false
   },
   "outputs": [
    {
     "name": "stdout",
     "output_type": "stream",
     "text": [
      "gamma =  0.4820105329309635  +/-  inf\n",
      "neu =  0.4930608064698312  +/-  inf\n",
      "tc =  -1190.4152929780932  +/-  inf\n",
      "0.482,0.493,-1190.415,-152752.813,10184.588,0.111,"
     ]
    },
    {
     "name": "stderr",
     "output_type": "stream",
     "text": [
      "/home/aravind/anaconda3/lib/python3.6/site-packages/ipykernel_launcher.py:23: RuntimeWarning: overflow encountered in exp\n",
      "/home/aravind/anaconda3/lib/python3.6/site-packages/scipy/optimize/minpack.py:779: OptimizeWarning: Covariance of the parameters could not be estimated\n",
      "  category=OptimizeWarning)\n"
     ]
    }
   ],
   "source": [
    "temps2=[i*2.26+2.26 for i in temps]\n",
    "cf=curve_fit(sucepFuncC,[ls,temps2],xis)\n",
    "print(\"gamma = \",cf[0][0],\" +/- \",sqrt(cf[1][0][0]))\n",
    "print(\"neu = \",cf[0][1],\" +/- \",sqrt(cf[1][1][1]))\n",
    "print(\"tc = \",cf[0][2],\" +/- \",sqrt(cf[1][2][2]))\n",
    "for i in cf[0]:\n",
    "    print(\"{0:0.3f}\".format(i),end=\",\")\n",
    "# print(matrix(cf[1]))"
   ]
  },
  {
   "cell_type": "code",
   "execution_count": 45,
   "metadata": {
    "ExecuteTime": {
     "end_time": "2018-09-30T16:49:09.974319Z",
     "start_time": "2018-09-30T16:49:09.660800Z"
    }
   },
   "outputs": [
    {
     "data": {
      "text/plain": [
       "[<matplotlib.lines.Line2D at 0x7ff308c2d128>]"
      ]
     },
     "execution_count": 45,
     "metadata": {},
     "output_type": "execute_result"
    },
    {
     "data": {
      "image/png": "[encoded data removed]",
      "text/plain": [
       "<matplotlib.figure.Figure at 0x7ff308b93b38>"
      ]
     },
     "metadata": {},
     "output_type": "display_data"
    }
   ],
   "source": [
    "tc =  2.380553747775189\n",
    "gamma =   1.8462567568411445\n",
    "neu =   1.0889981299859464\n",
    "gn=gamma/neu\n",
    "\n",
    "for k in Xi_dic.keys():\n",
    "    temps2=[i*k**(1/neu) for i in Xi_dic[k]['temp']]\n",
    "    y=[i/k**gn for i in Xi_dic[k]['sucep']]\n",
    "    y_err=[i/k**gn for i in Xi_dic[k]['sucep_err']]\n",
    "    plt.errorbar(temps2,y,y_err,fmt='o',c='g',ecolor='r',zorder=1,label='MCMC data')\n",
    "#     y=[sucepFuncA([k,i],1.447,1.006,2.373,0.096,-0.022,0.001)/k**gn for i in x]\n",
    "x1=linspace(-5,5,80)\n",
    "x=[i*tc+tc for i in x1]\n",
    "y=[sucepFuncC([1,i],1.846,1.089,2.381,0.089,0.813,0.006) for i in x]\n",
    "plt.plot(x,y,zorder=5,c='b')\n",
    "# f.savefig('../VISITS/TaylorAnsatz.pdf')"
   ]
  },
  {
   "cell_type": "code",
   "execution_count": 25,
   "metadata": {
    "ExecuteTime": {
     "end_time": "2018-09-17T17:05:03.936433Z",
     "start_time": "2018-09-17T17:05:01.226755Z"
    }
   },
   "outputs": [
    {
     "data": {
      "image/png": "[encoded data removed]",
      "text/plain": [
       "<matplotlib.figure.Figure at 0x7f717248e630>"
      ]
     },
     "metadata": {},
     "output_type": "display_data"
    }
   ],
   "source": [
    "xmin,xmax=1e9,-1e9\n",
    "tc =  2.3734450368544877\n",
    "gamma =  1.4471826743188843\n",
    "neu =  1.0056825050371871\n",
    "gn=gamma/neu\n",
    "axes=[]\n",
    "f,ax=plt.subplots(nrows=2,ncols=4,figsize=(20,10))\n",
    "for  i in ax:\n",
    "    for j in i:\n",
    "        axes.append(j)\n",
    "j=0\n",
    "for k in Xi_dic.keys():\n",
    "    temps2=[i*2.26+2.26 for i in Xi_dic[k]['temp']]\n",
    "    y=[i/k**gn for i in Xi_dic[k]['sucep']]\n",
    "    x=linspace(min(temps2),max(temps2),20)\n",
    "    y=[i/k**gn for i in Xi_dic[k]['sucep']]\n",
    "    y_err=[i/k**gn for i in Xi_dic[k]['sucep_err']]\n",
    "    axes[j].errorbar(temps2,y,y_err,fmt='o',c='g',ecolor='r',zorder=1,label='MCMC data')\n",
    "    y=[sucepFuncA([k,i],1.447,1.006,2.373,0.096,-0.022,0.001)/k**gn for i in x]\n",
    "    axes[j].scatter(x,y,c='b',zorder=2,label='fit')\n",
    "    axes[j].legend(loc=0)\n",
    "    axes[j].set_title(\"L = \"+str(k))\n",
    "    \n",
    "    j+=1\n",
    "f.suptitle('Fit for the Taylor O(X^2) ansatz')\n",
    "# f.savefig('../VISITS/TaylorAnsatz.pdf')"
   ]
  },
  {
   "cell_type": "markdown",
   "metadata": {},
   "source": [
    "        Fitting from single L"
   ]
  },
  {
   "cell_type": "code",
   "execution_count": 36,
   "metadata": {
    "ExecuteTime": {
     "end_time": "2018-09-14T16:47:57.961084Z",
     "start_time": "2018-09-14T16:47:57.955656Z"
    },
    "collapsed": true
   },
   "outputs": [],
   "source": [
    "def sucepFunc(var,gamma,neu,a,b,c):\n",
    "    x=var[1]*(var[0]**(1/neu))\n",
    "    t=(var[0])**(gamma/neu) \n",
    "    t*=(a+b*x+c*x*x)\n",
    "    return t"
   ]
  },
  {
   "cell_type": "code",
   "execution_count": 37,
   "metadata": {
    "ExecuteTime": {
     "end_time": "2018-09-14T16:48:52.610085Z",
     "start_time": "2018-09-14T16:48:52.595781Z"
    },
    "scrolled": false
   },
   "outputs": [
    {
     "name": "stdout",
     "output_type": "stream",
     "text": [
      "gamma =  -1.4478813502199053  +/-  99326.86158107866\n",
      "-1.448,0.732,-43063.305,605.804,-2.030,"
     ]
    }
   ],
   "source": [
    "k=20\n",
    "temps2=[i*2.26+2.26 for i in Xi_dic[k]['temp']]\n",
    "cf=curve_fit(sucepFunc,[dimen[k],temps2],Xi_dic[k]['sucep'])\n",
    "print(\"gamma = \",cf[0][0],\" +/- \",sqrt(cf[1][0][0]))\n",
    "for i in cf[0]:\n",
    "    print(\"{0:0.3f}\".format(i),end=\",\")\n",
    "# print(matrix(cf[1]))"
   ]
  },
  {
   "cell_type": "code",
   "execution_count": 166,
   "metadata": {
    "ExecuteTime": {
     "end_time": "2018-09-14T10:23:20.224439Z",
     "start_time": "2018-09-14T10:23:19.949494Z"
    }
   },
   "outputs": [
    {
     "data": {
      "text/plain": [
       "<Container object of 3 artists>"
      ]
     },
     "execution_count": 166,
     "metadata": {},
     "output_type": "execute_result"
    },
    {
     "data": {
      "image/png": "[encoded data removed]",
      "text/plain": [
       "<matplotlib.figure.Figure at 0x7f1b687406d8>"
      ]
     },
     "metadata": {},
     "output_type": "display_data"
    }
   ],
   "source": [
    "k=20\n",
    "x=linspace(-0.1,0.4,20)\n",
    "y=[sucepFunc([k,i],-62.052,68.339,70.550,300.164,-1380.121) for i in x]\n",
    "plt.scatter(x,y)\n",
    "plt.errorbar(Xi_dic[k]['temp'],Xi_dic[k]['sucep'],Xi_dic[k]['sucep_err'],fmt='o',c='g')"
   ]
  },
  {
   "cell_type": "code",
   "execution_count": null,
   "metadata": {
    "collapsed": true
   },
   "outputs": [],
   "source": []
  },
  {
   "cell_type": "code",
   "execution_count": 234,
   "metadata": {
    "ExecuteTime": {
     "end_time": "2018-09-13T20:55:49.166098Z",
     "start_time": "2018-09-13T20:55:49.160855Z"
    }
   },
   "outputs": [
    {
     "name": "stdout",
     "output_type": "stream",
     "text": [
      "gamma =  0.6172696422176321  +/-  0.7411628020869737\n"
     ]
    }
   ],
   "source": [
    "print(\"gamma = \",cf[0][0],\" +/- \",sqrt(cf[1][0][0]))"
   ]
  },
  {
   "cell_type": "code",
   "execution_count": null,
   "metadata": {
    "collapsed": true
   },
   "outputs": [],
   "source": []
  },
  {
   "cell_type": "code",
   "execution_count": null,
   "metadata": {
    "collapsed": true
   },
   "outputs": [],
   "source": []
  },
  {
   "cell_type": "code",
   "execution_count": null,
   "metadata": {
    "collapsed": true
   },
   "outputs": [],
   "source": []
  },
  {
   "cell_type": "code",
   "execution_count": null,
   "metadata": {
    "collapsed": true
   },
   "outputs": [],
   "source": []
  },
  {
   "cell_type": "code",
   "execution_count": null,
   "metadata": {
    "collapsed": true
   },
   "outputs": [],
   "source": []
  },
  {
   "cell_type": "code",
   "execution_count": 145,
   "metadata": {
    "ExecuteTime": {
     "end_time": "2018-09-13T19:52:39.577001Z",
     "start_time": "2018-09-13T19:52:39.572586Z"
    },
    "collapsed": true
   },
   "outputs": [],
   "source": [
    "yp=[sucepFunc([i,j],1.07171635e+00,  2.17234368e+00,  1.40450682e-01, -7.57334989e-05) for i,j in zip(xiL,reduced_temp)]"
   ]
  },
  {
   "cell_type": "code",
   "execution_count": 308,
   "metadata": {
    "ExecuteTime": {
     "end_time": "2018-09-13T21:20:20.785616Z",
     "start_time": "2018-09-13T21:20:20.772717Z"
    },
    "collapsed": true
   },
   "outputs": [],
   "source": [
    "def _fun(p,q,r):\n",
    "    print(p[0],p[1])\n",
    "    return r*(p[0]+p[1]**q)\n",
    "\n",
    "x=linspace(1,10,10)\n",
    "x2=[i*i for i in x]\n",
    "p=[[i,j] for i,j in zip(x,x2)]\n",
    "y=[i+(i*i)**0.64 for i in x]"
   ]
  }
 ],
 "metadata": {
  "kernelspec": {
   "display_name": "Python 3",
   "language": "python",
   "name": "python3"
  },
  "language_info": {
   "codemirror_mode": {
    "name": "ipython",
    "version": 3
   },
   "file_extension": ".py",
   "mimetype": "text/x-python",
   "name": "python",
   "nbconvert_exporter": "python",
   "pygments_lexer": "ipython3",
   "version": "3.6.1"
  }
 },
 "nbformat": 4,
 "nbformat_minor": 2
}
